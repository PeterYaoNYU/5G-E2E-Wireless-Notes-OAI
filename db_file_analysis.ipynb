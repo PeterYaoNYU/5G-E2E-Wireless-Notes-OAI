{
 "cells": [
  {
   "cell_type": "markdown",
   "metadata": {},
   "source": [
    "This notebook looks at the case when there is one UE connected to the base station, and then the xapp is started to log the rlc buffer change overtime. "
   ]
  },
  {
   "cell_type": "code",
   "execution_count": 1,
   "metadata": {},
   "outputs": [],
   "source": [
    "from fabric import Connection\n",
    "\n",
    "\n",
    "tx = Connection(\n",
    "    host='pc490.emulab.net',\n",
    "    user = 'PeterYao',\n",
    "    port=22,\n",
    ")\n",
    "\n",
    "delay = Connection(\n",
    "    host='pc500.emulab.net',\n",
    "    user = 'PeterYao',\n",
    "    port=22,\n",
    ")\n",
    "\n",
    "\n",
    "router = Connection(\n",
    "    host='pc487.emulab.net',\n",
    "    user='PeterYao',\n",
    "    port=22,\n",
    ")\n",
    "\n",
    "rx = Connection(\n",
    "    host='pc816.emulab.net',\n",
    "    user\n",
    "    = 'PeterYao',  \n",
    "    port=22,\n",
    ")\n",
    "\n",
    "conns = [router, delay, tx, rx]\n"
   ]
  },
  {
   "cell_type": "code",
   "execution_count": null,
   "metadata": {},
   "outputs": [],
   "source": [
    "rx.sudo(\"killall iperf3\")\n",
    "rx.sudo(\"ip netns exec ue1 iperf3 -s -1 -p 4008 -D\")\n",
    "# run the client in the background\n",
    "rx.run(\"iperf3 -c 12.1.1.130 -p 4008 -t 60 > /dev/null 2>&1 &\", pty=False)\n",
    "\n",
    "rx.run(\"/mydata/flexric/build/examples/xApp/c/monitor/xapp_gtp_mac_rlc_pdcp_moni\")"
   ]
  },
  {
   "cell_type": "code",
   "execution_count": 2,
   "metadata": {},
   "outputs": [
    {
     "data": {
      "text/plain": [
       "<fabric.transfer.Result at 0x1aea72fb230>"
      ]
     },
     "execution_count": 2,
     "metadata": {},
     "output_type": "execute_result"
    }
   ],
   "source": [
    "rx.get(\"/tmp/xapp_db_1727528802524949\")"
   ]
  },
  {
   "cell_type": "code",
   "execution_count": 3,
   "metadata": {},
   "outputs": [
    {
     "name": "stdout",
     "output_type": "stream",
     "text": [
      "Tables in the database:              name\n",
      "0          MAC_UE\n",
      "1      RLC_bearer\n",
      "2     PDCP_bearer\n",
      "3           SLICE\n",
      "4        UE_SLICE\n",
      "5        GTP_NGUT\n",
      "6  KPM_MeasRecord\n",
      "7   KPM_LabelInfo\n",
      "                  tstamp  ngran_node  mcc  mnc  mnc_digit_len  nb_id cu_du_id  \\\n",
      "0       1727528804539588           2  208   95              2   3584   (null)   \n",
      "1       1727528804539588           2  208   95              2   3584   (null)   \n",
      "2       1727528804540585           2  208   95              2   3584   (null)   \n",
      "3       1727528804540585           2  208   95              2   3584   (null)   \n",
      "4       1727528804541586           2  208   95              2   3584   (null)   \n",
      "...                  ...         ...  ...  ...            ...    ...      ...   \n",
      "104281  1727528856706581           2  208   95              2   3584   (null)   \n",
      "104282  1727528856707581           2  208   95              2   3584   (null)   \n",
      "104283  1727528856707581           2  208   95              2   3584   (null)   \n",
      "104284  1727528856708582           2  208   95              2   3584   (null)   \n",
      "104285  1727528856708582           2  208   95              2   3584   (null)   \n",
      "\n",
      "        txpdu_pkts  txpdu_bytes  txpdu_wt_ms  ...  txsdu_bytes  \\\n",
      "0                5           15            0  ...            0   \n",
      "1                4           12            0  ...            0   \n",
      "2                5           15            0  ...            0   \n",
      "3                4           12            0  ...            0   \n",
      "4                5           15            0  ...            0   \n",
      "...            ...          ...          ...  ...          ...   \n",
      "104281           5           15            0  ...            0   \n",
      "104282           5           15            0  ...            0   \n",
      "104283           5           15            0  ...            0   \n",
      "104284           5           15            0  ...            0   \n",
      "104285           5           15            0  ...            0   \n",
      "\n",
      "        txsdu_avg_time_to_tx  txsdu_wt_us  rxsdu_pkts  rxsdu_bytes  \\\n",
      "0                        0.0            0           0            0   \n",
      "1                        0.0            0           0            0   \n",
      "2                        0.0            0           0            0   \n",
      "3                        0.0            0           0            0   \n",
      "4                        0.0            0           0            0   \n",
      "...                      ...          ...         ...          ...   \n",
      "104281                   0.0            0           0            0   \n",
      "104282                   0.0            0           0            0   \n",
      "104283                   0.0            0           0            0   \n",
      "104284                   0.0            0           0            0   \n",
      "104285                   0.0            0           0            0   \n",
      "\n",
      "        rxsdu_dd_pkts  rxsdu_dd_bytes   rnti  mode  rbid  \n",
      "0                   0               0  44968     0     1  \n",
      "1                   0               0  28928     0     1  \n",
      "2                   0               0  44968     0     1  \n",
      "3                   0               0  28928     0     1  \n",
      "4                   0               0  44968     0     1  \n",
      "...               ...             ...    ...   ...   ...  \n",
      "104281              0               0  28928     0     1  \n",
      "104282              0               0  44968     0     1  \n",
      "104283              0               0  28928     0     1  \n",
      "104284              0               0  44968     0     1  \n",
      "104285              0               0  28928     0     1  \n",
      "\n",
      "[104286 rows x 42 columns]\n"
     ]
    },
    {
     "ename": "",
     "evalue": "",
     "output_type": "error",
     "traceback": [
      "\u001b[1;31mThe Kernel crashed while executing code in the current cell or a previous cell. \n",
      "\u001b[1;31mPlease review the code in the cell(s) to identify a possible cause of the failure. \n",
      "\u001b[1;31mClick <a href='https://aka.ms/vscodeJupyterKernelCrash'>here</a> for more info. \n",
      "\u001b[1;31mView Jupyter <a href='command:jupyter.viewOutput'>log</a> for further details."
     ]
    }
   ],
   "source": [
    "import sqlite3\n",
    "import pandas as pd\n",
    "\n",
    "# Path to your SQLite file (replace 'your_database_file.sqlite' with your file)\n",
    "db_file = 'xapp_db_1727528802524949'\n",
    "\n",
    "# Connect to the SQLite database file\n",
    "conn = sqlite3.connect(db_file)\n",
    "\n",
    "# Fetch the list of tables in the database\n",
    "tables = pd.read_sql_query(\"SELECT name FROM sqlite_master WHERE type='table';\", conn)\n",
    "print(\"Tables in the database:\", tables)\n",
    "\n",
    "table_name = 'RLC_bearer'\n",
    "df = pd.read_sql_query(f\"SELECT * FROM {table_name}\", conn)\n",
    "\n",
    "# Close the connection after extracting the data\n",
    "conn.close()\n",
    "\n",
    "# Display the DataFrame\n",
    "print(df)\n",
    "\n",
    "# # Save DataFrame to CSV if needed\n",
    "df.to_csv('xapp_db_1727528802524949.csv', index=False)\n"
   ]
  },
  {
   "cell_type": "code",
   "execution_count": null,
   "metadata": {},
   "outputs": [],
   "source": [
    "# Import necessary libraries\n",
    "import pandas as pd\n",
    "import matplotlib.pyplot as plt\n",
    "%matplotlib inline\n",
    "\n",
    "# Display the first few rows of the DataFrame\n",
    "print(df.head())\n",
    "\n",
    "# Extract 'tstamp' and 'txbuf_occ_bytes' columns\n",
    "df_plot = df[['tstamp', 'txbuf_occ_bytes']]\n",
    "\n",
    "# Adjust 'tstamp' to start at zero and convert to seconds\n",
    "# Since 'tstamp' is in microseconds, divide by 1,000,000 to get seconds\n",
    "df_plot['time_sec'] = (df_plot['tstamp'] - df_plot['tstamp'].min()) / 1_000_000\n",
    "\n",
    "# Convert 'txbuf_occ_bytes' to Megabytes (MB)\n",
    "df_plot['txbuf_occ_MB'] = df_plot['txbuf_occ_bytes'] / (1024 * 1024)\n",
    "\n",
    "# Select data over the available time interval (up to 60 seconds)\n",
    "df_plot_60s = df_plot[df_plot['time_sec'] <= 60]\n",
    "\n",
    "# Plot 'txbuf_occ_MB' over 'time_sec'\n",
    "plt.figure(figsize=(12, 6))\n",
    "plt.plot(df_plot_60s['time_sec'], df_plot_60s['txbuf_occ_MB'])\n",
    "plt.title('txbuf_occ_bytes Over Time (First 60 Seconds)')\n",
    "plt.xlabel('Time (seconds)')\n",
    "plt.ylabel('txbuf_occ_bytes (MB)')\n",
    "plt.grid(True)\n",
    "plt.show()\n"
   ]
  }
 ],
 "metadata": {
  "kernelspec": {
   "display_name": "Python 3",
   "language": "python",
   "name": "python3"
  },
  "language_info": {
   "codemirror_mode": {
    "name": "ipython",
    "version": 3
   },
   "file_extension": ".py",
   "mimetype": "text/x-python",
   "name": "python",
   "nbconvert_exporter": "python",
   "pygments_lexer": "ipython3",
   "version": "3.12.7"
  }
 },
 "nbformat": 4,
 "nbformat_minor": 2
}
