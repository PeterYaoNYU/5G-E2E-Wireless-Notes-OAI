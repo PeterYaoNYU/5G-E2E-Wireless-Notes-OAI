{
 "cells": [
  {
   "cell_type": "markdown",
   "metadata": {},
   "source": [
    "This notebook looks at the case when there is one UE connected to the base station, and then the xapp is started to log the rlc buffer change overtime. "
   ]
  },
  {
   "cell_type": "code",
   "execution_count": 7,
   "metadata": {},
   "outputs": [],
   "source": [
    "from fabric import Connection\n",
    "\n",
    "\n",
    "tx = Connection(\n",
    "    host='pc490.emulab.net',\n",
    "    user = 'PeterYao',\n",
    "    port=22,\n",
    ")\n",
    "\n",
    "delay = Connection(\n",
    "    host='pc500.emulab.net',\n",
    "    user = 'PeterYao',\n",
    "    port=22,\n",
    ")\n",
    "\n",
    "\n",
    "router = Connection(\n",
    "    host='pc487.emulab.net',\n",
    "    user='PeterYao',\n",
    "    port=22,\n",
    ")\n",
    "\n",
    "rx = Connection(\n",
    "    host='pc816.emulab.net',\n",
    "    user\n",
    "    = 'PeterYao',  \n",
    "    port=22,\n",
    ")\n",
    "\n",
    "conns = [router, delay, tx, rx]\n"
   ]
  },
  {
   "cell_type": "code",
   "execution_count": null,
   "metadata": {},
   "outputs": [],
   "source": [
    "rx.sudo(\"killall iperf3\")\n",
    "rx.sudo(\"ip netns exec ue1 iperf3 -s -1 -p 4008 -D\")\n",
    "# run the client in the background\n",
    "rx.run(\"iperf3 -c 12.1.1.130 -p 4008 -t 60 > /dev/null 2>&1 &\", pty=False)\n",
    "\n",
    "rx.run(\"/mydata/flexric/build/examples/xApp/c/monitor/xapp_gtp_mac_rlc_pdcp_moni\")"
   ]
  },
  {
   "cell_type": "code",
   "execution_count": null,
   "metadata": {},
   "outputs": [],
   "source": [
    "rx.get(\"/tmp/xapp_db_1727450026849498\")"
   ]
  },
  {
   "cell_type": "code",
   "execution_count": null,
   "metadata": {},
   "outputs": [],
   "source": [
    "import sqlite3\n",
    "import pandas as pd\n",
    "\n",
    "# Path to your SQLite file (replace 'your_database_file.sqlite' with your file)\n",
    "db_file = 'xapp_db_1727450026849498'\n",
    "\n",
    "# Connect to the SQLite database file\n",
    "conn = sqlite3.connect(db_file)\n",
    "\n",
    "# Fetch the list of tables in the database\n",
    "tables = pd.read_sql_query(\"SELECT name FROM sqlite_master WHERE type='table';\", conn)\n",
    "print(\"Tables in the database:\", tables)\n",
    "\n",
    "table_name = 'RLC_bearer'\n",
    "df = pd.read_sql_query(f\"SELECT * FROM {table_name}\", conn)\n",
    "\n",
    "# Close the connection after extracting the data\n",
    "conn.close()\n",
    "\n",
    "# Display the DataFrame\n",
    "print(df)\n",
    "\n",
    "# # Save DataFrame to CSV if needed\n",
    "df.to_csv('xapp_db_1727450026849498.csv', index=False)\n"
   ]
  },
  {
   "cell_type": "code",
   "execution_count": null,
   "metadata": {},
   "outputs": [],
   "source": [
    "# Import necessary libraries\n",
    "import pandas as pd\n",
    "import matplotlib.pyplot as plt\n",
    "%matplotlib inline\n",
    "\n",
    "# Display the first few rows of the DataFrame\n",
    "print(df.head())\n",
    "\n",
    "# Extract 'tstamp' and 'txbuf_occ_bytes' columns\n",
    "df_plot = df[['tstamp', 'txbuf_occ_bytes']]\n",
    "\n",
    "# Adjust 'tstamp' to start at zero and convert to seconds\n",
    "# Since 'tstamp' is in microseconds, divide by 1,000,000 to get seconds\n",
    "df_plot['time_sec'] = (df_plot['tstamp'] - df_plot['tstamp'].min()) / 1_000_000\n",
    "\n",
    "# Convert 'txbuf_occ_bytes' to Megabytes (MB)\n",
    "df_plot['txbuf_occ_MB'] = df_plot['txbuf_occ_bytes'] / (1024 * 1024)\n",
    "\n",
    "# Select data over the available time interval (up to 60 seconds)\n",
    "df_plot_60s = df_plot[df_plot['time_sec'] <= 60]\n",
    "\n",
    "# Plot 'txbuf_occ_MB' over 'time_sec'\n",
    "plt.figure(figsize=(12, 6))\n",
    "plt.plot(df_plot_60s['time_sec'], df_plot_60s['txbuf_occ_MB'])\n",
    "plt.title('txbuf_occ_bytes Over Time (First 60 Seconds)')\n",
    "plt.xlabel('Time (seconds)')\n",
    "plt.ylabel('txbuf_occ_bytes (MB)')\n",
    "plt.grid(True)\n",
    "plt.show()\n"
   ]
  },
  {
   "cell_type": "code",
   "execution_count": null,
   "metadata": {},
   "outputs": [],
   "source": []
  }
 ],
 "metadata": {
  "kernelspec": {
   "display_name": "Python 3",
   "language": "python",
   "name": "python3"
  },
  "language_info": {
   "codemirror_mode": {
    "name": "ipython",
    "version": 3
   },
   "file_extension": ".py",
   "mimetype": "text/x-python",
   "name": "python",
   "nbconvert_exporter": "python",
   "pygments_lexer": "ipython3",
   "version": "3.12.6"
  }
 },
 "nbformat": 4,
 "nbformat_minor": 2
}
