{
 "cells": [
  {
   "cell_type": "markdown",
   "metadata": {},
   "source": [
    "This script setup the experiments, assuming that the l4s part has been installed correctly. "
   ]
  },
  {
   "cell_type": "code",
   "execution_count": 2,
   "metadata": {},
   "outputs": [],
   "source": [
    "import subprocess\n",
    "\n",
    "tx0_prefix = \"ssh -p 25010 PeterYao@pc603.emulab.net\"\n",
    "router0_prefix = \"ssh -p 25010 PeterYao@pc606.emulab.net\"\n",
    "router1_prefix = \"ssh -p 25010 PeterYao@pc604.emulab.net\"\n",
    "rx0_prefix = \"ssh PeterYao@pc615.emulab.net\"\n",
    "\n",
    "nodes_prefix = [tx0_prefix, router0_prefix, router1_prefix, rx0_prefix]\n",
    "\n",
    "class node:\n",
    "    def __init__(self, node_ssh_prefix) -> None:\n",
    "        self.ssh_prefix = node_ssh_prefix\n",
    "\n",
    "    def execute(self, command, background=False):\n",
    "        if background:\n",
    "            print(\"executing in background\")\n",
    "            # full_command = f\"{self.ssh_prefix} 'setsid nohup {command} > /dev/null 2>&1 &'\"\n",
    "            full_command = f'{self.ssh_prefix} \"{command}\"'\n",
    "            subprocess.Popen(full_command, shell=True, stdout=subprocess.PIPE, stderr=subprocess.PIPE)\n",
    "        else:\n",
    "            full_command = f'{self.ssh_prefix} \"{command}\"'\n",
    "            result = subprocess.run(full_command, shell=True, stdout=subprocess.PIPE, stderr=subprocess.PIPE)\n",
    "            if result.returncode == 0:\n",
    "                print(result.stdout.decode('utf-8'))\n",
    "            else:\n",
    "                print(f\"Error: {result.stderr.decode('utf-8')}\")\n",
    "        return None\n",
    "        \n",
    "tx0_node = node(tx0_prefix)\n",
    "delay_node = node(router0_prefix)\n",
    "router_node = node(router1_prefix)\n",
    "rx0_node = node(rx0_prefix)\n",
    "\n",
    "nodes = [tx0_node, delay_node, router_node, rx0_node]\n",
    "\n",
    "\n",
    "\n"
   ]
  },
  {
   "cell_type": "markdown",
   "metadata": {},
   "source": [
    "# Experiment 1 50-50 base thp and latency"
   ]
  },
  {
   "cell_type": "code",
   "execution_count": 3,
   "metadata": {},
   "outputs": [
    {
     "name": "stdout",
     "output_type": "stream",
     "text": [
      "net.ipv4.tcp_congestion_control = cubic\n",
      "net.ipv4.tcp_ecn = 0\n",
      "\n",
      "net.ipv4.tcp_congestion_control = cubic\n",
      "net.ipv4.tcp_ecn = 0\n",
      "\n",
      "net.ipv4.tcp_congestion_control = cubic\n",
      "net.ipv4.tcp_ecn = 0\n",
      "\n",
      "net.ipv4.tcp_congestion_control = cubic\n",
      "net.ipv4.tcp_ecn = 0\n",
      "\n",
      "validating...\n",
      "net.ipv4.tcp_congestion_control = cubic\n",
      "\n",
      "net.ipv4.tcp_ecn = 0\n",
      "\n",
      "net.ipv4.tcp_congestion_control = cubic\n",
      "\n",
      "net.ipv4.tcp_ecn = 0\n",
      "\n",
      "net.ipv4.tcp_congestion_control = cubic\n",
      "\n",
      "net.ipv4.tcp_ecn = 0\n",
      "\n",
      "net.ipv4.tcp_congestion_control = cubic\n",
      "\n",
      "net.ipv4.tcp_ecn = 0\n",
      "\n"
     ]
    }
   ],
   "source": [
    "commands_noecn = \"bash -c 'sudo sysctl -w net.ipv4.tcp_congestion_control=cubic; sudo sysctl -w net.ipv4.tcp_ecn=0'\"\n",
    "for node in nodes:\n",
    "    node.execute(commands_noecn)\n",
    "    \n",
    "print(\"validating...\")\n",
    "for node in nodes:\n",
    "    node.execute(\"sudo sysctl net.ipv4.tcp_congestion_control\")\n",
    "    node.execute(\"sudo sysctl net.ipv4.tcp_ecn\")"
   ]
  },
  {
   "cell_type": "code",
   "execution_count": 4,
   "metadata": {},
   "outputs": [
    {
     "name": "stdout",
     "output_type": "stream",
     "text": [
      "\n",
      "\n"
     ]
    }
   ],
   "source": [
    "# modify the delay on the delay node\n",
    "base_rtt = 25\n",
    "delay_interfaces = [\"eth1\", \"eth2\"]\n",
    "\n",
    "for e in delay_interfaces:\n",
    "    cmds = \"sudo tc qdisc replace dev {iface} root netem delay {owd}ms limit 60000\".format(iface=e, owd=base_rtt/2)\n",
    "    delay_node.execute(cmds)"
   ]
  },
  {
   "cell_type": "code",
   "execution_count": 5,
   "metadata": {},
   "outputs": [
    {
     "name": "stdout",
     "output_type": "stream",
     "text": [
      "qdisc netem 8001: root refcnt 2 limit 60000 delay 12.5ms\n",
      "\n",
      "qdisc netem 8002: root refcnt 2 limit 60000 delay 12.5ms\n",
      "\n"
     ]
    }
   ],
   "source": [
    "delay_node.execute(\"sudo tc qdisc show dev eth1\")\n",
    "delay_node.execute(\"sudo tc qdisc show dev eth2\")"
   ]
  },
  {
   "cell_type": "code",
   "execution_count": 66,
   "metadata": {},
   "outputs": [
    {
     "name": "stdout",
     "output_type": "stream",
     "text": [
      "btl limit:  625000\n",
      "packet number:  417\n"
     ]
    }
   ],
   "source": [
    "# set up the btl node\n",
    "n_bdp = 2\n",
    "base_rtt = 25\n",
    "btl_capacity = 100 #in Mbps\n",
    "\n",
    "# fixed values\n",
    "btl_limit    = int(1000*n_bdp*btl_capacity*base_rtt/8) # limit of the bottleneck, n_bdp x BDP in bytes \n",
    "packet_number=int(btl_limit/1500)+1\n",
    "\n",
    "print(\"btl limit: \", btl_limit)\n",
    "print(\"packet number: \", packet_number)"
   ]
  },
  {
   "cell_type": "code",
   "execution_count": 1,
   "metadata": {},
   "outputs": [
    {
     "name": "stdout",
     "output_type": "stream",
     "text": [
      "Filesystem      Size  Used Avail Use% Mounted on\n",
      "tmpfs            96M  700K   96M   1% /run\n",
      "/dev/xvda3       63G  3.8G   56G   7% /\n",
      "tmpfs           480M     0  480M   0% /dev/shm\n",
      "tmpfs           5.0M     0  5.0M   0% /run/lock\n",
      "/dev/xvda1      256M  8.6M  248M   4% /boot/efi\n",
      "tmpfs            96M     0   96M   0% /run/user/39791\n"
     ]
    }
   ],
   "source": [
    "from fabric import Connection\n",
    "\n",
    "router = Connection(\n",
    "    host='pc604.emulab.net',\n",
    "    user='PeterYao',\n",
    "    port=25010,\n",
    ")\n",
    "\n",
    "\n",
    "delay = Connection(\n",
    "    host='pc606.emulab.net',\n",
    "    user = 'PeterYao',\n",
    "    port=25010,\n",
    ")\n",
    "\n",
    "tx = Connection(\n",
    "    host='pc603.emulab.net',\n",
    "    user = 'PeterYao',\n",
    "    port=25010,\n",
    ")\n",
    "\n",
    "rx = Connection(\n",
    "    host='pc615.emulab.net',\n",
    "    user\n",
    "    = 'PeterYao',  \n",
    "    port=22,\n",
    ")\n",
    "\n",
    "result = router.run('df -h')"
   ]
  },
  {
   "cell_type": "code",
   "execution_count": 6,
   "metadata": {},
   "outputs": [
    {
     "name": "stdout",
     "output_type": "stream",
     "text": [
      "qdisc htb 1: root refcnt 2 r2q 10 default 0x3 direct_packets_stat 0 direct_qlen 1000\n",
      "qdisc bfifo 3: parent 1:3 limit 625000b\n"
     ]
    },
    {
     "data": {
      "text/plain": [
       "<Result cmd='sudo tc qdisc show dev eth2' exited=0>"
      ]
     },
     "execution_count": 6,
     "metadata": {},
     "output_type": "execute_result"
    }
   ],
   "source": [
    "# setup the router queueing discipline\n",
    "router_egress_name = \"eth2\"\n",
    "\n",
    "cmds_prefix = '''\n",
    "            sudo tc qdisc del dev {iface} root\n",
    "            sudo tc qdisc replace dev {iface} root handle 1: htb default 3 \n",
    "            sudo tc class add dev {iface} parent 1: classid 1:3 htb rate {capacity}mbit \n",
    "            '''.format(iface=router_egress_name, capacity=btl_capacity, buffer=btl_limit)\n",
    "            \n",
    "cmds_specific = \"sudo tc qdisc add dev {iface} parent 1:3 handle 3: bfifo limit {buffer}\".format(iface=router_egress_name, buffer=btl_limit)\n",
    "\n",
    "router.run(cmds_prefix)    \n",
    "router.run(cmds_specific)\n",
    "router.run(\"sudo tc qdisc show dev eth2\")  \n",
    "\n",
    "router.run(\"sudo tc qdisc show dev eth2\")\n",
    "\n"
   ]
  },
  {
   "cell_type": "code",
   "execution_count": 46,
   "metadata": {},
   "outputs": [
    {
     "name": "stdout",
     "output_type": "stream",
     "text": [
      "net.ipv4.tcp_congestion_control = cubic\n",
      "net.ipv4.tcp_congestion_control = cubic\n",
      "net.ipv4.tcp_ecn = 0\n",
      "net.ipv4.tcp_ecn = 0\n"
     ]
    },
    {
     "data": {
      "text/plain": [
       "<Result cmd=\"sudo -S -p '[sudo] password: ' ip netns exec ue3 sysctl -w net.ipv4.tcp_ecn=0\" exited=0>"
      ]
     },
     "execution_count": 46,
     "metadata": {},
     "output_type": "execute_result"
    }
   ],
   "source": [
    "rx.sudo(\"ip netns exec ue1 sysctl -w net.ipv4.tcp_congestion_control=cubic\")\n",
    "rx.sudo(\"ip netns exec ue3 sysctl -w net.ipv4.tcp_congestion_control=cubic\")\n",
    "\n",
    "rx.sudo(\"ip netns exec ue1 sysctl -w net.ipv4.tcp_ecn=0\")\n",
    "rx.sudo(\"ip netns exec ue3 sysctl -w net.ipv4.tcp_ecn=0\")"
   ]
  },
  {
   "cell_type": "code",
   "execution_count": 83,
   "metadata": {},
   "outputs": [
    {
     "name": "stderr",
     "output_type": "stream",
     "text": [
      "iperf3: no process found\n"
     ]
    },
    {
     "name": "stdout",
     "output_type": "stream",
     "text": [
      "total 86552\n",
      "-rw-r--r-- 1 PeterYao nyunetworks    34585 Sep 15 00:50 cubic_ecn_none-result-ue1.json\n",
      "-rw-r--r-- 1 PeterYao nyunetworks    34634 Sep 15 00:50 cubic_ecn_none-result-ue2.json\n",
      "-rw-r--r-- 1 PeterYao nyunetworks        0 Sep 15 01:00 cubic_ecn_none-ss-1.csv\n",
      "-rw-r--r-- 1 PeterYao nyunetworks        0 Sep 15 01:00 cubic_ecn_none-ss-2.csv\n",
      "-rw-r--r-- 1 PeterYao nyunetworks        0 Sep 15 01:00 cubic_ecn_none-ss-processed-1.txt\n",
      "-rw-r--r-- 1 PeterYao nyunetworks        0 Sep 15 01:00 cubic_ecn_none-ss-processed-2.txt\n",
      "-rw-r--r-- 1 PeterYao nyunetworks   220153 Sep 15 01:07 cubic_ecn_none-ss-processed-ue1.txt\n",
      "-rw-r--r-- 1 PeterYao nyunetworks   234665 Sep 15 01:07 cubic_ecn_none-ss-processed-ue2.txt\n",
      "-rw-r--r-- 1 PeterYao nyunetworks    10948 Sep 15 01:07 cubic_ecn_none-ss-ue1.csv\n",
      "-rw-r--r-- 1 PeterYao nyunetworks   222167 Sep 15 00:50 cubic_ecn_none-ss-ue1.txt\n",
      "-rw-r--r-- 1 PeterYao nyunetworks    10907 Sep 15 01:07 cubic_ecn_none-ss-ue2.csv\n",
      "-rw-r--r-- 1 PeterYao nyunetworks   236460 Sep 15 00:50 cubic_ecn_none-ss-ue2.txt\n",
      "-rw-r--r-- 1 PeterYao nyunetworks        0 Sep 15 01:00 cwnd-cubic_ecn_none-1.txt\n",
      "-rw-r--r-- 1 PeterYao nyunetworks        0 Sep 15 01:00 cwnd-cubic_ecn_none-2.txt\n",
      "-rw-r--r-- 1 PeterYao nyunetworks      968 Sep 15 01:07 cwnd-cubic_ecn_none-ue1.txt\n",
      "-rw-r--r-- 1 PeterYao nyunetworks      958 Sep 15 01:07 cwnd-cubic_ecn_none-ue2.txt\n",
      "drwxr-xr-x 2 PeterYao nyunetworks     4096 May 23 12:09 debian_build\n",
      "-rwxr-xr-x 1 PeterYao nyunetworks     2021 Sep 15 00:15 exp.sh\n",
      "-rw-r--r-- 1 PeterYao nyunetworks        0 Sep 15 01:00 fd-cubic_ecn_none-1.txt\n",
      "-rw-r--r-- 1 PeterYao nyunetworks        0 Sep 15 01:00 fd-cubic_ecn_none-2.txt\n",
      "-rw-r--r-- 1 PeterYao nyunetworks      714 Sep 15 01:07 fd-cubic_ecn_none-ue1.txt\n",
      "-rw-r--r-- 1 PeterYao nyunetworks      712 Sep 15 01:07 fd-cubic_ecn_none-ue2.txt\n",
      "-rw-r--r-- 1 PeterYao nyunetworks 87449891 May 23 12:09 l4s-testing.zip\n",
      "-rw-r--r-- 1 PeterYao nyunetworks        0 Sep 15 01:00 srtt-cubic_ecn_none-1.txt\n",
      "-rw-r--r-- 1 PeterYao nyunetworks        0 Sep 15 01:00 srtt-cubic_ecn_none-2.txt\n",
      "-rw-r--r-- 1 PeterYao nyunetworks     2840 Sep 15 01:07 srtt-cubic_ecn_none-ue1.txt\n",
      "-rw-r--r-- 1 PeterYao nyunetworks     2829 Sep 15 01:07 srtt-cubic_ecn_none-ue2.txt\n",
      "-rw-r--r-- 1 PeterYao nyunetworks        0 Sep 14 23:17 test.txt\n",
      "-rw-r--r-- 1 PeterYao nyunetworks        0 Sep 15 01:00 ts-cubic_ecn_none-1.txt\n",
      "-rw-r--r-- 1 PeterYao nyunetworks        0 Sep 15 01:00 ts-cubic_ecn_none-2.txt\n",
      "-rw-r--r-- 1 PeterYao nyunetworks     6426 Sep 15 01:07 ts-cubic_ecn_none-ue1.txt\n",
      "-rw-r--r-- 1 PeterYao nyunetworks     6408 Sep 15 01:07 ts-cubic_ecn_none-ue2.txt\n"
     ]
    },
    {
     "name": "stderr",
     "output_type": "stream",
     "text": [
      "Failed to open cgroup2 by ID\n",
      "Failed to open cgroup2 by ID\n"
     ]
    },
    {
     "name": "stdout",
     "output_type": "stream",
     "text": [
      "1726389557.434629 tcp SYN-SENT 0      1      10.0.0.100:57612 12.1.1.130:4000 users:((\"iperf3\",pid=22224,fd=4)) timer:(on,792ms,0) uid:39791 ino:200688 sk:6f cgroup:unreachable:2010c00000052 <->\n",
      "1726389557.435490 \t cubic rto:1000 mss:524 pmtu:1500 rcvmss:88 advmss:1460 cwnd:10 segs_out:1 lastsnd:595700832 lastrcv:595700832 lastack:595700832 unacked:1 rcv_ssthresh:64240\n",
      "1726389557.440562 tcp SYN-SENT 0      1      10.0.0.100:58044 12.1.1.66:4000 users:((\"iperf3\",pid=22225,fd=4)) timer:(on,796ms,0) uid:39791 ino:200687 sk:6e cgroup:unreachable:2010c00000052 <->\n",
      "1726389557.441236 \t cubic rto:1000 mss:524 pmtu:1500 rcvmss:88 advmss:1460 cwnd:10 segs_out:1 lastsnd:595700824 lastrcv:595700824 lastack:595700824 unacked:1 rcv_ssthresh:64240\n"
     ]
    },
    {
     "name": "stderr",
     "output_type": "stream",
     "text": [
      "Failed to open cgroup2 by ID\n",
      "Failed to open cgroup2 by ID\n"
     ]
    },
    {
     "name": "stdout",
     "output_type": "stream",
     "text": [
      "1726389557.7558491726389557.756564 tcp ESTAB 0      125    10.0.0.100:57612 12.1.1.130:4000 users:((\"iperf3\",pid=22224,fd=4)) timer:(on,792ms,0) uid:39791 ino:200688 sk:6f cgroup:unreachable:2010c00000052 <->\n",
      " tcp ESTAB 0      125    10.0.0.100:58044 12.1.1.66:4000 users:((\"iperf3\",pid=22225,fd=4)) timer:(on,648ms,0) uid:39791 ino:200687 sk:6e cgroup:unreachable:2010c00000052 <->\n",
      "1726389557.7571481726389557.757372 \t ts sack cubic wscale:12,7 rto:924 rtt:298.118/143.821 ato:40 mss:1448 pmtu:1500 rcvmss:536 advmss:1448 cwnd:10 bytes_sent:41 bytes_acked:38 bytes_received:1 segs_out:5 segs_in:3 data_segs_out:2 data_segs_in:1 send 388571bps lastsnd:8 lastrcv:8 lastack:8 pacing_rate 777136bps delivery_rate 56856bps delivered:2 app_limited busy:212ms unacked:1 rcv_space:14480 rcv_ssthresh:64088 notsent:121 minrtt:203.723\n",
      " \t ts sack cubic wscale:12,7 rto:744 rtt:246.968/95.963 ato:40 mss:1448 pmtu:1500 rcvmss:536 advmss:1448 cwnd:10 bytes_sent:41 bytes_acked:38 bytes_received:1 segs_out:5 segs_in:3 data_segs_out:2 data_segs_in:1 send 469049bps lastsnd:48 lastrcv:48 lastack:48 pacing_rate 938088bps delivery_rate 48856bps delivered:2 app_limited busy:284ms unacked:1 rcv_space:14480 rcv_ssthresh:64088 notsent:121 minrtt:237.094\n"
     ]
    },
    {
     "name": "stderr",
     "output_type": "stream",
     "text": [
      "Failed to open cgroup2 by ID\n",
      "Failed to open cgroup2 by ID\n"
     ]
    },
    {
     "name": "stdout",
     "output_type": "stream",
     "text": [
      "1726389558.070511 tcp ESTAB 0      121    10.0.0.100:58044 12.1.1.66:4000 users:((\"iperf3\",pid=22225,fd=4)) timer:(on,568ms,0) uid:39791 ino:200687 sk:6e cgroup:unreachable:2010c00000052 <->\n"
     ]
    },
    {
     "name": "stderr",
     "output_type": "stream",
     "text": [
      "Failed to open cgroup2 by ID\n",
      "Failed to open cgroup2 by ID\n"
     ]
    },
    {
     "name": "stdout",
     "output_type": "stream",
     "text": [
      "1726389558.071123 \t ts sack cubic wscale:12,7 rto:696 rtt:245.491/74.926 ato:40 mss:1448 pmtu:1500 rcvmss:536 advmss:1448 cwnd:10 bytes_sent:162 bytes_acked:42 bytes_received:1 segs_out:6 segs_in:4 data_segs_out:3 data_segs_in:1 send 471871bps lastsnd:124 lastrcv:360 lastack:124 pacing_rate 943736bps delivery_rate 49256bps delivered:3 app_limited busy:596ms unacked:1 rcv_space:14480 rcv_ssthresh:64088 minrtt:235.154\n",
      "1726389558.073956 tcp ESTAB 0      121    10.0.0.100:57612 12.1.1.130:4000 users:((\"iperf3\",pid=22224,fd=4)) timer:(on,732ms,0) uid:39791 ino:200688 sk:6f cgroup:unreachable:2010c00000052 <->\n",
      "1726389558.074657 \t ts sack cubic wscale:12,7 rto:880 rtt:294.583/114.934 ato:40 mss:1448 pmtu:1500 rcvmss:536 advmss:1448 cwnd:10 bytes_sent:162 bytes_acked:42 bytes_received:1 segs_out:6 segs_in:4 data_segs_out:3 data_segs_in:1 send 393234bps lastsnd:60 lastrcv:332 lastack:60 pacing_rate 786464bps delivery_rate 56856bps delivered:3 app_limited busy:536ms unacked:1 rcv_space:14480 rcv"
     ]
    },
    {
     "name": "stderr",
     "output_type": "stream",
     "text": [
      "Failed to open cgroup2 by ID\n"
     ]
    },
    {
     "name": "stdout",
     "output_type": "stream",
     "text": [
      "_ssthresh:64088 minrtt:203.723\n"
     ]
    },
    {
     "name": "stderr",
     "output_type": "stream",
     "text": [
      "Failed to open cgroup2 by ID\n"
     ]
    },
    {
     "name": "stdout",
     "output_type": "stream",
     "text": [
      "1726389558.497159 tcp ESTAB    0      0      10.0.0.100:57612 12.1.1.130:4000 users:((\"iperf3\",pid=22224,fd=4)) uid:39791 ino:200688 sk:6f cgroup:unreachable:2010c00000052 <->\n",
      "1726389558.498553 \t ts sack cubic wscale:12,7 rto:832 rtt:283.134/109.099 ato:40 mss:1448 pmtu:1500 rcvmss:536 advmss:1448 cwnd:10 bytes_sent:162 bytes_acked:163 bytes_received:2 segs_out:7 segs_in:6 data_segs_out:3 data_segs_in:2 send 409135bps lastsnd:372 lastrcv:172 lastack:172 pacing_rate 818264bps delivery_rate 57064bps delivered:4 app_limited busy:676ms rcv_space:14480 rcv_ssthresh:64088 minrtt:202.988\n",
      "1726389558.499101 tcp SYN-SENT 0      1      10.0.0.100:60476 12.1.1.130:4000 users:((\"iperf3\",pid=22224,fd=5)) timer:(on,828ms,0) uid:39791 ino:200946 sk:70 cgroup:unreachable:2010c00000052 <->\n",
      "1726389558.4996431726389558.501109 \t cubic rto:1000 mss:524 pmtu:1500 rcvmss:88 advmss:1460 cwnd:10 segs_out:1 lastsnd:595701784 lastrcv:595701784 lastack:595701784 unacked:1 rcv_ssthresh:64240                                                                                                                                                                                                                        \n",
      " tcp ESTAB 0      37     10.0.0.100:39064 12.1.1.66:4000 users:((\"iperf3\",pid=22225,fd=5)) timer:(on,668ms,0) uid:39791 ino:200945 sk:71 cgroup:unreachable:2010c00000052 <->\n",
      "1726389558.510452 \t ts sack cubic wscale:12,7 rto:712 rtt:236.428/118.214 mss:1448 pmtu:1500 rcvmss:536 advmss:1448 cwnd:10 bytes_sent:37 bytes_acked:1 segs_out:3 segs_in:1 data_segs_out:1 send 489959bps lastsnd:8 lastrcv:8 lastack:8 pacing_rate 979912bps delivered:1 busy:8ms unacked:1 rcv_space:14480 rcv_ssthresh:64088 minrtt:236.428\n",
      "1726389558.511335"
     ]
    },
    {
     "name": "stderr",
     "output_type": "stream",
     "text": [
      "Failed to open cgroup2 by ID\n"
     ]
    },
    {
     "name": "stdout",
     "output_type": "stream",
     "text": [
      " tcp ESTAB 0      0      10.0.0.100:58044 12.1.1.66:4000 users:((\"iperf3\",pid=22225,fd=4)) uid:39791 ino:200687 sk:6e cgroup:unreachable:2010c00000052 <->\n",
      "1726389558.511661 \t ts sack cubic wscale:12,7 rto:644 rtt:240.283/66.611 ato:40 mss:1448 pmtu:1500 rcvmss:536 advmss:1448 cwnd:10 bytes_sent:162 bytes_acked:163 bytes_received:2 segs_out:7 segs_in:6 data_segs_out:3 data_segs_in:2 send 482098bps lastsnd:448 lastrcv:244 lastack:244 pacing_rate 964192bps delivery_rate 56832bps delivered:4 app_limited busy:676ms rcv_space:14480 rcv_ssthresh:64088 minrtt:203.825\n"
     ]
    },
    {
     "name": "stderr",
     "output_type": "stream",
     "text": [
      "Failed to open cgroup2 by ID\n",
      "Failed to open cgroup2 by ID\n",
      "Failed to open cgroup2 by ID\n"
     ]
    },
    {
     "name": "stdout",
     "output_type": "stream",
     "text": [
      "1726389558.9006451726389558.901240 tcp ESTAB 0      0      10.0.0.100:57612 12.1.1.130:4000 users:((\"iperf3\",pid=22224,fd=4)) uid:39791 ino:200688 sk:6f cgroup:unreachable:2010c00000052 <->\n",
      "1726389558.901878 \t ts sack cubic wscale:12,7 rto:832 rtt:283.134/109.099 ato:40 mss:1448 pmtu:1500 rcvmss:536 advmss:1448 cwnd:10 bytes_sent:162 bytes_acked:163 bytes_received:3 segs_out:8 segs_in:7 data_segs_out:3 data_segs_in:3 send 409135bps lastsnd:816 lastrcv:72 lastack:72 pacing_rate 818264bps delivery_rate 57064bps delivered:4 app_limited busy:676ms rcv_space:14480 rcv_ssthresh:64088 minrtt:202.988\n",
      "1726389558.902509 tcp ESTAB 0      0      10.0.0.100:60476 12.1.1.130:4000 users:((\"iperf3\",pid=22224,fd=5)) uid:39791 ino:200946 sk:70 cgroup:unreachable:2010c00000052 <->\n",
      "1726389558.902841 \t ts sack cubic wscale:12,7 rto:908 rtt:295.976/131.542 mss:1448 pmtu:1500 rcvmss:536 advmss:1448 cwnd:10 bytes_sent:37 bytes_acked:38 segs_out:3 segs_in:2 data_segs_out:1 send 391383bps lastsnd:308 lastrcv:308 lastack:76 pacing_rate 782760bps delivery_rate 49208bps delivered:2 app_limited busy:232ms rcv_space:14480 rcv_ssthresh:64088 minrtt:235.405                                        \n",
      " tcp ESTAB 0      0      10.0.0.100:39064 12.1.1.66:4000 users:((\"iperf3\",pid=22225,fd=5)) uid:39791 ino:200945 sk:71 cgroup:unreachable:2010c00000052 <->\n",
      "1726389558.904804 \t ts sack cubic wscale:12,7 rto:712 rtt:236.319/88.878 mss:1448 pmtu:1500 rcvmss:536 advmss:1448 cwnd:10 bytes_sent:37 bytes_acked:38 segs_out:3 segs_in:2 data_segs_out:1 send 490185bps lastsnd:464 lastrcv:464 lastack:228 pacing_rate 980368bps delivery_rate 49176bps delivered:2 app_limited busy:236ms rcv_space:14480 rcv_ssthresh:64088 minrtt:235.558\n",
      "1726389558.905147 tcp ESTAB 0      0      10.0.0.100:58044 12.1.1.66:4000 users:((\"iperf3\",pid=22225,fd=4)) uid:39791 ino:200687 sk:6e cgroup:unreachable:2010c00000052 <->\n",
      "1726389558.905462 \t ts sack cubic wscale:12,7 rto:644 rtt:240.283/66.611 ato:40 mss:1448 pmtu:1500 rcvmss:536 advmss:1448 cwnd:10 bytes_sent:162 bytes_acked:163 bytes_received:3 segs_out:8 segs_in:7 data_segs_out:3 data_segs_in:3 send 482098bps lastsnd:904 lastrcv:228 lastack:228 pacing_rate 964192bps delivery_rate 56832bps delivered:4 app_limited busy:676ms rcv_space:14480 rcv_ssthresh:64088 minrtt:203.825\n"
     ]
    },
    {
     "name": "stderr",
     "output_type": "stream",
     "text": [
      "Failed to open cgroup2 by ID\n",
      "Failed to open cgroup2 by ID\n",
      "Failed to open cgroup2 by ID\n",
      "Failed to open cgroup2 by ID\n"
     ]
    },
    {
     "name": "stdout",
     "output_type": "stream",
     "text": [
      "1726389559.2171731726389559.225209 tcp ESTAB 0      153488 10.0.0.100:39064 12.1.1.66:4000 users:((\"iperf3\",pid=22225,fd=5)) timer:(on,408ms,0) uid:39791 ino:200945 sk:71 cgroup:unreachable:2010c00000052 <->\n",
      "1726389559.225630 \t ts sack cubic wscale:12,7 rto:664 rtt:238.769/6.112 mss:1448 pmtu:1500 rcvmss:536 advmss:1448 cwnd:20 bytes_sent:43477 bytes_acked:14518 segs_out:33 segs_in:12 data_segs_out:31 send 970310bps lastsnd:80 lastrcv:828 lastack:80 pacing_rate 1940616bps delivery_rate 481968bps delivered:12 app_limited busy:556ms unacked:20 rcv_space:14480 rcv_ssthresh:64088 notsent:124528 minrtt:235.558\n",
      "1726389559.225718 tcp ESTAB 0      0      10.0.0.100:58044 12.1.1.66:4000 users:((\"iperf3\",pid=22225,fd=4)) uid:39791 ino:200687 sk:6e cgroup:unreachable:2010c00000052 <->\n",
      "1726389559.225802 \t ts sack cubic wscale:12,7 rto:644 rtt:240.283/66.611 ato:40 mss:1448 pmtu:1500 rcvmss:536 advmss:1448 cwnd:10 bytes_sent:162 bytes_acked:163 bytes_received:4 segs_out:9 segs_in:8 data_segs_out:3 data_segs_in:4 send 482098bps lastsnd:1268 lastrcv:324 lastack:324 pacing_rate 964192bps delivery_rate 56832bps delivered:4 app_limited busy:676ms rcv_space:14480 rcv_ssthresh:64088 minrtt:203.825            \n",
      " tcp ESTAB 0      0      10.0.0.100:57612 12.1.1.130:4000 users:((\"iperf3\",pid=22224,fd=4)) uid:39791 ino:200688 sk:6f cgroup:unreachable:2010c00000052 <->\n",
      "1726389559.222420 \t ts sack cubic wscale:12,7 rto:832 rtt:283.134/109.099 ato:40 mss:1448 pmtu:1500 rcvmss:536 advmss:1448 cwnd:10 bytes_sent:162 bytes_acked:163 bytes_received:4 segs_out:9 segs_in:8 data_segs_out:3 data_segs_in:4 send 409135bps lastsnd:1204 lastrcv:224 lastack:224 pacing_rate 818264bps delivery_rate 57064bps delivered:4 app_limited busy:676ms rcv_space:14480 rcv_ssthresh:64088 minrtt:202.988\n",
      "1726389559.222546 tcp ESTAB 0      104256 10.0.0.100:60476 12.1.1.130:4000 users:((\"iperf3\",pid=22224,fd=5)) timer:(on,376ms,0) uid:39791 ino:200946 sk:70 cgroup:unreachable:2010c00000052 <->\n",
      "1726389559.222600 \t ts sack cubic wscale:12,7 rto:908 rtt:295.976/131.542 mss:1448 pmtu:1500 rcvmss:536 advmss:1448 cwnd:10 bytes_sent:14517 bytes_acked:38 segs_out:13 segs_in:2 data_segs_out:11 send 391383bps lastsnd:224 lastrcv:696 lastack:464 pacing_rate 782760bps delivery_rate 49208bps delivered:2 app_limited busy:456ms unacked:10 rcv_space:14480 rcv_ssthresh:64088 notsent:89776 minrtt:235.405\n"
     ]
    },
    {
     "name": "stderr",
     "output_type": "stream",
     "text": [
      "Failed to open cgroup2 by ID\n",
      "Failed to open cgroup2 by ID\n",
      "Failed to open cgroup2 by ID\n",
      "Failed to open cgroup2 by ID\n"
     ]
    },
    {
     "name": "stdout",
     "output_type": "stream",
     "text": [
      "1726389559.546871 tcp ESTAB 0      0      10.0.0.100:57612 12.1.1.130:4000 users:((\"iperf3\",pid=22224,fd=4)) uid:39791 ino:200688 sk:6f cgroup:unreachable:2010c00000052 <->\n",
      "1726389559.547587 \t ts sack cubic wscale:12,7 rto:832 rtt:283.134/109.099 ato:40 mss:1448 pmtu:1500 rcvmss:536 advmss:1448 cwnd:10 bytes_sent:162 bytes_acked:163 bytes_received:4 segs_out:9 segs_in:8 data_segs_out:3 data_segs_in:4 send 409135bps lastsnd:1528 lastrcv:548 lastack:548 pacing_rate 818264bps delivery_rate 57064bps delivered:4 app_limited busy:676ms rcv_space:14480 rcv_ssthresh:64088 minrtt:202.988\n",
      "1726389559.548158 tcp ESTAB 0      150592 10.0.0.100:60476 12.1.1.130:4000 users:((\"iperf3\",pid=22224,fd=5)) timer:(on,716ms,0) uid:39791 ino:200946 sk:70 cgroup:unreachable:2010c00000052 <->\n",
      "1726389559.5487111726389559.549886 \t ts sack cubic wscale:12,7 rto:772 rtt:247.753/2.417 mss:1448 pmtu:1500 rcvmss:536 advmss:1448 cwnd:15 ssthresh:15 bytes_sent:65197 bytes_retrans:1448 bytes_acked:17414 segs_out:48 segs_in:26 data_segs_out:46 send 701344bps lastsnd:56 lastrcv:1020 lastack:56 pacing_rate 1458792bps delivery_rate 895904bps delivered:31 busy:780ms unacked:32 retrans:1/1 lost:1 sacked:17 rcv_space:14480 rcv_ssthresh:64088 notsent:104256 minrtt:235.405\n",
      " tcp ESTAB 0      247608 10.0.0.100:39064 12.1.1.66:4000 users:((\"iperf3\",pid=22225,fd=5)) timer:(on,352ms,0) uid:39791 ino:200945 sk:71 cgroup:unreachable:2010c00000052 <->\n",
      "1726389559.552164 \t ts sack cubic wscale:12,7 rto:548 rtt:220.065/44.87 mss:1448 pmtu:1500 rcvmss:536 advmss:1448 cwnd:43 bytes_sent:110085 bytes_acked:47822 segs_out:79 segs_in:27 data_segs_out:77 send 2263477bps lastsnd:52 lastrcv:1152 lastack:52 pacing_rate 4526952bps delivery_rate 1167312bps delivered:35 busy:880ms unacked:43 rcv_space:14480 rcv_ssthresh:64088 notsent:185344 minrtt:145.359\n",
      "1726389559.552504 tcp ESTAB 0      0      10.0.0.100:58044 12.1.1.66:4000 users:((\"iperf3\",pid=22225,fd=4)) uid:39791 ino:200687 sk:6e cgroup:unreachable:2010c00000052 <->\n",
      "1726389559.552817 \t ts sack cubic wscale:12,7 rto:644 rtt:240.283/66.611 ato:40 mss:1448 pmtu:1500 rcvmss:536 advmss:1448 cwnd:10 bytes_sent:162 bytes_acked:163 bytes_received:4 segs_out:9 segs_in:8 data_segs_out:3 data_segs_in:4 send 482098bps lastsnd:1592 lastrcv:648 lastack:648 pacing_rate 964192bps delivery_rate 56832bps delivered:4 app_limited busy:676ms rcv_space:14480 rcv_ssthresh:64088 minrtt:203.825    \n"
     ]
    },
    {
     "name": "stderr",
     "output_type": "stream",
     "text": [
      "Failed to open cgroup2 by ID\n",
      "Failed to open cgroup2 by ID\n",
      "Failed to open cgroup2 by ID\n",
      "Failed to open cgroup2 by ID\n"
     ]
    },
    {
     "name": "stdout",
     "output_type": "stream",
     "text": [
      "1726389559.868765 tcp ESTAB 0      0      10.0.0.100:57612 12.1.1.130:4000 users:((\"iperf3\",pid=22224,fd=4)) uid:39791 ino:200688 sk:6f cgroup:unreachable:2010c00000052 <->\n",
      "1726389559.8705521726389559.871472 \t ts sack cubic wscale:12,7 rto:832 rtt:283.134/109.099 ato:40 mss:1448 pmtu:1500 rcvmss:536 advmss:1448 cwnd:10 bytes_sent:162 bytes_acked:163 bytes_received:4 segs_out:9 segs_in:8 data_segs_out:3 data_segs_in:4 send 409135bps lastsnd:1852 lastrcv:872 lastack:872 pacing_rate 818264bps delivery_rate 57064bps delivered:4 app_limited busy:676ms rcv_space:14480 rcv_ssthresh:64088 minrtt:202.988\n",
      "1726389559.872095 tcp ESTAB 0      194032 10.0.0.100:60476 12.1.1.130:4000 users:((\"iperf3\",pid=22224,fd=5)) timer:(on,364ms,0) uid:39791 ino:200946 sk:70 cgroup:unreachable:2010c00000052 <->\n",
      "1726389559.872630 \t ts sack cubic wscale:12,7 rto:688 rtt:243.48/2.16 mss:1448 pmtu:1500 rcvmss:536 advmss:1448 cwnd:16 ssthresh:15 bytes_sent:88365 bytes_retrans:1448 bytes_acked:63750 segs_out:64 segs_in:37 data_segs_out:62 send 761229bps lastsnd:132 lastrcv:1344 lastack:132 pacing_rate 913472bps delivery_rate 703376bps delivered:46 busy:1104ms unacked:16 retrans:0/1 rcv_space:14480 rcv_ssthresh:64088 notsent:170864 minrtt:235.405\n",
      " tcp ESTAB 0      317112 10.0.0.100:39064 12.1.1.66:4000 users:((\"iperf3\",pid=22225,fd=5)) timer:(on,300ms,0) uid:39791 ino:200945 sk:71 cgroup:unreachable:2010c00000052 <->\n",
      "1726389559.874475 \t ts sack cubic wscale:12,7 rto:536 rtt:238.646/9.23 mss:1448 pmtu:1500 rcvmss:536 advmss:1448 cwnd:55 ssthresh:52 bytes_sent:228821 bytes_acked:149182 segs_out:161 segs_in:97 data_segs_out:159 send 2669728bps lastsnd:28 lastrcv:1476 lastack:28 pacing_rate 3203656bps delivery_rate 2118592bps delivered:105 busy:1204ms unacked:55 rcv_space:14480 rcv_ssthresh:64088 notsent:237472 minrtt:145.359\n",
      "1726389559.874815 tcp ESTAB 0      0      10.0.0.100:58044 12.1.1.66:4000 users:((\"iperf3\",pid=22225,fd=4)) uid:39791 ino:200687 sk:6e cgroup:unreachable:2010c00000052 <->\n",
      "1726389559.875133 \t ts sack cubic wscale:12,7 rto:644 rtt:240.283/66.611 ato:40 mss:1448 pmtu:1500 rcvmss:536 advmss:1448 cwnd:10 bytes_sent:162 bytes_acked:163 bytes_received:4 segs_out:9 segs_in:8 data_segs_out:3 data_segs_in:4 send 482098bps lastsnd:1916 lastrcv:972 lastack:972 pacing_rate 964192bps delivery_rate 56832bps delivered:4 app_limited busy:676ms rcv_space:14480 rcv_ssthresh:64088 minrtt:203.825                    \n"
     ]
    },
    {
     "name": "stderr",
     "output_type": "stream",
     "text": [
      "Failed to open cgroup2 by ID\n",
      "Failed to open cgroup2 by ID\n",
      "Failed to open cgroup2 by ID\n",
      "Failed to open cgroup2 by ID\n"
     ]
    },
    {
     "name": "stdout",
     "output_type": "stream",
     "text": [
      "1726389560.1892831726389560.191593 tcp ESTAB 0      0      10.0.0.100:57612 12.1.1.130:4000 users:((\"iperf3\",pid=22224,fd=4)) uid:39791 ino:200688 sk:6f cgroup:unreachable:2010c00000052 <->\n",
      "1726389560.192234 \t ts sack cubic wscale:12,7 rto:832 rtt:283.134/109.099 ato:40 mss:1448 pmtu:1500 rcvmss:536 advmss:1448 cwnd:10 bytes_sent:162 bytes_acked:163 bytes_received:4 segs_out:9 segs_in:8 data_segs_out:3 data_segs_in:4 send 409135bps lastsnd:2172 lastrcv:1192 lastack:1192 pacing_rate 818264bps delivery_rate 57064bps delivered:4 app_limited busy:676ms rcv_space:14480 rcv_ssthresh:64088 minrtt:202.988\n",
      " tcp ESTAB 0      405440 10.0.0.100:39064 12.1.1.66:4000 users:((\"iperf3\",pid=22225,fd=5)) timer:(on,036ms,0) uid:39791 ino:200945 sk:71 cgroup:unreachable:2010c00000052 <->\n",
      "1726389560.1930451726389560.193394 tcp ESTAB 0      188240 10.0.0.100:60476 12.1.1.130:4000 users:((\"iperf3\",pid=22224,fd=5)) timer:(on,540ms,0) uid:39791 ino:200946 sk:70 cgroup:unreachable:2010c00000052 <->\n",
      "1726389560.193955 \t ts sack cubic wscale:12,7 rto:476 rtt:220.107/16.675 mss:1448 pmtu:1500 rcvmss:536 advmss:1448 cwnd:59 ssthresh:52 bytes_sent:359141 bytes_acked:270814 segs_out:251 segs_in:183 data_segs_out:249 send 3105108bps lastsnd:4 lastrcv:1804 lastack:8 pacing_rate 3726112bps delivery_rate 2819824bps delivered:191 busy:1532ms unacked:61 sacked:2 rcv_space:14480 rcv_ssthresh:64088 notsent:317112 minrtt:145.359\n",
      "1726389560.194400 \t ts sack cubic wscale:12,7 rto:688 rtt:242.805/1.927 mss:1448 pmtu:1500 rcvmss:536 advmss:1448 cwnd:7 ssthresh:11 bytes_sent:98501 bytes_retrans:2896 bytes_acked:69542 segs_out:71 segs_in:41 data_segs_out:69 send 333963bps lastsnd:148 lastrcv:1664 lastack:216 pacing_rate 973256bps delivery_rate 283664bps delivered:52 busy:1424ms unacked:18 retrans:1/2 lost:10 sacked:2 rcv_space:14480 rcv_ssthresh:64088 notsent:162176 minrtt:235.405\n",
      " tcp ESTAB 0      0      10.0.0.100:58044 12.1.1.66:4000 users:((\"iperf3\",pid=22225,fd=4)) uid:39791 ino:200687 sk:6e cgroup:unreachable:2010c00000052 <->\n",
      "1726389560.196430 \t ts sack cubic wscale:12,7 rto:644 rtt:240.283/66.611 ato:40 mss:1448 pmtu:1500 rcvmss:536 advmss:1448 cwnd:10 bytes_sent:162 bytes_acked:163 bytes_received:4 segs_out:9 segs_in:8 data_segs_out:3 data_segs_in:4 send 482098bps lastsnd:2244 lastrcv:1300 lastack:1300 pacing_rate 964192bps delivery_rate 56832bps delivered:4 app_limited busy:676ms rcv_space:14480 rcv_ssthresh:64088 minrtt:203.825                            \n"
     ]
    },
    {
     "name": "stderr",
     "output_type": "stream",
     "text": [
      "Failed to open cgroup2 by ID\n",
      "Failed to open cgroup2 by ID\n",
      "Failed to open cgroup2 by ID\n",
      "Failed to open cgroup2 by ID\n"
     ]
    },
    {
     "name": "stdout",
     "output_type": "stream",
     "text": [
      "1726389560.5128841726389560.514321 tcp ESTAB 0      0      10.0.0.100:57612 12.1.1.130:4000 users:((\"iperf3\",pid=22224,fd=4)) uid:39791 ino:200688 sk:6f cgroup:unreachable:2010c00000052 <->\n",
      "1726389560.514967 \t ts sack cubic wscale:12,7 rto:832 rtt:283.134/109.099 ato:40 mss:1448 pmtu:1500 rcvmss:536 advmss:1448 cwnd:10 bytes_sent:162 bytes_acked:163 bytes_received:4 segs_out:9 segs_in:8 data_segs_out:3 data_segs_in:4 send 409135bps lastsnd:2496 lastrcv:1516 lastack:1516 pacing_rate 818264bps delivery_rate 57064bps delivered:4 app_limited busy:676ms rcv_space:14480 rcv_ssthresh:64088 minrtt:202.988\n",
      "1726389560.515506 tcp ESTAB 0      181000 10.0.0.100:60476 12.1.1.130:4000 users:((\"iperf3\",pid=22224,fd=5)) timer:(on,604ms,0) uid:39791 ino:200946 sk:70 cgroup:unreachable:2010c00000052 <->\n",
      "1726389560.516064 \t ts sack cubic wscale:12,7 rto:620 rtt:237.814/4.606 mss:1448 pmtu:1500 rcvmss:536 advmss:1448 cwnd:7 ssthresh:11 bytes_sent:114429 bytes_retrans:18824 bytes_acked:76782 segs_out:82 segs_in:48 data_segs_out:80 send 340972bps lastsnd:16 lastrcv:1988 lastack:16 pacing_rate 759872bps delivery_rate 190720bps delivered:59 busy:1748ms unacked:13 retrans:7/13 lost:9 sacked:4 rcv_space:14480 rcv_ssthresh:64088 notsent:162176 minrtt:209\n",
      " tcp ESTAB 0      320008 10.0.0.100:39064 12.1.1.66:4000 users:((\"iperf3\",pid=22225,fd=5)) timer:(on,424ms,0) uid:39791 ino:200945 sk:71 cgroup:unreachable:2010c00000052 <->\n",
      "1726389560.516910 \t ts sack cubic wscale:12,7 rto:436 rtt:193.679/15.95 mss:1448 pmtu:1500 rcvmss:536 advmss:1448 cwnd:41 ssthresh:41 bytes_sent:450365 bytes_retrans:8688 bytes_acked:356246 segs_out:314 segs_in:223 data_segs_out:312 send 2452222bps lastsnd:12 lastrcv:2120 lastack:12 pacing_rate 3875688bps delivery_rate 1852640bps delivered:266 busy:1848ms unacked:59 retrans:2/6 lost:2 sacked:18 rcv_space:14480 rcv_ssthresh:64088 notsent:234576 minrtt:137.9\n",
      "1726389560.518466 tcp ESTAB 0      0      10.0.0.100:58044 12.1.1.66:4000 users:((\"iperf3\",pid=22225,fd=4)) uid:39791 ino:200687 sk:6e cgroup:unreachable:2010c00000052 <->\n",
      "1726389560.518799"
     ]
    },
    {
     "name": "stderr",
     "output_type": "stream",
     "text": [
      "Failed to open cgroup2 by ID\n"
     ]
    },
    {
     "name": "stdout",
     "output_type": "stream",
     "text": [
      " \t ts sack cubic wscale:12,7 rto:644 rtt:240.283/66.611 ato:40 mss:1448 pmtu:1500 rcvmss:536 advmss:1448 cwnd:10 bytes_sent:162 bytes_acked:163 bytes_received:4 segs_out:9 segs_in:8 data_segs_out:3 data_segs_in:4 send 482098bps lastsnd:2560 lastrcv:1616 lastack:1616 pacing_rate 964192bps delivery_rate 56832bps delivered:4 app_limited busy:676ms rcv_space:14480 rcv_ssthresh:64088 minrtt:203.825                                                                  \n"
     ]
    },
    {
     "name": "stderr",
     "output_type": "stream",
     "text": [
      "Failed to open cgroup2 by ID\n",
      "Failed to open cgroup2 by ID\n",
      "Failed to open cgroup2 by ID\n"
     ]
    },
    {
     "name": "stdout",
     "output_type": "stream",
     "text": [
      "1726389560.844006 tcp ESTAB 0      0      10.0.0.100:57612 12.1.1.130:4000 users:((\"iperf3\",pid=22224,fd=4)) uid:39791 ino:200688 sk:6f cgroup:unreachable:2010c00000052 <->\n",
      "1726389560.844675 \t ts sack cubic wscale:12,7 rto:832 rtt:283.134/109.099 ato:40 mss:1448 pmtu:1500 rcvmss:536 advmss:1448 cwnd:10 bytes_sent:162 bytes_acked:163 bytes_received:4 segs_out:9 segs_in:8 data_segs_out:3 data_segs_in:4 send 409135bps lastsnd:2820 lastrcv:1840 lastack:1840 pacing_rate 818264bps delivery_rate 57064bps delivered:4 app_limited busy:676ms rcv_space:14480 rcv_ssthresh:64088 minrtt:202.988\n",
      "1726389560.845217 tcp ESTAB 0      165072 10.0.0.100:60476 12.1.1.130:4000 users:((\"iperf3\",pid=22224,fd=5)) timer:(on,488ms,0) uid:39791 ino:200946 sk:70 cgroup:unreachable:2010c00000052 <->\n",
      "1726389560.845781 \t ts sack cubic wscale:12,7 rto:616 rtt:232.995/5.514 mss:1448 pmtu:1500 rcvmss:536 advmss:1448 cwnd:6 ssthresh:11 bytes_sent:123117 bytes_retrans:21720 bytes_acked:92710 segs_out:88 segs_in:55 data_segs_out:86 send 298307bps lastsnd:128 lastrcv:2312 lastack:128 pacing_rate 357960bps delivery_rate 333768bps delivered:66 busy:2072ms unacked:6 retrans:2/15 lost:2 rcv_space:14480 rcv_ssthresh:64088 notsent:156384 minrtt:209\n",
      "1726389560.842090 tcp ESTAB 0      459016 10.0.0.100:39064 12.1.1.66:4000 users:((\"iperf3\",pid=22225,fd=5)) timer:(on,224ms,0) uid:39791 ino:200945 sk:71 cgroup:unreachable:2010c00000052 <->\n",
      "1726389560.848371 \t ts sack cubic wscale:12,7 rto:380 rtt:154.07/16.942 mss:1448 pmtu:1500 rcvmss:536 advmss:1448 cwnd:44 ssthresh:41 bytes_sent:550277 bytes_retrans:8688 bytes_acked:477878 segs_out:383 segs_in:280 data_segs_out:381 send 3308211bps lastsnd:16 lastrcv:2440 lastack:16 pacing_rate 3969840bps delivery_rate 2280496bps delivered:332 busy:2168ms unacked:44 retrans:0/6 rcv_space:14480 rcv_ssthresh:64088 notsent:395304 minrtt:137.596\n",
      "1726389560.848710 tcp ESTAB 0      0      10.0.0.100:58044 12.1.1.66:4000 users:((\"iperf3\",pid=22225,fd=4)) uid:39791 ino:200687 sk:6e cgroup:unreachable:2010c00000052 <->\n",
      "1726389560.849022 \t ts sack cubic wscale:12,7 rto:644 rtt:240.283/66.611 ato:40 mss:1448 pmtu:1500 rcvmss:536 advmss:1448 cwnd:10 bytes_sent:162 bytes_acked:163 bytes_received:4 segs_out:9 segs_in:8 data_segs_out:3 data_segs_in:4 send 482098bps lastsnd:2880 lastrcv:1936 lastack:1936 pacing_rate 964192bps delivery_rate 56832bps delivered:4 app_limited busy:676ms rcv_space:14480 rcv_ssthresh:64088 minrtt:203.825                                                   \n"
     ]
    },
    {
     "name": "stderr",
     "output_type": "stream",
     "text": [
      "Failed to open cgroup2 by ID\n",
      "Failed to open cgroup2 by ID\n",
      "Failed to open cgroup2 by ID\n",
      "Failed to open cgroup2 by ID\n"
     ]
    },
    {
     "name": "stdout",
     "output_type": "stream",
     "text": [
      "1726389561.1638591726389561.165910 tcp ESTAB 0      0      10.0.0.100:57612 12.1.1.130:4000 users:((\"iperf3\",pid=22224,fd=4)) uid:39791 ino:200688 sk:6f cgroup:unreachable:2010c00000052 <->\n",
      "1726389561.166666 \t ts sack cubic wscale:12,7 rto:832 rtt:283.134/109.099 ato:40 mss:1448 pmtu:1500 rcvmss:536 advmss:1448 cwnd:10 bytes_sent:162 bytes_acked:163 bytes_received:4 segs_out:9 segs_in:8 data_segs_out:3 data_segs_in:4 send 409135bps lastsnd:3152 lastrcv:2172 lastack:2172 pacing_rate 818264bps delivery_rate 57064bps delivered:4 app_limited busy:676ms rcv_space:14480 rcv_ssthresh:64088 minrtt:202.988\n",
      "1726389561.167190 tcp ESTAB 0      159280 10.0.0.100:60476 12.1.1.130:4000 users:((\"iperf3\",pid=22224,fd=5)) timer:(on,116ms,0) uid:39791 ino:200946 sk:70 cgroup:unreachable:2010c00000052 <->\n",
      "1726389561.167747 \t ts sack cubic wscale:12,7 rto:576 rtt:238.28/8.595 mss:1448 pmtu:1500 rcvmss:536 advmss:1448 cwnd:11 ssthresh:11 bytes_sent:134701 bytes_retrans:21720 bytes_acked:98502 segs_out:96 segs_in:59 data_segs_out:94 send 534766bps lastsnd:216 lastrcv:2644 lastack:216 pacing_rate 641712bps delivery_rate 424496bps delivered:70 busy:2404ms unacked:10 retrans:0/15 rcv_space:14480 rcv_ssthresh:64088 notsent:144800 minrtt:209\n",
      " tcp ESTAB 0      359104 10.0.0.100:39064 12.1.1.66:4000 users:((\"iperf3\",pid=22225,fd=5)) timer:(on,212ms,0) uid:39791 ino:200945 sk:71 cgroup:unreachable:2010c00000052 <->\n",
      "1726389561.170019 \t ts sack cubic wscale:12,7 rto:380 rtt:159.379/16.64 mss:1448 pmtu:1500 rcvmss:536 advmss:1448 cwnd:32 ssthresh:31 bytes_sent:635709 bytes_retrans:13032 bytes_acked:577790 segs_out:442 segs_in:329 data_segs_out:440 send 2325827bps lastsnd:64 lastrcv:2772 lastack:68 pacing_rate 2790976bps delivery_rate 2144008bps delivered:401 busy:2500ms unacked:31 retrans:0/9 rcv_space:14480 rcv_ssthresh:64088 notsent:314216 minrtt:104.11\n",
      "1726389561.170465 tcp ESTAB 0      0      10.0.0.100:58044 12.1.1.66:4000 users:((\"iperf3\",pid=22225,fd=4)) uid:39791 ino:200687 sk:6e cgroup:unreachable:2010c00000052 <->\n",
      "1726389561.170788 \t ts sack cubic wscale:12,7 rto:644 rtt:240.283/66.611 ato:40 mss:1448 pmtu:1500 rcvmss:536 advmss:1448 cwnd:10 bytes_sent:162 bytes_acked:163 bytes_received:4 segs_out:9 segs_in:8 data_segs_out:3 data_segs_in:4 send 482098bps lastsnd:3212 lastrcv:2268 lastack:2268 pacing_rate 964192bps delivery_rate 56832bps delivered:4 app_limited busy:676ms rcv_space:14480 rcv_ssthresh:64088 minrtt:203.825                                                   \n"
     ]
    },
    {
     "name": "stderr",
     "output_type": "stream",
     "text": [
      "Failed to open cgroup2 by ID\n",
      "Failed to open cgroup2 by ID\n",
      "Failed to open cgroup2 by ID\n",
      "Failed to open cgroup2 by ID\n"
     ]
    },
    {
     "name": "stdout",
     "output_type": "stream",
     "text": [
      "1726389561.4883601726389561.489314 tcp ESTAB 0      460464 10.0.0.100:39064 12.1.1.66:4000 users:((\"iperf3\",pid=22225,fd=5)) timer:(on,244ms,0) uid:39791 ino:200945 sk:71 cgroup:unreachable:2010c00000052 <->\n",
      "1726389561.489951 \t ts sack cubic wscale:12,7 rto:392 rtt:181.264/18.849 mss:1448 pmtu:1500 rcvmss:536 advmss:1448 cwnd:34 ssthresh:31 bytes_sent:732725 bytes_retrans:13032 bytes_acked:671910 segs_out:509 segs_in:362 data_segs_out:507 send 2172831bps lastsnd:8 lastrcv:3096 lastack:12 pacing_rate 2607384bps delivery_rate 2135912bps delivered:466 busy:2824ms unacked:33 retrans:0/9 rcv_space:14480 rcv_ssthresh:64088 notsent:412680 minrtt:104.11\n",
      "1726389561.490629 tcp ESTAB 0      0      10.0.0.100:58044 12.1.1.66:4000 users:((\"iperf3\",pid=22225,fd=4)) uid:39791 ino:200687 sk:6e cgroup:unreachable:2010c00000052 <->\n",
      "1726389561.491367 tcp ESTAB 0      0      10.0.0.100:57612 12.1.1.130:4000 users:((\"iperf3\",pid=22224,fd=4)) uid:39791 ino:200688 sk:6f cgroup:unreachable:2010c00000052 <->\n",
      "1726389561.492049 \t ts sack cubic wscale:12,7 rto:644 rtt:240.283/66.611 ato:40 mss:1448 pmtu:1500 rcvmss:536 advmss:1448 cwnd:10 bytes_sent:162 bytes_acked:163 bytes_received:4 segs_out:9 segs_in:8 data_segs_out:3 data_segs_in:4 send 482098bps lastsnd:3536 lastrcv:2592 lastack:2592 pacing_rate 964192bps delivery_rate 56832bps delivered:4 app_limited busy:676ms rcv_space:14480 rcv_ssthresh:64088 minrtt:203.825                                                   \n",
      " \t ts sack cubic wscale:12,7 rto:832 rtt:283.134/109.099 ato:40 mss:1448 pmtu:1500 rcvmss:536 advmss:1448 cwnd:10 bytes_sent:162 bytes_acked:163 bytes_received:4 segs_out:9 segs_in:8 data_segs_out:3 data_segs_in:4 send 409135bps lastsnd:3472 lastrcv:2492 lastack:2492 pacing_rate 818264bps delivery_rate 57064bps delivered:4 app_limited busy:676ms rcv_space:14480 rcv_ssthresh:64088 minrtt:202.988\n",
      "1726389561.494095 tcp ESTAB 0      137560 10.0.0.100:60476 12.1.1.130:4000 users:((\"iperf3\",pid=22224,fd=5)) timer:(on,444ms,0) uid:39791 ino:200946 sk:70 cgroup:unreachable:2010c00000052 <->\n",
      "1726389561.494703 \t ts sack cubic wscale:12,7 rto:544 rtt:241.624/1.72 mss:1448 pmtu:1500 rcvmss:536 advmss:1448 cwnd:7 ssthresh:7 bytes_sent:154973 bytes_retrans:24616 bytes_acked:120222 segs_out:110 segs_in:74 data_segs_out:108 send 335596bps lastsnd:48 lastrcv:2964 lastack:48 pacing_rate 402712bps delivery_rate 330304bps delivered:85 busy:2724ms unacked:7 retrans:0/17 rcv_space:14480 rcv_ssthresh:64088 notsent:127424 minrtt:209\n"
     ]
    },
    {
     "name": "stderr",
     "output_type": "stream",
     "text": [
      "Failed to open cgroup2 by ID\n",
      "Failed to open cgroup2 by ID\n",
      "Failed to open cgroup2 by ID\n",
      "Failed to open cgroup2 by ID\n"
     ]
    },
    {
     "name": "stdout",
     "output_type": "stream",
     "text": [
      "1726389561.807938 tcp ESTAB 0      395304 10.0.0.100:39064 12.1.1.66:4000 users:((\"iperf3\",pid=22225,fd=5)) timer:(on,156ms,0) uid:39791 ino:200945 sk:71 cgroup:unreachable:2010c00000052 <->\n",
      "1726389561.810552 \t ts sack cubic wscale:12,7 rto:384 rtt:177.287/8.694 mss:1448 pmtu:1500 rcvmss:536 advmss:1448 cwnd:36 ssthresh:31 bytes_sent:800781 bytes_retrans:13032 bytes_acked:737070 segs_out:556 segs_in:385 data_segs_out:554 send 2352254bps lastsnd:56 lastrcv:3424 lastack:60 pacing_rate 2822688bps delivery_rate 1857904bps delivered:511 busy:3152ms unacked:35 retrans:0/9 rcv_space:14480 rcv_ssthresh:64088 notsent:344624 minrtt:104.11\n",
      "1726389561.811165 tcp ESTAB 0      0      10.0.0.100:58044 12.1.1.66:4000 users:((\"iperf3\",pid=22225,fd=4)) uid:39791 ino:200687 sk:6e cgroup:unreachable:2010c00000052 <->\n",
      "1726389561.811670 \t ts sack cubic wscale:12,7 rto:644 rtt:240.283/66.611 ato:40 mss:1448 pmtu:1500 rcvmss:536 advmss:1448 cwnd:10 bytes_sent:162 bytes_acked:163 bytes_received:4 segs_out:9 segs_in:8 data_segs_out:3 data_segs_in:4 send 482098bps lastsnd:3864 lastrcv:2920 lastack:2920 pacing_rate 964192bps delivery_rate 56832bps delivered:4 app_limited busy:676ms rcv_space:14480 rcv_ssthresh:64088 minrtt:203.825                                                   \n",
      "1726389561.814191 tcp ESTAB 0      0      10.0.0.100:57612 12.1.1.130:4000 users:((\"iperf3\",pid=22224,fd=4)) uid:39791 ino:200688 sk:6f cgroup:unreachable:2010c00000052 <->\n",
      "1726389561.815410 \t ts sack cubic wscale:12,7 rto:832 rtt:283.134/109.099 ato:40 mss:1448 pmtu:1500 rcvmss:536 advmss:1448 cwnd:10 bytes_sent:162 bytes_acked:163 bytes_received:4 segs_out:9 segs_in:8 data_segs_out:3 data_segs_in:4 send 409135bps lastsnd:3792 lastrcv:2812 lastack:2812 pacing_rate 818264bps delivery_rate 57064bps delivered:4 app_limited busy:676ms rcv_space:14480 rcv_ssthresh:64088 minrtt:202.988\n",
      "1726389561.815747 tcp ESTAB 0      127424 10.0.0.100:60476 12.1.1.130:4000 users:((\"iperf3\",pid=22224,fd=5)) timer:(on,368ms,0) uid:39791 ino:200946 sk:70 cgroup:unreachable:2010c00000052 <->\n",
      "1726389561.816068 \t ts sack cubic wscale:12,7 rto:520 rtt:241.919/0.433 mss:1448 pmtu:1500 rcvmss:536 advmss:1448 cwnd:10 ssthresh:7 bytes_sent:169453 bytes_retrans:24616 bytes_acked:130358 segs_out:120 segs_in:81 data_segs_out:118 send 478838bps lastsnd:124 lastrcv:3284 lastack:128 pacing_rate 574600bps delivery_rate 334760bps delivered:92 busy:3044ms unacked:10 retrans:0/17 rcv_space:14480 rcv_ssthresh:64088 notsent:112944 minrtt:209\n"
     ]
    },
    {
     "name": "stderr",
     "output_type": "stream",
     "text": [
      "Failed to open cgroup2 by ID\n",
      "Failed to open cgroup2 by ID\n",
      "Failed to open cgroup2 by ID\n",
      "Failed to open cgroup2 by ID\n"
     ]
    },
    {
     "name": "stdout",
     "output_type": "stream",
     "text": [
      "1726389562.1298161726389562.133692 tcp ESTAB 0      0      10.0.0.100:57612 12.1.1.130:4000 users:((\"iperf3\",pid=22224,fd=4)) uid:39791 ino:200688 sk:6f cgroup:unreachable:2010c00000052 <->\n",
      "1726389562.134406 \t ts sack cubic wscale:12,7 rto:832 rtt:283.134/109.099 ato:40 mss:1448 pmtu:1500 rcvmss:536 advmss:1448 cwnd:10 bytes_sent:162 bytes_acked:163 bytes_received:4 segs_out:9 segs_in:8 data_segs_out:3 data_segs_in:4 send 409135bps lastsnd:4112 lastrcv:3132 lastack:3132 pacing_rate 818264bps delivery_rate 57064bps delivered:4 app_limited busy:676ms rcv_space:14480 rcv_ssthresh:64088 minrtt:202.988\n",
      "1726389562.134998 tcp ESTAB 0      202720 10.0.0.100:60476 12.1.1.130:4000 users:((\"iperf3\",pid=22224,fd=5)) timer:(on,296ms,0) uid:39791 ino:200946 sk:70 cgroup:unreachable:2010c00000052 <->\n",
      "1726389562.135566 \t ts sack cubic wscale:12,7 rto:504 rtt:242.935/0.513 mss:1448 pmtu:1500 rcvmss:536 advmss:1448 cwnd:10 ssthresh:7 bytes_sent:183933 bytes_retrans:24616 bytes_acked:144838 segs_out:130 segs_in:91 data_segs_out:128 send 476835bps lastsnd:200 lastrcv:3604 lastack:204 pacing_rate 572200bps delivery_rate 474792bps delivered:102 busy:3364ms unacked:10 retrans:0/17 rcv_space:14480 rcv_ssthresh:64088 notsent:188240 minrtt:209\n",
      " tcp ESTAB 0      334488 10.0.0.100:39064 12.1.1.66:4000 users:((\"iperf3\",pid=22225,fd=5)) timer:(on,344ms,0) uid:39791 ino:200945 sk:71 cgroup:unreachable:2010c00000052 <->\n",
      "1726389562.137855 \t ts sack cubic wscale:12,7 rto:376 rtt:169.458/4.446 mss:1448 pmtu:1500 rcvmss:536 advmss:1448 cwnd:25 ssthresh:25 bytes_sent:889109 bytes_retrans:15928 bytes_acked:797886 segs_out:617 segs_in:418 data_segs_out:615 send 1708978bps lastsnd:32 lastrcv:3744 lastack:32 pacing_rate 3527320bps delivery_rate 2745608bps delivered:580 busy:3472ms unacked:52 retrans:2/11 lost:2 sacked:27 rcv_space:14480 rcv_ssthresh:64088 notsent:259192 minrtt:104.11\n",
      "1726389562.138196 tcp ESTAB 0      0      10.0.0.100:58044 12.1.1.66:4000 users:((\"iperf3\",pid=22225,fd=4)) uid:39791 ino:200687 sk:6e cgroup:unreachable:2010c00000052 <->\n",
      "1726389562.138639 \t ts sack cubic wscale:12,7 rto:644 rtt:240.283/66.611 ato:40 mss:1448 pmtu:1500 rcvmss:536 advmss:1448 cwnd:10 bytes_sent:162 bytes_acked:163 bytes_received:4 segs_out:9 segs_in:8 data_segs_out:3 data_segs_in:4 send 482098bps lastsnd:4184 lastrcv:3240 lastack:3240 pacing_rate 964192bps delivery_rate 56832bps delivered:4 app_limited busy:676ms rcv_space:14480 rcv_ssthresh:64088 minrtt:203.825                                                                     \n"
     ]
    },
    {
     "name": "stderr",
     "output_type": "stream",
     "text": [
      "Failed to open cgroup2 by ID\n",
      "Failed to open cgroup2 by ID\n",
      "Failed to open cgroup2 by ID\n",
      "Failed to open cgroup2 by ID\n"
     ]
    },
    {
     "name": "stdout",
     "output_type": "stream",
     "text": [
      "1726389562.4521751726389562.455958 tcp ESTAB 0      0      10.0.0.100:57612 12.1.1.130:4000 users:((\"iperf3\",pid=22224,fd=4)) uid:39791 ino:200688 sk:6f cgroup:unreachable:2010c00000052 <->\n",
      "1726389562.456633 \t ts sack cubic wscale:12,7 rto:832 rtt:283.134/109.099 ato:40 mss:1448 pmtu:1500 rcvmss:536 advmss:1448 cwnd:10 bytes_sent:162 bytes_acked:163 bytes_received:4 segs_out:9 segs_in:8 data_segs_out:3 data_segs_in:4 send 409135bps lastsnd:4440 lastrcv:3460 lastack:3460 pacing_rate 818264bps delivery_rate 57064bps delivered:4 app_limited busy:676ms rcv_space:14480 rcv_ssthresh:64088 minrtt:202.988\n",
      "1726389562.457251 tcp ESTAB 0      173760 10.0.0.100:60476 12.1.1.130:4000 users:((\"iperf3\",pid=22224,fd=5)) timer:(on,428ms,0) uid:39791 ino:200946 sk:70 cgroup:unreachable:2010c00000052 <->\n",
      "1726389562.457805 \t ts sack cubic wscale:12,7 rto:476 rtt:241.346/0.289 mss:1448 pmtu:1500 rcvmss:536 advmss:1448 cwnd:10 ssthresh:7 bytes_sent:212893 bytes_retrans:24616 bytes_acked:173798 segs_out:150 segs_in:111 data_segs_out:148 send 479975bps lastsnd:48 lastrcv:3932 lastack:48 pacing_rate 575968bps delivery_rate 479280bps delivered:122 busy:3692ms unacked:10 retrans:0/17 rcv_space:14480 rcv_ssthresh:64088 notsent:159280 minrtt:209\n",
      " tcp ESTAB 0      498112 10.0.0.100:39064 12.1.1.66:4000 users:((\"iperf3\",pid=22225,fd=5)) timer:(on,288ms,0) uid:39791 ino:200945 sk:71 cgroup:unreachable:2010c00000052 <->\n",
      "1726389562.460268 \t ts sack cubic wscale:12,7 rto:368 rtt:163.054/19.947 mss:1448 pmtu:1500 rcvmss:536 advmss:1448 cwnd:17 ssthresh:17 bytes_sent:938341 bytes_retrans:18824 bytes_acked:894902 segs_out:651 segs_in:436 data_segs_out:649 send 1207747bps lastsnd:80 lastrcv:4064 lastack:80 pacing_rate 1449288bps delivery_rate 1543432bps delivered:620 busy:3792ms unacked:17 retrans:0/13 rcv_space:14480 rcv_ssthresh:64088 notsent:473496 minrtt:101.98\n",
      "1726389562.461300 tcp ESTAB 0      0      10.0.0.100:58044 12.1.1.66:4000 users:((\"iperf3\",pid=22225,fd=4)) uid:39791 ino:200687 sk:6e cgroup:unreachable:2010c00000052 <->\n",
      "1726389562.461626 \t ts sack cubic wscale:12,7 rto:644 rtt:240.283/66.611 ato:40 mss:1448 pmtu:1500 rcvmss:536 advmss:1448 cwnd:10 bytes_sent:162 bytes_acked:163 bytes_received:4 segs_out:9 segs_in:8 data_segs_out:3 data_segs_in:4 send 482098bps lastsnd:4504 lastrcv:3560 lastack:3560 pacing_rate 964192bps delivery_rate 56832bps delivered:4 app_limited busy:676ms rcv_space:14480 rcv_ssthresh:64088 minrtt:203.825                                                     \n"
     ]
    },
    {
     "name": "stderr",
     "output_type": "stream",
     "text": [
      "Failed to open cgroup2 by ID\n",
      "Failed to open cgroup2 by ID\n",
      "Failed to open cgroup2 by ID\n",
      "Failed to open cgroup2 by ID\n"
     ]
    },
    {
     "name": "stdout",
     "output_type": "stream",
     "text": [
      "1726389562.7748831726389562.775649 tcp ESTAB 0      448880 10.0.0.100:39064 12.1.1.66:4000 users:((\"iperf3\",pid=22225,fd=5)) timer:(on,336ms,0) uid:39791 ino:200945 sk:71 cgroup:unreachable:2010c00000052 <->\n",
      "1726389562.776305 tcp ESTAB 0      0      10.0.0.100:57612 12.1.1.130:4000 users:((\"iperf3\",pid=22224,fd=4)) uid:39791 ino:200688 sk:6f cgroup:unreachable:2010c00000052 <->\n",
      "1726389562.776838 \t ts sack cubic wscale:12,7 rto:392 rtt:187.708/18.468 mss:1448 pmtu:1500 rcvmss:536 advmss:1448 cwnd:19 ssthresh:17 bytes_sent:990469 bytes_retrans:18824 bytes_acked:944134 segs_out:687 segs_in:454 data_segs_out:685 send 1172545bps lastsnd:24 lastrcv:4388 lastack:28 pacing_rate 1407040bps delivery_rate 965280bps delivered:654 busy:4116ms unacked:19 retrans:0/13 rcv_space:14480 rcv_ssthresh:64088 notsent:421368 minrtt:101.98\n",
      "1726389562.777434 \t ts sack cubic wscale:12,7 rto:832 rtt:283.134/109.099 ato:40 mss:1448 pmtu:1500 rcvmss:536 advmss:1448 cwnd:10 bytes_sent:162 bytes_acked:163 bytes_received:4 segs_out:9 segs_in:8 data_segs_out:3 data_segs_in:4 send 409135bps lastsnd:4748 lastrcv:3768 lastack:3768 pacing_rate 818264bps delivery_rate 57064bps delivered:4 app_limited busy:676ms rcv_space:14480 rcv_ssthresh:64088 minrtt:202.988\n",
      "1726389562.778023 tcp ESTAB 0      0      10.0.0.100:58044 12.1.1.66:4000 users:((\"iperf3\",pid=22225,fd=4)) uid:39791 ino:200687 sk:6e cgroup:unreachable:2010c00000052 <->\n",
      "1726389562.778660 tcp ESTAB 0      159280 10.0.0.100:60476 12.1.1.130:4000 users:((\"iperf3\",pid=22224,fd=5)) timer:(on,352ms,0) uid:39791 ino:200946 sk:70 cgroup:unreachable:2010c00000052 <->\n",
      "1726389562.779222 \t ts sack cubic wscale:12,7 rto:644 rtt:240.283/66.611 ato:40 mss:1448 pmtu:1500 rcvmss:536 advmss:1448 cwnd:10 bytes_sent:162 bytes_acked:163 bytes_received:4 segs_out:9 segs_in:8 data_segs_out:3 data_segs_in:4 send 482098bps lastsnd:4828 lastrcv:3884 lastack:3884 pacing_rate 964192bps delivery_rate 56832bps delivered:4 app_limited busy:676ms rcv_space:14480 rcv_ssthresh:64088 minrtt:203.825                                                    \n",
      " \t ts sack cubic wscale:12,7 rto:468 rtt:240.129/0.474 mss:1448 pmtu:1500 rcvmss:536 advmss:1448 cwnd:10 ssthresh:7 bytes_sent:227373 bytes_retrans:24616 bytes_acked:188278 segs_out:160 segs_in:121 data_segs_out:158 send 482407bps lastsnd:116 lastrcv:4240 lastack:116 pacing_rate 578888bps delivery_rate 479512bps delivered:132 busy:4000ms unacked:10 retrans:0/17 rcv_space:14480 rcv_ssthresh:64088 notsent:144800 minrtt:209\n"
     ]
    },
    {
     "name": "stderr",
     "output_type": "stream",
     "text": [
      "Failed to open cgroup2 by ID\n",
      "Failed to open cgroup2 by ID\n",
      "Failed to open cgroup2 by ID\n",
      "Failed to open cgroup2 by ID\n"
     ]
    },
    {
     "name": "stdout",
     "output_type": "stream",
     "text": [
      "1726389563.0970071726389563.098618 tcp ESTAB 0      445984 10.0.0.100:39064 12.1.1.66:4000 users:((\"iperf3\",pid=22225,fd=5)) timer:(on,292ms,0) uid:39791 ino:200945 sk:71 cgroup:unreachable:2010c00000052 <->\n",
      "1726389563.099279 \t ts sack cubic wscale:12,7 rto:428 rtt:224.876/21.416 mss:1448 pmtu:1500 rcvmss:536 advmss:1448 cwnd:13 ssthresh:13 bytes_sent:1009293 bytes_retrans:20272 bytes_acked:947030 segs_out:700 segs_in:464 data_segs_out:698 send 669667bps lastsnd:136 lastrcv:4708 lastack:140 pacing_rate 1298112bps delivery_rate 1005480bps delivered:672 busy:4436ms unacked:29 retrans:1/14 lost:1 sacked:16 rcv_space:14480 rcv_ssthresh:64088 notsent:403992 minrtt:101.98\n",
      "1726389563.099809 tcp ESTAB 0      0      10.0.0.100:58044 12.1.1.66:4000 users:((\"iperf3\",pid=22225,fd=4)) uid:39791 ino:200687 sk:6e cgroup:unreachable:2010c00000052 <->\n",
      "1726389563.100318 tcp ESTAB 0      0      10.0.0.100:57612 12.1.1.130:4000 users:((\"iperf3\",pid=22224,fd=4)) uid:39791 ino:200688 sk:6f cgroup:unreachable:2010c00000052 <->\n",
      "1726389563.100926 \t ts sack cubic wscale:12,7 rto:644 rtt:240.283/66.611 ato:40 mss:1448 pmtu:1500 rcvmss:536 advmss:1448 cwnd:10 bytes_sent:162 bytes_acked:163 bytes_received:4 segs_out:9 segs_in:8 data_segs_out:3 data_segs_in:4 send 482098bps lastsnd:5148 lastrcv:4204 lastack:4204 pacing_rate 964192bps delivery_rate 56832bps delivered:4 app_limited busy:676ms rcv_space:14480 rcv_ssthresh:64088 minrtt:203.825                                                                        \n",
      " \t ts sack cubic wscale:12,7 rto:832 rtt:283.134/109.099 ato:40 mss:1448 pmtu:1500 rcvmss:536 advmss:1448 cwnd:10 bytes_sent:162 bytes_acked:163 bytes_received:4 segs_out:9 segs_in:8 data_segs_out:3 data_segs_in:4 send 409135bps lastsnd:5076 lastrcv:4096 lastack:4096 pacing_rate 818264bps delivery_rate 57064bps delivered:4 app_limited busy:676ms rcv_space:14480 rcv_ssthresh:64088 minrtt:202.988\n",
      "1726389563.102542 tcp ESTAB 0      144800 10.0.0.100:60476 12.1.1.130:4000 users:((\"iperf3\",pid=22224,fd=5)) timer:(on,256ms,0) uid:39791 ino:200946 sk:70 cgroup:unreachable:2010c00000052 <->\n",
      "1726389563.103107 \t ts sack cubic wscale:12,7 rto:460 rtt:239.171/0.553 mss:1448 pmtu:1500 rcvmss:536 advmss:1448 cwnd:10 ssthresh:7 bytes_sent:241853 bytes_retrans:24616 bytes_acked:202758 segs_out:170 segs_in:131 data_segs_out:168 send 484340bps lastsnd:204 lastrcv:4568 lastack:204 pacing_rate 581200bps delivery_rate 482104bps delivered:142 busy:4328ms unacked:10 retrans:0/17 rcv_space:14480 rcv_ssthresh:64088 notsent:130320 minrtt:209\n"
     ]
    },
    {
     "name": "stderr",
     "output_type": "stream",
     "text": [
      "Failed to open cgroup2 by ID\n",
      "Failed to open cgroup2 by ID\n",
      "Failed to open cgroup2 by ID\n",
      "Failed to open cgroup2 by ID\n"
     ]
    },
    {
     "name": "stdout",
     "output_type": "stream",
     "text": [
      "1726389563.4167981726389563.417626 tcp ESTAB 0      0      10.0.0.100:57612 12.1.1.130:4000 users:((\"iperf3\",pid=22224,fd=4)) uid:39791 ino:200688 sk:6f cgroup:unreachable:2010c00000052 <->\n",
      "1726389563.418366 tcp ESTAB 0      386616 10.0.0.100:39064 12.1.1.66:4000 users:((\"iperf3\",pid=22225,fd=5)) timer:(on,200ms,0) uid:39791 ino:200945 sk:71 cgroup:unreachable:2010c00000052 <->\n",
      "1726389563.418932 \t ts sack cubic wscale:12,7 rto:832 rtt:283.134/109.099 ato:40 mss:1448 pmtu:1500 rcvmss:536 advmss:1448 cwnd:10 bytes_sent:162 bytes_acked:163 bytes_received:4 segs_out:9 segs_in:8 data_segs_out:3 data_segs_in:4 send 409135bps lastsnd:5400 lastrcv:4420 lastack:4420 pacing_rate 818264bps delivery_rate 57064bps delivered:4 app_limited busy:676ms rcv_space:14480 rcv_ssthresh:64088 minrtt:202.988\n",
      "1726389563.419492 \t ts sack cubic wscale:12,7 rto:420 rtt:217.015/11.727 mss:1448 pmtu:1500 rcvmss:536 advmss:1448 cwnd:16 ssthresh:13 bytes_sent:1048389 bytes_retrans:20272 bytes_acked:1006398 segs_out:727 segs_in:476 data_segs_out:725 send 854061bps lastsnd:16 lastrcv:5032 lastack:20 pacing_rate 1024864bps delivery_rate 585384bps delivered:697 busy:4760ms unacked:15 retrans:0/14 rcv_space:14480 rcv_ssthresh:64088 notsent:364896 minrtt:101.98\n",
      "1726389563.420165 tcp ESTAB 0      246160 10.0.0.100:60476 12.1.1.130:4000 users:((\"iperf3\",pid=22224,fd=5)) timer:(on,404ms,0) uid:39791 ino:200946 sk:70 cgroup:unreachable:2010c00000052 <->\n",
      "1726389563.420763 tcp ESTAB 0      0      10.0.0.100:58044 12.1.1.66:4000 users:((\"iperf3\",pid=22225,fd=4)) uid:39791 ino:200687 sk:6e cgroup:unreachable:2010c00000052 <->\n",
      "1726389563.421314 \t ts sack cubic wscale:12,7 rto:452 rtt:238.733/0.421 mss:1448 pmtu:1500 rcvmss:536 advmss:1448 cwnd:12 ssthresh:7 bytes_sent:273709 bytes_retrans:24616 bytes_acked:231718 segs_out:192 segs_in:151 data_segs_out:190 send 582274bps lastsnd:48 lastrcv:4892 lastack:48 pacing_rate 698720bps delivery_rate 482216bps delivered:162 busy:4652ms unacked:12 retrans:0/17 rcv_space:14480 rcv_ssthresh:64088 notsent:228784 minrtt:209\n",
      " \t ts sack cubic wscale:12,7 rto:644 rtt:240.283/66.611 ato:40 mss:1448 pmtu:1500 rcvmss:536 advmss:1448 cwnd:10 bytes_sent:162 bytes_acked:163 bytes_received:4 segs_out:9 segs_in:8 data_segs_out:3 data_segs_in:4 send 482098bps lastsnd:5472 lastrcv:4528 lastack:4528 pacing_rate 964192bps delivery_rate 56832bps delivered:4 app_limited busy:676ms rcv_space:14480 rcv_ssthresh:64088 minrtt:203.825                                                     \n"
     ]
    },
    {
     "name": "stderr",
     "output_type": "stream",
     "text": [
      "Failed to open cgroup2 by ID\n",
      "Failed to open cgroup2 by ID\n",
      "Failed to open cgroup2 by ID\n",
      "Failed to open cgroup2 by ID\n"
     ]
    },
    {
     "name": "stdout",
     "output_type": "stream",
     "text": [
      "1726389563.735360 tcp ESTAB 0      0      10.0.0.100:57612 12.1.1.130:4000 users:((\"iperf3\",pid=22224,fd=4)) uid:39791 ino:200688 sk:6f cgroup:unreachable:2010c00000052 <->\n",
      "1726389563.738560 \t ts sack cubic wscale:12,7 rto:832 rtt:283.134/109.099 ato:40 mss:1448 pmtu:1500 rcvmss:536 advmss:1448 cwnd:10 bytes_sent:162 bytes_acked:163 bytes_received:4 segs_out:9 segs_in:8 data_segs_out:3 data_segs_in:4 send 409135bps lastsnd:5724 lastrcv:4744 lastack:4744 pacing_rate 818264bps delivery_rate 57064bps delivered:4 app_limited busy:676ms rcv_space:14480 rcv_ssthresh:64088 minrtt:202.988\n",
      "1726389563.739147 tcp ESTAB 0      228784 10.0.0.100:60476 12.1.1.130:4000 users:((\"iperf3\",pid=22224,fd=5)) timer:(on,316ms,0) uid:39791 ino:200946 sk:70 cgroup:unreachable:2010c00000052 <->\n",
      "1726389563.739670 \t ts sack cubic wscale:12,7 rto:448 rtt:238/0.329 mss:1448 pmtu:1500 rcvmss:536 advmss:1448 cwnd:12 ssthresh:7 bytes_sent:291085 bytes_retrans:24616 bytes_acked:249094 segs_out:204 segs_in:163 data_segs_out:202 send 584067bps lastsnd:132 lastrcv:5216 lastack:136 pacing_rate 700872bps delivery_rate 581856bps delivered:174 busy:4976ms unacked:12 retrans:0/17 rcv_space:14480 rcv_ssthresh:64088 notsent:211408 minrtt:209\n",
      "1726389563.743711 tcp ESTAB 0      362000 10.0.0.100:39064 12.1.1.66:4000 users:((\"iperf3\",pid=22225,fd=5)) timer:(on,336ms,0) uid:39791 ino:200945 sk:71 cgroup:unreachable:2010c00000052 <->\n",
      "1726389563.744343 \t ts sack cubic wscale:12,7 rto:432 rtt:227.948/11.793 mss:1448 pmtu:1500 rcvmss:536 advmss:1448 cwnd:16 ssthresh:13 bytes_sent:1074453 bytes_retrans:20272 bytes_acked:1031014 segs_out:745 segs_in:485 data_segs_out:743 send 813098bps lastsnd:96 lastrcv:5348 lastack:96 pacing_rate 975712bps delivery_rate 781672bps delivered:714 busy:5076ms unacked:16 retrans:0/14 rcv_space:14480 rcv_ssthresh:64088 notsent:338832 minrtt:101.98\n",
      "1726389563.744946 tcp ESTAB 0      0      10.0.0.100:58044 12.1.1.66:4000 users:((\"iperf3\",pid=22225,fd=4)) uid:39791 ino:200687 sk:6e cgroup:unreachable:2010c00000052 <->\n",
      "1726389563.745490 \t ts sack cubic wscale:12,7 rto:644 rtt:240.283/66.611 ato:40 mss:1448 pmtu:1500 rcvmss:536 advmss:1448 cwnd:10 bytes_sent:162 bytes_acked:163 bytes_received:4 segs_out:9 segs_in:8 data_segs_out:3 data_segs_in:4 send 482098bps lastsnd:5788 lastrcv:4844 lastack:4844 pacing_rate 964192bps delivery_rate 56832bps delivered:4 app_limited busy:676ms rcv_space:14480 rcv_ssthresh:64088 minrtt:203.825                                                    \n"
     ]
    },
    {
     "name": "stderr",
     "output_type": "stream",
     "text": [
      "Failed to open cgroup2 by ID\n",
      "Failed to open cgroup2 by ID\n",
      "Failed to open cgroup2 by ID\n",
      "Failed to open cgroup2 by ID\n"
     ]
    },
    {
     "name": "stdout",
     "output_type": "stream",
     "text": [
      "1726389564.057359 tcp ESTAB 0      338832 10.0.0.100:39064 12.1.1.66:4000 users:((\"iperf3\",pid=22225,fd=5)) timer:(on,260ms,0) uid:39791 ino:200945 sk:71 cgroup:unreachable:2010c00000052 <->\n",
      "1726389564.062573 \t ts sack cubic wscale:12,7 rto:436 rtt:234.164/5.449 mss:1448 pmtu:1500 rcvmss:536 advmss:1448 cwnd:16 ssthresh:13 bytes_sent:1097621 bytes_retrans:20272 bytes_acked:1054182 segs_out:761 segs_in:493 data_segs_out:759 send 791514bps lastsnd:176 lastrcv:5668 lastack:176 pacing_rate 949808bps delivery_rate 777392bps delivered:730 busy:5396ms unacked:16 retrans:0/14 rcv_space:14480 rcv_ssthresh:64088 notsent:315664 minrtt:101.98\n",
      "1726389564.063135 tcp ESTAB 0      0      10.0.0.100:58044 12.1.1.66:4000 users:((\"iperf3\",pid=22225,fd=4)) uid:39791 ino:200687 sk:6e cgroup:unreachable:2010c00000052 <->\n",
      "1726389564.063701 \t ts sack cubic wscale:12,7 rto:644 rtt:240.283/66.611 ato:40 mss:1448 pmtu:1500 rcvmss:536 advmss:1448 cwnd:10 bytes_sent:162 bytes_acked:163 bytes_received:4 segs_out:9 segs_in:8 data_segs_out:3 data_segs_in:4 send 482098bps lastsnd:6108 lastrcv:5164 lastack:5164 pacing_rate 964192bps delivery_rate 56832bps delivered:4 app_limited busy:676ms rcv_space:14480 rcv_ssthresh:64088 minrtt:203.825                                                     \n",
      "1726389564.067581 tcp ESTAB 0      0      10.0.0.100:57612 12.1.1.130:4000 users:((\"iperf3\",pid=22224,fd=4)) uid:39791 ino:200688 sk:6f cgroup:unreachable:2010c00000052 <->\n",
      "1726389564.067990 \t ts sack cubic wscale:12,7 rto:832 rtt:283.134/109.099 ato:40 mss:1448 pmtu:1500 rcvmss:536 advmss:1448 cwnd:10 bytes_sent:162 bytes_acked:163 bytes_received:4 segs_out:9 segs_in:8 data_segs_out:3 data_segs_in:4 send 409135bps lastsnd:6044 lastrcv:5064 lastack:5064 pacing_rate 818264bps delivery_rate 57064bps delivered:4 app_limited busy:676ms rcv_space:14480 rcv_ssthresh:64088 minrtt:202.988\n",
      "1726389564.068290 tcp ESTAB 0      211408 10.0.0.100:60476 12.1.1.130:4000 users:((\"iperf3\",pid=22224,fd=5)) timer:(on,236ms,0) uid:39791 ino:200946 sk:70 cgroup:unreachable:2010c00000052 <->\n",
      "1726389564.068576 \t ts sack cubic wscale:12,7 rto:448 rtt:238.86/0.414 mss:1448 pmtu:1500 rcvmss:536 advmss:1448 cwnd:12 ssthresh:7 bytes_sent:308461 bytes_retrans:24616 bytes_acked:266470 segs_out:216 segs_in:175 data_segs_out:214 send 581964bps lastsnd:212 lastrcv:5536 lastack:216 pacing_rate 698352bps delivery_rate 579816bps delivered:186 busy:5296ms unacked:12 retrans:0/17 rcv_space:14480 rcv_ssthresh:64088 notsent:194032 minrtt:209\n"
     ]
    },
    {
     "name": "stderr",
     "output_type": "stream",
     "text": [
      "Failed to open cgroup2 by ID\n",
      "Failed to open cgroup2 by ID\n",
      "Failed to open cgroup2 by ID\n",
      "Failed to open cgroup2 by ID\n"
     ]
    },
    {
     "name": "stdout",
     "output_type": "stream",
     "text": [
      "1726389564.3809561726389564.383384 tcp ESTAB 0      335936 10.0.0.100:39064 12.1.1.66:4000 users:((\"iperf3\",pid=22225,fd=5)) timer:(on,420ms,0) uid:39791 ino:200945 sk:71 cgroup:unreachable:2010c00000052 <->\n",
      "1726389564.384130 \t ts sack cubic wscale:12,7 rto:440 rtt:237.532/2.919 mss:1448 pmtu:1500 rcvmss:536 advmss:1448 cwnd:11 ssthresh:11 bytes_sent:1117893 bytes_retrans:26064 bytes_acked:1057078 segs_out:775 segs_in:501 data_segs_out:773 send 536450bps lastsnd:20 lastrcv:5988 lastack:20 pacing_rate 1228952bps delivery_rate 532304bps delivered:745 busy:5716ms unacked:24 retrans:4/18 lost:4 sacked:13 rcv_space:14480 rcv_ssthresh:64088 notsent:301184 minrtt:101.98\n",
      "1726389564.384813 tcp ESTAB 0      0      10.0.0.100:57612 12.1.1.130:4000 users:((\"iperf3\",pid=22224,fd=4)) uid:39791 ino:200688 sk:6f cgroup:unreachable:2010c00000052 <->\n",
      "1726389564.385366 tcp ESTAB 0      0      10.0.0.100:58044 12.1.1.66:4000 users:((\"iperf3\",pid=22225,fd=4)) uid:39791 ino:200687 sk:6e cgroup:unreachable:2010c00000052 <->\n",
      "1726389564.385898 \t ts sack cubic wscale:12,7 rto:832 rtt:283.134/109.099 ato:40 mss:1448 pmtu:1500 rcvmss:536 advmss:1448 cwnd:10 bytes_sent:162 bytes_acked:163 bytes_received:4 segs_out:9 segs_in:8 data_segs_out:3 data_segs_in:4 send 409135bps lastsnd:6368 lastrcv:5388 lastack:5388 pacing_rate 818264bps delivery_rate 57064bps delivered:4 app_limited busy:676ms rcv_space:14480 rcv_ssthresh:64088 minrtt:202.988\n",
      "1726389564.386585 \t ts sack cubic wscale:12,7 rto:644 rtt:240.283/66.611 ato:40 mss:1448 pmtu:1500 rcvmss:536 advmss:1448 cwnd:10 bytes_sent:162 bytes_acked:163 bytes_received:4 segs_out:9 segs_in:8 data_segs_out:3 data_segs_in:4 send 482098bps lastsnd:6428 lastrcv:5484 lastack:5484 pacing_rate 964192bps delivery_rate 56832bps delivered:4 app_limited busy:676ms rcv_space:14480 rcv_ssthresh:64088 minrtt:203.825                                                                     \n",
      " tcp ESTAB 0      176656 10.0.0.100:60476 12.1.1.130:4000 users:((\"iperf3\",pid=22224,fd=5)) timer:(on,384ms,0) uid:39791 ino:200946 sk:70 cgroup:unreachable:2010c00000052 <->\n",
      "1726389564.388818 \t ts sack cubic wscale:12,7 rto:444 rtt:238.819/0.168 mss:1448 pmtu:1500 rcvmss:536 advmss:1448 cwnd:14 ssthresh:7 bytes_sent:346109 bytes_retrans:24616 bytes_acked:301222 segs_out:242 segs_in:199 data_segs_out:240 send 679075bps lastsnd:60 lastrcv:5860 lastack:60 pacing_rate 814888bps delivery_rate 581440bps delivered:210 busy:5620ms unacked:14 retrans:0/17 rcv_space:14480 rcv_ssthresh:64088 notsent:156384 minrtt:209\n"
     ]
    },
    {
     "name": "stderr",
     "output_type": "stream",
     "text": [
      "Failed to open cgroup2 by ID\n",
      "Failed to open cgroup2 by ID\n",
      "Failed to open cgroup2 by ID\n",
      "Failed to open cgroup2 by ID\n"
     ]
    },
    {
     "name": "stdout",
     "output_type": "stream",
     "text": [
      "1726389564.704224 tcp ESTAB 0      505352 10.0.0.100:39064 12.1.1.66:4000 users:((\"iperf3\",pid=22225,fd=5)) timer:(on,328ms,0) uid:39791 ino:200945 sk:71 cgroup:unreachable:2010c00000052 <->\n",
      "1726389564.706648 \t ts sack cubic wscale:12,7 rto:440 rtt:236.069/4.404 mss:1448 pmtu:1500 rcvmss:536 advmss:1448 cwnd:7 ssthresh:7 bytes_sent:1130925 bytes_retrans:30408 bytes_acked:1083142 segs_out:784 segs_in:509 data_segs_out:782 send 343493bps lastsnd:112 lastrcv:6320 lastack:112 pacing_rate 471072bps delivery_rate 340840bps delivered:755 busy:6048ms unacked:12 retrans:3/21 lost:3 sacked:5 rcv_space:14480 rcv_ssthresh:64088 notsent:487976 minrtt:101.98\n",
      "1726389564.707194 tcp ESTAB 0      0      10.0.0.100:58044 12.1.1.66:4000 users:((\"iperf3\",pid=22225,fd=4)) uid:39791 ino:200687 sk:6e cgroup:unreachable:2010c00000052 <->\n",
      "1726389564.707738 \t ts sack cubic wscale:12,7 rto:644 rtt:240.283/66.611 ato:40 mss:1448 pmtu:1500 rcvmss:536 advmss:1448 cwnd:10 bytes_sent:162 bytes_acked:163 bytes_received:4 segs_out:9 segs_in:8 data_segs_out:3 data_segs_in:4 send 482098bps lastsnd:6760 lastrcv:5816 lastack:5816 pacing_rate 964192bps delivery_rate 56832bps delivered:4 app_limited busy:676ms rcv_space:14480 rcv_ssthresh:64088 minrtt:203.825                                                                   \n",
      "1726389564.710774 tcp ESTAB 0      0      10.0.0.100:57612 12.1.1.130:4000 users:((\"iperf3\",pid=22224,fd=4)) uid:39791 ino:200688 sk:6f cgroup:unreachable:2010c00000052 <->\n",
      "1726389564.711948 \t ts sack cubic wscale:12,7 rto:832 rtt:283.134/109.099 ato:40 mss:1448 pmtu:1500 rcvmss:536 advmss:1448 cwnd:10 bytes_sent:162 bytes_acked:163 bytes_received:4 segs_out:9 segs_in:8 data_segs_out:3 data_segs_in:4 send 409135bps lastsnd:6684 lastrcv:5704 lastack:5704 pacing_rate 818264bps delivery_rate 57064bps delivered:4 app_limited busy:676ms rcv_space:14480 rcv_ssthresh:64088 minrtt:202.988\n",
      "1726389564.712483 tcp ESTAB 0      156384 10.0.0.100:60476 12.1.1.130:4000 users:((\"iperf3\",pid=22224,fd=5)) timer:(on,308ms,0) uid:39791 ino:200946 sk:70 cgroup:unreachable:2010c00000052 <->\n",
      "1726389564.713057 \t ts sack cubic wscale:12,7 rto:444 rtt:237.875/0.298 mss:1448 pmtu:1500 rcvmss:536 advmss:1448 cwnd:14 ssthresh:7 bytes_sent:366381 bytes_retrans:24616 bytes_acked:321494 segs_out:256 segs_in:213 data_segs_out:254 send 681770bps lastsnd:136 lastrcv:6176 lastack:136 pacing_rate 818120bps delivery_rate 676024bps delivered:224 busy:5936ms unacked:14 retrans:0/17 rcv_space:14480 rcv_ssthresh:64088 notsent:136112 minrtt:209\n"
     ]
    },
    {
     "name": "stderr",
     "output_type": "stream",
     "text": [
      "Failed to open cgroup2 by ID\n",
      "Failed to open cgroup2 by ID\n",
      "Failed to open cgroup2 by ID\n",
      "Failed to open cgroup2 by ID\n"
     ]
    },
    {
     "name": "stdout",
     "output_type": "stream",
     "text": [
      "1726389565.0251691726389565.027167 tcp ESTAB 0      487976 10.0.0.100:39064 12.1.1.66:4000 users:((\"iperf3\",pid=22225,fd=5)) timer:(on,248ms,0) uid:39791 ino:200945 sk:71 cgroup:unreachable:2010c00000052 <->\n",
      "1726389565.027809 \t ts sack cubic wscale:12,7 rto:440 rtt:236.363/1.326 mss:1448 pmtu:1500 rcvmss:536 advmss:1448 cwnd:7 ssthresh:7 bytes_sent:1141061 bytes_retrans:30408 bytes_acked:1100518 segs_out:791 segs_in:514 data_segs_out:789 send 343066bps lastsnd:192 lastrcv:6640 lastack:196 pacing_rate 411672bps delivery_rate 342496bps delivered:762 busy:6368ms unacked:7 retrans:0/21 rcv_space:14480 rcv_ssthresh:64088 notsent:477840 minrtt:101.98\n",
      "1726389565.028385 tcp ESTAB 0      0      10.0.0.100:57612 12.1.1.130:4000 users:((\"iperf3\",pid=22224,fd=4)) uid:39791 ino:200688 sk:6f cgroup:unreachable:2010c00000052 <->\n",
      " tcp ESTAB 0      0      10.0.0.100:58044 12.1.1.66:4000 users:((\"iperf3\",pid=22225,fd=4)) uid:39791 ino:200687 sk:6e cgroup:unreachable:2010c00000052 <->\n",
      "1726389565.0291781726389565.029496"
     ]
    },
    {
     "name": "stderr",
     "output_type": "stream",
     "text": [
      "Failed to open cgroup2 by ID\n"
     ]
    },
    {
     "name": "stdout",
     "output_type": "stream",
     "text": [
      " \t ts sack cubic wscale:12,7 rto:644 rtt:240.283/66.611 ato:40 mss:1448 pmtu:1500 rcvmss:536 advmss:1448 cwnd:10 bytes_sent:162 bytes_acked:163 bytes_received:4 segs_out:9 segs_in:8 data_segs_out:3 data_segs_in:4 send 482098bps lastsnd:7080 lastrcv:6136 lastack:6136 pacing_rate 964192bps delivery_rate 56832bps delivered:4 app_limited busy:676ms rcv_space:14480 rcv_ssthresh:64088 minrtt:203.825                                                  \n",
      " \t ts sack cubic wscale:12,7 rto:832 rtt:283.134/109.099 ato:40 mss:1448 pmtu:1500 rcvmss:536 advmss:1448 cwnd:10 bytes_sent:162 bytes_acked:163 bytes_received:4 segs_out:9 segs_in:8 data_segs_out:3 data_segs_in:4 send 409135bps lastsnd:7008 lastrcv:6028 lastack:6028 pacing_rate 818264bps delivery_rate 57064bps delivered:4 app_limited busy:676ms rcv_space:14480 rcv_ssthresh:64088 minrtt:202.988\n",
      "1726389565.031861 tcp ESTAB 0      137560 10.0.0.100:60476 12.1.1.130:4000 users:((\"iperf3\",pid=22224,fd=5)) timer:(on,432ms,0) uid:39791 ino:200946 sk:70 "
     ]
    },
    {
     "name": "stderr",
     "output_type": "stream",
     "text": [
      "Failed to open cgroup2 by ID\n",
      "Failed to open cgroup2 by ID\n"
     ]
    },
    {
     "name": "stdout",
     "output_type": "stream",
     "text": [
      "cgroup:unreachable:2010c00000052 <->\n",
      "1726389565.032402 \t ts sack cubic wscale:12,7 rto:444 rtt:241.72/8.162 mss:1448 pmtu:1500 rcvmss:536 advmss:1448 cwnd:14 ssthresh:7 bytes_sent:386653 bytes_retrans:24616 bytes_acked:340318 segs_out:270 segs_in:226 data_segs_out:268 send 670925bps lastsnd:12 lastrcv:6500 lastack:192 pacing_rate 805104bps delivery_rate 556656bps delivered:237 busy:6260ms unacked:15 retrans:0/17 rcv_space:14480 rcv_ssthresh:64088 notsent:115840 minrtt:209\n"
     ]
    },
    {
     "name": "stderr",
     "output_type": "stream",
     "text": [
      "Failed to open cgroup2 by ID\n"
     ]
    },
    {
     "name": "stdout",
     "output_type": "stream",
     "text": [
      "1726389565.3445551726389565.345666 tcp ESTAB 0      466256 10.0.0.100:39064 12.1.1.66:4000 users:((\"iperf3\",pid=22225,fd=5)) timer:(on,312ms,0) uid:39791 ino:200945 sk:71 cgroup:unreachable:2010c00000052 <->\n",
      "1726389565.346392 \t ts sack cubic wscale:12,7 rto:416 rtt:215.166/5.699 mss:1448 pmtu:1500 rcvmss:536 advmss:1448 cwnd:9 ssthresh:7 bytes_sent:1165677 bytes_retrans:30408 bytes_acked:1122238 segs_out:808 segs_in:522 data_segs_out:806 send 484538bps lastsnd:104 lastrcv:6960 lastack:104 pacing_rate 581440bps delivery_rate 450672bps delivered:777 busy:6688ms unacked:9 retrans:0/21 rcv_space:14480 rcv_ssthresh:64088 notsent:453224 minrtt:101.98\n",
      "1726389565.346907 tcp ESTAB 0      0      10.0.0.100:57612 12.1.1.130:4000 users:((\"iperf3\",pid=22224,fd=4)) uid:39791 ino:200688 sk:6f cgroup:unreachable:2010c00000052 <->\n",
      "1726389565.347459 tcp ESTAB 0      0      10.0.0.100:58044 12.1.1.66:4000 users:((\"iperf3\",pid=22225,fd=4)) uid:39791 ino:200687 sk:6e cgroup:unreachable:2010c00000052 <->\n",
      "1726389565.348126 \t ts sack cubic wscale:12,7 rto:832 rtt:283.134/109.099 ato:40 mss:1448 pmtu:1500 rcvmss:536 advmss:1448 cwnd:10 bytes_sent:162 bytes_acked:163 bytes_received:4 segs_out:9 segs_in:8 data_segs_out:3 data_segs_in:4 send 409135bps lastsnd:7328 lastrcv:6348 lastack:6348 pacing_rate 818264bps delivery_rate 57064bps delivered:4 app_limited busy:676ms rcv_space:14480 rcv_ssthresh:64088 minrtt:202.988\n",
      "1726389565.348435 \t ts sack cubic wscale:12,7 rto:644 rtt:240.283/66.611 ato:40 mss:1448 pmtu:1500 rcvmss:536 advmss:1448 cwnd:10 bytes_sent:162 bytes_acked:163 bytes_received:4 segs_out:9 segs_in:8 data_segs_out:3 data_segs_in:4 send 482098bps lastsnd:7400 lastrcv:6456 lastack:6456 pacing_rate 964192bps delivery_rate 56832bps delivered:4 app_limited busy:676ms rcv_space:14480 rcv_ssthresh:64088 minrtt:203.825                                                  \n",
      " tcp ESTAB 0      240368 10.0.0.100:60476 12.1.1.130:4000 users:((\"iperf3\",pid=22224,fd=5)) timer:(on,120ms,0) uid:39791 ino:200946 sk:70 cgroup:unreachable:2010c00000052 <->\n",
      "1726389565.350429 \t ts sack cubic wscale:12,7 rto:424 rtt:219.719/9.799 mss:1448 pmtu:1500 rcvmss:536 advmss:1448 cwnd:10 ssthresh:9 bytes_sent:411269 bytes_retrans:28960 bytes_acked:367830 segs_out:287 segs_in:245 data_segs_out:285 send 527219bps lastsnd:68 lastrcv:6820 lastack:68 pacing_rate 632656bps delivery_rate 390056bps delivered:256 busy:6580ms unacked:10 retrans:0/20 rcv_space:14480 rcv_ssthresh:64088 notsent:225888 minrtt:202.741\n"
     ]
    },
    {
     "name": "stderr",
     "output_type": "stream",
     "text": [
      "Failed to open cgroup2 by ID\n",
      "Failed to open cgroup2 by ID\n",
      "Failed to open cgroup2 by ID\n",
      "Failed to open cgroup2 by ID\n"
     ]
    },
    {
     "name": "stdout",
     "output_type": "stream",
     "text": [
      "1726389565.6613021726389565.664622 tcp ESTAB 0      453224 10.0.0.100:39064 12.1.1.66:4000 users:((\"iperf3\",pid=22225,fd=5)) timer:(on,196ms,0) uid:39791 ino:200945 sk:71 cgroup:unreachable:2010c00000052 <->\n",
      "1726389565.665295 \t ts sack cubic wscale:12,7 rto:412 rtt:209.982/6.072 mss:1448 pmtu:1500 rcvmss:536 advmss:1448 cwnd:9 ssthresh:7 bytes_sent:1178709 bytes_retrans:30408 bytes_acked:1135270 segs_out:817 segs_in:527 data_segs_out:815 send 496500bps lastsnd:216 lastrcv:7276 lastack:216 pacing_rate 595792bps delivery_rate 508688bps delivered:786 busy:7004ms unacked:9 retrans:0/21 rcv_space:14480 rcv_ssthresh:64088 notsent:440192 minrtt:101.98\n",
      "1726389565.665834 tcp ESTAB 0      0      10.0.0.100:58044 12.1.1.66:4000 users:((\"iperf3\",pid=22225,fd=4)) uid:39791 ino:200687 sk:6e cgroup:unreachable:2010c00000052 <->\n",
      "1726389565.666474 \t ts sack cubic wscale:12,7 rto:644 rtt:240.283/66.611 ato:40 mss:1448 pmtu:1500 rcvmss:536 advmss:1448 cwnd:10 bytes_sent:162 bytes_acked:163 bytes_received:4 segs_out:9 segs_in:8 data_segs_out:3 data_segs_in:4 send 482098bps lastsnd:7716 lastrcv:6772 lastack:6772 pacing_rate 964192bps delivery_rate 56832bps delivered:4 app_limited busy:676ms rcv_space:14480 rcv_ssthresh:64088 minrtt:203.825                                                  \n",
      " tcp ESTAB 0      0      10.0.0.100:57612 12.1.1.130:4000 users:((\"iperf3\",pid=22224,fd=4)) uid:39791 ino:200688 sk:6f cgroup:unreachable:2010c00000052 <->\n",
      "1726389565.668754 \t ts sack cubic wscale:12,7 rto:832 rtt:283.134/109.099 ato:40 mss:1448 pmtu:1500 rcvmss:536 advmss:1448 cwnd:10 bytes_sent:162 bytes_acked:163 bytes_received:4 segs_out:9 segs_in:8 data_segs_out:3 data_segs_in:4 send 409135bps lastsnd:7644 lastrcv:6664 lastack:6664 pacing_rate 818264bps delivery_rate 57064bps delivered:4 app_limited busy:676ms rcv_space:14480 rcv_ssthresh:64088 minrtt:202.988\n",
      "1726389565.669287 tcp ESTAB 0      240368 10.0.0.100:60476 12.1.1.130:4000 users:((\"iperf3\",pid=22224,fd=5)) timer:(on,248ms,0) uid:39791 ino:200946 sk:70 cgroup:unreachable:2010c00000052 <->\n",
      "1726389565.669615 \t ts sack cubic wscale:12,7 rto:428 rtt:225.932/13.114 mss:1448 pmtu:1500 rcvmss:536 advmss:1448 cwnd:7 ssthresh:7 bytes_sent:421405 bytes_retrans:30408 bytes_acked:367830 segs_out:294 segs_in:251 data_segs_out:292 send 358904bps lastsnd:176 lastrcv:7136 lastack:180 pacing_rate 738312bps delivery_rate 439456bps delivered:265 busy:6896ms unacked:16 retrans:1/21 lost:1 sacked:9 rcv_space:14480 rcv_ssthresh:64088 notsent:217200 minrtt:202.741\n"
     ]
    },
    {
     "name": "stderr",
     "output_type": "stream",
     "text": [
      "Failed to open cgroup2 by ID\n",
      "Failed to open cgroup2 by ID\n",
      "Failed to open cgroup2 by ID\n",
      "Failed to open cgroup2 by ID\n"
     ]
    },
    {
     "name": "stdout",
     "output_type": "stream",
     "text": [
      "1726389565.9816751726389565.983586 tcp ESTAB 0      427160 10.0.0.100:39064 12.1.1.66:4000 users:((\"iperf3\",pid=22225,fd=5)) timer:(on,372ms,0) uid:39791 ino:200945 sk:71 cgroup:unreachable:2010c00000052 <->\n",
      "1726389565.984196 \t ts sack cubic wscale:12,7 rto:432 rtt:229.802/10.589 mss:1448 pmtu:1500 rcvmss:536 advmss:1448 cwnd:9 ssthresh:7 bytes_sent:1204773 bytes_retrans:30408 bytes_acked:1161334 segs_out:835 segs_in:537 data_segs_out:833 send 453678bps lastsnd:60 lastrcv:7596 lastack:60 pacing_rate 544408bps delivery_rate 435960bps delivered:804 busy:7324ms unacked:9 retrans:0/21 rcv_space:14480 rcv_ssthresh:64088 notsent:414128 minrtt:101.98\n",
      "1726389565.984707 tcp ESTAB 0      0      10.0.0.100:58044 12.1.1.66:4000 users:((\"iperf3\",pid=22225,fd=4)) uid:39791 ino:200687 sk:6e cgroup:unreachable:2010c00000052 <->\n"
     ]
    },
    {
     "name": "stderr",
     "output_type": "stream",
     "text": [
      "Failed to open cgroup2 by ID\n"
     ]
    },
    {
     "name": "stdout",
     "output_type": "stream",
     "text": [
      "1726389565.985229 \t ts sack cubic wscale:12,7 rto:644 rtt:240.283/66.611 ato:40 mss:1448 pmtu:1500 rcvmss:536 advmss:1448 cwnd:10 bytes_sent:162 bytes_acked:163 bytes_received:4 segs_out:9 segs_in:8 data_segs_out:3 data_segs_in:4 send 482098bps lastsnd:8036 lastrcv:7092 lastack:7092 pacing_rate 964192bps delivery_rate 56832bps delivered:4 app_limited busy:676ms rcv_space:14480 rcv_ssthresh:64088 minrtt:203.825                                                 \n",
      " tcp ESTAB 0      0      10.0.0.100:57612 12.1.1.130:4000 users:((\"iperf3\",pid=22224,fd=4)) uid:39791 ino:200688 sk:6f cgroup:unreachable:2010c00000052 <->\n",
      "1726389565.987546 \t ts sack cubic wscale:12,7 rto:832 rtt:283.134/109.099 ato:40 mss:1448 pmtu:1500 rcvmss:536 advmss:1448 cwnd:10 bytes_sent:162 bytes_acked:163 bytes_received:4 segs_out:9 segs_in:8 data_segs_out:3 data_segs_in:4 send 409135bps lastsnd:7964 lastrcv:6984 lastack:6984 pacing_rate 818264bps delivery_rate 57064bps delivered:4 app_limited busy:676ms rcv_space:14480 rcv_ssthresh:64088 minrtt:202.988\n",
      "1726389565.988074 tcp ESTAB 0      207064 10.0.0.100:60476 12.1.1.130:4000 users:((\"iperf3\",pid=22224,fd=5)) timer:(on,372ms,0) uid:39791 ino:200946 sk:70 cgroup:unreachable:2010c00000052 <->\n",
      "1726389565.988649 \t ts sack cubic wscale:12,7 rto:428 rtt:224.397/13.767 mss:1448 pmtu:1500 rcvmss:536 advmss:1448 cwnd:8 ssthresh:7 bytes_sent:443125 bytes_retrans:30408 bytes_acked:401134 segs_out:309 segs_in:258 data_segs_out:307 send 412982bps lastsnd:56 lastrcv:7456 lastack:56 pacing_rate 495576bps delivery_rate 342832bps delivered:279 busy:7216ms unacked:8 retrans:0/21 rcv_space:14480 rcv_ssthresh:64088 notsent:195480 minrtt:202.741\n"
     ]
    },
    {
     "name": "stderr",
     "output_type": "stream",
     "text": [
      "Failed to open cgroup2 by ID\n",
      "Failed to open cgroup2 by ID\n",
      "Failed to open cgroup2 by ID\n"
     ]
    },
    {
     "name": "stdout",
     "output_type": "stream",
     "text": [
      "1726389566.3013321726389566.303253 tcp ESTAB 0      414128 10.0.0.100:39064 12.1.1.66:4000 users:((\"iperf3\",pid=22225,fd=5)) timer:(on,296ms,0) uid:39791 ino:200945 sk:71 cgroup:unreachable:2010c00000052 <->\n",
      "1726389566.303919 \t ts sack cubic wscale:12,7 rto:436 rtt:234.387/7.6 mss:1448 pmtu:1500 rcvmss:536 advmss:1448 cwnd:11 ssthresh:7 bytes_sent:1220701 bytes_retrans:30408 bytes_acked:1174366 segs_out:846 segs_in:542 data_segs_out:844 send 543648bps lastsnd:140 lastrcv:7916 lastack:140 pacing_rate 652368bps delivery_rate 435008bps delivered:813 busy:7644ms unacked:11 retrans:0/21 rcv_space:14480 rcv_ssthresh:64088 notsent:398200 minrtt:101.98\n",
      "1726389566.304435 tcp ESTAB 0      0      10.0.0.100:58044 12.1.1.66:4000 users:((\"iperf3\",pid=22225,fd=4)) uid:39791 ino:200687 sk:6e cgroup:unreachable:2010c00000052 <->\n",
      "1726389566.304840 \t ts sack cubic wscale:12,7 rto:644 rtt:240.283/66.611 ato:40 mss:1448 pmtu:1500 rcvmss:536 advmss:1448 cwnd:10 bytes_sent:162 bytes_acked:163 bytes_received:4 segs_out:9 segs_in:8 data_segs_out:3 data_segs_in:4 send 482098bps lastsnd:8356 lastrcv:7412 lastack:7412 pacing_rate 964192bps delivery_rate 56832bps delivered:4 app_limited busy:676ms rcv_space:14480 rcv_ssthresh:64088 minrtt:203.825                                                  \n",
      " tcp ESTAB 0      0      10.0.0.100:57612 12.1.1.130:4000 users:((\"iperf3\",pid=22224,fd=4)) uid:39791 ino:200688 sk:6f cgroup:unreachable:2010c00000052 <->\n",
      "1726389566.306609 \t ts sack cubic wscale:12,7 rto:832 rtt:283.134/109.099 ato:40 mss:1448 pmtu:1500 rcvmss:536 advmss:1448 cwnd:10 bytes_sent:162 bytes_acked:163 bytes_received:4 segs_out:9 segs_in:8 data_segs_out:3 data_segs_in:4 send 409135bps lastsnd:8284 lastrcv:7304 lastack:7304 pacing_rate 818264bps delivery_rate 57064bps delivered:4 app_limited busy:676ms rcv_space:14480 rcv_ssthresh:64088 minrtt:202.988\n",
      "1726389566.306946 tcp ESTAB 0      195480 10.0.0.100:60476 12.1.1.130:4000 users:((\"iperf3\",pid=22224,fd=5)) timer:(on,296ms,0) uid:39791 ino:200946 sk:70 cgroup:unreachable:2010c00000052 <->\n",
      "1726389566.307262 \t ts sack cubic wscale:12,7 rto:432 rtt:230.584/12.377 mss:1448 pmtu:1500 rcvmss:536 advmss:1448 cwnd:8 ssthresh:7 bytes_sent:454709 bytes_retrans:30408 bytes_acked:412718 segs_out:317 segs_in:262 data_segs_out:315 send 401901bps lastsnd:136 lastrcv:7776 lastack:136 pacing_rate 482272bps delivery_rate 386768bps delivered:287 busy:7536ms unacked:8 retrans:0/21 rcv_space:14480 rcv_ssthresh:64088 notsent:183896 minrtt:202.741\n"
     ]
    },
    {
     "name": "stderr",
     "output_type": "stream",
     "text": [
      "Failed to open cgroup2 by ID\n",
      "Failed to open cgroup2 by ID\n",
      "Failed to open cgroup2 by ID\n",
      "Failed to open cgroup2 by ID\n"
     ]
    },
    {
     "name": "stdout",
     "output_type": "stream",
     "text": [
      "1726389566.6213901726389566.623446 tcp ESTAB 0      382272 10.0.0.100:39064 12.1.1.66:4000 users:((\"iperf3\",pid=22225,fd=5)) timer:(on,412ms,0) uid:39791 ino:200945 sk:71 cgroup:unreachable:2010c00000052 <->\n",
      "1726389566.624097 \t ts sack cubic wscale:12,7 rto:432 rtt:227.986/11.625 mss:1448 pmtu:1500 rcvmss:536 advmss:1448 cwnd:11 ssthresh:7 bytes_sent:1252557 bytes_retrans:30408 bytes_acked:1206222 segs_out:868 segs_in:554 data_segs_out:866 send 558912bps lastsnd:20 lastrcv:8236 lastack:20 pacing_rate 670688bps delivery_rate 538232bps delivered:835 busy:7964ms unacked:11 retrans:0/21 rcv_space:14480 rcv_ssthresh:64088 notsent:366344 minrtt:101.98\n",
      "1726389566.624609 tcp ESTAB 0      0      10.0.0.100:58044 12.1.1.66:4000 users:((\"iperf3\",pid=22225,fd=4)) uid:39791 ino:200687 sk:6e cgroup:unreachable:2010c00000052 <->\n",
      "1726389566.625149 \t ts sack cubic wscale:12,7 rto:644 rtt:240.283/66.611 ato:40 mss:1448 pmtu:1500 rcvmss:536 advmss:1448 cwnd:10 bytes_sent:162 bytes_acked:163 bytes_received:4 segs_out:9 segs_in:8 data_segs_out:3 data_segs_in:4 send 482098bps lastsnd:8676 lastrcv:7732 lastack:7732 pacing_rate 964192bps delivery_rate 56832bps delivered:4 app_limited busy:676ms rcv_space:14480 rcv_ssthresh:64088 minrtt:203.825                                                   \n",
      " tcp ESTAB 0      0      10.0.0.100:57612 12.1.1.130:4000 users:((\"iperf3\",pid=22224,fd=4)) uid:39791 ino:200688 sk:6f cgroup:unreachable:2010c00000052 <->\n",
      "1726389566.626463 \t ts sack cubic wscale:12,7 rto:832 rtt:283.134/109.099 ato:40 mss:1448 pmtu:1500 rcvmss:536 advmss:1448 cwnd:10 bytes_sent:162 bytes_acked:163 bytes_received:4 segs_out:9 segs_in:8 data_segs_out:3 data_segs_in:4 send 409135bps lastsnd:8604 lastrcv:7624 lastack:7624 pacing_rate 818264bps delivery_rate 57064bps delivered:4 app_limited busy:676ms rcv_space:14480 rcv_ssthresh:64088 minrtt:202.988\n",
      "1726389566.626794 tcp ESTAB 0      183896 10.0.0.100:60476 12.1.1.130:4000 users:((\"iperf3\",pid=22224,fd=5)) timer:(on,272ms,0) uid:39791 ino:200946 sk:70 cgroup:unreachable:2010c00000052 <->\n",
      "1726389566.628158 \t ts sack cubic wscale:12,7 rto:456 rtt:252.043/34.726 mss:1448 pmtu:1500 rcvmss:536 advmss:1448 cwnd:8 ssthresh:7 bytes_sent:466293 bytes_retrans:30408 bytes_acked:424302 segs_out:325 segs_in:266 data_segs_out:323 send 367683bps lastsnd:152 lastrcv:8096 lastack:152 pacing_rate 441216bps delivery_rate 303000bps delivered:295 busy:7856ms unacked:8 retrans:0/21 rcv_space:14480 rcv_ssthresh:64088 notsent:172312 minrtt:202.741\n"
     ]
    },
    {
     "name": "stderr",
     "output_type": "stream",
     "text": [
      "Failed to open cgroup2 by ID\n",
      "Failed to open cgroup2 by ID\n",
      "Failed to open cgroup2 by ID\n",
      "Failed to open cgroup2 by ID\n"
     ]
    },
    {
     "name": "stdout",
     "output_type": "stream",
     "text": [
      "1726389566.939895 tcp ESTAB 0      366344 10.0.0.100:39064 12.1.1.66:4000 users:((\"iperf3\",pid=22225,fd=5)) timer:(on,340ms,0) uid:39791 ino:200945 sk:71 cgroup:unreachable:2010c00000052 <->\n",
      "1726389566.942537 \t ts sack cubic wscale:12,7 rto:436 rtt:233.9/7.758 mss:1448 pmtu:1500 rcvmss:536 advmss:1448 cwnd:11 ssthresh:7 bytes_sent:1268485 bytes_retrans:30408 bytes_acked:1222150 segs_out:879 segs_in:560 data_segs_out:877 send 544780bps lastsnd:96 lastrcv:8552 lastack:96 pacing_rate 653728bps delivery_rate 532880bps delivered:846 busy:8280ms unacked:11 retrans:0/21 rcv_space:14480 rcv_ssthresh:64088 notsent:350416 minrtt:101.98\n",
      "1726389566.943079 tcp ESTAB 0      0      10.0.0.100:58044 12.1.1.66:4000 users:((\"iperf3\",pid=22225,fd=4)) uid:39791 ino:200687 sk:6e cgroup:unreachable:2010c00000052 <->\n",
      "1726389566.943630 \t ts sack cubic wscale:12,7 rto:644 rtt:240.283/66.611 ato:40 mss:1448 pmtu:1500 rcvmss:536 advmss:1448 cwnd:10 bytes_sent:162 bytes_acked:163 bytes_received:4 segs_out:9 segs_in:8 data_segs_out:3 data_segs_in:4 send 482098bps lastsnd:8992 lastrcv:8048 lastack:8048 pacing_rate 964192bps delivery_rate 56832bps delivered:4 app_limited busy:676ms rcv_space:14480 rcv_ssthresh:64088 minrtt:203.825                                                \n",
      "1726389566.944843 tcp ESTAB 0      0      10.0.0.100:57612 12.1.1.130:4000 users:((\"iperf3\",pid=22224,fd=4)) uid:39791 ino:200688 sk:6f cgroup:unreachable:2010c00000052 <->\n",
      "1726389566.946699 \t ts sack cubic wscale:12,7 rto:832 rtt:283.134/109.099 ato:40 mss:1448 pmtu:1500 rcvmss:536 advmss:1448 cwnd:10 bytes_sent:162 bytes_acked:163 bytes_received:4 segs_out:9 segs_in:8 data_segs_out:3 data_segs_in:4 send 409135bps lastsnd:8928 lastrcv:7948 lastack:7948 pacing_rate 818264bps delivery_rate 57064bps delivered:4 app_limited busy:676ms rcv_space:14480 rcv_ssthresh:64088 minrtt:202.988\n",
      "1726389566.947189 tcp ESTAB 0      178104 10.0.0.100:60476 12.1.1.130:4000 users:((\"iperf3\",pid=22224,fd=5)) timer:(on,204ms,0) uid:39791 ino:200946 sk:70 cgroup:unreachable:2010c00000052 <->\n",
      "1726389566.948390 \t ts sack cubic wscale:12,7 rto:440 rtt:238.773/25.902 mss:1448 pmtu:1500 rcvmss:536 advmss:1448 cwnd:7 ssthresh:6 bytes_sent:476429 bytes_retrans:31856 bytes_acked:430094 segs_out:332 segs_in:270 data_segs_out:330 send 339603bps lastsnd:236 lastrcv:8420 lastack:268 pacing_rate 523952bps delivery_rate 227616bps delivered:301 busy:8180ms unacked:10 retrans:1/22 lost:2 sacked:2 rcv_space:14480 rcv_ssthresh:64088 notsent:163624 minrtt:202.741\n"
     ]
    },
    {
     "name": "stderr",
     "output_type": "stream",
     "text": [
      "Failed to open cgroup2 by ID\n",
      "Failed to open cgroup2 by ID\n",
      "Failed to open cgroup2 by ID\n",
      "Failed to open cgroup2 by ID\n"
     ]
    },
    {
     "name": "stdout",
     "output_type": "stream",
     "text": [
      "1726389567.2571561726389567.260526 tcp ESTAB 0      350416 10.0.0.100:39064 12.1.1.66:4000 users:((\"iperf3\",pid=22225,fd=5)) timer:(on,260ms,0) uid:39791 ino:200945 sk:71 cgroup:unreachable:2010c00000052 <->\n",
      "1726389567.261177 tcp ESTAB 0      0      10.0.0.100:57612 12.1.1.130:4000 users:((\"iperf3\",pid=22224,fd=4)) uid:39791 ino:200688 sk:6f cgroup:unreachable:2010c00000052 <->\n",
      " \t ts sack cubic wscale:12,7 rto:436 rtt:235.569/2.777 mss:1448 pmtu:1500 rcvmss:536 advmss:1448 cwnd:13 ssthresh:7 bytes_sent:1287309 bytes_retrans:30408 bytes_acked:1238078 segs_out:892 segs_in:566 data_segs_out:890 send 639269bps lastsnd:176 lastrcv:8872 lastack:180 pacing_rate 767120bps delivery_rate 531024bps delivered:857 busy:8600ms unacked:13 retrans:0/21 rcv_space:14480 rcv_ssthresh:64088 notsent:331592 minrtt:101.98\n",
      "1726389567.2620181726389567.262388 \t ts sack cubic wscale:12,7 rto:832 rtt:283.134/109.099 ato:40 mss:1448 pmtu:1500 rcvmss:536 advmss:1448 cwnd:10 bytes_sent:162 bytes_acked:163 bytes_received:4 segs_out:9 segs_in:8 data_segs_out:3 data_segs_in:4 send 409135bps lastsnd:9248 lastrcv:8268 lastack:8268 pacing_rate 818264bps delivery_rate 57064bps delivered:4 app_limited busy:676ms rcv_space:14480 rcv_ssthresh:64088 minrtt:202.988\n",
      "1726389567.262972 tcp ESTAB 0      0      10.0.0.100:58044 12.1.1.66:4000 users:((\"iperf3\",pid=22225,fd=4)) uid:39791 ino:200687 sk:6e cgroup:unreachable:2010c00000052 <->\n",
      "1726389567.263522 tcp ESTAB 0      156384 10.0.0.100:60476 12.1.1.130:4000 users:((\"iperf3\",pid=22224,fd=5)) timer:(on,364ms,0) uid:39791 ino:200946 sk:70 cgroup:unreachable:2010c00000052 <->\n",
      "1726389567.264073 \t ts sack cubic wscale:12,7 rto:644 rtt:240.283/66.611 ato:40 mss:1448 pmtu:1500 rcvmss:536 advmss:1448 cwnd:10 bytes_sent:162 bytes_acked:163 bytes_received:4 segs_out:9 segs_in:8 data_segs_out:3 data_segs_in:4 send 482098bps lastsnd:9312 lastrcv:8368 lastack:8368 pacing_rate 964192bps delivery_rate 56832bps delivered:4 app_limited busy:676ms rcv_space:14480 rcv_ssthresh:64088 minrtt:203.825                                                    \n",
      " \t ts sack cubic wscale:12,7 rto:444 rtt:240.889/26.829 mss:1448 pmtu:1500 rcvmss:536 advmss:1448 cwnd:7 ssthresh:6 bytes_sent:495253 bytes_retrans:33304 bytes_acked:451814 segs_out:345 segs_in:278 data_segs_out:343 send 336620bps lastsnd:80 lastrcv:8740 lastack:80 pacing_rate 403936bps delivery_rate 253488bps delivered:314 busy:8500ms unacked:7 retrans:0/23 rcv_space:14480 rcv_ssthresh:64088 notsent:146248 minrtt:202.741\n"
     ]
    },
    {
     "name": "stderr",
     "output_type": "stream",
     "text": [
      "Failed to open cgroup2 by ID\n",
      "Failed to open cgroup2 by ID\n",
      "Failed to open cgroup2 by ID\n",
      "Failed to open cgroup2 by ID\n"
     ]
    },
    {
     "name": "stdout",
     "output_type": "stream",
     "text": [
      "1726389567.579830 tcp ESTAB 0      508248 10.0.0.100:39064 12.1.1.66:4000 users:((\"iperf3\",pid=22225,fd=5)) timer:(on,420ms,0) uid:39791 ino:200945 sk:71 cgroup:unreachable:2010c00000052 <->\n",
      "1726389567.580622 \t ts sack cubic wscale:12,7 rto:440 rtt:236.502/0.624 mss:1448 pmtu:1500 rcvmss:536 advmss:1448 cwnd:13 ssthresh:7 bytes_sent:1324957 bytes_retrans:30408 bytes_acked:1275726 segs_out:918 segs_in:580 data_segs_out:916 send 636747bps lastsnd:20 lastrcv:9192 lastack:24 pacing_rate 764088bps delivery_rate 631080bps delivered:883 busy:8920ms unacked:13 retrans:0/21 rcv_space:14480 rcv_ssthresh:64088 notsent:489424 minrtt:101.98\n",
      "1726389567.581112 tcp ESTAB 0      0      10.0.0.100:58044 12.1.1.66:4000 users:((\"iperf3\",pid=22225,fd=4)) uid:39791 ino:200687 sk:6e cgroup:unreachable:2010c00000052 <->\n",
      "1726389567.581643 \t ts sack cubic wscale:12,7 rto:644 rtt:240.283/66.611 ato:40 mss:1448 pmtu:1500 rcvmss:536 advmss:1448 cwnd:10 bytes_sent:162 bytes_acked:163 bytes_received:4 segs_out:9 segs_in:8 data_segs_out:3 data_segs_in:4 send 482098bps lastsnd:9632 lastrcv:8688 lastack:8688 pacing_rate 964192bps delivery_rate 56832bps delivered:4 app_limited busy:676ms rcv_space:14480 rcv_ssthresh:64088 minrtt:203.825                                                  \n",
      "1726389567.584121 tcp ESTAB 0      0      10.0.0.100:57612 12.1.1.130:4000 users:((\"iperf3\",pid=22224,fd=4)) uid:39791 ino:200688 sk:6f cgroup:unreachable:2010c00000052 <->\n",
      "1726389567.584756 \t ts sack cubic wscale:12,7 rto:832 rtt:283.134/109.099 ato:40 mss:1448 pmtu:1500 rcvmss:536 advmss:1448 cwnd:10 bytes_sent:162 bytes_acked:163 bytes_received:4 segs_out:9 segs_in:8 data_segs_out:3 data_segs_in:4 send 409135bps lastsnd:9560 lastrcv:8580 lastack:8580 pacing_rate 818264bps delivery_rate 57064bps delivered:4 app_limited busy:676ms rcv_space:14480 rcv_ssthresh:64088 minrtt:202.988\n",
      "1726389567.585325 tcp ESTAB 0      146248 10.0.0.100:60476 12.1.1.130:4000 users:((\"iperf3\",pid=22224,fd=5)) timer:(on,288ms,0) uid:39791 ino:200946 sk:70 cgroup:unreachable:2010c00000052 <->\n",
      "1726389567.585793 \t ts sack cubic wscale:12,7 rto:440 rtt:239.666/13.192 mss:1448 pmtu:1500 rcvmss:536 advmss:1448 cwnd:8 ssthresh:6 bytes_sent:506837 bytes_retrans:33304 bytes_acked:461950 segs_out:353 segs_in:281 data_segs_out:351 send 386671bps lastsnd:152 lastrcv:9052 lastack:156 pacing_rate 464000bps delivery_rate 341552bps delivered:321 busy:8812ms unacked:8 retrans:0/23 rcv_space:14480 rcv_ssthresh:64088 notsent:134664 minrtt:202.741\n"
     ]
    },
    {
     "name": "stderr",
     "output_type": "stream",
     "text": [
      "Failed to open cgroup2 by ID\n",
      "Failed to open cgroup2 by ID\n",
      "Failed to open cgroup2 by ID\n",
      "Failed to open cgroup2 by ID\n"
     ]
    },
    {
     "name": "stdout",
     "output_type": "stream",
     "text": [
      "1726389567.900221 tcp ESTAB 0      489424 10.0.0.100:39064 12.1.1.66:4000 users:((\"iperf3\",pid=22225,fd=5)) timer:(on,336ms,0) uid:39791 ino:200945 sk:71 cgroup:unreachable:2010c00000052 <->\n",
      "1726389567.900881 \t ts sack cubic wscale:12,7 rto:440 rtt:236.752/0.464 mss:1448 pmtu:1500 rcvmss:536 advmss:1448 cwnd:13 ssthresh:7 bytes_sent:1343781 bytes_retrans:30408 bytes_acked:1294550 segs_out:931 segs_in:587 data_segs_out:929 send 636075bps lastsnd:104 lastrcv:9512 lastack:104 pacing_rate 763288bps delivery_rate 633480bps delivered:896 busy:9240ms unacked:13 retrans:0/21 rcv_space:14480 rcv_ssthresh:64088 notsent:470600 minrtt:101.98\n",
      "1726389567.901446 tcp ESTAB 0      0      10.0.0.100:58044 12.1.1.66:4000 users:((\"iperf3\",pid=22225,fd=4)) uid:39791 ino:200687 sk:6e cgroup:unreachable:2010c00000052 <->\n",
      "1726389567.901977 \t ts sack cubic wscale:12,7 rto:644 rtt:240.283/66.611 ato:40 mss:1448 pmtu:1500 rcvmss:536 advmss:1448 cwnd:10 bytes_sent:162 bytes_acked:163 bytes_received:4 segs_out:9 segs_in:8 data_segs_out:3 data_segs_in:4 send 482098bps lastsnd:9952 lastrcv:9008 lastack:9008 pacing_rate 964192bps delivery_rate 56832bps delivered:4 app_limited busy:676ms rcv_space:14480 rcv_ssthresh:64088 minrtt:203.825                                                    \n",
      "1726389567.898064 tcp ESTAB 0      0      10.0.0.100:57612 12.1.1.130:4000 users:((\"iperf3\",pid=22224,fd=4)) uid:39791 ino:200688 sk:6f cgroup:unreachable:2010c00000052 <->\n",
      "1726389567.904561 \t ts sack cubic wscale:12,7 rto:832 rtt:283.134/109.099 ato:40 mss:1448 pmtu:1500 rcvmss:536 advmss:1448 cwnd:10 bytes_sent:162 bytes_acked:163 bytes_received:4 segs_out:9 segs_in:8 data_segs_out:3 data_segs_in:4 send 409135bps lastsnd:9880 lastrcv:8900 lastack:8900 pacing_rate 818264bps delivery_rate 57064bps delivered:4 app_limited busy:676ms rcv_space:14480 rcv_ssthresh:64088 minrtt:202.988\n",
      "1726389567.905136 tcp ESTAB 0      140456 10.0.0.100:60476 12.1.1.130:4000 users:((\"iperf3\",pid=22224,fd=5)) timer:(on,412ms,0) uid:39791 ino:200946 sk:70 cgroup:unreachable:2010c00000052 <->\n",
      "1726389567.905621 \t ts sack cubic wscale:12,7 rto:440 rtt:239.131/8.348 mss:1448 pmtu:1500 rcvmss:536 advmss:1448 cwnd:8 ssthresh:6 bytes_sent:512629 bytes_retrans:33304 bytes_acked:467742 segs_out:357 segs_in:283 data_segs_out:355 send 387537bps lastsnd:28 lastrcv:9372 lastack:236 pacing_rate 465040bps delivery_rate 292760bps delivered:325 busy:9132ms unacked:8 retrans:0/23 rcv_space:14480 rcv_ssthresh:64088 notsent:128872 minrtt:202.741\n"
     ]
    },
    {
     "name": "stderr",
     "output_type": "stream",
     "text": [
      "Failed to open cgroup2 by ID\n",
      "Failed to open cgroup2 by ID\n",
      "Failed to open cgroup2 by ID\n",
      "Failed to open cgroup2 by ID\n"
     ]
    },
    {
     "name": "stdout",
     "output_type": "stream",
     "text": [
      "1726389568.2176491726389568.220269 tcp ESTAB 0      0      10.0.0.100:57612 12.1.1.130:4000 users:((\"iperf3\",pid=22224,fd=4)) uid:39791 ino:200688 sk:6f cgroup:unreachable:2010c00000052 <->\n",
      " tcp ESTAB 0      470600 10.0.0.100:39064 12.1.1.66:4000 users:((\"iperf3\",pid=22225,fd=5)) timer:(on,256ms,0) uid:39791 ino:200945 sk:71 cgroup:unreachable:2010c00000052 <->\n",
      "1726389568.2211801726389568.221508 \t ts sack cubic wscale:12,7 rto:832 rtt:283.134/109.099 ato:40 mss:1448 pmtu:1500 rcvmss:536 advmss:1448 cwnd:10 bytes_sent:162 bytes_acked:163 bytes_received:4 segs_out:9 segs_in:8 data_segs_out:3 data_segs_in:4 send 409135bps lastsnd:10200 lastrcv:9220 lastack:9220 pacing_rate 818264bps delivery_rate 57064bps delivered:4 app_limited busy:676ms rcv_space:14480 rcv_ssthresh:64088 minrtt:202.988\n",
      "1726389568.222014 \t ts sack cubic wscale:12,7 rto:440 rtt:237.71/0.728 mss:1448 pmtu:1500 rcvmss:536 advmss:1448 cwnd:15 ssthresh:7 bytes_sent:1365501 bytes_retrans:30408 bytes_acked:1313374 segs_out:946 segs_in:594 data_segs_out:944 send 730975bps lastsnd:184 lastrcv:9832 lastack:184 pacing_rate 877160bps delivery_rate 629328bps delivered:909 busy:9560ms unacked:15 retrans:0/21 rcv_space:14480 rcv_ssthresh:64088 notsent:448880 minrtt:101.98\n",
      "1726389568.222703"
     ]
    },
    {
     "name": "stderr",
     "output_type": "stream",
     "text": [
      "Failed to open cgroup2 by ID\n",
      "Failed to open cgroup2 by ID\n",
      "Failed to open cgroup2 by ID\n",
      "Failed to open cgroup2 by ID\n"
     ]
    },
    {
     "name": "stdout",
     "output_type": "stream",
     "text": [
      " tcp ESTAB 0      137560 10.0.0.100:60476 12.1.1.130:4000 users:((\"iperf3\",pid=22224,fd=5)) timer:(on,316ms,0) uid:39791 ino:200946 sk:70 cgroup:unreachable:2010c00000052 <->\n",
      "1726389568.223246 tcp ESTAB 0      0      10.0.0.100:58044 12.1.1.66:4000 users:((\"iperf3\",pid=22225,fd=4)) uid:39791 ino:200687 sk:6e cgroup:unreachable:2010c00000052 <->\n",
      "1726389568.223719 \t ts sack cubic wscale:12,7 rto:432 rtt:230.398/6.263 mss:1448 pmtu:1500 rcvmss:536 advmss:1448 cwnd:5 ssthresh:5 bytes_sent:522765 bytes_retrans:40544 bytes_acked:470638 segs_out:364 segs_in:288 data_segs_out:362 send 251391bps lastsnd:116 lastrcv:9692 lastack:116 pacing_rate 362000bps delivery_rate 145296bps delivered:330 busy:9452ms unacked:8 retrans:3/28 lost:3 sacked:3 rcv_space:14480 rcv_ssthresh:64088 notsent:125976 minrtt:202.741\n",
      " \t ts sack cubic wscale:12,7 rto:644 rtt:240.283/66.611 ato:40 mss:1448 pmtu:1500 rcvmss:536 advmss:1448 cwnd:10 bytes_sent:162 bytes_acked:163 bytes_received:4 segs_out:9 segs_in:8 data_segs_out:3 data_segs_in:4 send 482098bps lastsnd:10272 lastrcv:9328 lastack:9328 pacing_rate 964192bps delivery_rate 56832bps delivered:4 app_limited busy:676ms rcv_space:14480 rcv_ssthresh:64088 minrtt:203.825                                                  \n",
      "1726389568.5371451726389568.538892 tcp ESTAB 0      427160 10.0.0.100:39064 12.1.1.66:4000 users:((\"iperf3\",pid=22225,fd=5)) timer:(on,416ms,0) uid:39791 ino:200945 sk:71 cgroup:unreachable:2010c00000052 <->\n",
      "1726389568.539483 \t ts sack cubic wscale:12,7 rto:440 rtt:236.63/0.39 mss:1448 pmtu:1500 rcvmss:536 advmss:1448 cwnd:15 ssthresh:7 bytes_sent:1408941 bytes_retrans:30408 bytes_acked:1356814 segs_out:976 segs_in:610 data_segs_out:974 send 734311bps lastsnd:24 lastrcv:10148 lastack:28 pacing_rate 881168bps delivery_rate 731592bps delivered:939 busy:9876ms unacked:15 retrans:0/21 rcv_space:14480 rcv_ssthresh:64088 notsent:405440 minrtt:101.98\n",
      "1726389568.539974 tcp ESTAB 0      0      10.0.0.100:58044 12.1.1.66:4000 users:((\"iperf3\",pid=22225,fd=4)) uid:39791 ino:200687 sk:6e cgroup:unreachable:2010c00000052 <->\n",
      "1726389568.540320 \t ts sack cubic wscale:12,7 rto:644 rtt:240.283/66.611 ato:40 mss:1448 pmtu:1500 rcvmss:536 advmss:1448 cwnd:10 bytes_sent:162 bytes_acked:163 bytes_received:4 segs_out:9 segs_in:8 data_segs_out:3 data_segs_in:4 send 482098bps lastsnd:10588 lastrcv:9644 lastack:9644 pacing_rate 964192bps delivery_rate 56832bps delivered:4 app_limited busy:676ms rcv_space:14480 rcv_ssthresh:64088 minrtt:203.825                                                \n",
      " tcp ESTAB 0      0      10.0.0.100:57612 12.1.1.130:4000 users:((\"iperf3\",pid=22224,fd=4)) uid:39791 ino:200688 sk:6f cgroup:unreachable:2010c00000052 <->\n",
      "1726389568.542333 \t ts sack cubic wscale:12,7 rto:832 rtt:283.134/109.099 ato:40 mss:1448 pmtu:1500 rcvmss:536 advmss:1448 cwnd:10 bytes_sent:162 bytes_acked:163 bytes_received:4 segs_out:9 segs_in:8 data_segs_out:3 data_segs_in:4 send 409135bps lastsnd:10524 lastrcv:9544 lastack:9544 pacing_rate 818264bps delivery_rate 57064bps delivered:4 app_limited busy:676ms rcv_space:14480 rcv_ssthresh:64088 minrtt:202.988\n",
      "1726389568.542682 tcp ESTAB 0      125976 10.0.0.100:60476 12.1.1.130:4000 users:((\"iperf3\",pid=22224,fd=5)) timer:(on,236ms,0) uid:39791 ino:200946 sk:70 cgroup:unreachable:2010c00000052 <->\n",
      "1726389568.543001 \t ts sack cubic wscale:12,7 rto:436 rtt:233.589/6.173 mss:1448 pmtu:1500 rcvmss:536 advmss:1448 cwnd:5 ssthresh:5 bytes_sent:530005 bytes_retrans:40544 bytes_acked:482222 segs_out:369 segs_in:292 data_segs_out:367 send 247957bps lastsnd:200 lastrcv:10016 lastack:200 pacing_rate 297544bps delivery_rate 242984bps delivered:335 busy:9776ms unacked:5 retrans:0/28 rcv_space:14480 rcv_ssthresh:64088 notsent:118736 minrtt:202.741\n"
     ]
    },
    {
     "name": "stderr",
     "output_type": "stream",
     "text": [
      "Failed to open cgroup2 by ID\n",
      "Failed to open cgroup2 by ID\n",
      "Failed to open cgroup2 by ID\n",
      "Failed to open cgroup2 by ID\n"
     ]
    },
    {
     "name": "stdout",
     "output_type": "stream",
     "text": [
      "1726389568.855374 tcp ESTAB 0      405440 10.0.0.100:39064 12.1.1.66:4000 users:((\"iperf3\",pid=22225,fd=5)) timer:(on,272ms,0) uid:39791 ino:200945 sk:71 cgroup:unreachable:2010c00000052 <->\n",
      "1726389568.858560 \t ts sack cubic wscale:12,7 rto:416 rtt:214.992/5.059 mss:1448 pmtu:1500 rcvmss:536 advmss:1448 cwnd:15 ssthresh:7 bytes_sent:1430661 bytes_retrans:30408 bytes_acked:1378534 segs_out:991 segs_in:618 data_segs_out:989 send 808216bps lastsnd:144 lastrcv:10472 lastack:148 pacing_rate 969856bps delivery_rate 733152bps delivered:954 busy:10200ms unacked:15 retrans:0/21 rcv_space:14480 rcv_ssthresh:64088 notsent:383720 minrtt:101.98\n",
      "1726389568.859154 tcp ESTAB 0      0      10.0.0.100:58044 12.1.1.66:4000 users:((\"iperf3\",pid=22225,fd=4)) uid:39791 ino:200687 sk:6e cgroup:unreachable:2010c00000052 <->\n"
     ]
    },
    {
     "name": "stderr",
     "output_type": "stream",
     "text": [
      "Failed to open cgroup2 by ID\n",
      "Failed to open cgroup2 by ID\n",
      "Failed to open cgroup2 by ID\n",
      "Failed to open cgroup2 by ID\n"
     ]
    },
    {
     "name": "stdout",
     "output_type": "stream",
     "text": [
      "1726389568.859614 \t ts sack cubic wscale:12,7 rto:644 rtt:240.283/66.611 ato:40 mss:1448 pmtu:1500 rcvmss:536 advmss:1448 cwnd:10 bytes_sent:162 bytes_acked:163 bytes_received:4 segs_out:9 segs_in:8 data_segs_out:3 data_segs_in:4 send 482098bps lastsnd:10912 lastrcv:9968 lastack:9968 pacing_rate 964192bps delivery_rate 56832bps delivered:4 app_limited busy:676ms rcv_space:14480 rcv_ssthresh:64088 minrtt:203.825                                                     \n",
      "1726389568.863014 tcp ESTAB 0      0      10.0.0.100:57612 12.1.1.130:4000 users:((\"iperf3\",pid=22224,fd=4)) uid:39791 ino:200688 sk:6f cgroup:unreachable:2010c00000052 <->\n",
      "1726389568.863703 \t ts sack cubic wscale:12,7 rto:832 rtt:283.134/109.099 ato:40 mss:1448 pmtu:1500 rcvmss:536 advmss:1448 cwnd:10 bytes_sent:162 bytes_acked:163 bytes_received:4 segs_out:9 segs_in:8 data_segs_out:3 data_segs_in:4 send 409135bps lastsnd:10840 lastrcv:9860 lastack:9860 pacing_rate 818264bps delivery_rate 57064bps delivered:4 app_limited busy:676ms rcv_space:14480 rcv_ssthresh:64088 minrtt:202.988\n",
      "1726389568.864261 tcp ESTAB 0      175208 10.0.0.100:60476 12.1.1.130:4000 users:((\"iperf3\",pid=22224,fd=5)) timer:(on,352ms,0) uid:39791 ino:200946 sk:70 cgroup:unreachable:2010c00000052 <->\n",
      "1726389568.864589 \t ts sack cubic wscale:12,7 rto:428 rtt:226.806/10.439 mss:1448 pmtu:1500 rcvmss:536 advmss:1448 cwnd:6 ssthresh:5 bytes_sent:547381 bytes_retrans:40544 bytes_acked:498150 segs_out:381 segs_in:297 data_segs_out:379 send 306447bps lastsnd:76 lastrcv:10332 lastack:76 pacing_rate 367728bps delivery_rate 292160bps delivered:346 busy:10092ms unacked:6 retrans:0/28 rcv_space:14480 rcv_ssthresh:64088 notsent:166520 minrtt:202.451\n",
      "1726389569.1765541726389569.179554 tcp ESTAB 0      0      10.0.0.100:57612 12.1.1.130:4000 users:((\"iperf3\",pid=22224,fd=4)) uid:39791 ino:200688 sk:6f cgroup:unreachable:2010c00000052 <->\n",
      "1726389569.180106 \t ts sack cubic wscale:12,7 rto:832 rtt:283.134/109.099 ato:40 mss:1448 pmtu:1500 rcvmss:536 advmss:1448 cwnd:10 bytes_sent:162 bytes_acked:163 bytes_received:4 segs_out:9 segs_in:8 data_segs_out:3 data_segs_in:4 send 409135bps lastsnd:11160 lastrcv:10180 lastack:10180 pacing_rate 818264bps delivery_rate 57064bps delivered:4 app_limited busy:676ms rcv_space:14480 rcv_ssthresh:64088 minrtt:202.988\n",
      "1726389569.180490 tcp ESTAB 0      166520 10.0.0.100:60476 12.1.1.130:4000 users:((\"iperf3\",pid=22224,fd=5)) timer:(on,276ms,0) uid:39791 ino:200946 sk:70 cgroup:unreachable:2010c00000052 <->\n",
      "1726389569.180806 \t ts sack cubic wscale:12,7 rto:432 rtt:230.638/10.13 mss:1448 pmtu:1500 rcvmss:536 advmss:1448 cwnd:6 ssthresh:5 bytes_sent:556069 bytes_retrans:40544 bytes_acked:506838 segs_out:387 segs_in:300 data_segs_out:385 send 301355bps lastsnd:156 lastrcv:10652 lastack:156 pacing_rate 361624bps delivery_rate 291216bps delivered:352 busy:10412ms unacked:6 retrans:0/28 rcv_space:14480 rcv_ssthresh:64088 notsent:157832 minrtt:202.451\n",
      " tcp ESTAB 0      383720 10.0.0.100:39064 12.1.1.66:4000 users:((\"iperf3\",pid=22225,fd=5)) timer:(on,204ms,0) uid:39791 ino:200945 sk:71 cgroup:unreachable:2010c00000052 <->\n",
      "1726389569.182514 \t ts sack cubic wscale:12,7 rto:432 rtt:229.463/10.887 mss:1448 pmtu:1500 rcvmss:536 advmss:1448 cwnd:17 ssthresh:7 bytes_sent:1455277 bytes_retrans:30408 bytes_acked:1400254 segs_out:1008 segs_in:626 data_segs_out:1006 send 858212bps lastsnd:228 lastrcv:10792 lastack:228 pacing_rate 1029848bps delivery_rate 729960bps delivered:969 busy:10520ms unacked:17 retrans:0/21 rcv_space:14480 rcv_ssthresh:64088 notsent:359104 minrtt:101.98\n",
      "1726389569.182853 tcp ESTAB 0      0      10.0.0.100:58044 12.1.1.66:4000 users:((\"iperf3\",pid=22225,fd=4)) uid:39791 ino:200687 sk:6e cgroup:unreachable:2010c00000052 <->\n",
      "1726389569.183163 \t ts sack cubic wscale:12,7 rto:644 rtt:240.283/66.611 ato:40 mss:1448 pmtu:1500 rcvmss:536 advmss:1448 cwnd:10 bytes_sent:162 bytes_acked:163 bytes_received:4 segs_out:9 segs_in:8 data_segs_out:3 data_segs_in:4 send 482098bps lastsnd:11232 lastrcv:10288 lastack:10288 pacing_rate 964192bps delivery_rate 56832bps delivered:4 app_limited busy:676ms rcv_space:14480 rcv_ssthresh:64088 minrtt:203.825                                                       \n"
     ]
    },
    {
     "name": "stderr",
     "output_type": "stream",
     "text": [
      "Failed to open cgroup2 by ID\n",
      "Failed to open cgroup2 by ID\n",
      "Failed to open cgroup2 by ID\n",
      "Failed to open cgroup2 by ID\n"
     ]
    },
    {
     "name": "stdout",
     "output_type": "stream",
     "text": [
      "1726389569.4962771726389569.498786 tcp ESTAB 0      0      10.0.0.100:57612 12.1.1.130:4000 users:((\"iperf3\",pid=22224,fd=4)) uid:39791 ino:200688 sk:6f cgroup:unreachable:2010c00000052 <->\n",
      "1726389569.499162 \t ts sack cubic wscale:12,7 rto:832 rtt:283.134/109.099 ato:40 mss:1448 pmtu:1500 rcvmss:536 advmss:1448 cwnd:10 bytes_sent:162 bytes_acked:163 bytes_received:4 segs_out:9 segs_in:8 data_segs_out:3 data_segs_in:4 send 409135bps lastsnd:11480 lastrcv:10500 lastack:10500 pacing_rate 818264bps delivery_rate 57064bps delivered:4 app_limited busy:676ms rcv_space:14480 rcv_ssthresh:64088 minrtt:202.988\n",
      "1726389569.499274 tcp ESTAB 0      160728 10.0.0.100:60476 12.1.1.130:4000 users:((\"iperf3\",pid=22224,fd=5)) timer:(on,196ms,0) uid:39791 ino:200946 sk:70 cgroup:unreachable:2010c00000052 <->\n",
      "1726389569.499329 \t ts sack cubic wscale:12,7 rto:436 rtt:232.263/8.516 mss:1448 pmtu:1500 rcvmss:536 advmss:1448 cwnd:7 ssthresh:5 bytes_sent:561861 bytes_retrans:40544 bytes_acked:512630 segs_out:391 segs_in:302 data_segs_out:389 send 349121bps lastsnd:240 lastrcv:10972 lastack:240 pacing_rate 418944bps delivery_rate 243296bps delivered:356 busy:10732ms unacked:6 retrans:0/28 rcv_space:14480 rcv_ssthresh:64088 notsent:152040 minrtt:202.451\n",
      " tcp ESTAB 0      360552 10.0.0.100:39064 12.1.1.66:4000 users:((\"iperf3\",pid=22225,fd=5)) timer:(on,364ms,0) uid:39791 ino:200945 sk:71 cgroup:unreachable:2010c00000052 <->\n",
      "1726389569.500739 \t ts sack cubic wscale:12,7 rto:436 rtt:235.74/2.506 mss:1448 pmtu:1500 rcvmss:536 advmss:1448 cwnd:11 ssthresh:11 bytes_sent:1494373 bytes_retrans:31856 bytes_acked:1423422 segs_out:1035 segs_in:640 data_segs_out:1033 send 540528bps lastsnd:72 lastrcv:11112 lastack:72 pacing_rate 1238296bps delivery_rate 779136bps delivered:1001 busy:10840ms unacked:27 retrans:1/22 lost:1 sacked:16 rcv_space:14480 rcv_ssthresh:64088 notsent:321456 minrtt:101.98\n",
      "1726389569.500821 tcp ESTAB 0      0      10.0.0.100:58044 12.1.1.66:4000 users:((\"iperf3\",pid=22225,fd=4)) uid:39791 ino:200687 sk:6e cgroup:unreachable:2010c00000052 <->\n",
      "1726389569.500870 \t ts sack cubic wscale:12,7 rto:644 rtt:240.283/66.611 ato:40 mss:1448 pmtu:1500 rcvmss:536 advmss:1448 cwnd:10 bytes_sent:162 bytes_acked:163 bytes_received:4 segs_out:9 segs_in:8 data_segs_out:3 data_segs_in:4 send 482098bps lastsnd:11552 lastrcv:10608 lastack:10608 pacing_rate 964192bps delivery_rate 56832bps delivered:4 app_limited busy:676ms rcv_space:14480 rcv_ssthresh:64088 minrtt:203.825                                                                      \n"
     ]
    },
    {
     "name": "stderr",
     "output_type": "stream",
     "text": [
      "Failed to open cgroup2 by ID\n",
      "Failed to open cgroup2 by ID\n",
      "Failed to open cgroup2 by ID\n",
      "Failed to open cgroup2 by ID\n"
     ]
    },
    {
     "name": "stdout",
     "output_type": "stream",
     "text": [
      "1726389569.8215941726389569.824819 tcp ESTAB 0      0      10.0.0.100:57612 12.1.1.130:4000 users:((\"iperf3\",pid=22224,fd=4)) uid:39791 ino:200688 sk:6f cgroup:unreachable:2010c00000052 <->\n",
      "1726389569.825481 \t ts sack cubic wscale:12,7 rto:832 rtt:283.134/109.099 ato:40 mss:1448 pmtu:1500 rcvmss:536 advmss:1448 cwnd:10 bytes_sent:162 bytes_acked:163 bytes_received:4 segs_out:9 segs_in:8 data_segs_out:3 data_segs_in:4 send 409135bps lastsnd:11804 lastrcv:10824 lastack:10824 pacing_rate 818264bps delivery_rate 57064bps delivered:4 app_limited busy:676ms rcv_space:14480 rcv_ssthresh:64088 minrtt:202.988\n",
      " tcp ESTAB 0      516936 10.0.0.100:39064 12.1.1.66:4000 users:((\"iperf3\",pid=22225,fd=5)) timer:(on,228ms,0) uid:39791 ino:200945 sk:71 cgroup:unreachable:2010c00000052 <->\n",
      "1726389569.8263441726389569.826693 tcp ESTAB 0      149144 10.0.0.100:60476 12.1.1.130:4000 users:((\"iperf3\",pid=22224,fd=5)) timer:(on,308ms,0) uid:39791 ino:200946 sk:70 cgroup:unreachable:2010c00000052 <->\n",
      "1726389569.827173 \t ts sack cubic wscale:12,7 rto:420 rtt:219.972/5.345 mss:1448 pmtu:1500 rcvmss:536 advmss:1448 cwnd:11 ssthresh:11 bytes_sent:1510301 bytes_retrans:31856 bytes_acked:1462518 segs_out:1046 segs_in:646 data_segs_out:1044 send 579274bps lastsnd:192 lastrcv:11436 lastack:192 pacing_rate 695128bps delivery_rate 535904bps delivered:1012 busy:11164ms unacked:11 retrans:0/22 rcv_space:14480 rcv_ssthresh:64088 notsent:501008 minrtt:101.98\n",
      "1726389569.827524 \t ts sack cubic wscale:12,7 rto:428 rtt:227.124/16.103 mss:1448 pmtu:1500 rcvmss:536 advmss:1448 cwnd:4 ssthresh:4 bytes_sent:573445 bytes_retrans:43440 bytes_acked:524214 segs_out:399 segs_in:309 data_segs_out:397 send 204012bps lastsnd:120 lastrcv:11296 lastack:120 pacing_rate 244808bps delivery_rate 170336bps delivered:364 busy:11056ms unacked:4 retrans:0/30 rcv_space:14480 rcv_ssthresh:64088 notsent:143352 minrtt:169.604\n",
      " tcp ESTAB 0      0      10.0.0.100:58044 12.1.1.66:4000 users:((\"iperf3\",pid=22225,fd=4)) uid:39791 ino:200687 sk:6e cgroup:unreachable:2010c00000052 <->\n",
      "1726389569.829483 \t ts sack cubic wscale:12,7 rto:644 rtt:240.283/66.611 ato:40 mss:1448 pmtu:1500 rcvmss:536 advmss:1448 cwnd:10 bytes_sent:162 bytes_acked:163 bytes_received:4 segs_out:9 segs_in:8 data_segs_out:3 data_segs_in:4 send 482098bps lastsnd:11876 lastrcv:10932 lastack:10932 pacing_rate 964192bps delivery_rate 56832bps delivered:4 app_limited busy:676ms rcv_space:14480 rcv_ssthresh:64088 minrtt:203.825                                                       \n"
     ]
    },
    {
     "name": "stderr",
     "output_type": "stream",
     "text": [
      "Failed to open cgroup2 by ID\n",
      "Failed to open cgroup2 by ID\n",
      "Failed to open cgroup2 by ID\n",
      "Failed to open cgroup2 by ID\n"
     ]
    },
    {
     "name": "stdout",
     "output_type": "stream",
     "text": [
      "1726389570.1405601726389570.141922 tcp ESTAB 0      0      10.0.0.100:57612 12.1.1.130:4000 users:((\"iperf3\",pid=22224,fd=4)) uid:39791 ino:200688 sk:6f cgroup:unreachable:2010c00000052 <->\n",
      "1726389570.142658 \t ts sack cubic wscale:12,7 rto:832 rtt:283.134/109.099 ato:40 mss:1448 pmtu:1500 rcvmss:536 advmss:1448 cwnd:10 bytes_sent:162 bytes_acked:163 bytes_received:4 segs_out:9 segs_in:8 data_segs_out:3 data_segs_in:4 send 409135bps lastsnd:12128 lastrcv:11148 lastack:11148 pacing_rate 818264bps delivery_rate 57064bps delivered:4 app_limited busy:676ms rcv_space:14480 rcv_ssthresh:64088 minrtt:202.988\n",
      "1726389570.143194 tcp ESTAB 0      133216 10.0.0.100:60476 12.1.1.130:4000 users:((\"iperf3\",pid=22224,fd=5)) timer:(on,424ms,0) uid:39791 ino:200946 sk:70 cgroup:unreachable:2010c00000052 <->\n",
      "1726389570.143743 tcp ESTAB 0      495216 10.0.0.100:39064 12.1.1.66:4000 users:((\"iperf3\",pid=22225,fd=5)) timer:(on,160ms,0) uid:39791 ino:200945 sk:71 cgroup:unreachable:2010c00000052 <->\n",
      "1726389570.144208 \t ts sack cubic wscale:12,7 rto:428 rtt:227.902/13.596 mss:1448 pmtu:1500 rcvmss:536 advmss:1448 cwnd:7 ssthresh:4 bytes_sent:593717 bytes_retrans:43440 bytes_acked:540142 segs_out:413 segs_in:315 data_segs_out:411 send 355802bps lastsnd:4 lastrcv:11620 lastack:4 pacing_rate 426960bps delivery_rate 341712bps delivered:375 busy:11380ms unacked:7 retrans:0/30 rcv_space:14480 rcv_ssthresh:64088 notsent:123080 minrtt:169.604\n",
      " \t ts sack cubic wscale:12,7 rto:432 rtt:230.882/8.889 mss:1448 pmtu:1500 rcvmss:536 advmss:1448 cwnd:15 ssthresh:11 bytes_sent:1537813 bytes_retrans:31856 bytes_acked:1484238 segs_out:1065 segs_in:654 data_segs_out:1063 send 752592bps lastsnd:36 lastrcv:11752 lastack:36 pacing_rate 903104bps delivery_rate 536376bps delivered:1027 busy:11480ms unacked:15 retrans:0/22 rcv_space:14480 rcv_ssthresh:64088 notsent:473496 minrtt:101.98\n",
      "1726389570.146347 tcp ESTAB 0      0      10.0.0.100:58044 12.1.1.66:4000 users:((\"iperf3\",pid=22225,fd=4)) uid:39791 ino:200687 sk:6e cgroup:unreachable:2010c00000052 <->\n",
      "1726389570.146747 \t ts sack cubic wscale:12,7 rto:644 rtt:240.283/66.611 ato:40 mss:1448 pmtu:1500 rcvmss:536 advmss:1448 cwnd:10 bytes_sent:162 bytes_acked:163 bytes_received:4 segs_out:9 segs_in:8 data_segs_out:3 data_segs_in:4 send 482098bps lastsnd:12192 lastrcv:11248 lastack:11248 pacing_rate 964192bps delivery_rate 56832bps delivered:4 app_limited busy:676ms rcv_space:14480 rcv_ssthresh:64088 minrtt:203.825                                                     \n"
     ]
    },
    {
     "name": "stderr",
     "output_type": "stream",
     "text": [
      "Failed to open cgroup2 by ID\n",
      "Failed to open cgroup2 by ID\n",
      "Failed to open cgroup2 by ID\n",
      "Failed to open cgroup2 by ID\n"
     ]
    },
    {
     "name": "stdout",
     "output_type": "stream",
     "text": [
      "1726389570.460265 tcp ESTAB 0      0      10.0.0.100:57612 12.1.1.130:4000 users:((\"iperf3\",pid=22224,fd=4)) uid:39791 ino:200688 sk:6f cgroup:unreachable:2010c00000052 <->\n",
      "1726389570.460924 \t ts sack cubic wscale:12,7 rto:832 rtt:283.134/109.099 ato:40 mss:1448 pmtu:1500 rcvmss:536 advmss:1448 cwnd:10 bytes_sent:162 bytes_acked:163 bytes_received:4 segs_out:9 segs_in:8 data_segs_out:3 data_segs_in:4 send 409135bps lastsnd:12448 lastrcv:11468 lastack:11468 pacing_rate 818264bps delivery_rate 57064bps delivered:4 app_limited busy:676ms rcv_space:14480 rcv_ssthresh:64088 minrtt:202.988\n",
      "1726389570.461443 tcp ESTAB 0      123080 10.0.0.100:60476 12.1.1.130:4000 users:((\"iperf3\",pid=22224,fd=5)) timer:(on,344ms,0) uid:39791 ino:200946 sk:70 cgroup:unreachable:2010c00000052 <->\n",
      "1726389570.462551 \t ts sack cubic wscale:12,7 rto:432 rtt:230.69/9.869 mss:1448 pmtu:1500 rcvmss:536 advmss:1448 cwnd:7 ssthresh:4 bytes_sent:603853 bytes_retrans:43440 bytes_acked:550278 segs_out:420 segs_in:318 data_segs_out:418 send 351502bps lastsnd:88 lastrcv:11940 lastack:88 pacing_rate 421800bps delivery_rate 341072bps delivered:382 busy:11700ms unacked:7 retrans:0/30 rcv_space:14480 rcv_ssthresh:64088 notsent:112944 minrtt:169.604\n",
      "1726389570.464617 tcp ESTAB 0      495216 10.0.0.100:39064 12.1.1.66:4000 users:((\"iperf3\",pid=22225,fd=5)) timer:(on,420ms,0) uid:39791 ino:200945 sk:71 cgroup:unreachable:2010c00000052 <->\n",
      "1726389570.465214 \t ts sack cubic wscale:12,7 rto:436 rtt:233.361/34.204 mss:1448 pmtu:1500 rcvmss:536 advmss:1448 cwnd:5 ssthresh:10 bytes_sent:1546501 bytes_retrans:39096 bytes_acked:1484238 segs_out:1071 segs_in:659 data_segs_out:1069 send 248199bps lastsnd:16 lastrcv:12072 lastack:16 pacing_rate 953080bps delivery_rate 133032bps delivered:1032 busy:11800ms unacked:16 retrans:5/27 lost:11 sacked:5 rcv_space:14480 rcv_ssthresh:64088 notsent:472048 minrtt:101.98\n",
      "1726389570.465547 tcp ESTAB 0      0      10.0.0.100:58044 12.1.1.66:4000 users:((\"iperf3\",pid=22225,fd=4)) uid:39791 ino:200687 sk:6e cgroup:unreachable:2010c00000052 <->\n",
      "1726389570.465947 \t ts sack cubic wscale:12,7 rto:644 rtt:240.283/66.611 ato:40 mss:1448 pmtu:1500 rcvmss:536 advmss:1448 cwnd:10 bytes_sent:162 bytes_acked:163 bytes_received:4 segs_out:9 segs_in:8 data_segs_out:3 data_segs_in:4 send 482098bps lastsnd:12512 lastrcv:11568 lastack:11568 pacing_rate 964192bps delivery_rate 56832bps delivered:4 app_limited busy:676ms rcv_space:14480 rcv_ssthresh:64088 minrtt:203.825                                                                      \n"
     ]
    },
    {
     "name": "stderr",
     "output_type": "stream",
     "text": [
      "Failed to open cgroup2 by ID\n",
      "Failed to open cgroup2 by ID\n",
      "Failed to open cgroup2 by ID\n",
      "Failed to open cgroup2 by ID\n"
     ]
    },
    {
     "name": "stdout",
     "output_type": "stream",
     "text": [
      "1726389570.7767521726389570.779673 tcp ESTAB 0      487976 10.0.0.100:39064 12.1.1.66:4000 users:((\"iperf3\",pid=22225,fd=5)) timer:(on,320ms,0) uid:39791 ino:200945 sk:71 cgroup:unreachable:2010c00000052 <->\n",
      "1726389570.780293 \t ts sack cubic wscale:12,7 rto:420 rtt:218.891/26.428 mss:1448 pmtu:1500 rcvmss:536 advmss:1448 cwnd:10 ssthresh:10 bytes_sent:1560981 bytes_retrans:47784 bytes_acked:1491478 segs_out:1081 segs_in:664 data_segs_out:1079 send 529213bps lastsnd:100 lastrcv:12392 lastack:100 pacing_rate 825568bps delivery_rate 244120bps delivered:1037 busy:12120ms unacked:15 retrans:6/33 lost:6 sacked:5 rcv_space:14480 rcv_ssthresh:64088 notsent:466256 minrtt:101.98\n",
      "1726389570.780896 tcp ESTAB 0      0      10.0.0.100:58044 12.1.1.66:4000 users:((\"iperf3\",pid=22225,fd=4)) uid:39791 ino:200687 sk:6e cgroup:unreachable:2010c00000052 <->\n",
      "1726389570.781457 \t ts sack cubic wscale:12,7 rto:644 rtt:240.283/66.611 ato:40 mss:1448 pmtu:1500 rcvmss:536 advmss:1448 cwnd:10 bytes_sent:162 bytes_acked:163 bytes_received:4 segs_out:9 segs_in:8 data_segs_out:3 data_segs_in:4 send 482098bps lastsnd:12832 lastrcv:11888 lastack:11888 pacing_rate 964192bps delivery_rate 56832bps delivered:4 app_limited busy:676ms rcv_space:14480 rcv_ssthresh:64088 minrtt:203.825                                                                        \n",
      " tcp ESTAB 0      0      10.0.0.100:57612 12.1.1.130:4000 users:((\"iperf3\",pid=22224,fd=4)) uid:39791 ino:200688 sk:6f cgroup:unreachable:2010c00000052 <->\n",
      "1726389570.782528 \t ts sack cubic wscale:12,7 rto:832 rtt:283.134/109.099 ato:40 mss:1448 pmtu:1500 rcvmss:536 advmss:1448 cwnd:10 bytes_sent:162 bytes_acked:163 bytes_received:4 segs_out:9 segs_in:8 data_segs_out:3 data_segs_in:4 send 409135bps lastsnd:12760 lastrcv:11780 lastack:11780 pacing_rate 818264bps delivery_rate 57064bps delivered:4 app_limited busy:676ms rcv_space:14480 rcv_ssthresh:64088 minrtt:202.988\n",
      "1726389570.784265 tcp ESTAB 0      243264 10.0.0.100:60476 12.1.1.130:4000 users:((\"iperf3\",pid=22224,fd=5)) timer:(on,276ms,0) uid:39791 ino:200946 sk:70 cgroup:unreachable:2010c00000052 <->\n",
      "1726389570.784622 \t ts sack cubic wscale:12,7 rto:436 rtt:233.848/7.134 mss:1448 pmtu:1500 rcvmss:536 advmss:1448 cwnd:7 ssthresh:4 bytes_sent:613989 bytes_retrans:43440 bytes_acked:560414 segs_out:427 segs_in:322 data_segs_out:425 send 346755bps lastsnd:160 lastrcv:12252 lastack:160 pacing_rate 416104bps delivery_rate 339536bps delivered:389 busy:12012ms unacked:7 retrans:0/30 rcv_space:14480 rcv_ssthresh:64088 notsent:233128 minrtt:169.604\n"
     ]
    },
    {
     "name": "stderr",
     "output_type": "stream",
     "text": [
      "Failed to open cgroup2 by ID\n",
      "Failed to open cgroup2 by ID\n",
      "Failed to open cgroup2 by ID\n",
      "Failed to open cgroup2 by ID\n"
     ]
    },
    {
     "name": "stdout",
     "output_type": "stream",
     "text": [
      "1726389571.0972931726389571.099050 tcp ESTAB 0      451776 10.0.0.100:39064 12.1.1.66:4000 users:((\"iperf3\",pid=22225,fd=5)) timer:(on,344ms,0) uid:39791 ino:200945 sk:71 cgroup:unreachable:2010c00000052 <->\n",
      "1726389571.099668 \t ts sack cubic wscale:12,7 rto:420 rtt:219.131/17.635 mss:1448 pmtu:1500 rcvmss:536 advmss:1448 cwnd:11 ssthresh:10 bytes_sent:1591389 bytes_retrans:47784 bytes_acked:1527678 segs_out:1102 segs_in:677 data_segs_out:1100 send 581497bps lastsnd:44 lastrcv:12712 lastack:44 pacing_rate 697792bps delivery_rate 564536bps delivered:1057 busy:12440ms unacked:11 retrans:0/33 rcv_space:14480 rcv_ssthresh:64088 notsent:435848 minrtt:101.98\n",
      "1726389571.100258 tcp ESTAB 0      0      10.0.0.100:58044 12.1.1.66:4000 users:((\"iperf3\",pid=22225,fd=4)) uid:39791 ino:200687 sk:6e cgroup:unreachable:2010c00000052 <->\n",
      "1726389571.100766 \t ts sack cubic wscale:12,7 rto:644 rtt:240.283/66.611 ato:40 mss:1448 pmtu:1500 rcvmss:536 advmss:1448 cwnd:10 bytes_sent:162 bytes_acked:163 bytes_received:4 segs_out:9 segs_in:8 data_segs_out:3 data_segs_in:4 send 482098bps lastsnd:13152 lastrcv:12208 lastack:12208 pacing_rate 964192bps delivery_rate 56832bps delivered:4 app_limited busy:676ms rcv_space:14480 rcv_ssthresh:64088 minrtt:203.825                                                      \n",
      " tcp ESTAB 0      0      10.0.0.100:57612 12.1.1.130:4000 users:((\"iperf3\",pid=22224,fd=4)) uid:39791 ino:200688 sk:6f cgroup:unreachable:2010c00000052 <->\n",
      "1726389571.102698 \t ts sack cubic wscale:12,7 rto:832 rtt:283.134/109.099 ato:40 mss:1448 pmtu:1500 rcvmss:536 advmss:1448 cwnd:10 bytes_sent:162 bytes_acked:163 bytes_received:4 segs_out:9 segs_in:8 data_segs_out:3 data_segs_in:4 send 409135bps lastsnd:13080 lastrcv:12100 lastack:12100 pacing_rate 818264bps delivery_rate 57064bps delivered:4 app_limited busy:676ms rcv_space:14480 rcv_ssthresh:64088 minrtt:202.988\n",
      "1726389571.103031 tcp ESTAB 0      233128 10.0.0.100:60476 12.1.1.130:4000 users:((\"iperf3\",pid=22224,fd=5)) timer:(on,196ms,0) uid:39791 ino:200946 sk:70 cgroup:unreachable:2010c00000052 <->\n",
      "1726389571.103343 \t ts sack cubic wscale:12,7 rto:436 rtt:235.395/5.273 mss:1448 pmtu:1500 rcvmss:536 advmss:1448 cwnd:7 ssthresh:4 bytes_sent:624125 bytes_retrans:43440 bytes_acked:570550 segs_out:434 segs_in:325 data_segs_out:432 send 344476bps lastsnd:240 lastrcv:12572 lastack:244 pacing_rate 413368bps delivery_rate 339416bps delivered:396 busy:12332ms unacked:7 retrans:0/30 rcv_space:14480 rcv_ssthresh:64088 notsent:222992 minrtt:169.604\n"
     ]
    },
    {
     "name": "stderr",
     "output_type": "stream",
     "text": [
      "Failed to open cgroup2 by ID\n",
      "Failed to open cgroup2 by ID\n",
      "Failed to open cgroup2 by ID\n",
      "Failed to open cgroup2 by ID\n"
     ]
    },
    {
     "name": "stdout",
     "output_type": "stream",
     "text": [
      "1726389571.4153311726389571.417204 tcp ESTAB 0      435848 10.0.0.100:39064 12.1.1.66:4000 users:((\"iperf3\",pid=22225,fd=5)) timer:(on,212ms,0) uid:39791 ino:200945 sk:71 cgroup:unreachable:2010c00000052 <->\n",
      "1726389571.417856 \t ts sack cubic wscale:12,7 rto:404 rtt:202.839/15.667 mss:1448 pmtu:1500 rcvmss:536 advmss:1448 cwnd:12 ssthresh:10 bytes_sent:1608765 bytes_retrans:47784 bytes_acked:1543606 segs_out:1114 segs_in:683 data_segs_out:1112 send 685312bps lastsnd:192 lastrcv:13032 lastack:192 pacing_rate 822368bps delivery_rate 744360bps delivered:1068 busy:12760ms unacked:12 retrans:0/33 rcv_space:14480 rcv_ssthresh:64088 notsent:418472 minrtt:101.98\n",
      "1726389571.418509 tcp ESTAB 0      0      10.0.0.100:58044 12.1.1.66:4000 users:((\"iperf3\",pid=22225,fd=4)) uid:39791 ino:200687 sk:6e cgroup:unreachable:2010c00000052 <->\n",
      "1726389571.418883 \t ts sack cubic wscale:12,7 rto:644 rtt:240.283/66.611 ato:40 mss:1448 pmtu:1500 rcvmss:536 advmss:1448 cwnd:10 bytes_sent:162 bytes_acked:163 bytes_received:4 segs_out:9 segs_in:8 data_segs_out:3 data_segs_in:4 send 482098bps lastsnd:13472 lastrcv:12528 lastack:12528 pacing_rate 964192bps delivery_rate 56832bps delivered:4 app_limited busy:676ms rcv_space:14480 rcv_ssthresh:64088 minrtt:203.825                                                        \n",
      " tcp ESTAB 0      0      10.0.0.100:57612 12.1.1.130:4000 users:((\"iperf3\",pid=22224,fd=4)) uid:39791 ino:200688 sk:6f cgroup:unreachable:2010c00000052 <->\n",
      "1726389571.420909 \t ts sack cubic wscale:12,7 rto:832 rtt:283.134/109.099 ato:40 mss:1448 pmtu:1500 rcvmss:536 advmss:1448 cwnd:10 bytes_sent:162 bytes_acked:163 bytes_received:4 segs_out:9 segs_in:8 data_segs_out:3 data_segs_in:4 send 409135bps lastsnd:13400 lastrcv:12420 lastack:12420 pacing_rate 818264bps delivery_rate 57064bps delivered:4 app_limited busy:676ms rcv_space:14480 rcv_ssthresh:64088 minrtt:202.988\n",
      "1726389571.421246 tcp ESTAB 0      222992 10.0.0.100:60476 12.1.1.130:4000 users:((\"iperf3\",pid=22224,fd=5)) timer:(on,204ms,0) uid:39791 ino:200946 sk:70 cgroup:unreachable:2010c00000052 <->\n",
      "1726389571.421561 \t ts sack cubic wscale:12,7 rto:460 rtt:258.6/37.043 mss:1448 pmtu:1500 rcvmss:536 advmss:1448 cwnd:7 ssthresh:4 bytes_sent:634261 bytes_retrans:43440 bytes_acked:580686 segs_out:441 segs_in:328 data_segs_out:439 send 313565bps lastsnd:256 lastrcv:12892 lastack:256 pacing_rate 376272bps delivery_rate 264784bps delivered:403 busy:12652ms unacked:7 retrans:0/30 rcv_space:14480 rcv_ssthresh:64088 notsent:212856 minrtt:169.604\n"
     ]
    },
    {
     "name": "stderr",
     "output_type": "stream",
     "text": [
      "Failed to open cgroup2 by ID\n",
      "Failed to open cgroup2 by ID\n",
      "Failed to open cgroup2 by ID\n",
      "Failed to open cgroup2 by ID\n"
     ]
    },
    {
     "name": "stdout",
     "output_type": "stream",
     "text": [
      "1726389571.737085 tcp ESTAB 0      0      10.0.0.100:57612 12.1.1.130:4000 users:((\"iperf3\",pid=22224,fd=4)) uid:39791 ino:200688 sk:6f cgroup:unreachable:2010c00000052 <->\n",
      "1726389571.737752 \t ts sack cubic wscale:12,7 rto:832 rtt:283.134/109.099 ato:40 mss:1448 pmtu:1500 rcvmss:536 advmss:1448 cwnd:10 bytes_sent:162 bytes_acked:163 bytes_received:4 segs_out:9 segs_in:8 data_segs_out:3 data_segs_in:4 send 409135bps lastsnd:13716 lastrcv:12736 lastack:12736 pacing_rate 818264bps delivery_rate 57064bps delivered:4 app_limited busy:676ms rcv_space:14480 rcv_ssthresh:64088 minrtt:202.988\n",
      "1726389571.738539 tcp ESTAB 0      212856 10.0.0.100:60476 12.1.1.130:4000 users:((\"iperf3\",pid=22224,fd=5)) timer:(on,208ms,0) uid:39791 ino:200946 sk:70 cgroup:unreachable:2010c00000052 <->\n",
      "1726389571.7390641726389571.740004 \t ts sack cubic wscale:12,7 rto:476 rtt:273.738/38.309 mss:1448 pmtu:1500 rcvmss:536 advmss:1448 cwnd:7 ssthresh:4 bytes_sent:644397 bytes_retrans:43440 bytes_acked:590822 segs_out:448 segs_in:331 data_segs_out:446 send 296225bps lastsnd:268 lastrcv:13208 lastack:268 pacing_rate 355464bps delivery_rate 264664bps delivered:410 busy:12968ms unacked:7 retrans:0/30 rcv_space:14480 rcv_ssthresh:64088 notsent:202720 minrtt:169.604\n",
      " tcp ESTAB 0      401096 10.0.0.100:39064 12.1.1.66:4000 users:((\"iperf3\",pid=22225,fd=5)) timer:(on,348ms,0) uid:39791 ino:200945 sk:71 cgroup:unreachable:2010c00000052 <->\n",
      "1726389571.742109 \t ts sack cubic wscale:12,7 rto:412 rtt:211.705/13.743 mss:1448 pmtu:1500 rcvmss:536 advmss:1448 cwnd:12 ssthresh:10 bytes_sent:1643517 bytes_retrans:47784 bytes_acked:1578358 segs_out:1138 segs_in:695 data_segs_out:1136 send 656612bps lastsnd:64 lastrcv:13348 lastack:68 pacing_rate 787928bps delivery_rate 584384bps delivered:1092 busy:13076ms unacked:12 retrans:0/33 rcv_space:14480 rcv_ssthresh:64088 notsent:383720 minrtt:101.98\n",
      "1726389571.742540 tcp ESTAB 0      0      10.0.0.100:58044 12.1.1.66:4000 users:((\"iperf3\",pid=22225,fd=4)) uid:39791 ino:200687 sk:6e cgroup:unreachable:2010c00000052 <->\n",
      "1726389571.742856 \t ts sack cubic wscale:12,7 rto:644 rtt:240.283/66.611 ato:40 mss:1448 pmtu:1500 rcvmss:536 advmss:1448 cwnd:10 bytes_sent:162 bytes_acked:163 bytes_received:4 segs_out:9 segs_in:8 data_segs_out:3 data_segs_in:4 send 482098bps lastsnd:13788 lastrcv:12844 lastack:12844 pacing_rate 964192bps delivery_rate 56832bps delivered:4 app_limited busy:676ms rcv_space:14480 rcv_ssthresh:64088 minrtt:203.825                                                      \n"
     ]
    },
    {
     "name": "stderr",
     "output_type": "stream",
     "text": [
      "Failed to open cgroup2 by ID\n",
      "Failed to open cgroup2 by ID\n",
      "Failed to open cgroup2 by ID\n",
      "Failed to open cgroup2 by ID\n"
     ]
    },
    {
     "name": "stdout",
     "output_type": "stream",
     "text": [
      "1726389572.054788 tcp ESTAB 0      0      10.0.0.100:57612 12.1.1.130:4000 users:((\"iperf3\",pid=22224,fd=4)) uid:39791 ino:200688 sk:6f cgroup:unreachable:2010c00000052 <->\n",
      "1726389572.0554211726389572.056038 \t ts sack cubic wscale:12,7 rto:832 rtt:283.134/109.099 ato:40 mss:1448 pmtu:1500 rcvmss:536 advmss:1448 cwnd:10 bytes_sent:162 bytes_acked:163 bytes_received:4 segs_out:9 segs_in:8 data_segs_out:3 data_segs_in:4 send 409135bps lastsnd:14044 lastrcv:13064 lastack:13064 pacing_rate 818264bps delivery_rate 57064bps delivered:4 app_limited busy:676ms rcv_space:14480 rcv_ssthresh:64088 minrtt:202.988\n",
      "1726389572.056712 tcp ESTAB 0      192584 10.0.0.100:60476 12.1.1.130:4000 users:((\"iperf3\",pid=22224,fd=5)) timer:(on,420ms,0) uid:39791 ino:200946 sk:70 cgroup:unreachable:2010c00000052 <->\n",
      "1726389572.057206 \t ts sack cubic wscale:12,7 rto:472 rtt:268.932/32.584 mss:1448 pmtu:1500 rcvmss:536 advmss:1448 cwnd:9 ssthresh:4 bytes_sent:667565 bytes_retrans:43440 bytes_acked:611094 segs_out:464 segs_in:337 data_segs_out:462 send 387667bps lastsnd:52 lastrcv:13536 lastack:52 pacing_rate 465192bps delivery_rate 265920bps delivered:424 busy:13296ms unacked:9 retrans:0/30 rcv_space:14480 rcv_ssthresh:64088 notsent:179552 minrtt:169.604\n",
      " tcp ESTAB 0      383720 10.0.0.100:39064 12.1.1.66:4000 users:((\"iperf3\",pid=22225,fd=5)) timer:(on,280ms,0) uid:39791 ino:200945 sk:71 cgroup:unreachable:2010c00000052 <->\n",
      "1726389572.058465 \t ts sack cubic wscale:12,7 rto:428 rtt:225.106/15.44 mss:1448 pmtu:1500 rcvmss:536 advmss:1448 cwnd:12 ssthresh:10 bytes_sent:1660893 bytes_retrans:47784 bytes_acked:1595734 segs_out:1150 segs_in:701 data_segs_out:1148 send 617522bps lastsnd:148 lastrcv:13668 lastack:152 pacing_rate 741024bps delivery_rate 587008bps delivered:1104 busy:13396ms unacked:12 retrans:0/33 rcv_space:14480 rcv_ssthresh:64088 notsent:366344 minrtt:101.98\n",
      "1726389572.058805 tcp ESTAB 0      0      10.0.0.100:58044 12.1.1.66:4000 users:((\"iperf3\",pid=22225,fd=4)) uid:39791 ino:200687 sk:6e cgroup:unreachable:2010c00000052 <->\n",
      "1726389572.059119 \t ts sack cubic wscale:12,7 rto:644 rtt:240.283/66.611 ato:40 mss:1448 pmtu:1500 rcvmss:536 advmss:1448 cwnd:10 bytes_sent:162 bytes_acked:163 bytes_received:4 segs_out:9 segs_in:8 data_segs_out:3 data_segs_in:4 send 482098bps lastsnd:14108 lastrcv:13164 lastack:13164 pacing_rate 964192bps delivery_rate 56832bps delivered:4 app_limited busy:676ms rcv_space:14480 rcv_ssthresh:64088 minrtt:203.825                                                       \n"
     ]
    },
    {
     "name": "stderr",
     "output_type": "stream",
     "text": [
      "Failed to open cgroup2 by ID\n",
      "Failed to open cgroup2 by ID\n",
      "Failed to open cgroup2 by ID\n",
      "Failed to open cgroup2 by ID\n"
     ]
    },
    {
     "name": "stdout",
     "output_type": "stream",
     "text": [
      "1726389572.371757 tcp ESTAB 0      0      10.0.0.100:57612 12.1.1.130:4000 users:((\"iperf3\",pid=22224,fd=4)) uid:39791 ino:200688 sk:6f cgroup:unreachable:2010c00000052 <->\n",
      "1726389572.374579 \t ts sack cubic wscale:12,7 rto:832 rtt:283.134/109.099 ato:40 mss:1448 pmtu:1500 rcvmss:536 advmss:1448 cwnd:10 bytes_sent:162 bytes_acked:163 bytes_received:4 segs_out:9 segs_in:8 data_segs_out:3 data_segs_in:4 send 409135bps lastsnd:14360 lastrcv:13380 lastack:13380 pacing_rate 818264bps delivery_rate 57064bps delivered:4 app_limited busy:676ms rcv_space:14480 rcv_ssthresh:64088 minrtt:202.988\n",
      "1726389572.375181 tcp ESTAB 0      179552 10.0.0.100:60476 12.1.1.130:4000 users:((\"iperf3\",pid=22224,fd=5)) timer:(on,332ms,0) uid:39791 ino:200946 sk:70 cgroup:unreachable:2010c00000052 <->\n",
      "1726389572.375674 \t ts sack cubic wscale:12,7 rto:460 rtt:256.389/26.774 mss:1448 pmtu:1500 rcvmss:536 advmss:1448 cwnd:9 ssthresh:4 bytes_sent:680597 bytes_retrans:43440 bytes_acked:624126 segs_out:473 segs_in:341 data_segs_out:471 send 406632bps lastsnd:128 lastrcv:13852 lastack:128 pacing_rate 487952bps delivery_rate 435976bps delivered:433 busy:13612ms unacked:9 retrans:0/30 rcv_space:14480 rcv_ssthresh:64088 notsent:166520 minrtt:169.604\n",
      "1726389572.378084 tcp ESTAB 0      372136 10.0.0.100:39064 12.1.1.66:4000 users:((\"iperf3\",pid=22225,fd=5)) timer:(on,404ms,0) uid:39791 ino:200945 sk:71 cgroup:unreachable:2010c00000052 <->\n",
      "1726389572.378813 \t ts sack cubic wscale:12,7 rto:432 rtt:230.586/11.989 mss:1448 pmtu:1500 rcvmss:536 advmss:1448 cwnd:12 ssthresh:10 bytes_sent:1673925 bytes_retrans:47784 bytes_acked:1607318 segs_out:1159 segs_in:705 data_segs_out:1157 send 602847bps lastsnd:28 lastrcv:13984 lastack:228 pacing_rate 723408bps delivery_rate 388432bps delivered:1112 busy:13712ms unacked:13 retrans:0/33 rcv_space:14480 rcv_ssthresh:64088 notsent:353312 minrtt:101.98\n",
      "1726389572.379297 tcp ESTAB 0      0      10.0.0.100:58044 12.1.1.66:4000 users:((\"iperf3\",pid=22225,fd=4)) uid:39791 ino:200687 sk:6e cgroup:unreachable:2010c00000052 <->\n",
      "1726389572.380133 \t ts sack cubic wscale:12,7 rto:644 rtt:240.283/66.611 ato:40 mss:1448 pmtu:1500 rcvmss:536 advmss:1448 cwnd:10 bytes_sent:162 bytes_acked:163 bytes_received:4 segs_out:9 segs_in:8 data_segs_out:3 data_segs_in:4 send 482098bps lastsnd:14424 lastrcv:13480 lastack:13480 pacing_rate 964192bps delivery_rate 56832bps delivered:4 app_limited busy:676ms rcv_space:14480 rcv_ssthresh:64088 minrtt:203.825                                                       \n"
     ]
    },
    {
     "name": "stderr",
     "output_type": "stream",
     "text": [
      "Failed to open cgroup2 by ID\n",
      "Failed to open cgroup2 by ID\n",
      "Failed to open cgroup2 by ID\n",
      "Failed to open cgroup2 by ID\n"
     ]
    },
    {
     "name": "stdout",
     "output_type": "stream",
     "text": [
      "1726389572.694696 tcp ESTAB 0      0      10.0.0.100:57612 12.1.1.130:4000 users:((\"iperf3\",pid=22224,fd=4)) uid:39791 ino:200688 sk:6f cgroup:unreachable:2010c00000052 <->\n",
      "1726389572.695374 \t ts sack cubic wscale:12,7 rto:832 rtt:283.134/109.099 ato:40 mss:1448 pmtu:1500 rcvmss:536 advmss:1448 cwnd:10 bytes_sent:162 bytes_acked:163 bytes_received:4 segs_out:9 segs_in:8 data_segs_out:3 data_segs_in:4 send 409135bps lastsnd:14680 lastrcv:13700 lastack:13700 pacing_rate 818264bps delivery_rate 57064bps delivered:4 app_limited busy:676ms rcv_space:14480 rcv_ssthresh:64088 minrtt:202.988\n",
      "1726389572.695896 tcp ESTAB 0      166520 10.0.0.100:60476 12.1.1.130:4000 users:((\"iperf3\",pid=22224,fd=5)) timer:(on,332ms,0) uid:39791 ino:200946 sk:70 cgroup:unreachable:2010c00000052 <->\n",
      "1726389572.696432 \t ts sack cubic wscale:12,7 rto:476 rtt:272.431/35.372 mss:1448 pmtu:1500 rcvmss:536 advmss:1448 cwnd:9 ssthresh:4 bytes_sent:693629 bytes_retrans:43440 bytes_acked:637158 segs_out:482 segs_in:344 data_segs_out:480 send 382688bps lastsnd:144 lastrcv:14172 lastack:144 pacing_rate 459216bps delivery_rate 341592bps delivered:442 busy:13932ms unacked:9 retrans:0/30 rcv_space:14480 rcv_ssthresh:64088 notsent:153488 minrtt:169.604\n",
      "1726389572.698554 tcp ESTAB 0      347520 10.0.0.100:39064 12.1.1.66:4000 users:((\"iperf3\",pid=22225,fd=5)) timer:(on,320ms,0) uid:39791 ino:200945 sk:71 cgroup:unreachable:2010c00000052 <->\n",
      "1726389572.699198 \t ts sack cubic wscale:12,7 rto:424 rtt:221.015/30.263 mss:1448 pmtu:1500 rcvmss:536 advmss:1448 cwnd:8 ssthresh:8 bytes_sent:1697093 bytes_retrans:53576 bytes_acked:1631934 segs_out:1175 segs_in:717 data_segs_out:1173 send 419302bps lastsnd:4 lastrcv:14304 lastack:4 pacing_rate 503160bps delivery_rate 341112bps delivered:1129 busy:14032ms unacked:8 retrans:0/37 rcv_space:14480 rcv_ssthresh:64088 notsent:335936 minrtt:73.482\n",
      "1726389572.700680 tcp ESTAB 0      0      10.0.0.100:58044 12.1.1.66:4000 users:((\"iperf3\",pid=22225,fd=4)) uid:39791 ino:200687 sk:6e cgroup:unreachable:2010c00000052 <->\n",
      "1726389572.701008 \t ts sack cubic wscale:12,7 rto:644 rtt:240.283/66.611 ato:40 mss:1448 pmtu:1500 rcvmss:536 advmss:1448 cwnd:10 bytes_sent:162 bytes_acked:163 bytes_received:4 segs_out:9 segs_in:8 data_segs_out:3 data_segs_in:4 send 482098bps lastsnd:14744 lastrcv:13800 lastack:13800 pacing_rate 964192bps delivery_rate 56832bps delivered:4 app_limited busy:676ms rcv_space:14480 rcv_ssthresh:64088 minrtt:203.825                                                 \n"
     ]
    },
    {
     "name": "stderr",
     "output_type": "stream",
     "text": [
      "Failed to open cgroup2 by ID\n",
      "Failed to open cgroup2 by ID\n",
      "Failed to open cgroup2 by ID\n",
      "Failed to open cgroup2 by ID\n"
     ]
    },
    {
     "name": "stdout",
     "output_type": "stream",
     "text": [
      "1726389573.0131191726389573.016661 tcp ESTAB 0      335936 10.0.0.100:39064 12.1.1.66:4000 users:((\"iperf3\",pid=22225,fd=5)) timer:(on,232ms,0) uid:39791 ino:200945 sk:71 cgroup:unreachable:2010c00000052 <->\n",
      "1726389573.017290 \t ts sack cubic wscale:12,7 rto:420 rtt:217.6/22.587 mss:1448 pmtu:1500 rcvmss:536 advmss:1448 cwnd:10 ssthresh:8 bytes_sent:1711573 bytes_retrans:53576 bytes_acked:1643518 segs_out:1185 segs_in:722 data_segs_out:1183 send 532353bps lastsnd:88 lastrcv:14624 lastack:88 pacing_rate 638816bps delivery_rate 340480bps delivered:1137 busy:14352ms unacked:10 retrans:0/37 rcv_space:14480 rcv_ssthresh:64088 notsent:321456 minrtt:73.482\n",
      "1726389573.017851 tcp ESTAB 0      0      10.0.0.100:57612 12.1.1.130:4000 users:((\"iperf3\",pid=22224,fd=4)) uid:39791 ino:200688 sk:6f cgroup:unreachable:2010c00000052 <->\n",
      "1726389573.018524 tcp ESTAB 0      0      10.0.0.100:58044 12.1.1.66:4000 users:((\"iperf3\",pid=22225,fd=4)) uid:39791 ino:200687 sk:6e cgroup:unreachable:2010c00000052 <->\n",
      "1726389573.019072 \t ts sack cubic wscale:12,7 rto:832 rtt:283.134/109.099 ato:40 mss:1448 pmtu:1500 rcvmss:536 advmss:1448 cwnd:10 bytes_sent:162 bytes_acked:163 bytes_received:4 segs_out:9 segs_in:8 data_segs_out:3 data_segs_in:4 send 409135bps lastsnd:15000 lastrcv:14020 lastack:14020 pacing_rate 818264bps delivery_rate 57064bps delivered:4 app_limited busy:676ms rcv_space:14480 rcv_ssthresh:64088 minrtt:202.988\n",
      " \t ts sack cubic wscale:12,7 rto:644 rtt:240.283/66.611 ato:40 mss:1448 pmtu:1500 rcvmss:536 advmss:1448 cwnd:10 bytes_sent:162 bytes_acked:163 bytes_received:4 segs_out:9 segs_in:8 data_segs_out:3 data_segs_in:4 send 482098bps lastsnd:15064 lastrcv:14120 lastack:14120 pacing_rate 964192bps delivery_rate 56832bps delivered:4 app_limited busy:676ms rcv_space:14480 rcv_ssthresh:64088 minrtt:203.825                                                   \n",
      "1726389573.019590 tcp ESTAB 0      160728 10.0.0.100:60476 12.1.1.130:4000 users:((\"iperf3\",pid=22224,fd=5)) timer:(on,020ms,0) uid:39791 ino:200946 sk:70 cgroup:unreachable:2010c00000052 <->\n",
      "1726389573.021505 \t ts sack cubic wscale:12,7 rto:480 rtt:279.553/32.241 mss:1448 pmtu:1500 rcvmss:536 advmss:1448 cwnd:9 ssthresh:4 bytes_sent:699421 bytes_retrans:43440 bytes_acked:642950 segs_out:486 segs_in:346 data_segs_out:484 send 372938bps lastsnd:160 lastrcv:14492 lastack:160 pacing_rate 447520bps delivery_rate 266176bps delivered:446 busy:14252ms unacked:9 retrans:0/30 rcv_space:14480 rcv_ssthresh:64088 notsent:147696 minrtt:169.604\n"
     ]
    },
    {
     "name": "stderr",
     "output_type": "stream",
     "text": [
      "Failed to open cgroup2 by ID\n",
      "Failed to open cgroup2 by ID\n",
      "Failed to open cgroup2 by ID\n",
      "Failed to open cgroup2 by ID\n"
     ]
    },
    {
     "name": "stdout",
     "output_type": "stream",
     "text": [
      "1726389573.3337071726389573.336001 tcp ESTAB 0      502456 10.0.0.100:39064 12.1.1.66:4000 users:((\"iperf3\",pid=22225,fd=5)) timer:(on,312ms,0) uid:39791 ino:200945 sk:71 cgroup:unreachable:2010c00000052 <->\n",
      "1726389573.336606 \t ts sack cubic wscale:12,7 rto:416 rtt:213.348/18.674 mss:1448 pmtu:1500 rcvmss:536 advmss:1448 cwnd:11 ssthresh:8 bytes_sent:1741981 bytes_retrans:53576 bytes_acked:1672478 segs_out:1206 segs_in:733 data_segs_out:1204 send 597259bps lastsnd:104 lastrcv:14948 lastack:104 pacing_rate 716704bps delivery_rate 623720bps delivered:1157 busy:14676ms unacked:11 retrans:0/37 rcv_space:14480 rcv_ssthresh:64088 notsent:486528 minrtt:73.482\n",
      "1726389573.337153 tcp ESTAB 0      0      10.0.0.100:57612 12.1.1.130:4000 users:((\"iperf3\",pid=22224,fd=4)) uid:39791 ino:200688 sk:6f cgroup:unreachable:2010c00000052 <->\n",
      " tcp ESTAB 0      0      10.0.0.100:58044 12.1.1.66:4000 users:((\"iperf3\",pid=22225,fd=4)) uid:39791 ino:200687 sk:6e cgroup:unreachable:2010c00000052 <->\n",
      "1726389573.3379721726389573.338363 \t ts sack cubic wscale:12,7 rto:832 rtt:283.134/109.099 ato:40 mss:1448 pmtu:1500 rcvmss:536 advmss:1448 cwnd:10 bytes_sent:162 bytes_acked:163 bytes_received:4 segs_out:9 segs_in:8 data_segs_out:3 data_segs_in:4 send 409135bps lastsnd:15316 lastrcv:14336 lastack:14336 pacing_rate 818264bps delivery_rate 57064bps delivered:4 app_limited busy:676ms rcv_space:14480 rcv_ssthresh:64088 minrtt:202.988\n",
      " \t ts sack cubic wscale:12,7 rto:644 rtt:240.283/66.611 ato:40 mss:1448 pmtu:1500 rcvmss:536 advmss:1448 cwnd:10 bytes_sent:162 bytes_acked:163 bytes_received:4 segs_out:9 segs_in:8 data_segs_out:3 data_segs_in:4 send 482098bps lastsnd:15388 lastrcv:14444 lastack:14444 pacing_rate 964192bps delivery_rate 56832bps delivered:4 app_limited busy:676ms rcv_space:14480 rcv_ssthresh:64088 minrtt:203.825                                                       \n",
      "1726389573.338885 tcp ESTAB 0      154936 10.0.0.100:60476 12.1.1.130:4000 users:((\"iperf3\",pid=22224,fd=5)) timer:(on,360ms,0) uid:39791 ino:200946 sk:70 cgroup:unreachable:2010c00000052 <->\n",
      "1726389573.340723 \t ts sack cubic wscale:12,7 rto:428 rtt:226.593/31.427 mss:1448 pmtu:1500 rcvmss:536 advmss:1448 cwnd:6 ssthresh:6 bytes_sent:715349 bytes_retrans:50680 bytes_acked:648742 segs_out:497 segs_in:355 data_segs_out:495 send 306735bps lastsnd:68 lastrcv:14808 lastack:68 pacing_rate 490768bps delivery_rate 242184bps delivered:455 busy:14568ms unacked:11 retrans:1/35 lost:1 sacked:5 rcv_space:14480 rcv_ssthresh:64088 notsent:139008 minrtt:169.604\n"
     ]
    },
    {
     "name": "stderr",
     "output_type": "stream",
     "text": [
      "Failed to open cgroup2 by ID\n",
      "Failed to open cgroup2 by ID\n",
      "Failed to open cgroup2 by ID\n",
      "Failed to open cgroup2 by ID\n"
     ]
    },
    {
     "name": "stdout",
     "output_type": "stream",
     "text": [
      "1726389573.6530031726389573.654535 tcp ESTAB 0      0      10.0.0.100:57612 12.1.1.130:4000 users:((\"iperf3\",pid=22224,fd=4)) uid:39791 ino:200688 sk:6f cgroup:unreachable:2010c00000052 <->\n",
      "1726389573.655162 \t ts sack cubic wscale:12,7 rto:832 rtt:283.134/109.099 ato:40 mss:1448 pmtu:1500 rcvmss:536 advmss:1448 cwnd:10 bytes_sent:162 bytes_acked:163 bytes_received:4 segs_out:9 segs_in:8 data_segs_out:3 data_segs_in:4 send 409135bps lastsnd:15640 lastrcv:14660 lastack:14660 pacing_rate 818264bps delivery_rate 57064bps delivered:4 app_limited busy:676ms rcv_space:14480 rcv_ssthresh:64088 minrtt:202.988\n",
      " tcp ESTAB 0      486528 10.0.0.100:39064 12.1.1.66:4000 users:((\"iperf3\",pid=22225,fd=5)) timer:(on,256ms,0) uid:39791 ino:200945 sk:71 cgroup:unreachable:2010c00000052 <->\n",
      "1726389573.6560671726389573.656372 tcp ESTAB 0      139008 10.0.0.100:60476 12.1.1.130:4000 users:((\"iperf3\",pid=22224,fd=5)) timer:(on,232ms,0) uid:39791 ino:200946 sk:70 cgroup:unreachable:2010c00000052 <->\n",
      " \t ts sack cubic wscale:12,7 rto:428 rtt:226.617/16.278 mss:1448 pmtu:1500 rcvmss:536 advmss:1448 cwnd:13 ssthresh:8 bytes_sent:1760805 bytes_retrans:53576 bytes_acked:1688406 segs_out:1219 segs_in:739 data_segs_out:1217 send 664522bps lastsnd:172 lastrcv:15256 lastack:176 pacing_rate 797416bps delivery_rate 536064bps delivered:1168 busy:14984ms unacked:13 retrans:0/37 rcv_space:14480 rcv_ssthresh:64088 notsent:467704 minrtt:73.482\n",
      "1726389573.6571251726389573.657335 \t ts sack cubic wscale:12,7 rto:420 rtt:217.316/22.118 mss:1448 pmtu:1500 rcvmss:536 advmss:1448 cwnd:7 ssthresh:6 bytes_sent:725485 bytes_retrans:50680 bytes_acked:664670 segs_out:504 segs_in:359 data_segs_out:502 send 373134bps lastsnd:188 lastrcv:15132 lastack:188 pacing_rate 447752bps delivery_rate 340512bps delivered:461 busy:14892ms unacked:7 retrans:0/35 rcv_space:14480 rcv_ssthresh:64088 notsent:128872 minrtt:169.604\n",
      " tcp ESTAB 0      0      10.0.0.100:58044 12.1.1.66:4000 users:((\"iperf3\",pid=22225,fd=4)) uid:39791 ino:200687 sk:6e cgroup:unreachable:2010c00000052 <->\n",
      "1726389573.658308 \t ts sack cubic wscale:12,7 rto:644 rtt:240.283/66.611 ato:40 mss:1448 pmtu:1500 rcvmss:536 advmss:1448 cwnd:10 bytes_sent:162 bytes_acked:163 bytes_received:4 segs_out:9 segs_in:8 data_segs_out:3 data_segs_in:4 send 482098bps lastsnd:15696 lastrcv:14752 lastack:14752 pacing_rate 964192bps delivery_rate 56832bps delivered:4 app_limited busy:676ms rcv_space:14480 rcv_ssthresh:64088 minrtt:203.825                                                       \n"
     ]
    },
    {
     "name": "stderr",
     "output_type": "stream",
     "text": [
      "Failed to open cgroup2 by ID\n",
      "Failed to open cgroup2 by ID\n",
      "Failed to open cgroup2 by ID\n",
      "Failed to open cgroup2 by ID\n"
     ]
    },
    {
     "name": "stdout",
     "output_type": "stream",
     "text": [
      "1726389573.9714561726389573.972307 tcp ESTAB 0      448880 10.0.0.100:39064 12.1.1.66:4000 users:((\"iperf3\",pid=22225,fd=5)) timer:(on,356ms,0) uid:39791 ino:200945 sk:71 cgroup:unreachable:2010c00000052 <->\n",
      "1726389573.972911 \t ts sack cubic wscale:12,7 rto:416 rtt:214.564/10.184 mss:1448 pmtu:1500 rcvmss:536 advmss:1448 cwnd:13 ssthresh:8 bytes_sent:1798453 bytes_retrans:53576 bytes_acked:1726054 segs_out:1245 segs_in:753 data_segs_out:1243 send 701851bps lastsnd:60 lastrcv:15584 lastack:64 pacing_rate 842216bps delivery_rate 632032bps delivered:1194 busy:15312ms unacked:13 retrans:0/37 rcv_space:14480 rcv_ssthresh:64088 notsent:430056 minrtt:73.482\n",
      "1726389573.973463 tcp ESTAB 0      0      10.0.0.100:58044 12.1.1.66:4000 users:((\"iperf3\",pid=22225,fd=4)) uid:39791 ino:200687 sk:6e cgroup:unreachable:2010c00000052 <->\n",
      "1726389573.973999 tcp ESTAB 0      0      10.0.0.100:57612 12.1.1.130:4000 users:((\"iperf3\",pid=22224,fd=4)) uid:39791 ino:200688 sk:6f cgroup:unreachable:2010c00000052 <->\n",
      "1726389573.974661 \t ts sack cubic wscale:12,7 rto:644 rtt:240.283/66.611 ato:40 mss:1448 pmtu:1500 rcvmss:536 advmss:1448 cwnd:10 bytes_sent:162 bytes_acked:163 bytes_received:4 segs_out:9 segs_in:8 data_segs_out:3 data_segs_in:4 send 482098bps lastsnd:16024 lastrcv:15080 lastack:15080 pacing_rate 964192bps delivery_rate 56832bps delivered:4 app_limited busy:676ms rcv_space:14480 rcv_ssthresh:64088 minrtt:203.825                                                     \n",
      " \t ts sack cubic wscale:12,7 rto:832 rtt:283.134/109.099 ato:40 mss:1448 pmtu:1500 rcvmss:536 advmss:1448 cwnd:10 bytes_sent:162 bytes_acked:163 bytes_received:4 segs_out:9 segs_in:8 data_segs_out:3 data_segs_in:4 send 409135bps lastsnd:15960 lastrcv:14980 lastack:14980 pacing_rate 818264bps delivery_rate 57064bps delivered:4 app_limited busy:676ms rcv_space:14480 rcv_ssthresh:64088 minrtt:202.988\n",
      "1726389573.976679 tcp ESTAB 0      128872 10.0.0.100:60476 12.1.1.130:4000 users:((\"iperf3\",pid=22224,fd=5)) timer:(on,260ms,0) uid:39791 ino:200946 sk:70 cgroup:unreachable:2010c00000052 <->\n",
      "1726389573.977014 \t ts sack cubic wscale:12,7 rto:460 rtt:246.367/52.958 mss:1448 pmtu:1500 rcvmss:536 advmss:1448 cwnd:8 ssthresh:6 bytes_sent:737069 bytes_retrans:50680 bytes_acked:674806 segs_out:512 segs_in:362 data_segs_out:510 send 376154bps lastsnd:200 lastrcv:15452 lastack:204 pacing_rate 451384bps delivery_rate 265384bps delivered:468 busy:15212ms unacked:8 retrans:0/35 rcv_space:14480 rcv_ssthresh:64088 notsent:117288 minrtt:169.604\n"
     ]
    },
    {
     "name": "stderr",
     "output_type": "stream",
     "text": [
      "Failed to open cgroup2 by ID\n",
      "Failed to open cgroup2 by ID\n",
      "Failed to open cgroup2 by ID\n",
      "Failed to open cgroup2 by ID\n"
     ]
    },
    {
     "name": "stdout",
     "output_type": "stream",
     "text": [
      "1726389574.2884621726389574.291915 tcp ESTAB 0      430056 10.0.0.100:39064 12.1.1.66:4000 users:((\"iperf3\",pid=22225,fd=5)) timer:(on,232ms,0) uid:39791 ino:200945 sk:71 cgroup:unreachable:2010c00000052 <->\n",
      "1726389574.292544 \t ts sack cubic wscale:12,7 rto:408 rtt:207.125/7.946 mss:1448 pmtu:1500 rcvmss:536 advmss:1448 cwnd:13 ssthresh:8 bytes_sent:1817277 bytes_retrans:53576 bytes_acked:1744878 segs_out:1258 segs_in:760 data_segs_out:1256 send 727059bps lastsnd:176 lastrcv:15904 lastack:180 pacing_rate 872464bps delivery_rate 740320bps delivered:1207 busy:15632ms unacked:13 retrans:0/37 rcv_space:14480 rcv_ssthresh:64088 notsent:411232 minrtt:73.482\n",
      "1726389574.293099 tcp ESTAB 0      0      10.0.0.100:58044 12.1.1.66:4000 users:((\"iperf3\",pid=22225,fd=4)) uid:39791 ino:200687 sk:6e cgroup:unreachable:2010c00000052 <->\n",
      "1726389574.293628 \t ts sack cubic wscale:12,7 rto:644 rtt:240.283/66.611 ato:40 mss:1448 pmtu:1500 rcvmss:536 advmss:1448 cwnd:10 bytes_sent:162 bytes_acked:163 bytes_received:4 segs_out:9 segs_in:8 data_segs_out:3 data_segs_in:4 send 482098bps lastsnd:16344 lastrcv:15400 lastack:15400 pacing_rate 964192bps delivery_rate 56832bps delivered:4 app_limited busy:676ms rcv_space:14480 rcv_ssthresh:64088 minrtt:203.825                                                      \n",
      " tcp ESTAB 0      0      10.0.0.100:57612 12.1.1.130:4000 users:((\"iperf3\",pid=22224,fd=4)) uid:39791 ino:200688 sk:6f cgroup:unreachable:2010c00000052 <->\n",
      "1726389574.296046 \t ts sack cubic wscale:12,7 rto:832 rtt:283.134/109.099 ato:40 mss:1448 pmtu:1500 rcvmss:536 advmss:1448 cwnd:10 bytes_sent:162 bytes_acked:163 bytes_received:4 segs_out:9 segs_in:8 data_segs_out:3 data_segs_in:4 send 409135bps lastsnd:16272 lastrcv:15292 lastack:15292 pacing_rate 818264bps delivery_rate 57064bps delivered:4 app_limited busy:676ms rcv_space:14480 rcv_ssthresh:64088 minrtt:202.988\n",
      "1726389574.296455 tcp ESTAB 0      124528 10.0.0.100:60476 12.1.1.130:4000 users:((\"iperf3\",pid=22224,fd=5)) timer:(on,436ms,0) uid:39791 ino:200946 sk:70 cgroup:unreachable:2010c00000052 <->\n",
      "1726389574.296773 \t ts sack cubic wscale:12,7 rto:472 rtt:253.627/54.239 mss:1448 pmtu:1500 rcvmss:536 advmss:1448 cwnd:8 ssthresh:6 bytes_sent:741413 bytes_retrans:50680 bytes_acked:679150 segs_out:515 segs_in:363 data_segs_out:513 send 365387bps lastsnd:36 lastrcv:15764 lastack:208 pacing_rate 438456bps delivery_rate 151936bps delivered:471 busy:15524ms unacked:8 retrans:0/35 rcv_space:14480 rcv_ssthresh:64088 notsent:112944 minrtt:169.604\n"
     ]
    },
    {
     "name": "stderr",
     "output_type": "stream",
     "text": [
      "Failed to open cgroup2 by ID\n",
      "Failed to open cgroup2 by ID\n",
      "Failed to open cgroup2 by ID\n",
      "Failed to open cgroup2 by ID\n"
     ]
    },
    {
     "name": "stdout",
     "output_type": "stream",
     "text": [
      "1726389574.6087411726389574.612463 tcp ESTAB 0      0      10.0.0.100:57612 12.1.1.130:4000 users:((\"iperf3\",pid=22224,fd=4)) uid:39791 ino:200688 sk:6f cgroup:unreachable:2010c00000052 <->\n",
      "1726389574.613093 \t ts sack cubic wscale:12,7 rto:832 rtt:283.134/109.099 ato:40 mss:1448 pmtu:1500 rcvmss:536 advmss:1448 cwnd:10 bytes_sent:162 bytes_acked:163 bytes_received:4 segs_out:9 segs_in:8 data_segs_out:3 data_segs_in:4 send 409135bps lastsnd:16592 lastrcv:15612 lastack:15612 pacing_rate 818264bps delivery_rate 57064bps delivered:4 app_limited busy:676ms rcv_space:14480 rcv_ssthresh:64088 minrtt:202.988\n",
      "1726389574.613664 tcp ESTAB 0      121632 10.0.0.100:60476 12.1.1.130:4000 users:((\"iperf3\",pid=22224,fd=5)) timer:(on,416ms,0) uid:39791 ino:200946 sk:70 cgroup:unreachable:2010c00000052 <->\n",
      "1726389574.614148 \t ts sack cubic wscale:12,7 rto:468 rtt:250.388/41.401 mss:1448 pmtu:1500 rcvmss:536 advmss:1448 cwnd:5 ssthresh:5 bytes_sent:751549 bytes_retrans:57920 bytes_acked:682046 segs_out:522 segs_in:368 data_segs_out:520 send 231321bps lastsnd:52 lastrcv:16084 lastack:52 pacing_rate 333096bps delivery_rate 127712bps delivered:476 busy:15844ms unacked:8 retrans:3/40 lost:3 sacked:3 rcv_space:14480 rcv_ssthresh:64088 notsent:110048 minrtt:169.604\n",
      " tcp ESTAB 0      392408 10.0.0.100:39064 12.1.1.66:4000 users:((\"iperf3\",pid=22225,fd=5)) timer:(on,360ms,0) uid:39791 ino:200945 sk:71 cgroup:unreachable:2010c00000052 <->\n",
      "1726389574.616547 \t ts sack cubic wscale:12,7 rto:416 rtt:212.909/12.511 mss:1448 pmtu:1500 rcvmss:536 advmss:1448 cwnd:13 ssthresh:8 bytes_sent:1854925 bytes_retrans:53576 bytes_acked:1782526 segs_out:1284 segs_in:774 data_segs_out:1282 send 707307bps lastsnd:56 lastrcv:16224 lastack:56 pacing_rate 848760bps delivery_rate 634736bps delivered:1233 busy:15952ms unacked:13 retrans:0/37 rcv_space:14480 rcv_ssthresh:64088 notsent:373584 minrtt:73.482\n",
      "1726389574.616996 tcp ESTAB 0      0      10.0.0.100:58044 12.1.1.66:4000 users:((\"iperf3\",pid=22225,fd=4)) uid:39791 ino:200687 sk:6e cgroup:unreachable:2010c00000052 <->\n",
      "1726389574.617351 \t ts sack cubic wscale:12,7 rto:644 rtt:240.283/66.611 ato:40 mss:1448 pmtu:1500 rcvmss:536 advmss:1448 cwnd:10 bytes_sent:162 bytes_acked:163 bytes_received:4 segs_out:9 segs_in:8 data_segs_out:3 data_segs_in:4 send 482098bps lastsnd:16664 lastrcv:15720 lastack:15720 pacing_rate 964192bps delivery_rate 56832bps delivered:4 app_limited busy:676ms rcv_space:14480 rcv_ssthresh:64088 minrtt:203.825                                                     \n"
     ]
    },
    {
     "name": "stderr",
     "output_type": "stream",
     "text": [
      "Failed to open cgroup2 by ID\n",
      "Failed to open cgroup2 by ID\n",
      "Failed to open cgroup2 by ID\n",
      "Failed to open cgroup2 by ID\n"
     ]
    },
    {
     "name": "stdout",
     "output_type": "stream",
     "text": [
      "1726389574.9287561726389574.931877 tcp ESTAB 0      0      10.0.0.100:57612 12.1.1.130:4000 users:((\"iperf3\",pid=22224,fd=4)) uid:39791 ino:200688 sk:6f cgroup:unreachable:2010c00000052 <->\n",
      "1726389574.932536 \t ts sack cubic wscale:12,7 rto:832 rtt:283.134/109.099 ato:40 mss:1448 pmtu:1500 rcvmss:536 advmss:1448 cwnd:10 bytes_sent:162 bytes_acked:163 bytes_received:4 segs_out:9 segs_in:8 data_segs_out:3 data_segs_in:4 send 409135bps lastsnd:16916 lastrcv:15936 lastack:15936 pacing_rate 818264bps delivery_rate 57064bps delivered:4 app_limited busy:676ms rcv_space:14480 rcv_ssthresh:64088 minrtt:202.988\n",
      "1726389574.933049 tcp ESTAB 0      240368 10.0.0.100:60476 12.1.1.130:4000 users:((\"iperf3\",pid=22224,fd=5)) timer:(on,228ms,0) uid:39791 ino:200946 sk:70 cgroup:unreachable:2010c00000052 <->\n",
      "1726389574.933587 \t ts sack cubic wscale:12,7 rto:432 rtt:217.168/44.344 mss:1448 pmtu:1500 rcvmss:536 advmss:1448 cwnd:5 ssthresh:5 bytes_sent:758789 bytes_retrans:57920 bytes_acked:693630 segs_out:527 segs_in:372 data_segs_out:525 send 266706bps lastsnd:204 lastrcv:16408 lastack:204 pacing_rate 320040bps delivery_rate 281248bps delivered:481 busy:16168ms unacked:5 retrans:0/40 rcv_space:14480 rcv_ssthresh:64088 notsent:233128 minrtt:169.604\n",
      " tcp ESTAB 0      373584 10.0.0.100:39064 12.1.1.66:4000 users:((\"iperf3\",pid=22225,fd=5)) timer:(on,300ms,0) uid:39791 ino:200945 sk:71 cgroup:unreachable:2010c00000052 <->\n",
      "1726389574.936003 \t ts sack cubic wscale:12,7 rto:432 rtt:228.065/14.373 mss:1448 pmtu:1500 rcvmss:536 advmss:1448 cwnd:13 ssthresh:8 bytes_sent:1873749 bytes_retrans:53576 bytes_acked:1801350 segs_out:1297 segs_in:781 data_segs_out:1295 send 660303bps lastsnd:132 lastrcv:16540 lastack:132 pacing_rate 792360bps delivery_rate 631608bps delivered:1246 busy:16268ms unacked:13 retrans:0/37 rcv_space:14480 rcv_ssthresh:64088 notsent:354760 minrtt:73.482\n",
      "1726389574.936508 tcp ESTAB 0      0      10.0.0.100:58044 12.1.1.66:4000 users:((\"iperf3\",pid=22225,fd=4)) uid:39791 ino:200687 sk:6e cgroup:unreachable:2010c00000052 <->\n",
      "1726389574.936844 \t ts sack cubic wscale:12,7 rto:644 rtt:240.283/66.611 ato:40 mss:1448 pmtu:1500 rcvmss:536 advmss:1448 cwnd:10 bytes_sent:162 bytes_acked:163 bytes_received:4 segs_out:9 segs_in:8 data_segs_out:3 data_segs_in:4 send 482098bps lastsnd:16980 lastrcv:16036 lastack:16036 pacing_rate 964192bps delivery_rate 56832bps delivered:4 app_limited busy:676ms rcv_space:14480 rcv_ssthresh:64088 minrtt:203.825                                                       \n"
     ]
    },
    {
     "name": "stderr",
     "output_type": "stream",
     "text": [
      "Failed to open cgroup2 by ID\n",
      "Failed to open cgroup2 by ID\n",
      "Failed to open cgroup2 by ID\n",
      "Failed to open cgroup2 by ID\n"
     ]
    },
    {
     "name": "stdout",
     "output_type": "stream",
     "text": [
      "1726389575.248469 tcp ESTAB 0      335936 10.0.0.100:39064 12.1.1.66:4000 users:((\"iperf3\",pid=22225,fd=5)) timer:(on,404ms,0) uid:39791 ino:200945 sk:71 cgroup:unreachable:2010c00000052 <->\n",
      "1726389575.250575 \t ts sack cubic wscale:12,7 rto:416 rtt:214.91/8.434 mss:1448 pmtu:1500 rcvmss:536 advmss:1448 cwnd:13 ssthresh:8 bytes_sent:1911397 bytes_retrans:53576 bytes_acked:1838998 segs_out:1323 segs_in:795 data_segs_out:1321 send 700721bps lastsnd:12 lastrcv:16860 lastack:12 pacing_rate 840856bps delivery_rate 636960bps delivered:1272 busy:16588ms unacked:13 retrans:0/37 rcv_space:14480 rcv_ssthresh:64088 notsent:317112 minrtt:73.482\n",
      "1726389575.251148 tcp ESTAB 0      0      10.0.0.100:58044 12.1.1.66:4000 users:((\"iperf3\",pid=22225,fd=4)) uid:39791 ino:200687 sk:6e cgroup:unreachable:2010c00000052 <->\n",
      "1726389575.251639 \t ts sack cubic wscale:12,7 rto:644 rtt:240.283/66.611 ato:40 mss:1448 pmtu:1500 rcvmss:536 advmss:1448 cwnd:10 bytes_sent:162 bytes_acked:163 bytes_received:4 segs_out:9 segs_in:8 data_segs_out:3 data_segs_in:4 send 482098bps lastsnd:17300 lastrcv:16356 lastack:16356 pacing_rate 964192bps delivery_rate 56832bps delivered:4 app_limited busy:676ms rcv_space:14480 rcv_ssthresh:64088 minrtt:203.825                                                   \n",
      "1726389575.253700 tcp ESTAB 0      0      10.0.0.100:57612 12.1.1.130:4000 users:((\"iperf3\",pid=22224,fd=4)) uid:39791 ino:200688 sk:6f cgroup:unreachable:2010c00000052 <->\n",
      "1726389575.254416 \t ts sack cubic wscale:12,7 rto:832 rtt:283.134/109.099 ato:40 mss:1448 pmtu:1500 rcvmss:536 advmss:1448 cwnd:10 bytes_sent:162 bytes_acked:163 bytes_received:4 segs_out:9 segs_in:8 data_segs_out:3 data_segs_in:4 send 409135bps lastsnd:17236 lastrcv:16256 lastack:16256 pacing_rate 818264bps delivery_rate 57064bps delivered:4 app_limited busy:676ms rcv_space:14480 rcv_ssthresh:64088 minrtt:202.988\n",
      "1726389575.255035 tcp ESTAB 0      233128 10.0.0.100:60476 12.1.1.130:4000 users:((\"iperf3\",pid=22224,fd=5)) timer:(on,276ms,0) uid:39791 ino:200946 sk:70 cgroup:unreachable:2010c00000052 <->\n",
      "1726389575.255398"
     ]
    },
    {
     "name": "stderr",
     "output_type": "stream",
     "text": [
      "Failed to open cgroup2 by ID\n",
      "Failed to open cgroup2 by ID\n",
      "Failed to open cgroup2 by ID\n"
     ]
    },
    {
     "name": "stdout",
     "output_type": "stream",
     "text": [
      " \t ts sack cubic wscale:12,7 rto:496 rtt:245.9/61.865 mss:1448 pmtu:1500 rcvmss:536 advmss:1448 cwnd:6 ssthresh:5 bytes_sent:767477 bytes_retrans:57920 bytes_acked:700870 segs_out:533 segs_in:375 data_segs_out:531 send 282651bps lastsnd:220 lastrcv:16728 lastack:220 pacing_rate 339176bps delivery_rate 190280bps delivered:486 busy:16488ms unacked:6 retrans:0/40 rcv_space:14480 rcv_ssthresh:64088 notsent:224440 minrtt:169.604\n"
     ]
    },
    {
     "name": "stderr",
     "output_type": "stream",
     "text": [
      "Failed to open cgroup2 by ID\n"
     ]
    },
    {
     "name": "stdout",
     "output_type": "stream",
     "text": [
      "1726389575.5673971726389575.569458 tcp ESTAB 0      512592 10.0.0.100:39064 12.1.1.66:4000 users:((\"iperf3\",pid=22225,fd=5)) timer:(on,332ms,0) uid:39791 ino:200945 sk:71 cgroup:unreachable:2010c00000052 <->\n",
      "1726389575.570092 \t ts sack cubic wscale:12,7 rto:428 rtt:226.688/12.86 mss:1448 pmtu:1500 rcvmss:536 advmss:1448 cwnd:15 ssthresh:8 bytes_sent:1933117 bytes_retrans:53576 bytes_acked:1857822 segs_out:1338 segs_in:801 data_segs_out:1336 send 766516bps lastsnd:96 lastrcv:17184 lastack:100 pacing_rate 919816bps delivery_rate 635240bps delivered:1285 busy:16912ms unacked:15 retrans:0/37 rcv_space:14480 rcv_ssthresh:64088 notsent:490872 minrtt:73.482\n",
      "1726389575.570744 tcp ESTAB 0      0      10.0.0.100:58044 12.1.1.66:4000 users:((\"iperf3\",pid=22225,fd=4)) uid:39791 ino:200687 sk:6e cgroup:unreachable:2010c00000052 <->\n",
      "1726389575.571074 \t ts sack cubic wscale:12,7 rto:644 rtt:240.283/66.611 ato:40 mss:1448 pmtu:1500 rcvmss:536 advmss:1448 cwnd:10 bytes_sent:162 bytes_acked:163 bytes_received:4 segs_out:9 segs_in:8 data_segs_out:3 data_segs_in:4 send 482098bps lastsnd:17624 lastrcv:16680 lastack:16680 pacing_rate 964192bps delivery_rate 56832bps delivered:4 app_limited busy:676ms rcv_space:14480 rcv_ssthresh:64088 minrtt:203.825                                                     \n",
      " tcp ESTAB 0      0      10.0.0.100:57612 12.1.1.130:4000 users:((\"iperf3\",pid=22224,fd=4)) uid:39791 ino:200688 sk:6f cgroup:unreachable:2010c00000052 <->\n",
      "1726389575.573031 \t ts sack cubic wscale:12,7 rto:832 rtt:283.134/109.099 ato:40 mss:1448 pmtu:1500 rcvmss:536 advmss:1448 cwnd:10 bytes_sent:162 bytes_acked:163 bytes_received:4 segs_out:9 segs_in:8 data_segs_out:3 data_segs_in:4 send 409135bps lastsnd:17552 lastrcv:16572 lastack:16572 pacing_rate 818264bps delivery_rate 57064bps delivered:4 app_limited busy:676ms rcv_space:14480 rcv_ssthresh:64088 minrtt:202.988\n",
      "1726389575.573847 tcp ESTAB 0      224440 10.0.0.100:60476 12.1.1.130:4000 users:((\"iperf3\",pid=22224,fd=5)) timer:(on,280ms,0) uid:39791 ino:200946 sk:70 cgroup:unreachable:2010c00000052 <->\n",
      "1726389575.574185 \t ts sack cubic wscale:12,7 rto:508 rtt:260.159/59.513 mss:1448 pmtu:1500 rcvmss:536 advmss:1448 cwnd:6 ssthresh:5 bytes_sent:776165 bytes_retrans:57920 bytes_acked:709558 segs_out:539 segs_in:377 data_segs_out:537 send 267160bps lastsnd:228 lastrcv:17044 lastack:232 pacing_rate 320584bps delivery_rate 226600bps delivered:492 busy:16804ms unacked:6 retrans:0/40 rcv_space:14480 rcv_ssthresh:64088 notsent:215752 minrtt:169.604\n"
     ]
    },
    {
     "name": "stderr",
     "output_type": "stream",
     "text": [
      "Failed to open cgroup2 by ID\n",
      "Failed to open cgroup2 by ID\n",
      "Failed to open cgroup2 by ID\n",
      "Failed to open cgroup2 by ID\n"
     ]
    },
    {
     "name": "stdout",
     "output_type": "stream",
     "text": [
      "1726389575.8849981726389575.886979 tcp ESTAB 0      0      10.0.0.100:57612 12.1.1.130:4000 users:((\"iperf3\",pid=22224,fd=4)) uid:39791 ino:200688 sk:6f cgroup:unreachable:2010c00000052 <->\n",
      "1726389575.887639 tcp ESTAB 0      490872 10.0.0.100:39064 12.1.1.66:4000 users:((\"iperf3\",pid=22225,fd=5)) timer:(on,260ms,0) uid:39791 ino:200945 sk:71 cgroup:unreachable:2010c00000052 <->\n",
      "1726389575.888151 \t ts sack cubic wscale:12,7 rto:832 rtt:283.134/109.099 ato:40 mss:1448 pmtu:1500 rcvmss:536 advmss:1448 cwnd:10 bytes_sent:162 bytes_acked:163 bytes_received:4 segs_out:9 segs_in:8 data_segs_out:3 data_segs_in:4 send 409135bps lastsnd:17868 lastrcv:16888 lastack:16888 pacing_rate 818264bps delivery_rate 57064bps delivered:4 app_limited busy:676ms rcv_space:14480 rcv_ssthresh:64088 minrtt:202.988\n",
      " \t ts sack cubic wscale:12,7 rto:436 rtt:232.572/5.23 mss:1448 pmtu:1500 rcvmss:536 advmss:1448 cwnd:15 ssthresh:8 bytes_sent:1954837 bytes_retrans:53576 bytes_acked:1879542 segs_out:1353 segs_in:809 data_segs_out:1351 send 747123bps lastsnd:176 lastrcv:17500 lastack:180 pacing_rate 896544bps delivery_rate 730912bps delivered:1300 busy:17228ms unacked:15 retrans:0/37 rcv_space:14480 rcv_ssthresh:64088 notsent:469152 minrtt:73.482\n",
      "1726389575.8886371726389575.888844 tcp ESTAB 0      218648 10.0.0.100:60476 12.1.1.130:4000 users:((\"iperf3\",pid=22224,fd=5)) timer:(on,500ms,0) uid:39791 ino:200946 sk:70 cgroup:unreachable:2010c00000052 <->\n",
      " tcp ESTAB 0      0      10.0.0.100:58044 12.1.1.66:4000 users:((\"iperf3\",pid=22225,fd=4)) uid:39791 ino:200687 sk:6e cgroup:unreachable:2010c00000052 <->\n",
      "1726389575.8894051726389575.889750 \t ts sack cubic wscale:12,7 rto:644 rtt:240.283/66.611 ato:40 mss:1448 pmtu:1500 rcvmss:536 advmss:1448 cwnd:10 bytes_sent:162 bytes_acked:163 bytes_received:4 segs_out:9 segs_in:8 data_segs_out:3 data_segs_in:4 send 482098bps lastsnd:17940 lastrcv:16996 lastack:16996 pacing_rate 964192bps delivery_rate 56832bps delivered:4 app_limited busy:676ms rcv_space:14480 rcv_ssthresh:64088 minrtt:203.825                                                     \n",
      " \t ts sack cubic wscale:12,7 rto:504 rtt:256.689/36.917 mss:1448 pmtu:1500 rcvmss:536 advmss:1448 cwnd:4 ssthresh:4 bytes_sent:786301 bytes_retrans:60816 bytes_acked:715350 segs_out:546 segs_in:381 data_segs_out:544 send 180514bps lastsnd:4 lastrcv:17360 lastack:4 pacing_rate 379072bps delivery_rate 114312bps delivered:499 busy:17120ms unacked:7 retrans:2/42 lost:2 sacked:3 rcv_space:14480 rcv_ssthresh:64088 notsent:208512 minrtt:169.604\n"
     ]
    },
    {
     "name": "stderr",
     "output_type": "stream",
     "text": [
      "Failed to open cgroup2 by ID\n",
      "Failed to open cgroup2 by ID\n",
      "Failed to open cgroup2 by ID\n",
      "Failed to open cgroup2 by ID\n"
     ]
    },
    {
     "name": "stdout",
     "output_type": "stream",
     "text": [
      "1726389576.2039431726389576.204989 tcp ESTAB 0      450328 10.0.0.100:39064 12.1.1.66:4000 users:((\"iperf3\",pid=22225,fd=5)) timer:(on,188ms,0) uid:39791 ino:200945 sk:71 cgroup:unreachable:2010c00000052 <->\n",
      "1726389576.205598 \t ts sack cubic wscale:12,7 rto:440 rtt:236.981/0.965 mss:1448 pmtu:1500 rcvmss:536 advmss:1448 cwnd:15 ssthresh:8 bytes_sent:1993933 bytes_retrans:53576 bytes_acked:1920086 segs_out:1380 segs_in:824 data_segs_out:1378 send 733223bps lastsnd:16 lastrcv:17816 lastack:16 pacing_rate 879864bps delivery_rate 632192bps delivered:1328 busy:17544ms unacked:14 retrans:0/37 rcv_space:14480 rcv_ssthresh:64088 notsent:430056 minrtt:73.482\n",
      " tcp ESTAB 0      0      10.0.0.100:57612 12.1.1.130:4000 users:((\"iperf3\",pid=22224,fd=4)) uid:39791 ino:200688 sk:6f cgroup:unreachable:2010c00000052 <->\n",
      "1726389576.2065431726389576.206153 \t ts sack cubic wscale:12,7 rto:832 rtt:283.134/109.099 ato:40 mss:1448 pmtu:1500 rcvmss:536 advmss:1448 cwnd:10 bytes_sent:162 bytes_acked:163 bytes_received:4 segs_out:9 segs_in:8 data_segs_out:3 data_segs_in:4 send 409135bps lastsnd:18192 lastrcv:17212 lastack:17212 pacing_rate 818264bps delivery_rate 57064bps delivered:4 app_limited busy:676ms rcv_space:14480 rcv_ssthresh:64088 minrtt:202.988\n",
      " tcp ESTAB 0      0      10.0.0.100:58044 12.1.1.66:4000 users:((\"iperf3\",pid=22225,fd=4)) uid:39791 ino:200687 sk:6e cgroup:unreachable:2010c00000052 <->\n",
      "1726389576.2074511726389576.207652 \t ts sack cubic wscale:12,7 rto:644 rtt:240.283/66.611 ato:40 mss:1448 pmtu:1500 rcvmss:536 advmss:1448 cwnd:10 bytes_sent:162 bytes_acked:163 bytes_received:4 segs_out:9 segs_in:8 data_segs_out:3 data_segs_in:4 send 482098bps lastsnd:18256 lastrcv:17312 lastack:17312 pacing_rate 964192bps delivery_rate 56832bps delivered:4 app_limited busy:676ms rcv_space:14480 rcv_ssthresh:64088 minrtt:203.825                                                    \n",
      " tcp ESTAB 0      207064 10.0.0.100:60476 12.1.1.130:4000 users:((\"iperf3\",pid=22224,fd=5)) timer:(on,352ms,0) uid:39791 ino:200946 sk:70 cgroup:unreachable:2010c00000052 <->\n",
      "1726389576.209630 \t ts sack cubic wscale:12,7 rto:476 rtt:241.783/26.941 mss:1448 pmtu:1500 rcvmss:536 advmss:1448 cwnd:4 ssthresh:4 bytes_sent:793541 bytes_retrans:60816 bytes_acked:726934 segs_out:551 segs_in:386 data_segs_out:549 send 191643bps lastsnd:92 lastrcv:17684 lastack:92 pacing_rate 229968bps delivery_rate 170416bps delivered:504 busy:17444ms unacked:4 retrans:0/42 rcv_space:14480 rcv_ssthresh:64088 notsent:201272 minrtt:169.604\n"
     ]
    },
    {
     "name": "stderr",
     "output_type": "stream",
     "text": [
      "Failed to open cgroup2 by ID\n",
      "Failed to open cgroup2 by ID\n",
      "Failed to open cgroup2 by ID\n",
      "Failed to open cgroup2 by ID\n"
     ]
    },
    {
     "name": "stdout",
     "output_type": "stream",
     "text": [
      "1726389576.5210201726389576.523507 tcp ESTAB 0      450328 10.0.0.100:39064 12.1.1.66:4000 users:((\"iperf3\",pid=22225,fd=5)) timer:(on,340ms,0) uid:39791 ino:200945 sk:71 cgroup:unreachable:2010c00000052 <->\n",
      "1726389576.524132 \t ts sack cubic wscale:12,7 rto:440 rtt:237.395/0.646 mss:1448 pmtu:1500 rcvmss:536 advmss:1448 cwnd:10 ssthresh:10 bytes_sent:2008413 bytes_retrans:56472 bytes_acked:1920086 segs_out:1390 segs_in:829 data_segs_out:1388 send 487963bps lastsnd:100 lastrcv:18136 lastack:100 pacing_rate 878328bps delivery_rate 583544bps delivered:1340 busy:17864ms unacked:22 retrans:2/39 lost:2 sacked:12 rcv_space:14480 rcv_ssthresh:64088 notsent:418472 minrtt:73.482\n",
      "1726389576.524713 tcp ESTAB 0      0      10.0.0.100:57612 12.1.1.130:4000 users:((\"iperf3\",pid=22224,fd=4)) uid:39791 ino:200688 sk:6f cgroup:unreachable:2010c00000052 <->\n",
      "1726389576.525269 tcp ESTAB 0      0      10.0.0.100:58044 12.1.1.66:4000 users:((\"iperf3\",pid=22225,fd=4)) uid:39791 ino:200687 sk:6e cgroup:unreachable:2010c00000052 <->\n",
      "1726389576.525815 \t ts sack cubic wscale:12,7 rto:832 rtt:283.134/109.099 ato:40 mss:1448 pmtu:1500 rcvmss:536 advmss:1448 cwnd:10 bytes_sent:162 bytes_acked:163 bytes_received:4 segs_out:9 segs_in:8 data_segs_out:3 data_segs_in:4 send 409135bps lastsnd:18504 lastrcv:17524 lastack:17524 pacing_rate 818264bps delivery_rate 57064bps delivered:4 app_limited busy:676ms rcv_space:14480 rcv_ssthresh:64088 minrtt:202.988\n",
      " \t ts sack cubic wscale:12,7 rto:644 rtt:240.283/66.611 ato:40 mss:1448 pmtu:1500 rcvmss:536 advmss:1448 cwnd:10 bytes_sent:162 bytes_acked:163 bytes_received:4 segs_out:9 segs_in:8 data_segs_out:3 data_segs_in:4 send 482098bps lastsnd:18576 lastrcv:17632 lastack:17632 pacing_rate 964192bps delivery_rate 56832bps delivered:4 app_limited busy:676ms rcv_space:14480 rcv_ssthresh:64088 minrtt:203.825                                                                        \n",
      "1726389576.526650 tcp ESTAB 0      201272 10.0.0.100:60476 12.1.1.130:4000 users:((\"iperf3\",pid=22224,fd=5)) timer:(on,268ms,0) uid:39791 ino:200946 sk:70 cgroup:unreachable:2010c00000052 <->\n",
      "1726389576.528504 \t ts sack cubic wscale:12,7 rto:464 rtt:236.795/21.599 mss:1448 pmtu:1500 rcvmss:536 advmss:1448 cwnd:7 ssthresh:4 bytes_sent:803677 bytes_retrans:60816 bytes_acked:732726 segs_out:558 segs_in:388 data_segs_out:556 send 342440bps lastsnd:196 lastrcv:17996 lastack:196 pacing_rate 410920bps delivery_rate 225960bps delivered:508 busy:17756ms unacked:7 retrans:0/42 rcv_space:14480 rcv_ssthresh:64088 notsent:191136 minrtt:169.604\n"
     ]
    },
    {
     "name": "stderr",
     "output_type": "stream",
     "text": [
      "Failed to open cgroup2 by ID\n",
      "Failed to open cgroup2 by ID\n",
      "Failed to open cgroup2 by ID\n",
      "Failed to open cgroup2 by ID\n"
     ]
    },
    {
     "name": "stdout",
     "output_type": "stream",
     "text": [
      "1726389576.8411251726389576.843066 tcp ESTAB 0      0      10.0.0.100:57612 12.1.1.130:4000 users:((\"iperf3\",pid=22224,fd=4)) uid:39791 ino:200688 sk:6f cgroup:unreachable:2010c00000052 <->\n",
      "1726389576.843688 \t ts sack cubic wscale:12,7 rto:832 rtt:283.134/109.099 ato:40 mss:1448 pmtu:1500 rcvmss:536 advmss:1448 cwnd:10 bytes_sent:162 bytes_acked:163 bytes_received:4 segs_out:9 segs_in:8 data_segs_out:3 data_segs_in:4 send 409135bps lastsnd:18824 lastrcv:17844 lastack:17844 pacing_rate 818264bps delivery_rate 57064bps delivered:4 app_limited busy:676ms rcv_space:14480 rcv_ssthresh:64088 minrtt:202.988\n",
      "1726389576.844293 tcp ESTAB 0      418472 10.0.0.100:39064 12.1.1.66:4000 users:((\"iperf3\",pid=22225,fd=5)) timer:(on,204ms,0) uid:39791 ino:200945 sk:71 cgroup:unreachable:2010c00000052 <->\n",
      "1726389576.844851 tcp ESTAB 0      181000 10.0.0.100:60476 12.1.1.130:4000 users:((\"iperf3\",pid=22224,fd=5)) timer:(on,412ms,0) uid:39791 ino:200946 sk:70 cgroup:unreachable:2010c00000052 <->\n",
      "1726389576.845409 \t ts sack cubic wscale:12,7 rto:420 rtt:218.89/4.739 mss:1448 pmtu:1500 rcvmss:536 advmss:1448 cwnd:10 ssthresh:10 bytes_sent:2022893 bytes_retrans:56472 bytes_acked:1951942 segs_out:1400 segs_in:836 data_segs_out:1398 send 529216bps lastsnd:216 lastrcv:18456 lastack:216 pacing_rate 635056bps delivery_rate 486672bps delivered:1350 busy:18184ms unacked:10 retrans:0/39 rcv_space:14480 rcv_ssthresh:64088 notsent:403992 minrtt:73.482\n",
      " \t ts sack cubic wscale:12,7 rto:452 rtt:237.22/4.55 mss:1448 pmtu:1500 rcvmss:536 advmss:1448 cwnd:7 ssthresh:4 bytes_sent:823949 bytes_retrans:60816 bytes_acked:752998 segs_out:572 segs_in:394 data_segs_out:570 send 341826bps lastsnd:40 lastrcv:18316 lastack:40 pacing_rate 410184bps delivery_rate 339216bps delivered:522 busy:18076ms unacked:7 retrans:0/42 rcv_space:14480 rcv_ssthresh:64088 notsent:170864 minrtt:169.604\n",
      "1726389576.846303 tcp ESTAB 0      0      10.0.0.100:58044 12.1.1.66:4000 users:((\"iperf3\",pid=22225,fd=4)) uid:39791 ino:200687 sk:6e cgroup:unreachable:2010c00000052 <->\n",
      "1726389576.846646 \t ts sack cubic wscale:12,7 rto:644 rtt:240.283/66.611 ato:40 mss:1448 pmtu:1500 rcvmss:536 advmss:1448 cwnd:10 bytes_sent:162 bytes_acked:163 bytes_received:4 segs_out:9 segs_in:8 data_segs_out:3 data_segs_in:4 send 482098bps lastsnd:18896 lastrcv:17952 lastack:17952 pacing_rate 964192bps delivery_rate 56832bps delivered:4 app_limited busy:676ms rcv_space:14480 rcv_ssthresh:64088 minrtt:203.825                                                      \n"
     ]
    },
    {
     "name": "stderr",
     "output_type": "stream",
     "text": [
      "Failed to open cgroup2 by ID\n",
      "Failed to open cgroup2 by ID\n",
      "Failed to open cgroup2 by ID\n",
      "Failed to open cgroup2 by ID\n"
     ]
    },
    {
     "name": "stdout",
     "output_type": "stream",
     "text": [
      "1726389577.1592361726389577.161878 tcp ESTAB 0      0      10.0.0.100:57612 12.1.1.130:4000 users:((\"iperf3\",pid=22224,fd=4)) uid:39791 ino:200688 sk:6f cgroup:unreachable:2010c00000052 <->\n",
      "1726389577.162621 \t ts sack cubic wscale:12,7 rto:832 rtt:283.134/109.099 ato:40 mss:1448 pmtu:1500 rcvmss:536 advmss:1448 cwnd:10 bytes_sent:162 bytes_acked:163 bytes_received:4 segs_out:9 segs_in:8 data_segs_out:3 data_segs_in:4 send 409135bps lastsnd:19144 lastrcv:18164 lastack:18164 pacing_rate 818264bps delivery_rate 57064bps delivered:4 app_limited busy:676ms rcv_space:14480 rcv_ssthresh:64088 minrtt:202.988\n",
      "1726389577.163198 tcp ESTAB 0      170864 10.0.0.100:60476 12.1.1.130:4000 users:((\"iperf3\",pid=22224,fd=5)) timer:(on,332ms,0) uid:39791 ino:200946 sk:70 cgroup:unreachable:2010c00000052 <->\n",
      "1726389577.163684 \t ts sack cubic wscale:12,7 rto:452 rtt:237.967/2.359 mss:1448 pmtu:1500 rcvmss:536 advmss:1448 cwnd:7 ssthresh:4 bytes_sent:834085 bytes_retrans:60816 bytes_acked:763134 segs_out:579 segs_in:398 data_segs_out:577 send 340753bps lastsnd:120 lastrcv:18636 lastack:124 pacing_rate 408896bps delivery_rate 338856bps delivered:529 busy:18396ms unacked:7 retrans:0/42 rcv_space:14480 rcv_ssthresh:64088 notsent:160728 minrtt:169.604\n",
      " tcp ESTAB 0      385168 10.0.0.100:39064 12.1.1.66:4000 users:((\"iperf3\",pid=22225,fd=5)) timer:(on,380ms,0) uid:39791 ino:200945 sk:71 cgroup:unreachable:2010c00000052 <->\n",
      "1726389577.166077 \t ts sack cubic wscale:12,7 rto:436 rtt:233.894/5.98 mss:1448 pmtu:1500 rcvmss:536 advmss:1448 cwnd:13 ssthresh:10 bytes_sent:2060541 bytes_retrans:56472 bytes_acked:1985246 segs_out:1426 segs_in:848 data_segs_out:1424 send 643847bps lastsnd:56 lastrcv:18776 lastack:56 pacing_rate 772608bps delivery_rate 629560bps delivered:1373 busy:18504ms unacked:13 retrans:0/39 rcv_space:14480 rcv_ssthresh:64088 notsent:366344 minrtt:73.482\n",
      "1726389577.166543 tcp ESTAB 0      0      10.0.0.100:58044 12.1.1.66:4000 users:((\"iperf3\",pid=22225,fd=4)) uid:39791 ino:200687 sk:6e cgroup:unreachable:2010c00000052 <->\n",
      "1726389577.167395 \t ts sack cubic wscale:12,7 rto:644 rtt:240.283/66.611 ato:40 mss:1448 pmtu:1500 rcvmss:536 advmss:1448 cwnd:10 bytes_sent:162 bytes_acked:163 bytes_received:4 segs_out:9 segs_in:8 data_segs_out:3 data_segs_in:4 send 482098bps lastsnd:19216 lastrcv:18272 lastack:18272 pacing_rate 964192bps delivery_rate 56832bps delivered:4 app_limited busy:676ms rcv_space:14480 rcv_ssthresh:64088 minrtt:203.825                                                    \n"
     ]
    },
    {
     "name": "stderr",
     "output_type": "stream",
     "text": [
      "Failed to open cgroup2 by ID\n",
      "Failed to open cgroup2 by ID\n",
      "Failed to open cgroup2 by ID\n",
      "Failed to open cgroup2 by ID\n"
     ]
    },
    {
     "name": "stdout",
     "output_type": "stream",
     "text": [
      "1726389577.479608 tcp ESTAB 0      0      10.0.0.100:57612 12.1.1.130:4000 users:((\"iperf3\",pid=22224,fd=4)) uid:39791 ino:200688 sk:6f cgroup:unreachable:2010c00000052 <->\n",
      "1726389577.482572 \t ts sack cubic wscale:12,7 rto:832 rtt:283.134/109.099 ato:40 mss:1448 pmtu:1500 rcvmss:536 advmss:1448 cwnd:10 bytes_sent:162 bytes_acked:163 bytes_received:4 segs_out:9 segs_in:8 data_segs_out:3 data_segs_in:4 send 409135bps lastsnd:19468 lastrcv:18488 lastack:18488 pacing_rate 818264bps delivery_rate 57064bps delivered:4 app_limited busy:676ms rcv_space:14480 rcv_ssthresh:64088 minrtt:202.988\n",
      "1726389577.483108 tcp ESTAB 0      163624 10.0.0.100:60476 12.1.1.130:4000 users:((\"iperf3\",pid=22224,fd=5)) timer:(on,004ms,0) uid:39791 ino:200946 sk:70 cgroup:unreachable:2010c00000052 <->\n",
      "1726389577.483662 \t ts sack cubic wscale:12,7 rto:448 rtt:237.811/1.594 mss:1448 pmtu:1500 rcvmss:536 advmss:1448 cwnd:7 ssthresh:4 bytes_sent:839877 bytes_retrans:60816 bytes_acked:770374 segs_out:583 segs_in:400 data_segs_out:581 send 340977bps lastsnd:208 lastrcv:18960 lastack:208 pacing_rate 409168bps delivery_rate 242104bps delivered:534 busy:18720ms unacked:6 retrans:0/42 rcv_space:14480 rcv_ssthresh:64088 notsent:154936 minrtt:169.604\n",
      "1726389577.487316 tcp ESTAB 0      366344 10.0.0.100:39064 12.1.1.66:4000 users:((\"iperf3\",pid=22225,fd=5)) timer:(on,300ms,0) uid:39791 ino:200945 sk:71 cgroup:unreachable:2010c00000052 <->\n",
      "1726389577.487965 \t ts sack cubic wscale:12,7 rto:436 rtt:234.823/1.419 mss:1448 pmtu:1500 rcvmss:536 advmss:1448 cwnd:15 ssthresh:10 bytes_sent:2082261 bytes_retrans:56472 bytes_acked:2004070 segs_out:1441 segs_in:855 data_segs_out:1439 send 739962bps lastsnd:136 lastrcv:19092 lastack:136 pacing_rate 887952bps delivery_rate 631376bps delivered:1386 busy:18820ms unacked:15 retrans:0/39 rcv_space:14480 rcv_ssthresh:64088 notsent:344624 minrtt:73.482\n",
      "1726389577.488352 tcp ESTAB 0      0      10.0.0.100:58044 12.1.1.66:4000 users:((\"iperf3\",pid=22225,fd=4)) uid:39791 ino:200687 sk:6e cgroup:unreachable:2010c00000052 <->\n",
      "1726389577.488678 \t ts sack cubic wscale:12,7 rto:644 rtt:240.283/66.611 ato:40 mss:1448 pmtu:1500 rcvmss:536 advmss:1448 cwnd:10 bytes_sent:162 bytes_acked:163 bytes_received:4 segs_out:9 segs_in:8 data_segs_out:3 data_segs_in:4 send 482098bps lastsnd:19532 lastrcv:18588 lastack:18588 pacing_rate 964192bps delivery_rate 56832bps delivered:4 app_limited busy:676ms rcv_space:14480 rcv_ssthresh:64088 minrtt:203.825                                                       \n"
     ]
    },
    {
     "name": "stderr",
     "output_type": "stream",
     "text": [
      "Failed to open cgroup2 by ID\n",
      "Failed to open cgroup2 by ID\n",
      "Failed to open cgroup2 by ID\n",
      "Failed to open cgroup2 by ID\n"
     ]
    },
    {
     "name": "stdout",
     "output_type": "stream",
     "text": [
      "1726389577.8014551726389577.802380 tcp ESTAB 0      0      10.0.0.100:57612 12.1.1.130:4000 users:((\"iperf3\",pid=22224,fd=4)) uid:39791 ino:200688 sk:6f cgroup:unreachable:2010c00000052 <->\n",
      "1726389577.803008 \t ts sack cubic wscale:12,7 rto:832 rtt:283.134/109.099 ato:40 mss:1448 pmtu:1500 rcvmss:536 advmss:1448 cwnd:10 bytes_sent:162 bytes_acked:163 bytes_received:4 segs_out:9 segs_in:8 data_segs_out:3 data_segs_in:4 send 409135bps lastsnd:19780 lastrcv:18800 lastack:18800 pacing_rate 818264bps delivery_rate 57064bps delivered:4 app_limited busy:676ms rcv_space:14480 rcv_ssthresh:64088 minrtt:202.988\n",
      "1726389577.803542 tcp ESTAB 0      153488 10.0.0.100:60476 12.1.1.130:4000 users:((\"iperf3\",pid=22224,fd=5)) timer:(on,272ms,0) uid:39791 ino:200946 sk:70 cgroup:unreachable:2010c00000052 <->\n",
      "1726389577.804079 \t ts sack cubic wscale:12,7 rto:452 rtt:242.238/25.711 mss:1448 pmtu:1500 rcvmss:536 advmss:1448 cwnd:4 ssthresh:4 bytes_sent:850013 bytes_retrans:63712 bytes_acked:780510 segs_out:590 segs_in:406 data_segs_out:588 send 191283bps lastsnd:80 lastrcv:19272 lastack:80 pacing_rate 229536bps delivery_rate 194568bps delivered:541 busy:19032ms unacked:4 retrans:0/44 rcv_space:14480 rcv_ssthresh:64088 notsent:147696 minrtt:169.604\n",
      " tcp ESTAB 0      344624 10.0.0.100:39064 12.1.1.66:4000 users:((\"iperf3\",pid=22225,fd=5)) timer:(on,224ms,0) uid:39791 ino:200945 sk:71 cgroup:unreachable:2010c00000052 <->\n",
      "1726389577.806972 \t ts sack cubic wscale:12,7 rto:440 rtt:236.623/1.103 mss:1448 pmtu:1500 rcvmss:536 advmss:1448 cwnd:15 ssthresh:10 bytes_sent:2103981 bytes_retrans:56472 bytes_acked:2025790 segs_out:1456 segs_in:863 data_segs_out:1454 send 734333bps lastsnd:216 lastrcv:19412 lastack:220 pacing_rate 881192bps delivery_rate 727992bps delivered:1401 busy:19140ms unacked:15 retrans:0/39 rcv_space:14480 rcv_ssthresh:64088 notsent:322904 minrtt:73.482\n",
      "1726389577.807353 tcp ESTAB 0      0      10.0.0.100:58044 12.1.1.66:4000 users:((\"iperf3\",pid=22225,fd=4)) uid:39791 ino:200687 sk:6e cgroup:unreachable:2010c00000052 <->\n",
      "1726389577.807667 \t ts sack cubic wscale:12,7 rto:644 rtt:240.283/66.611 ato:40 mss:1448 pmtu:1500 rcvmss:536 advmss:1448 cwnd:10 bytes_sent:162 bytes_acked:163 bytes_received:4 segs_out:9 segs_in:8 data_segs_out:3 data_segs_in:4 send 482098bps lastsnd:19852 lastrcv:18908 lastack:18908 pacing_rate 964192bps delivery_rate 56832bps delivered:4 app_limited busy:676ms rcv_space:14480 rcv_ssthresh:64088 minrtt:203.825                                                       \n"
     ]
    },
    {
     "name": "stderr",
     "output_type": "stream",
     "text": [
      "Failed to open cgroup2 by ID\n",
      "Failed to open cgroup2 by ID\n",
      "Failed to open cgroup2 by ID\n",
      "Failed to open cgroup2 by ID\n"
     ]
    },
    {
     "name": "stdout",
     "output_type": "stream",
     "text": [
      "1726389578.1219801726389578.122992 tcp ESTAB 0      0      10.0.0.100:57612 12.1.1.130:4000 users:((\"iperf3\",pid=22224,fd=4)) uid:39791 ino:200688 sk:6f cgroup:unreachable:2010c00000052 <->\n",
      "1726389578.123588 \t ts sack cubic wscale:12,7 rto:832 rtt:283.134/109.099 ato:40 mss:1448 pmtu:1500 rcvmss:536 advmss:1448 cwnd:10 bytes_sent:162 bytes_acked:163 bytes_received:4 segs_out:9 segs_in:8 data_segs_out:3 data_segs_in:4 send 409135bps lastsnd:20108 lastrcv:19128 lastack:19128 pacing_rate 818264bps delivery_rate 57064bps delivered:4 app_limited busy:676ms rcv_space:14480 rcv_ssthresh:64088 minrtt:202.988\n",
      "1726389578.124193 tcp ESTAB 0      137560 10.0.0.100:60476 12.1.1.130:4000 users:((\"iperf3\",pid=22224,fd=5)) timer:(on,400ms,0) uid:39791 ino:200946 sk:70 cgroup:unreachable:2010c00000052 <->\n",
      "1726389578.124726 \t ts sack cubic wscale:12,7 rto:432 rtt:225.709/27.134 mss:1448 pmtu:1500 rcvmss:536 advmss:1448 cwnd:7 ssthresh:4 bytes_sent:870285 bytes_retrans:63712 bytes_acked:796438 segs_out:604 segs_in:411 data_segs_out:602 send 359259bps lastsnd:32 lastrcv:19600 lastack:32 pacing_rate 431104bps delivery_rate 395896bps delivered:552 busy:19360ms unacked:7 retrans:0/44 rcv_space:14480 rcv_ssthresh:64088 notsent:127424 minrtt:167.669\n",
      " tcp ESTAB 0      330144 10.0.0.100:39064 12.1.1.66:4000 users:((\"iperf3\",pid=22225,fd=5)) timer:(on,376ms,0) uid:39791 ino:200945 sk:71 cgroup:unreachable:2010c00000052 <->\n",
      "1726389578.126550 \t ts sack cubic wscale:12,7 rto:440 rtt:237.387/0.714 mss:1448 pmtu:1500 rcvmss:536 advmss:1448 cwnd:10 ssthresh:10 bytes_sent:2130045 bytes_retrans:63712 bytes_acked:2040270 segs_out:1474 segs_in:873 data_segs_out:1472 send 487980bps lastsnd:64 lastrcv:19732 lastack:64 pacing_rate 936912bps delivery_rate 389296bps delivered:1419 busy:19460ms unacked:18 retrans:5/44 lost:5 sacked:8 rcv_space:14480 rcv_ssthresh:64088 notsent:304080 minrtt:73.482\n",
      "1726389578.126928 tcp ESTAB 0      0      10.0.0.100:58044 12.1.1.66:4000 users:((\"iperf3\",pid=22225,fd=4)) uid:39791 ino:200687 sk:6e cgroup:unreachable:2010c00000052 <->\n",
      "1726389578.127246 \t ts sack cubic wscale:12,7 rto:644 rtt:240.283/66.611 ato:40 mss:1448 pmtu:1500 rcvmss:536 advmss:1448 cwnd:10 bytes_sent:162 bytes_acked:163 bytes_received:4 segs_out:9 segs_in:8 data_segs_out:3 data_segs_in:4 send 482098bps lastsnd:20172 lastrcv:19228 lastack:19228 pacing_rate 964192bps delivery_rate 56832bps delivered:4 app_limited busy:676ms rcv_space:14480 rcv_ssthresh:64088 minrtt:203.825                                                                     \n"
     ]
    },
    {
     "name": "stderr",
     "output_type": "stream",
     "text": [
      "Failed to open cgroup2 by ID\n",
      "Failed to open cgroup2 by ID\n",
      "Failed to open cgroup2 by ID\n",
      "Failed to open cgroup2 by ID\n"
     ]
    },
    {
     "name": "stdout",
     "output_type": "stream",
     "text": [
      "1726389578.4411551726389578.438067 tcp ESTAB 0      0      10.0.0.100:57612 12.1.1.130:4000 users:((\"iperf3\",pid=22224,fd=4)) uid:39791 ino:200688 sk:6f cgroup:unreachable:2010c00000052 <->\n",
      "1726389578.441988 \t ts sack cubic wscale:12,7 rto:832 rtt:283.134/109.099 ato:40 mss:1448 pmtu:1500 rcvmss:536 advmss:1448 cwnd:10 bytes_sent:162 bytes_acked:163 bytes_received:4 segs_out:9 segs_in:8 data_segs_out:3 data_segs_in:4 send 409135bps lastsnd:20424 lastrcv:19444 lastack:19444 pacing_rate 818264bps delivery_rate 57064bps delivered:4 app_limited busy:676ms rcv_space:14480 rcv_ssthresh:64088 minrtt:202.988\n",
      "1726389578.442745 tcp ESTAB 0      127424 10.0.0.100:60476 12.1.1.130:4000 users:((\"iperf3\",pid=22224,fd=5)) timer:(on,324ms,0) uid:39791 ino:200946 sk:70 cgroup:unreachable:2010c00000052 <->\n",
      "1726389578.443269 \t ts sack cubic wscale:12,7 rto:436 rtt:230.019/17.894 mss:1448 pmtu:1500 rcvmss:536 advmss:1448 cwnd:7 ssthresh:4 bytes_sent:880421 bytes_retrans:63712 bytes_acked:806574 segs_out:611 segs_in:414 data_segs_out:609 send 352527bps lastsnd:112 lastrcv:19916 lastack:112 pacing_rate 423032bps delivery_rate 339336bps delivered:559 busy:19676ms unacked:7 retrans:0/44 rcv_space:14480 rcv_ssthresh:64088 notsent:117288 minrtt:167.669\n",
      " tcp ESTAB 0      506800 10.0.0.100:39064 12.1.1.66:4000 users:((\"iperf3\",pid=22225,fd=5)) timer:(on,236ms,0) uid:39791 ino:200945 sk:71 cgroup:unreachable:2010c00000052 <->\n",
      "1726389578.445581 \t ts sack cubic wscale:12,7 rto:420 rtt:216.938/5.126 mss:1448 pmtu:1500 rcvmss:536 advmss:1448 cwnd:9 ssthresh:10 bytes_sent:2143077 bytes_retrans:66608 bytes_acked:2059094 segs_out:1483 segs_in:881 data_segs_out:1481 send 480580bps lastsnd:184 lastrcv:20056 lastack:184 pacing_rate 576688bps delivery_rate 389024bps delivered:1427 busy:19784ms unacked:12 retrans:2/46 lost:2 sacked:3 rcv_space:14480 rcv_ssthresh:64088 notsent:489424 minrtt:73.482\n",
      "1726389578.445964 tcp ESTAB 0      0      10.0.0.100:58044 12.1.1.66:4000 users:((\"iperf3\",pid=22225,fd=4)) uid:39791 ino:200687 sk:6e cgroup:unreachable:2010c00000052 <->\n",
      "1726389578.446381 \t ts sack cubic wscale:12,7 rto:644 rtt:240.283/66.611 ato:40 mss:1448 pmtu:1500 rcvmss:536 advmss:1448 cwnd:10 bytes_sent:162 bytes_acked:163 bytes_received:4 segs_out:9 segs_in:8 data_segs_out:3 data_segs_in:4 send 482098bps lastsnd:20496 lastrcv:19552 lastack:19552 pacing_rate 964192bps delivery_rate 56832bps delivered:4 app_limited busy:676ms rcv_space:14480 rcv_ssthresh:64088 minrtt:203.825                                                                      \n"
     ]
    },
    {
     "name": "stderr",
     "output_type": "stream",
     "text": [
      "Failed to open cgroup2 by ID\n",
      "Failed to open cgroup2 by ID\n",
      "Failed to open cgroup2 by ID\n",
      "Failed to open cgroup2 by ID\n"
     ]
    },
    {
     "name": "stdout",
     "output_type": "stream",
     "text": [
      "1726389578.7601441726389578.761622 tcp ESTAB 0      0      10.0.0.100:57612 12.1.1.130:4000 users:((\"iperf3\",pid=22224,fd=4)) uid:39791 ino:200688 sk:6f cgroup:unreachable:2010c00000052 <->\n",
      "1726389578.762324 \t ts sack cubic wscale:12,7 rto:832 rtt:283.134/109.099 ato:40 mss:1448 pmtu:1500 rcvmss:536 advmss:1448 cwnd:10 bytes_sent:162 bytes_acked:163 bytes_received:4 segs_out:9 segs_in:8 data_segs_out:3 data_segs_in:4 send 409135bps lastsnd:20744 lastrcv:19764 lastack:19764 pacing_rate 818264bps delivery_rate 57064bps delivered:4 app_limited busy:676ms rcv_space:14480 rcv_ssthresh:64088 minrtt:202.988\n",
      "1726389578.762846 tcp ESTAB 0      247608 10.0.0.100:60476 12.1.1.130:4000 users:((\"iperf3\",pid=22224,fd=5)) timer:(on,244ms,0) uid:39791 ino:200946 sk:70 cgroup:unreachable:2010c00000052 <->\n",
      "1726389578.763260 tcp ESTAB 0      483632 10.0.0.100:39064 12.1.1.66:4000 users:((\"iperf3\",pid=22225,fd=5)) timer:(on,176ms,0) uid:39791 ino:200945 sk:71 cgroup:unreachable:2010c00000052 <->\n",
      "1726389578.763598 \t ts sack cubic wscale:12,7 rto:436 rtt:231.962/10.449 mss:1448 pmtu:1500 rcvmss:536 advmss:1448 cwnd:7 ssthresh:4 bytes_sent:890557 bytes_retrans:63712 bytes_acked:816710 segs_out:618 segs_in:417 data_segs_out:616 send 349574bps lastsnd:192 lastrcv:20236 lastack:196 pacing_rate 419480bps delivery_rate 339136bps delivered:566 busy:19996ms unacked:7 retrans:0/44 rcv_space:14480 rcv_ssthresh:64088 notsent:237472 minrtt:167.669\n",
      " \t ts sack cubic wscale:12,7 rto:432 rtt:230.304/10.767 mss:1448 pmtu:1500 rcvmss:536 advmss:1448 cwnd:11 ssthresh:10 bytes_sent:2163349 bytes_retrans:66608 bytes_acked:2082262 segs_out:1497 segs_in:889 data_segs_out:1495 send 553286bps lastsnd:20 lastrcv:20368 lastack:20 pacing_rate 663936bps delivery_rate 437360bps delivered:1440 busy:20096ms unacked:10 retrans:0/46 rcv_space:14480 rcv_ssthresh:64088 notsent:469152 minrtt:73.482\n",
      "1726389578.765571 tcp ESTAB 0      0      10.0.0.100:58044 12.1.1.66:4000 users:((\"iperf3\",pid=22225,fd=4)) uid:39791 ino:200687 sk:6e cgroup:unreachable:2010c00000052 <->\n",
      "1726389578.765900 \t ts sack cubic wscale:12,7 rto:644 rtt:240.283/66.611 ato:40 mss:1448 pmtu:1500 rcvmss:536 advmss:1448 cwnd:10 bytes_sent:162 bytes_acked:163 bytes_received:4 segs_out:9 segs_in:8 data_segs_out:3 data_segs_in:4 send 482098bps lastsnd:20808 lastrcv:19864 lastack:19864 pacing_rate 964192bps delivery_rate 56832bps delivered:4 app_limited busy:676ms rcv_space:14480 rcv_ssthresh:64088 minrtt:203.825                                                      \n"
     ]
    },
    {
     "name": "stderr",
     "output_type": "stream",
     "text": [
      "Failed to open cgroup2 by ID\n",
      "Failed to open cgroup2 by ID\n",
      "Failed to open cgroup2 by ID\n",
      "Failed to open cgroup2 by ID\n"
     ]
    },
    {
     "name": "stdout",
     "output_type": "stream",
     "text": [
      "1726389579.079360 tcp ESTAB 0      0      10.0.0.100:57612 12.1.1.130:4000 users:((\"iperf3\",pid=22224,fd=4)) uid:39791 ino:200688 sk:6f cgroup:unreachable:2010c00000052 <->\n",
      "1726389579.080055 \t ts sack cubic wscale:12,7 rto:832 rtt:283.134/109.099 ato:40 mss:1448 pmtu:1500 rcvmss:536 advmss:1448 cwnd:10 bytes_sent:162 bytes_acked:163 bytes_received:4 segs_out:9 segs_in:8 data_segs_out:3 data_segs_in:4 send 409135bps lastsnd:21064 lastrcv:20084 lastack:20084 pacing_rate 818264bps delivery_rate 57064bps delivered:4 app_limited busy:676ms rcv_space:14480 rcv_ssthresh:64088 minrtt:202.988\n",
      "1726389579.080600 tcp ESTAB 0      227336 10.0.0.100:60476 12.1.1.130:4000 users:((\"iperf3\",pid=22224,fd=5)) timer:(on,364ms,0) uid:39791 ino:200946 sk:70 cgroup:unreachable:2010c00000052 <->\n",
      "1726389579.081153 \t ts sack cubic wscale:12,7 rto:432 rtt:228.267/12.755 mss:1448 pmtu:1500 rcvmss:536 advmss:1448 cwnd:7 ssthresh:4 bytes_sent:910829 bytes_retrans:63712 bytes_acked:836982 segs_out:632 segs_in:423 data_segs_out:630 send 355233bps lastsnd:68 lastrcv:20556 lastack:72 pacing_rate 426272bps delivery_rate 339144bps delivered:580 busy:20316ms unacked:7 retrans:0/44 rcv_space:14480 rcv_ssthresh:64088 notsent:217200 minrtt:167.669\n",
      "1726389579.085105 tcp ESTAB 0      483632 10.0.0.100:39064 12.1.1.66:4000 users:((\"iperf3\",pid=22225,fd=5)) timer:(on,320ms,0) uid:39791 ino:200945 sk:71 cgroup:unreachable:2010c00000052 <->\n",
      "1726389579.086123 \t ts sack cubic wscale:12,7 rto:424 rtt:223.537/12.821 mss:1448 pmtu:1500 rcvmss:536 advmss:1448 cwnd:5 ssthresh:7 bytes_sent:2170589 bytes_retrans:72400 bytes_acked:2082262 segs_out:1502 segs_in:893 data_segs_out:1500 send 259107bps lastsnd:104 lastrcv:20688 lastack:104 pacing_rate 684032bps delivery_rate 194376bps delivered:1444 busy:20416ms unacked:11 retrans:4/50 lost:6 sacked:4 rcv_space:14480 rcv_ssthresh:64088 notsent:467704 minrtt:73.482\n",
      "1726389579.086591 tcp ESTAB 0      0      10.0.0.100:58044 12.1.1.66:4000 users:((\"iperf3\",pid=22225,fd=4)) uid:39791 ino:200687 sk:6e cgroup:unreachable:2010c00000052 <->\n",
      "1726389579.086913 \t ts sack cubic wscale:12,7 rto:644 rtt:240.283/66.611 ato:40 mss:1448 pmtu:1500 rcvmss:536 advmss:1448 cwnd:10 bytes_sent:162 bytes_acked:163 bytes_received:4 segs_out:9 segs_in:8 data_segs_out:3 data_segs_in:4 send 482098bps lastsnd:21128 lastrcv:20184 lastack:20184 pacing_rate 964192bps delivery_rate 56832bps delivered:4 app_limited busy:676ms rcv_space:14480 rcv_ssthresh:64088 minrtt:203.825                                                                      \n"
     ]
    },
    {
     "name": "stderr",
     "output_type": "stream",
     "text": [
      "Failed to open cgroup2 by ID\n",
      "Failed to open cgroup2 by ID\n",
      "Failed to open cgroup2 by ID\n",
      "Failed to open cgroup2 by ID\n"
     ]
    },
    {
     "name": "stdout",
     "output_type": "stream",
     "text": [
      "1726389579.4001011726389579.400895 tcp ESTAB 0      0      10.0.0.100:57612 12.1.1.130:4000 users:((\"iperf3\",pid=22224,fd=4)) uid:39791 ino:200688 sk:6f cgroup:unreachable:2010c00000052 <->\n",
      "1726389579.401498 \t ts sack cubic wscale:12,7 rto:832 rtt:283.134/109.099 ato:40 mss:1448 pmtu:1500 rcvmss:536 advmss:1448 cwnd:10 bytes_sent:162 bytes_acked:163 bytes_received:4 segs_out:9 segs_in:8 data_segs_out:3 data_segs_in:4 send 409135bps lastsnd:21388 lastrcv:20408 lastack:20408 pacing_rate 818264bps delivery_rate 57064bps delivered:4 app_limited busy:676ms rcv_space:14480 rcv_ssthresh:64088 minrtt:202.988\n",
      "1726389579.402106 tcp ESTAB 0      217200 10.0.0.100:60476 12.1.1.130:4000 users:((\"iperf3\",pid=22224,fd=5)) timer:(on,280ms,0) uid:39791 ino:200946 sk:70 cgroup:unreachable:2010c00000052 <->\n",
      "1726389579.402828 \t ts sack cubic wscale:12,7 rto:436 rtt:231.403/8.025 mss:1448 pmtu:1500 rcvmss:536 advmss:1448 cwnd:7 ssthresh:4 bytes_sent:920965 bytes_retrans:63712 bytes_acked:847118 segs_out:639 segs_in:427 data_segs_out:637 send 350419bps lastsnd:156 lastrcv:20880 lastack:156 pacing_rate 420496bps delivery_rate 339000bps delivered:587 busy:20640ms unacked:7 retrans:0/44 rcv_space:14480 rcv_ssthresh:64088 notsent:207064 minrtt:167.669\n",
      " tcp ESTAB 0      461912 10.0.0.100:39064 12.1.1.66:4000 users:((\"iperf3\",pid=22225,fd=5)) timer:(on,408ms,0) uid:39791 ino:200945 sk:71 cgroup:unreachable:2010c00000052 <->\n",
      "1726389579.404915 \t ts sack cubic wscale:12,7 rto:424 rtt:221.237/18.398 mss:1448 pmtu:1500 rcvmss:536 advmss:1448 cwnd:7 ssthresh:7 bytes_sent:2189413 bytes_retrans:75296 bytes_acked:2103982 segs_out:1515 segs_in:902 data_segs_out:1513 send 366521bps lastsnd:16 lastrcv:21012 lastack:20 pacing_rate 439824bps delivery_rate 293776bps delivered:1455 busy:20740ms unacked:7 retrans:0/52 rcv_space:14480 rcv_ssthresh:64088 notsent:451776 minrtt:73.482\n",
      "1726389579.405256 tcp ESTAB 0      0      10.0.0.100:58044 12.1.1.66:4000 users:((\"iperf3\",pid=22225,fd=4)) uid:39791 ino:200687 sk:6e cgroup:unreachable:2010c00000052 <->\n",
      "1726389579.405574 \t ts sack cubic wscale:12,7 rto:644 rtt:240.283/66.611 ato:40 mss:1448 pmtu:1500 rcvmss:536 advmss:1448 cwnd:10 bytes_sent:162 bytes_acked:163 bytes_received:4 segs_out:9 segs_in:8 data_segs_out:3 data_segs_in:4 send 482098bps lastsnd:21452 lastrcv:20508 lastack:20508 pacing_rate 964192bps delivery_rate 56832bps delivered:4 app_limited busy:676ms rcv_space:14480 rcv_ssthresh:64088 minrtt:203.825                                                   \n"
     ]
    },
    {
     "name": "stderr",
     "output_type": "stream",
     "text": [
      "Failed to open cgroup2 by ID\n",
      "Failed to open cgroup2 by ID\n",
      "Failed to open cgroup2 by ID\n",
      "Failed to open cgroup2 by ID\n"
     ]
    },
    {
     "name": "stdout",
     "output_type": "stream",
     "text": [
      "1726389579.7203731726389579.722631 tcp ESTAB 0      451776 10.0.0.100:39064 12.1.1.66:4000 users:((\"iperf3\",pid=22225,fd=5)) timer:(on,288ms,0) uid:39791 ino:200945 sk:71 cgroup:unreachable:2010c00000052 <->\n",
      "1726389579.723041 \t ts sack cubic wscale:12,7 rto:416 rtt:214.239/15.044 mss:1448 pmtu:1500 rcvmss:536 advmss:1448 cwnd:8 ssthresh:7 bytes_sent:2200997 bytes_retrans:75296 bytes_acked:2114118 segs_out:1523 segs_in:906 data_segs_out:1521 send 432564bps lastsnd:128 lastrcv:21328 lastack:128 pacing_rate 519072bps delivery_rate 342648bps delivered:1462 busy:21056ms unacked:8 retrans:0/52 rcv_space:14480 rcv_ssthresh:64088 notsent:440192 minrtt:73.482\n",
      "1726389579.723115 tcp ESTAB 0      0      10.0.0.100:58044 12.1.1.66:4000 users:((\"iperf3\",pid=22225,fd=4)) uid:39791 ino:200687 sk:6e cgroup:unreachable:2010c00000052 <->\n",
      "1726389579.723163 \t ts sack cubic wscale:12,7 rto:644 rtt:240.283/66.611 ato:40 mss:1448 pmtu:1500 rcvmss:536 advmss:1448 cwnd:10 bytes_sent:162 bytes_acked:163 bytes_received:4 segs_out:9 segs_in:8 data_segs_out:3 data_segs_in:4 send 482098bps lastsnd:21768 lastrcv:20824 lastack:20824 pacing_rate 964192bps delivery_rate 56832bps delivered:4 app_limited busy:676ms rcv_space:14480 rcv_ssthresh:64088 minrtt:203.825                                                     \n",
      " tcp ESTAB 0      0      10.0.0.100:57612 12.1.1.130:4000 users:((\"iperf3\",pid=22224,fd=4)) uid:39791 ino:200688 sk:6f cgroup:unreachable:2010c00000052 <->\n",
      "1726389579.721203 \t ts sack cubic wscale:12,7 rto:832 rtt:283.134/109.099 ato:40 mss:1448 pmtu:1500 rcvmss:536 advmss:1448 cwnd:10 bytes_sent:162 bytes_acked:163 bytes_received:4 segs_out:9 segs_in:8 data_segs_out:3 data_segs_in:4 send 409135bps lastsnd:21704 lastrcv:20724 lastack:20724 pacing_rate 818264bps delivery_rate 57064bps delivered:4 app_limited busy:676ms rcv_space:14480 rcv_ssthresh:64088 minrtt:202.988\n",
      "1726389579.721283 tcp ESTAB 0      207064 10.0.0.100:60476 12.1.1.130:4000 users:((\"iperf3\",pid=22224,fd=5)) timer:(on,200ms,0) uid:39791 ino:200946 sk:70 cgroup:unreachable:2010c00000052 <->\n",
      "1726389579.721336 \t ts sack cubic wscale:12,7 rto:436 rtt:233.671/6.763 mss:1448 pmtu:1500 rcvmss:536 advmss:1448 cwnd:7 ssthresh:4 bytes_sent:931101 bytes_retrans:63712 bytes_acked:857254 segs_out:646 segs_in:430 data_segs_out:644 send 347018bps lastsnd:236 lastrcv:21196 lastack:236 pacing_rate 416416bps delivery_rate 340112bps delivered:594 busy:20956ms unacked:7 retrans:0/44 rcv_space:14480 rcv_ssthresh:64088 notsent:196928 minrtt:167.669\n"
     ]
    },
    {
     "name": "stderr",
     "output_type": "stream",
     "text": [
      "Failed to open cgroup2 by ID\n",
      "Failed to open cgroup2 by ID\n",
      "Failed to open cgroup2 by ID\n",
      "Failed to open cgroup2 by ID\n"
     ]
    },
    {
     "name": "stdout",
     "output_type": "stream",
     "text": [
      "1726389580.171490 tcp ESTAB 0      0      10.0.0.100:57612 12.1.1.130:4000 users:((\"iperf3\",pid=22224,fd=4)) uid:39791 ino:200688 sk:6f cgroup:unreachable:2010c00000052 <->\n",
      "1726389580.174592 \t ts sack cubic wscale:12,7 rto:832 rtt:283.134/109.099 ato:40 mss:1448 pmtu:1500 rcvmss:536 advmss:1448 cwnd:10 bytes_sent:162 bytes_acked:163 bytes_received:4 segs_out:9 segs_in:8 data_segs_out:3 data_segs_in:4 send 409135bps lastsnd:22160 lastrcv:21180 lastack:21180 pacing_rate 818264bps delivery_rate 57064bps delivered:4 app_limited busy:676ms rcv_space:14480 rcv_ssthresh:64088 minrtt:202.988\n",
      "1726389580.175151 tcp ESTAB 0      183896 10.0.0.100:60476 12.1.1.130:4000 users:((\"iperf3\",pid=22224,fd=5)) timer:(on,224ms,0) uid:39791 ino:200946 sk:70 cgroup:unreachable:2010c00000052 <->\n",
      "1726389580.175692 \t ts sack cubic wscale:12,7 rto:440 rtt:236.243/2.397 mss:1448 pmtu:1500 rcvmss:536 advmss:1448 cwnd:9 ssthresh:4 bytes_sent:957165 bytes_retrans:63712 bytes_acked:880422 segs_out:664 segs_in:438 data_segs_out:662 send 441308bps lastsnd:216 lastrcv:21652 lastack:216 pacing_rate 529568bps delivery_rate 438608bps delivered:610 busy:21412ms unacked:9 retrans:0/44 rcv_space:14480 rcv_ssthresh:64088 notsent:170864 minrtt:167.669\n",
      "1726389580.178509 tcp ESTAB 0      427160 10.0.0.100:39064 12.1.1.66:4000 users:((\"iperf3\",pid=22225,fd=5)) timer:(on,416ms,0) uid:39791 ino:200945 sk:71 cgroup:unreachable:2010c00000052 <->\n",
      "1726389580.179167 \t ts sack cubic wscale:12,7 rto:460 rtt:244.633/20.264 mss:1448 pmtu:1500 rcvmss:536 advmss:1448 cwnd:9 ssthresh:7 bytes_sent:2227061 bytes_retrans:75296 bytes_acked:2138734 segs_out:1541 segs_in:915 data_segs_out:1539 send 426173bps lastsnd:44 lastrcv:21784 lastack:44 pacing_rate 511400bps delivery_rate 342096bps delivered:1479 busy:21512ms unacked:9 retrans:0/52 rcv_space:14480 rcv_ssthresh:64088 notsent:414128 minrtt:73.482\n",
      "1726389580.179549 tcp ESTAB 0      0      10.0.0.100:58044 12.1.1.66:4000 users:((\"iperf3\",pid=22225,fd=4)) uid:39791 ino:200687 sk:6e cgroup:unreachable:2010c00000052 <->\n",
      "1726389580.179867 \t ts sack cubic wscale:12,7 rto:644 rtt:240.283/66.611 ato:40 mss:1448 pmtu:1500 rcvmss:536 advmss:1448 cwnd:10 bytes_sent:162 bytes_acked:163 bytes_received:4 segs_out:9 segs_in:8 data_segs_out:3 data_segs_in:4 send 482098bps lastsnd:22224 lastrcv:21280 lastack:21280 pacing_rate 964192bps delivery_rate 56832bps delivered:4 app_limited busy:676ms rcv_space:14480 rcv_ssthresh:64088 minrtt:203.825                                                   \n"
     ]
    },
    {
     "name": "stderr",
     "output_type": "stream",
     "text": [
      "Failed to open cgroup2 by ID\n",
      "Failed to open cgroup2 by ID\n",
      "Failed to open cgroup2 by ID\n",
      "Failed to open cgroup2 by ID\n"
     ]
    },
    {
     "name": "stdout",
     "output_type": "stream",
     "text": [
      "1726389580.487892 tcp ESTAB 0      0      10.0.0.100:57612 12.1.1.130:4000 users:((\"iperf3\",pid=22224,fd=4)) uid:39791 ino:200688 sk:6f cgroup:unreachable:2010c00000052 <->\n",
      "1726389580.490582 \t ts sack cubic wscale:12,7 rto:832 rtt:283.134/109.099 ato:40 mss:1448 pmtu:1500 rcvmss:536 advmss:1448 cwnd:10 bytes_sent:162 bytes_acked:163 bytes_received:4 segs_out:9 segs_in:8 data_segs_out:3 data_segs_in:4 send 409135bps lastsnd:22472 lastrcv:21492 lastack:21492 pacing_rate 818264bps delivery_rate 57064bps delivered:4 app_limited busy:676ms rcv_space:14480 rcv_ssthresh:64088 minrtt:202.988\n",
      "1726389580.491151 tcp ESTAB 0      157832 10.0.0.100:60476 12.1.1.130:4000 users:((\"iperf3\",pid=22224,fd=5)) timer:(on,388ms,0) uid:39791 ino:200946 sk:70 cgroup:unreachable:2010c00000052 <->\n",
      "1726389580.491668 \t ts sack cubic wscale:12,7 rto:440 rtt:236.455/0.877 mss:1448 pmtu:1500 rcvmss:536 advmss:1448 cwnd:9 ssthresh:4 bytes_sent:983229 bytes_retrans:63712 bytes_acked:906486 segs_out:682 segs_in:445 data_segs_out:680 send 440913bps lastsnd:52 lastrcv:21964 lastack:56 pacing_rate 529088bps delivery_rate 438952bps delivered:628 busy:21724ms unacked:9 retrans:0/44 rcv_space:14480 rcv_ssthresh:64088 notsent:144800 minrtt:167.669\n",
      "1726389580.494892 tcp ESTAB 0      414128 10.0.0.100:39064 12.1.1.66:4000 users:((\"iperf3\",pid=22225,fd=5)) timer:(on,328ms,0) uid:39791 ino:200945 sk:71 cgroup:unreachable:2010c00000052 <->\n",
      "1726389580.495540 \t ts sack cubic wscale:12,7 rto:452 rtt:241.04/8.99 mss:1448 pmtu:1500 rcvmss:536 advmss:1448 cwnd:9 ssthresh:7 bytes_sent:2240093 bytes_retrans:75296 bytes_acked:2151766 segs_out:1550 segs_in:920 data_segs_out:1548 send 432526bps lastsnd:124 lastrcv:22104 lastack:124 pacing_rate 519024bps delivery_rate 438088bps delivered:1488 busy:21832ms unacked:9 retrans:0/52 rcv_space:14480 rcv_ssthresh:64088 notsent:401096 minrtt:73.482\n",
      "1726389580.496012 tcp ESTAB 0      0      10.0.0.100:58044 12.1.1.66:4000 users:((\"iperf3\",pid=22225,fd=4)) uid:39791 ino:200687 sk:6e cgroup:unreachable:2010c00000052 <->\n",
      "1726389580.496335 \t ts sack cubic wscale:12,7 rto:644 rtt:240.283/66.611 ato:40 mss:1448 pmtu:1500 rcvmss:536 advmss:1448 cwnd:10 bytes_sent:162 bytes_acked:163 bytes_received:4 segs_out:9 segs_in:8 data_segs_out:3 data_segs_in:4 send 482098bps lastsnd:22544 lastrcv:21600 lastack:21600 pacing_rate 964192bps delivery_rate 56832bps delivered:4 app_limited busy:676ms rcv_space:14480 rcv_ssthresh:64088 minrtt:203.825                                                  \n"
     ]
    },
    {
     "name": "stderr",
     "output_type": "stream",
     "text": [
      "Failed to open cgroup2 by ID\n",
      "Failed to open cgroup2 by ID\n",
      "Failed to open cgroup2 by ID\n",
      "Failed to open cgroup2 by ID\n"
     ]
    },
    {
     "name": "stdout",
     "output_type": "stream",
     "text": [
      "1726389580.810953 tcp ESTAB 0      0      10.0.0.100:57612 12.1.1.130:4000 users:((\"iperf3\",pid=22224,fd=4)) uid:39791 ino:200688 sk:6f cgroup:unreachable:2010c00000052 <->\n",
      "1726389580.811622 \t ts sack cubic wscale:12,7 rto:832 rtt:283.134/109.099 ato:40 mss:1448 pmtu:1500 rcvmss:536 advmss:1448 cwnd:10 bytes_sent:162 bytes_acked:163 bytes_received:4 segs_out:9 segs_in:8 data_segs_out:3 data_segs_in:4 send 409135bps lastsnd:22796 lastrcv:21816 lastack:21816 pacing_rate 818264bps delivery_rate 57064bps delivered:4 app_limited busy:676ms rcv_space:14480 rcv_ssthresh:64088 minrtt:202.988\n",
      "1726389580.812124 tcp ESTAB 0      144800 10.0.0.100:60476 12.1.1.130:4000 users:((\"iperf3\",pid=22224,fd=5)) timer:(on,300ms,0) uid:39791 ino:200946 sk:70 cgroup:unreachable:2010c00000052 <->\n",
      "1726389580.812690 \t ts sack cubic wscale:12,7 rto:440 rtt:236.979/0.908 mss:1448 pmtu:1500 rcvmss:536 advmss:1448 cwnd:11 ssthresh:4 bytes_sent:999157 bytes_retrans:63712 bytes_acked:919518 segs_out:693 segs_in:449 data_segs_out:691 send 537702bps lastsnd:140 lastrcv:22288 lastack:140 pacing_rate 645240bps delivery_rate 438000bps delivered:637 busy:22048ms unacked:11 retrans:0/44 rcv_space:14480 rcv_ssthresh:64088 notsent:128872 minrtt:167.669\n",
      "1726389580.815990 tcp ESTAB 0      401096 10.0.0.100:39064 12.1.1.66:4000 users:((\"iperf3\",pid=22225,fd=5)) timer:(on,244ms,0) uid:39791 ino:200945 sk:71 cgroup:unreachable:2010c00000052 <->\n",
      "1726389580.816653 \t ts sack cubic wscale:12,7 rto:448 rtt:238.424/5.238 mss:1448 pmtu:1500 rcvmss:536 advmss:1448 cwnd:9 ssthresh:7 bytes_sent:2253125 bytes_retrans:75296 bytes_acked:2164798 segs_out:1559 segs_in:925 data_segs_out:1557 send 437271bps lastsnd:204 lastrcv:22420 lastack:204 pacing_rate 524720bps delivery_rate 438120bps delivered:1497 busy:22148ms unacked:9 retrans:0/52 rcv_space:14480 rcv_ssthresh:64088 notsent:388064 minrtt:73.482\n",
      "1726389580.817275 tcp ESTAB 0      0      10.0.0.100:58044 12.1.1.66:4000 users:((\"iperf3\",pid=22225,fd=4)) uid:39791 ino:200687 sk:6e cgroup:unreachable:2010c00000052 <->\n",
      "1726389580.817613 \t ts sack cubic wscale:12,7 rto:644 rtt:240.283/66.611 ato:40 mss:1448 pmtu:1500 rcvmss:536 advmss:1448 cwnd:10 bytes_sent:162 bytes_acked:163 bytes_received:4 segs_out:9 segs_in:8 data_segs_out:3 data_segs_in:4 send 482098bps lastsnd:22860 lastrcv:21916 lastack:21916 pacing_rate 964192bps delivery_rate 56832bps delivered:4 app_limited busy:676ms rcv_space:14480 rcv_ssthresh:64088 minrtt:203.825                                                    \n"
     ]
    },
    {
     "name": "stderr",
     "output_type": "stream",
     "text": [
      "Failed to open cgroup2 by ID\n",
      "Failed to open cgroup2 by ID\n",
      "Failed to open cgroup2 by ID\n",
      "Failed to open cgroup2 by ID\n"
     ]
    },
    {
     "name": "stdout",
     "output_type": "stream",
     "text": [
      "1726389581.132007 tcp ESTAB 0      0      10.0.0.100:57612 12.1.1.130:4000 users:((\"iperf3\",pid=22224,fd=4)) uid:39791 ino:200688 sk:6f cgroup:unreachable:2010c00000052 <->\n",
      "1726389581.132668 \t ts sack cubic wscale:12,7 rto:832 rtt:283.134/109.099 ato:40 mss:1448 pmtu:1500 rcvmss:536 advmss:1448 cwnd:10 bytes_sent:162 bytes_acked:163 bytes_received:4 segs_out:9 segs_in:8 data_segs_out:3 data_segs_in:4 send 409135bps lastsnd:23116 lastrcv:22136 lastack:22136 pacing_rate 818264bps delivery_rate 57064bps delivered:4 app_limited busy:676ms rcv_space:14480 rcv_ssthresh:64088 minrtt:202.988\n",
      "1726389581.133241 tcp ESTAB 0      128872 10.0.0.100:60476 12.1.1.130:4000 users:((\"iperf3\",pid=22224,fd=5)) timer:(on,216ms,0) uid:39791 ino:200946 sk:70 cgroup:unreachable:2010c00000052 <->\n",
      "1726389581.133756 \t ts sack cubic wscale:12,7 rto:440 rtt:236.492/0.492 mss:1448 pmtu:1500 rcvmss:536 advmss:1448 cwnd:11 ssthresh:4 bytes_sent:1015085 bytes_retrans:63712 bytes_acked:935446 segs_out:704 segs_in:456 data_segs_out:702 send 538809bps lastsnd:224 lastrcv:22608 lastack:224 pacing_rate 646568bps delivery_rate 534256bps delivered:648 busy:22368ms unacked:11 retrans:0/44 reord_seen:1 rcv_space:14480 rcv_ssthresh:64088 notsent:112944 minrtt:167.669\n",
      "1726389581.130176 tcp ESTAB 0      372136 10.0.0.100:39064 12.1.1.66:4000 users:((\"iperf3\",pid=22225,fd=5)) timer:(on,396ms,0) uid:39791 ino:200945 sk:71 cgroup:unreachable:2010c00000052 <->\n",
      "1726389581.137046 \t ts sack cubic wscale:12,7 rto:444 rtt:237.306/0.984 mss:1448 pmtu:1500 rcvmss:536 advmss:1448 cwnd:11 ssthresh:7 bytes_sent:2284981 bytes_retrans:75296 bytes_acked:2193758 segs_out:1581 segs_in:936 data_segs_out:1579 send 536961bps lastsnd:48 lastrcv:22740 lastack:52 pacing_rate 644344bps delivery_rate 534800bps delivered:1517 busy:22468ms unacked:11 retrans:0/52 rcv_space:14480 rcv_ssthresh:64088 notsent:356208 minrtt:73.482\n",
      "1726389581.137539 tcp ESTAB 0      0      10.0.0.100:58044 12.1.1.66:4000 users:((\"iperf3\",pid=22225,fd=4)) uid:39791 ino:200687 sk:6e cgroup:unreachable:2010c00000052 <->\n",
      "1726389581.137879 \t ts sack cubic wscale:12,7 rto:644 rtt:240.283/66.611 ato:40 mss:1448 pmtu:1500 rcvmss:536 advmss:1448 cwnd:10 bytes_sent:162 bytes_acked:163 bytes_received:4 segs_out:9 segs_in:8 data_segs_out:3 data_segs_in:4 send 482098bps lastsnd:23180 lastrcv:22236 lastack:22236 pacing_rate 964192bps delivery_rate 56832bps delivered:4 app_limited busy:676ms rcv_space:14480 rcv_ssthresh:64088 minrtt:203.825                                                    \n"
     ]
    },
    {
     "name": "stderr",
     "output_type": "stream",
     "text": [
      "Failed to open cgroup2 by ID\n",
      "Failed to open cgroup2 by ID\n",
      "Failed to open cgroup2 by ID\n",
      "Failed to open cgroup2 by ID\n"
     ]
    },
    {
     "name": "stdout",
     "output_type": "stream",
     "text": [
      "1726389581.4488961726389581.450507 tcp ESTAB 0      0      10.0.0.100:57612 12.1.1.130:4000 users:((\"iperf3\",pid=22224,fd=4)) uid:39791 ino:200688 sk:6f cgroup:unreachable:2010c00000052 <->\n",
      "1726389581.451148 \t ts sack cubic wscale:12,7 rto:832 rtt:283.134/109.099 ato:40 mss:1448 pmtu:1500 rcvmss:536 advmss:1448 cwnd:10 bytes_sent:162 bytes_acked:163 bytes_received:4 segs_out:9 segs_in:8 data_segs_out:3 data_segs_in:4 send 409135bps lastsnd:23436 lastrcv:22456 lastack:22456 pacing_rate 818264bps delivery_rate 57064bps delivered:4 app_limited busy:676ms rcv_space:14480 rcv_ssthresh:64088 minrtt:202.988\n",
      "1726389581.451653 tcp ESTAB 0      237472 10.0.0.100:60476 12.1.1.130:4000 users:((\"iperf3\",pid=22224,fd=5)) timer:(on,416ms,0) uid:39791 ino:200946 sk:70 cgroup:unreachable:2010c00000052 <->\n",
      "1726389581.452222 tcp ESTAB 0      363448 10.0.0.100:39064 12.1.1.66:4000 users:((\"iperf3\",pid=22225,fd=5)) timer:(on,076ms,0) uid:39791 ino:200945 sk:71 cgroup:unreachable:2010c00000052 <->\n",
      "1726389581.452776 \t ts sack cubic wscale:12,7 rto:436 rtt:235.063/1.189 mss:1448 pmtu:1500 rcvmss:536 advmss:1448 cwnd:7 ssthresh:7 bytes_sent:1041149 bytes_retrans:65160 bytes_acked:957166 segs_out:722 segs_in:464 data_segs_out:720 send 344963bps lastsnd:20 lastrcv:22928 lastack:68 pacing_rate 650496bps delivery_rate 331392bps delivered:666 busy:22688ms unacked:13 retrans:1/45 lost:4 sacked:3 reord_seen:1 rcv_space:14480 rcv_ssthresh:64088 notsent:218648 minrtt:167.669\n",
      " \t ts sack cubic wscale:12,7 rto:444 rtt:237.395/0.606 mss:1448 pmtu:1500 rcvmss:536 advmss:1448 cwnd:11 ssthresh:7 bytes_sent:2293669 bytes_retrans:75296 bytes_acked:2202446 segs_out:1587 segs_in:939 data_segs_out:1585 send 536759bps lastsnd:132 lastrcv:23060 lastack:132 pacing_rate 644104bps delivery_rate 292304bps delivered:1523 busy:22788ms unacked:11 retrans:0/52 rcv_space:14480 rcv_ssthresh:64088 notsent:347520 minrtt:73.482\n",
      "1726389581.454484 tcp ESTAB 0      0      10.0.0.100:58044 12.1.1.66:4000 users:((\"iperf3\",pid=22225,fd=4)) uid:39791 ino:200687 sk:6e cgroup:unreachable:2010c00000052 <->\n",
      "1726389581.454811 \t ts sack cubic wscale:12,7 rto:644 rtt:240.283/66.611 ato:40 mss:1448 pmtu:1500 rcvmss:536 advmss:1448 cwnd:10 bytes_sent:162 bytes_acked:163 bytes_received:4 segs_out:9 segs_in:8 data_segs_out:3 data_segs_in:4 send 482098bps lastsnd:23500 lastrcv:22556 lastack:22556 pacing_rate 964192bps delivery_rate 56832bps delivered:4 app_limited busy:676ms rcv_space:14480 rcv_ssthresh:64088 minrtt:203.825                                                      \n"
     ]
    },
    {
     "name": "stderr",
     "output_type": "stream",
     "text": [
      "Failed to open cgroup2 by ID\n",
      "Failed to open cgroup2 by ID\n",
      "Failed to open cgroup2 by ID\n",
      "Failed to open cgroup2 by ID\n"
     ]
    },
    {
     "name": "stdout",
     "output_type": "stream",
     "text": [
      "1726389581.7682091726389581.772101 tcp ESTAB 0      0      10.0.0.100:57612 12.1.1.130:4000 users:((\"iperf3\",pid=22224,fd=4)) uid:39791 ino:200688 sk:6f cgroup:unreachable:2010c00000052 <->\n",
      "1726389581.772756 \t ts sack cubic wscale:12,7 rto:832 rtt:283.134/109.099 ato:40 mss:1448 pmtu:1500 rcvmss:536 advmss:1448 cwnd:10 bytes_sent:162 bytes_acked:163 bytes_received:4 segs_out:9 segs_in:8 data_segs_out:3 data_segs_in:4 send 409135bps lastsnd:23752 lastrcv:22772 lastack:22772 pacing_rate 818264bps delivery_rate 57064bps delivered:4 app_limited busy:676ms rcv_space:14480 rcv_ssthresh:64088 minrtt:202.988\n",
      "1726389581.773423 tcp ESTAB 0      236024 10.0.0.100:60476 12.1.1.130:4000 users:((\"iperf3\",pid=22224,fd=5)) timer:(on,324ms,0) uid:39791 ino:200946 sk:70 cgroup:unreachable:2010c00000052 <->\n",
      "1726389581.773944 \t ts sack cubic wscale:12,7 rto:436 rtt:234.082/1.801 mss:1448 pmtu:1500 rcvmss:536 advmss:1448 cwnd:7 ssthresh:7 bytes_sent:1051285 bytes_retrans:69504 bytes_acked:958614 segs_out:729 segs_in:466 data_segs_out:727 send 346409bps lastsnd:112 lastrcv:23244 lastack:112 pacing_rate 890760bps delivery_rate 294160bps delivered:673 busy:23004ms unacked:16 retrans:3/48 lost:3 sacked:9 reord_seen:1 rcv_space:14480 rcv_ssthresh:64088 notsent:212856 minrtt:167.669\n",
      " tcp ESTAB 0      363448 10.0.0.100:39064 12.1.1.66:4000 users:((\"iperf3\",pid=22225,fd=5)) timer:(on,288ms,0) uid:39791 ino:200945 sk:71 cgroup:unreachable:2010c00000052 <->\n",
      "1726389581.776827 \t ts sack cubic wscale:12,7 rto:440 rtt:236.027/22.293 mss:1448 pmtu:1500 rcvmss:536 advmss:1448 cwnd:6 ssthresh:7 bytes_sent:2299461 bytes_retrans:81088 bytes_acked:2202446 segs_out:1591 segs_in:943 data_segs_out:1589 send 294475bps lastsnd:152 lastrcv:23384 lastack:152 pacing_rate 647840bps delivery_rate 227536bps delivered:1527 busy:23112ms unacked:11 retrans:4/56 lost:5 sacked:4 rcv_space:14480 rcv_ssthresh:64088 notsent:347520 minrtt:73.482\n",
      "1726389581.777364 tcp ESTAB 0      0      10.0.0.100:58044 12.1.1.66:4000 users:((\"iperf3\",pid=22225,fd=4)) uid:39791 ino:200687 sk:6e cgroup:unreachable:2010c00000052 <->\n",
      "1726389581.777688 \t ts sack cubic wscale:12,7 rto:644 rtt:240.283/66.611 ato:40 mss:1448 pmtu:1500 rcvmss:536 advmss:1448 cwnd:10 bytes_sent:162 bytes_acked:163 bytes_received:4 segs_out:9 segs_in:8 data_segs_out:3 data_segs_in:4 send 482098bps lastsnd:23824 lastrcv:22880 lastack:22880 pacing_rate 964192bps delivery_rate 56832bps delivered:4 app_limited busy:676ms rcv_space:14480 rcv_ssthresh:64088 minrtt:203.825                                                                      \n"
     ]
    },
    {
     "name": "stderr",
     "output_type": "stream",
     "text": [
      "Failed to open cgroup2 by ID\n",
      "Failed to open cgroup2 by ID\n",
      "Failed to open cgroup2 by ID\n",
      "Failed to open cgroup2 by ID\n"
     ]
    },
    {
     "name": "stdout",
     "output_type": "stream",
     "text": [
      "1726389582.092759 tcp ESTAB 0      0      10.0.0.100:57612 12.1.1.130:4000 users:((\"iperf3\",pid=22224,fd=4)) uid:39791 ino:200688 sk:6f cgroup:unreachable:2010c00000052 <->\n",
      "1726389582.093443 \t ts sack cubic wscale:12,7 rto:832 rtt:283.134/109.099 ato:40 mss:1448 pmtu:1500 rcvmss:536 advmss:1448 cwnd:10 bytes_sent:162 bytes_acked:163 bytes_received:4 segs_out:9 segs_in:8 data_segs_out:3 data_segs_in:4 send 409135bps lastsnd:24076 lastrcv:23096 lastack:23096 pacing_rate 818264bps delivery_rate 57064bps delivered:4 app_limited busy:676ms rcv_space:14480 rcv_ssthresh:64088 minrtt:202.988\n",
      "1726389582.0939851726389582.094836 tcp ESTAB 0      215752 10.0.0.100:60476 12.1.1.130:4000 users:((\"iperf3\",pid=22224,fd=5)) timer:(on,228ms,0) uid:39791 ino:200946 sk:70 cgroup:unreachable:2010c00000052 <->\n",
      "1726389582.095484 \t ts sack cubic wscale:12,7 rto:436 rtt:232.224/4.067 mss:1448 pmtu:1500 rcvmss:536 advmss:1448 cwnd:7 ssthresh:4 bytes_sent:1061421 bytes_retrans:70952 bytes_acked:978886 segs_out:736 segs_in:471 data_segs_out:734 send 349180bps lastsnd:208 lastrcv:23568 lastack:232 pacing_rate 419008bps delivery_rate 308992bps delivered:679 busy:23328ms unacked:8 retrans:1/49 lost:1 sacked:1 reord_seen:1 rcv_space:14480 rcv_ssthresh:64088 notsent:204168 minrtt:167.669\n",
      " tcp ESTAB 0      344624 10.0.0.100:39064 12.1.1.66:4000 users:((\"iperf3\",pid=22225,fd=5)) timer:(on,184ms,0) uid:39791 ino:200945 sk:71 cgroup:unreachable:2010c00000052 <->\n",
      "1726389582.097773 \t ts sack cubic wscale:12,7 rto:444 rtt:238.022/26.462 mss:1448 pmtu:1500 rcvmss:536 advmss:1448 cwnd:7 ssthresh:7 bytes_sent:2316837 bytes_retrans:85432 bytes_acked:2221270 segs_out:1603 segs_in:950 data_segs_out:1601 send 340674bps lastsnd:24 lastrcv:23700 lastack:24 pacing_rate 408800bps delivery_rate 227632bps delivered:1536 busy:23428ms unacked:7 retrans:0/59 rcv_space:14480 rcv_ssthresh:64088 notsent:334488 minrtt:73.482\n",
      "1726389582.098342 tcp ESTAB 0      0      10.0.0.100:58044 12.1.1.66:4000 users:((\"iperf3\",pid=22225,fd=4)) uid:39791 ino:200687 sk:6e cgroup:unreachable:2010c00000052 <->\n",
      "1726389582.098673 \t ts sack cubic wscale:12,7 rto:644 rtt:240.283/66.611 ato:40 mss:1448 pmtu:1500 rcvmss:536 advmss:1448 cwnd:10 bytes_sent:162 bytes_acked:163 bytes_received:4 segs_out:9 segs_in:8 data_segs_out:3 data_segs_in:4 send 482098bps lastsnd:24140 lastrcv:23196 lastack:23196 pacing_rate 964192bps delivery_rate 56832bps delivered:4 app_limited busy:676ms rcv_space:14480 rcv_ssthresh:64088 minrtt:203.825                                                   \n"
     ]
    },
    {
     "name": "stderr",
     "output_type": "stream",
     "text": [
      "Failed to open cgroup2 by ID\n",
      "Failed to open cgroup2 by ID\n",
      "Failed to open cgroup2 by ID\n",
      "Failed to open cgroup2 by ID\n"
     ]
    },
    {
     "name": "stdout",
     "output_type": "stream",
     "text": [
      "1726389582.4108611726389582.412300 tcp ESTAB 0      0      10.0.0.100:57612 12.1.1.130:4000 users:((\"iperf3\",pid=22224,fd=4)) uid:39791 ino:200688 sk:6f cgroup:unreachable:2010c00000052 <->\n",
      "1726389582.412950 \t ts sack cubic wscale:12,7 rto:832 rtt:283.134/109.099 ato:40 mss:1448 pmtu:1500 rcvmss:536 advmss:1448 cwnd:10 bytes_sent:162 bytes_acked:163 bytes_received:4 segs_out:9 segs_in:8 data_segs_out:3 data_segs_in:4 send 409135bps lastsnd:24400 lastrcv:23420 lastack:23420 pacing_rate 818264bps delivery_rate 57064bps delivered:4 app_limited busy:676ms rcv_space:14480 rcv_ssthresh:64088 minrtt:202.988\n",
      "1726389582.413484 tcp ESTAB 0      201272 10.0.0.100:60476 12.1.1.130:4000 users:((\"iperf3\",pid=22224,fd=5)) timer:(on,336ms,0) uid:39791 ino:200946 sk:70 cgroup:unreachable:2010c00000052 <->\n",
      "1726389582.414026 \t ts sack cubic wscale:12,7 rto:412 rtt:208.846/10.139 mss:1448 pmtu:1500 rcvmss:536 advmss:1448 cwnd:4 ssthresh:4 bytes_sent:1075901 bytes_retrans:76744 bytes_acked:993366 segs_out:746 segs_in:480 data_segs_out:744 send 221867bps lastsnd:44 lastrcv:23892 lastack:44 pacing_rate 266240bps delivery_rate 244728bps delivered:688 busy:23652ms unacked:4 retrans:0/53 reord_seen:1 rcv_space:14480 rcv_ssthresh:64088 notsent:195480 minrtt:167.669\n",
      " tcp ESTAB 0      524176 10.0.0.100:39064 12.1.1.66:4000 users:((\"iperf3\",pid=22225,fd=5)) timer:(on,236ms,0) uid:39791 ino:200945 sk:71 cgroup:unreachable:2010c00000052 <->\n",
      "1726389582.416401 \t ts sack cubic wscale:12,7 rto:412 rtt:209.679/40.114 mss:1448 pmtu:1500 rcvmss:536 advmss:1448 cwnd:9 ssthresh:7 bytes_sent:2335661 bytes_retrans:85432 bytes_acked:2237198 segs_out:1616 segs_in:956 data_segs_out:1614 send 497217bps lastsnd:108 lastrcv:24024 lastack:108 pacing_rate 596656bps delivery_rate 540800bps delivered:1547 busy:23752ms unacked:9 retrans:0/59 rcv_space:14480 rcv_ssthresh:64088 notsent:511144 minrtt:73.482\n",
      "1726389582.416884 tcp ESTAB 0      0      10.0.0.100:58044 12.1.1.66:4000 users:((\"iperf3\",pid=22225,fd=4)) uid:39791 ino:200687 sk:6e cgroup:unreachable:2010c00000052 <->\n",
      "1726389582.417208 \t ts sack cubic wscale:12,7 rto:644 rtt:240.283/66.611 ato:40 mss:1448 pmtu:1500 rcvmss:536 advmss:1448 cwnd:10 bytes_sent:162 bytes_acked:163 bytes_received:4 segs_out:9 segs_in:8 data_segs_out:3 data_segs_in:4 send 482098bps lastsnd:24464 lastrcv:23520 lastack:23520 pacing_rate 964192bps delivery_rate 56832bps delivered:4 app_limited busy:676ms rcv_space:14480 rcv_ssthresh:64088 minrtt:203.825                                                     \n"
     ]
    },
    {
     "name": "stderr",
     "output_type": "stream",
     "text": [
      "Failed to open cgroup2 by ID\n",
      "Failed to open cgroup2 by ID\n",
      "Failed to open cgroup2 by ID\n",
      "Failed to open cgroup2 by ID\n"
     ]
    },
    {
     "name": "stdout",
     "output_type": "stream",
     "text": [
      "1726389582.729001 tcp ESTAB 0      0      10.0.0.100:57612 12.1.1.130:4000 users:((\"iperf3\",pid=22224,fd=4)) uid:39791 ino:200688 sk:6f cgroup:unreachable:2010c00000052 <->\n",
      "1726389582.734570 \t ts sack cubic wscale:12,7 rto:832 rtt:283.134/109.099 ato:40 mss:1448 pmtu:1500 rcvmss:536 advmss:1448 cwnd:10 bytes_sent:162 bytes_acked:163 bytes_received:4 segs_out:9 segs_in:8 data_segs_out:3 data_segs_in:4 send 409135bps lastsnd:24716 lastrcv:23736 lastack:23736 pacing_rate 818264bps delivery_rate 57064bps delivered:4 app_limited busy:676ms rcv_space:14480 rcv_ssthresh:64088 minrtt:202.988\n",
      "1726389582.735239 tcp ESTAB 0      195480 10.0.0.100:60476 12.1.1.130:4000 users:((\"iperf3\",pid=22224,fd=5)) timer:(on,260ms,0) uid:39791 ino:200946 sk:70 cgroup:unreachable:2010c00000052 <->\n",
      "1726389582.735761 \t ts sack cubic wscale:12,7 rto:416 rtt:215.61/17.412 mss:1448 pmtu:1500 rcvmss:536 advmss:1448 cwnd:5 ssthresh:4 bytes_sent:1083141 bytes_retrans:76744 bytes_acked:999158 segs_out:751 segs_in:482 data_segs_out:749 send 268633bps lastsnd:156 lastrcv:24208 lastack:156 pacing_rate 322352bps delivery_rate 226472bps delivered:692 busy:23968ms unacked:5 retrans:0/53 reord_seen:1 rcv_space:14480 rcv_ssthresh:64088 notsent:188240 minrtt:167.669\n",
      "1726389582.739202 tcp ESTAB 0      496664 10.0.0.100:39064 12.1.1.66:4000 users:((\"iperf3\",pid=22225,fd=5)) timer:(on,400ms,0) uid:39791 ino:200945 sk:71 cgroup:unreachable:2010c00000052 <->\n",
      "1726389582.739851 \t ts sack cubic wscale:12,7 rto:416 rtt:212.492/28.3 mss:1448 pmtu:1500 rcvmss:536 advmss:1448 cwnd:10 ssthresh:7 bytes_sent:2364621 bytes_retrans:85432 bytes_acked:2264710 segs_out:1636 segs_in:966 data_segs_out:1634 send 545150bps lastsnd:16 lastrcv:24340 lastack:20 pacing_rate 654176bps delivery_rate 426064bps delivered:1566 busy:24068ms unacked:10 retrans:0/59 rcv_space:14480 rcv_ssthresh:64088 notsent:482184 minrtt:73.482\n",
      "1726389582.740398 tcp ESTAB 0      0      10.0.0.100:58044 12.1.1.66:4000 users:((\"iperf3\",pid=22225,fd=4)) uid:39791 ino:200687 sk:6e cgroup:unreachable:2010c00000052 <->\n",
      "1726389582.740779 \t ts sack cubic wscale:12,7 rto:644 rtt:240.283/66.611 ato:40 mss:1448 pmtu:1500 rcvmss:536 advmss:1448 cwnd:10 bytes_sent:162 bytes_acked:163 bytes_received:4 segs_out:9 segs_in:8 data_segs_out:3 data_segs_in:4 send 482098bps lastsnd:24780 lastrcv:23836 lastack:23836 pacing_rate 964192bps delivery_rate 56832bps delivered:4 app_limited busy:676ms rcv_space:14480 rcv_ssthresh:64088 minrtt:203.825                                                   \n"
     ]
    },
    {
     "name": "stderr",
     "output_type": "stream",
     "text": [
      "Failed to open cgroup2 by ID\n",
      "Failed to open cgroup2 by ID\n",
      "Failed to open cgroup2 by ID\n",
      "Failed to open cgroup2 by ID\n"
     ]
    },
    {
     "name": "stdout",
     "output_type": "stream",
     "text": [
      "1726389583.0493141726389583.052982 tcp ESTAB 0      0      10.0.0.100:57612 12.1.1.130:4000 users:((\"iperf3\",pid=22224,fd=4)) uid:39791 ino:200688 sk:6f cgroup:unreachable:2010c00000052 <->\n",
      "1726389583.053642 \t ts sack cubic wscale:12,7 rto:832 rtt:283.134/109.099 ato:40 mss:1448 pmtu:1500 rcvmss:536 advmss:1448 cwnd:10 bytes_sent:162 bytes_acked:163 bytes_received:4 segs_out:9 segs_in:8 data_segs_out:3 data_segs_in:4 send 409135bps lastsnd:25032 lastrcv:24052 lastack:24052 pacing_rate 818264bps delivery_rate 57064bps delivered:4 app_limited busy:676ms rcv_space:14480 rcv_ssthresh:64088 minrtt:202.988\n",
      "1726389583.054159 tcp ESTAB 0      181000 10.0.0.100:60476 12.1.1.130:4000 users:((\"iperf3\",pid=22224,fd=5)) timer:(on,388ms,0) uid:39791 ino:200946 sk:70 cgroup:unreachable:2010c00000052 <->\n",
      "1726389583.054796 \t ts sack cubic wscale:12,7 rto:420 rtt:218.223/17.855 mss:1448 pmtu:1500 rcvmss:536 advmss:1448 cwnd:5 ssthresh:4 bytes_sent:1097621 bytes_retrans:76744 bytes_acked:1013638 segs_out:761 segs_in:487 data_segs_out:759 send 265417bps lastsnd:32 lastrcv:24524 lastack:32 pacing_rate 318496bps delivery_rate 243968bps delivered:702 busy:24284ms unacked:5 retrans:0/53 reord_seen:1 rcv_space:14480 rcv_ssthresh:64088 notsent:173760 minrtt:167.669\n",
      " tcp ESTAB 0      482184 10.0.0.100:39064 12.1.1.66:4000 users:((\"iperf3\",pid=22225,fd=5)) timer:(on,324ms,0) uid:39791 ino:200945 sk:71 cgroup:unreachable:2010c00000052 <->\n",
      "1726389583.057615 \t ts sack cubic wscale:12,7 rto:428 rtt:224.508/20.202 mss:1448 pmtu:1500 rcvmss:536 advmss:1448 cwnd:12 ssthresh:7 bytes_sent:2381997 bytes_retrans:85432 bytes_acked:2279190 segs_out:1648 segs_in:971 data_segs_out:1646 send 619167bps lastsnd:104 lastrcv:24664 lastack:104 pacing_rate 742992bps delivery_rate 487512bps delivered:1576 busy:24392ms unacked:12 retrans:0/59 rcv_space:14480 rcv_ssthresh:64088 notsent:464808 minrtt:73.482\n",
      "1726389583.058171 tcp ESTAB 0      0      10.0.0.100:58044 12.1.1.66:4000 users:((\"iperf3\",pid=22225,fd=4)) uid:39791 ino:200687 sk:6e cgroup:unreachable:2010c00000052 <->\n",
      "1726389583.058615 \t ts sack cubic wscale:12,7 rto:644 rtt:240.283/66.611 ato:40 mss:1448 pmtu:1500 rcvmss:536 advmss:1448 cwnd:10 bytes_sent:162 bytes_acked:163 bytes_received:4 segs_out:9 segs_in:8 data_segs_out:3 data_segs_in:4 send 482098bps lastsnd:25104 lastrcv:24160 lastack:24160 pacing_rate 964192bps delivery_rate 56832bps delivered:4 app_limited busy:676ms rcv_space:14480 rcv_ssthresh:64088 minrtt:203.825                                                       \n"
     ]
    },
    {
     "name": "stderr",
     "output_type": "stream",
     "text": [
      "Failed to open cgroup2 by ID\n",
      "Failed to open cgroup2 by ID\n",
      "Failed to open cgroup2 by ID\n",
      "Failed to open cgroup2 by ID\n"
     ]
    },
    {
     "name": "stdout",
     "output_type": "stream",
     "text": [
      "1726389583.3722431726389583.372969 tcp ESTAB 0      0      10.0.0.100:57612 12.1.1.130:4000 users:((\"iperf3\",pid=22224,fd=4)) uid:39791 ino:200688 sk:6f cgroup:unreachable:2010c00000052 <->\n",
      "1726389583.373582 \t ts sack cubic wscale:12,7 rto:832 rtt:283.134/109.099 ato:40 mss:1448 pmtu:1500 rcvmss:536 advmss:1448 cwnd:10 bytes_sent:162 bytes_acked:163 bytes_received:4 segs_out:9 segs_in:8 data_segs_out:3 data_segs_in:4 send 409135bps lastsnd:25356 lastrcv:24376 lastack:24376 pacing_rate 818264bps delivery_rate 57064bps delivered:4 app_limited busy:676ms rcv_space:14480 rcv_ssthresh:64088 minrtt:202.988\n",
      "1726389583.374113 tcp ESTAB 0      173760 10.0.0.100:60476 12.1.1.130:4000 users:((\"iperf3\",pid=22224,fd=5)) timer:(on,308ms,0) uid:39791 ino:200946 sk:70 cgroup:unreachable:2010c00000052 <->\n",
      "1726389583.374764 \t ts sack cubic wscale:12,7 rto:428 rtt:224.486/16.918 mss:1448 pmtu:1500 rcvmss:536 advmss:1448 cwnd:5 ssthresh:4 bytes_sent:1104861 bytes_retrans:76744 bytes_acked:1020878 segs_out:766 segs_in:490 data_segs_out:764 send 258012bps lastsnd:120 lastrcv:24848 lastack:120 pacing_rate 309608bps delivery_rate 243968bps delivered:707 busy:24608ms unacked:5 retrans:0/53 reord_seen:1 rcv_space:14480 rcv_ssthresh:64088 notsent:166520 minrtt:167.669\n",
      " tcp ESTAB 0      464808 10.0.0.100:39064 12.1.1.66:4000 users:((\"iperf3\",pid=22225,fd=5)) timer:(on,248ms,0) uid:39791 ino:200945 sk:71 cgroup:unreachable:2010c00000052 <->\n",
      "1726389583.377064 \t ts sack cubic wscale:12,7 rto:432 rtt:230.721/9.607 mss:1448 pmtu:1500 rcvmss:536 advmss:1448 cwnd:12 ssthresh:7 bytes_sent:2399373 bytes_retrans:85432 bytes_acked:2296566 segs_out:1660 segs_in:977 data_segs_out:1658 send 602494bps lastsnd:184 lastrcv:24980 lastack:184 pacing_rate 722992bps delivery_rate 585856bps delivered:1588 busy:24708ms unacked:12 retrans:0/59 rcv_space:14480 rcv_ssthresh:64088 notsent:447432 minrtt:73.482\n",
      "1726389583.377616 tcp ESTAB 0      0      10.0.0.100:58044 12.1.1.66:4000 users:((\"iperf3\",pid=22225,fd=4)) uid:39791 ino:200687 sk:6e cgroup:unreachable:2010c00000052 <->\n",
      "1726389583.378139 \t ts sack cubic wscale:12,7 rto:644 rtt:240.283/66.611 ato:40 mss:1448 pmtu:1500 rcvmss:536 advmss:1448 cwnd:10 bytes_sent:162 bytes_acked:163 bytes_received:4 segs_out:9 segs_in:8 data_segs_out:3 data_segs_in:4 send 482098bps lastsnd:25420 lastrcv:24476 lastack:24476 pacing_rate 964192bps delivery_rate 56832bps delivered:4 app_limited busy:676ms rcv_space:14480 rcv_ssthresh:64088 minrtt:203.825                                                      \n"
     ]
    },
    {
     "name": "stderr",
     "output_type": "stream",
     "text": [
      "Failed to open cgroup2 by ID\n",
      "Failed to open cgroup2 by ID\n",
      "Failed to open cgroup2 by ID\n",
      "Failed to open cgroup2 by ID\n"
     ]
    },
    {
     "name": "stdout",
     "output_type": "stream",
     "text": [
      "1726389583.692322 tcp ESTAB 0      0      10.0.0.100:57612 12.1.1.130:4000 users:((\"iperf3\",pid=22224,fd=4)) uid:39791 ino:200688 sk:6f cgroup:unreachable:2010c00000052 <->\n",
      "1726389583.693007 \t ts sack cubic wscale:12,7 rto:832 rtt:283.134/109.099 ato:40 mss:1448 pmtu:1500 rcvmss:536 advmss:1448 cwnd:10 bytes_sent:162 bytes_acked:163 bytes_received:4 segs_out:9 segs_in:8 data_segs_out:3 data_segs_in:4 send 409135bps lastsnd:25680 lastrcv:24700 lastack:24700 pacing_rate 818264bps delivery_rate 57064bps delivered:4 app_limited busy:676ms rcv_space:14480 rcv_ssthresh:64088 minrtt:202.988\n",
      "1726389583.693589 tcp ESTAB 0      166520 10.0.0.100:60476 12.1.1.130:4000 users:((\"iperf3\",pid=22224,fd=5)) timer:(on,224ms,0) uid:39791 ino:200946 sk:70 cgroup:unreachable:2010c00000052 <->\n",
      "1726389583.6901411726389583.694506 \t ts sack cubic wscale:12,7 rto:428 rtt:227.525/14.784 mss:1448 pmtu:1500 rcvmss:536 advmss:1448 cwnd:7 ssthresh:4 bytes_sent:1114997 bytes_retrans:76744 bytes_acked:1028118 segs_out:773 segs_in:492 data_segs_out:771 send 356392bps lastsnd:204 lastrcv:25172 lastack:204 pacing_rate 427664bps delivery_rate 243912bps delivered:712 busy:24932ms unacked:7 retrans:0/53 reord_seen:1 rcv_space:14480 rcv_ssthresh:64088 notsent:156384 minrtt:167.669\n",
      " tcp ESTAB 0      435848 10.0.0.100:39064 12.1.1.66:4000 users:((\"iperf3\",pid=22225,fd=5)) timer:(on,132ms,0) uid:39791 ino:200945 sk:71 cgroup:unreachable:2010c00000052 <->\n",
      "1726389583.696855 \t ts sack cubic wscale:12,7 rto:428 rtt:224.839/15.044 mss:1448 pmtu:1500 rcvmss:536 advmss:1448 cwnd:12 ssthresh:7 bytes_sent:2428333 bytes_retrans:85432 bytes_acked:2325526 segs_out:1680 segs_in:987 data_segs_out:1678 send 618256bps lastsnd:60 lastrcv:25300 lastack:64 pacing_rate 741904bps delivery_rate 389992bps delivered:1608 busy:25028ms unacked:12 retrans:0/59 rcv_space:14480 rcv_ssthresh:64088 notsent:418472 minrtt:73.482\n",
      "1726389583.697408 tcp ESTAB 0      0      10.0.0.100:58044 12.1.1.66:4000 users:((\"iperf3\",pid=22225,fd=4)) uid:39791 ino:200687 sk:6e cgroup:unreachable:2010c00000052 <->\n",
      "1726389583.697935 \t ts sack cubic wscale:12,7 rto:644 rtt:240.283/66.611 ato:40 mss:1448 pmtu:1500 rcvmss:536 advmss:1448 cwnd:10 bytes_sent:162 bytes_acked:163 bytes_received:4 segs_out:9 segs_in:8 data_segs_out:3 data_segs_in:4 send 482098bps lastsnd:25740 lastrcv:24796 lastack:24796 pacing_rate 964192bps delivery_rate 56832bps delivered:4 app_limited busy:676ms rcv_space:14480 rcv_ssthresh:64088 minrtt:203.825                                                     \n"
     ]
    },
    {
     "name": "stderr",
     "output_type": "stream",
     "text": [
      "Failed to open cgroup2 by ID\n",
      "Failed to open cgroup2 by ID\n",
      "Failed to open cgroup2 by ID\n",
      "Failed to open cgroup2 by ID\n"
     ]
    },
    {
     "name": "stdout",
     "output_type": "stream",
     "text": [
      "1726389584.0112471726389584.011998 tcp ESTAB 0      435848 10.0.0.100:39064 12.1.1.66:4000 users:((\"iperf3\",pid=22225,fd=5)) timer:(on,284ms,0) uid:39791 ino:200945 sk:71 cgroup:unreachable:2010c00000052 <->\n",
      "1726389584.012610 tcp ESTAB 0      0      10.0.0.100:57612 12.1.1.130:4000 users:((\"iperf3\",pid=22224,fd=4)) uid:39791 ino:200688 sk:6f cgroup:unreachable:2010c00000052 <->\n",
      " \t ts sack cubic wscale:12,7 rto:432 rtt:230.285/9.683 mss:1448 pmtu:1500 rcvmss:536 advmss:1448 cwnd:8 ssthresh:8 bytes_sent:2439917 bytes_retrans:91224 bytes_acked:2325526 segs_out:1688 segs_in:992 data_segs_out:1686 send 402423bps lastsnd:148 lastrcv:25624 lastack:148 pacing_rate 784720bps delivery_rate 389896bps delivered:1616 busy:25352ms unacked:16 retrans:4/63 lost:4 sacked:8 rcv_space:14480 rcv_ssthresh:64088 notsent:412680 minrtt:73.482\n",
      "1726389584.0134281726389584.013744 \t ts sack cubic wscale:12,7 rto:832 rtt:283.134/109.099 ato:40 mss:1448 pmtu:1500 rcvmss:536 advmss:1448 cwnd:10 bytes_sent:162 bytes_acked:163 bytes_received:4 segs_out:9 segs_in:8 data_segs_out:3 data_segs_in:4 send 409135bps lastsnd:26000 lastrcv:25020 lastack:25020 pacing_rate 818264bps delivery_rate 57064bps delivered:4 app_limited busy:676ms rcv_space:14480 rcv_ssthresh:64088 minrtt:202.988\n",
      " tcp ESTAB 0      0      10.0.0.100:58044 12.1.1.66:4000 users:((\"iperf3\",pid=22225,fd=4)) uid:39791 ino:200687 sk:6e cgroup:unreachable:2010c00000052 <->\n",
      "1726389584.0145811726389584.014905 tcp ESTAB 0      159280 10.0.0.100:60476 12.1.1.130:4000 users:((\"iperf3\",pid=22224,fd=5)) timer:(on,416ms,0) uid:39791 ino:200946 sk:70 cgroup:unreachable:2010c00000052 <->\n",
      "1726389584.015456 \t ts sack cubic wscale:12,7 rto:644 rtt:240.283/66.611 ato:40 mss:1448 pmtu:1500 rcvmss:536 advmss:1448 cwnd:10 bytes_sent:162 bytes_acked:163 bytes_received:4 segs_out:9 segs_in:8 data_segs_out:3 data_segs_in:4 send 482098bps lastsnd:26064 lastrcv:25120 lastack:25120 pacing_rate 964192bps delivery_rate 56832bps delivered:4 app_limited busy:676ms rcv_space:14480 rcv_ssthresh:64088 minrtt:203.825                                                                     \n",
      " \t ts sack cubic wscale:12,7 rto:432 rtt:230.612/9.637 mss:1448 pmtu:1500 rcvmss:536 advmss:1448 cwnd:4 ssthresh:4 bytes_sent:1128029 bytes_retrans:79640 bytes_acked:1035358 segs_out:782 segs_in:498 data_segs_out:780 send 200926bps lastsnd:16 lastrcv:25492 lastack:16 pacing_rate 482216bps delivery_rate 199216bps delivered:722 busy:25252ms unacked:9 retrans:1/55 lost:1 sacked:5 reord_seen:1 rcv_space:14480 rcv_ssthresh:64088 notsent:146248 minrtt:167.669\n"
     ]
    },
    {
     "name": "stderr",
     "output_type": "stream",
     "text": [
      "Failed to open cgroup2 by ID\n",
      "Failed to open cgroup2 by ID\n",
      "Failed to open cgroup2 by ID\n",
      "Failed to open cgroup2 by ID\n"
     ]
    },
    {
     "name": "stdout",
     "output_type": "stream",
     "text": [
      "1726389584.3292901726389584.332211 tcp ESTAB 0      0      10.0.0.100:57612 12.1.1.130:4000 users:((\"iperf3\",pid=22224,fd=4)) uid:39791 ino:200688 sk:6f cgroup:unreachable:2010c00000052 <->\n",
      "1726389584.332864 \t ts sack cubic wscale:12,7 rto:832 rtt:283.134/109.099 ato:40 mss:1448 pmtu:1500 rcvmss:536 advmss:1448 cwnd:10 bytes_sent:162 bytes_acked:163 bytes_received:4 segs_out:9 segs_in:8 data_segs_out:3 data_segs_in:4 send 409135bps lastsnd:26312 lastrcv:25332 lastack:25332 pacing_rate 818264bps delivery_rate 57064bps delivered:4 app_limited busy:676ms rcv_space:14480 rcv_ssthresh:64088 minrtt:202.988\n",
      "1726389584.333390 tcp ESTAB 0      146248 10.0.0.100:60476 12.1.1.130:4000 users:((\"iperf3\",pid=22224,fd=5)) timer:(on,308ms,0) uid:39791 ino:200946 sk:70 cgroup:unreachable:2010c00000052 <->\n",
      "1726389584.333928 tcp ESTAB 0      417024 10.0.0.100:39064 12.1.1.66:4000 users:((\"iperf3\",pid=22225,fd=5)) timer:(on,400ms,0) uid:39791 ino:200945 sk:71 cgroup:unreachable:2010c00000052 <->\n",
      "1726389584.334549 \t ts sack cubic wscale:12,7 rto:432 rtt:228.563/8.602 mss:1448 pmtu:1500 rcvmss:536 advmss:1448 cwnd:5 ssthresh:4 bytes_sent:1135269 bytes_retrans:79640 bytes_acked:1048390 segs_out:787 segs_in:501 data_segs_out:785 send 253409bps lastsnd:124 lastrcv:25804 lastack:124 pacing_rate 304088bps delivery_rate 214136bps delivered:726 busy:25564ms unacked:5 retrans:0/55 reord_seen:1 rcv_space:14480 rcv_ssthresh:64088 notsent:139008 minrtt:167.669\n",
      " \t ts sack cubic wscale:12,7 rto:428 rtt:226.115/12.998 mss:1448 pmtu:1500 rcvmss:536 advmss:1448 cwnd:5 ssthresh:5 bytes_sent:2451501 bytes_retrans:94120 bytes_acked:2344350 segs_out:1696 segs_in:1000 data_segs_out:1694 send 256153bps lastsnd:28 lastrcv:25944 lastack:28 pacing_rate 553288bps delivery_rate 146696bps delivered:1624 busy:25672ms unacked:9 retrans:2/65 lost:3 sacked:3 rcv_space:14480 rcv_ssthresh:64088 notsent:403992 minrtt:73.482\n",
      "1726389584.336846 tcp ESTAB 0      0      10.0.0.100:58044 12.1.1.66:4000 users:((\"iperf3\",pid=22225,fd=4)) uid:39791 ino:200687 sk:6e cgroup:unreachable:2010c00000052 <->\n",
      "1726389584.337386 \t ts sack cubic wscale:12,7 rto:644 rtt:240.283/66.611 ato:40 mss:1448 pmtu:1500 rcvmss:536 advmss:1448 cwnd:10 bytes_sent:162 bytes_acked:163 bytes_received:4 segs_out:9 segs_in:8 data_segs_out:3 data_segs_in:4 send 482098bps lastsnd:26384 lastrcv:25440 lastack:25440 pacing_rate 964192bps delivery_rate 56832bps delivered:4 app_limited busy:676ms rcv_space:14480 rcv_ssthresh:64088 minrtt:203.825                                                                    \n"
     ]
    },
    {
     "name": "stderr",
     "output_type": "stream",
     "text": [
      "Failed to open cgroup2 by ID\n",
      "Failed to open cgroup2 by ID\n",
      "Failed to open cgroup2 by ID\n",
      "Failed to open cgroup2 by ID\n"
     ]
    },
    {
     "name": "stdout",
     "output_type": "stream",
     "text": [
      "1726389584.6570801726389584.657882 tcp ESTAB 0      403992 10.0.0.100:39064 12.1.1.66:4000 users:((\"iperf3\",pid=22225,fd=5)) timer:(on,396ms,0) uid:39791 ino:200945 sk:71 cgroup:unreachable:2010c00000052 <->\n",
      " tcp ESTAB 0      0      10.0.0.100:57612 12.1.1.130:4000 users:((\"iperf3\",pid=22224,fd=4)) uid:39791 ino:200688 sk:6f cgroup:unreachable:2010c00000052 <->\n",
      "1726389584.6588591726389584.659200 \t ts sack cubic wscale:12,7 rto:440 rtt:237.357/41.631 mss:1448 pmtu:1500 rcvmss:536 advmss:1448 cwnd:5 ssthresh:5 bytes_sent:2458741 bytes_retrans:95568 bytes_acked:2357382 segs_out:1701 segs_in:1005 data_segs_out:1699 send 244021bps lastsnd:44 lastrcv:26264 lastack:44 pacing_rate 292824bps delivery_rate 137592bps delivered:1630 busy:25992ms unacked:4 retrans:0/66 rcv_space:14480 rcv_ssthresh:64088 notsent:398200 minrtt:73.482\n",
      " \t ts sack cubic wscale:12,7 rto:832 rtt:283.134/109.099 ato:40 mss:1448 pmtu:1500 rcvmss:536 advmss:1448 cwnd:10 bytes_sent:162 bytes_acked:163 bytes_received:4 segs_out:9 segs_in:8 data_segs_out:3 data_segs_in:4 send 409135bps lastsnd:26640 lastrcv:25660 lastack:25660 pacing_rate 818264bps delivery_rate 57064bps delivered:4 app_limited busy:676ms rcv_space:14480 rcv_ssthresh:64088 minrtt:202.988\n",
      "1726389584.6600191726389584.660336 tcp ESTAB 0      0      10.0.0.100:58044 12.1.1.66:4000 users:((\"iperf3\",pid=22225,fd=4)) uid:39791 ino:200687 sk:6e cgroup:unreachable:2010c00000052 <->\n",
      " tcp ESTAB 0      130320 10.0.0.100:60476 12.1.1.130:4000 users:((\"iperf3\",pid=22224,fd=5)) timer:(on,416ms,0) uid:39791 ino:200946 sk:70 cgroup:unreachable:2010c00000052 <->\n"
     ]
    },
    {
     "name": "stderr",
     "output_type": "stream",
     "text": [
      "Failed to open cgroup2 by ID\n",
      "Failed to open cgroup2 by ID\n"
     ]
    },
    {
     "name": "stdout",
     "output_type": "stream",
     "text": [
      "1726389584.6611541726389584.661474 \t ts sack cubic wscale:12,7 rto:644 rtt:240.283/66.611 ato:40 mss:1448 pmtu:1500 rcvmss:536 advmss:1448 cwnd:10 bytes_sent:162 bytes_acked:163 bytes_received:4 segs_out:9 segs_in:8 data_segs_out:3 data_segs_in:4 send 482098bps lastsnd:26704 lastrcv:25760 lastack:25760 pacing_rate 964192bps delivery_rate 56832bps delivered:4 app_limited busy:676ms rcv_space:14480 rcv_ssthresh:64088 minrtt:203.825                                                    \n",
      " \t ts sack cubic wscale:12,7 rto:428 rtt:224.113/9.279 mss:1448 pmtu:1500 rcvmss:536 advmss:1448 cwnd:7 ssthresh:4 bytes_sent:1154093 bytes_retrans:79640 bytes_acked:1064318 segs_out:800 segs_in:505 data_segs_out:798 send 361817bps lastsnd:12 lastrcv:26132 lastack:12 pacing_rate 434176bps delivery_rate 292816bps delivered:737 busy:25892ms unacked:7 retrans:0/55 reord_seen:1 rcv_space:14480 rcv_ssthresh:64088 notsent:120184 minrtt:167.669\n"
     ]
    },
    {
     "name": "stderr",
     "output_type": "stream",
     "text": [
      "Failed to open cgroup2 by ID\n",
      "Failed to open cgroup2 by ID\n"
     ]
    },
    {
     "name": "stdout",
     "output_type": "stream",
     "text": [
      "1726389584.9769961726389584.981351 tcp ESTAB 0      0      10.0.0.100:57612 12.1.1.130:4000 users:((\"iperf3\",pid=22224,fd=4)) uid:39791 ino:200688 sk:6f cgroup:unreachable:2010c00000052 <->\n",
      "1726389584.982190 \t ts sack cubic wscale:12,7 rto:832 rtt:283.134/109.099 ato:40 mss:1448 pmtu:1500 rcvmss:536 advmss:1448 cwnd:10 bytes_sent:162 bytes_acked:163 bytes_received:4 segs_out:9 segs_in:8 data_segs_out:3 data_segs_in:4 send 409135bps lastsnd:26964 lastrcv:25984 lastack:25984 pacing_rate 818264bps delivery_rate 57064bps delivered:4 app_limited busy:676ms rcv_space:14480 rcv_ssthresh:64088 minrtt:202.988\n",
      "1726389584.982755 tcp ESTAB 0      185344 10.0.0.100:60476 12.1.1.130:4000 users:((\"iperf3\",pid=22224,fd=5)) timer:(on,336ms,0) uid:39791 ino:200946 sk:70 cgroup:unreachable:2010c00000052 <->\n",
      "1726389584.983097 \t ts sack cubic wscale:12,7 rto:432 rtt:228.913/11.071 mss:1448 pmtu:1500 rcvmss:536 advmss:1448 cwnd:7 ssthresh:4 bytes_sent:1164229 bytes_retrans:79640 bytes_acked:1074454 segs_out:807 segs_in:508 data_segs_out:805 send 354231bps lastsnd:96 lastrcv:26456 lastack:100 pacing_rate 425072bps delivery_rate 338944bps delivered:744 busy:26216ms unacked:7 retrans:0/55 reord_seen:1 rcv_space:14480 rcv_ssthresh:64088 notsent:175208 minrtt:167.669\n",
      " tcp ESTAB 0      392408 10.0.0.100:39064 12.1.1.66:4000 users:((\"iperf3\",pid=22225,fd=5)) timer:(on,340ms,0) uid:39791 ino:200945 sk:71 cgroup:unreachable:2010c00000052 <->\n",
      "1726389584.985178 \t ts sack cubic wscale:12,7 rto:432 rtt:230.07/35.713 mss:1448 pmtu:1500 rcvmss:536 advmss:1448 cwnd:6 ssthresh:5 bytes_sent:2473221 bytes_retrans:95568 bytes_acked:2368966 segs_out:1711 segs_in:1010 data_segs_out:1709 send 302099bps lastsnd:92 lastrcv:26588 lastack:96 pacing_rate 362512bps delivery_rate 281424bps delivered:1638 busy:26316ms unacked:6 retrans:0/66 rcv_space:14480 rcv_ssthresh:64088 notsent:383720 minrtt:73.482\n",
      "1726389584.985518 tcp ESTAB 0      0      10.0.0.100:58044 12.1.1.66:4000 users:((\"iperf3\",pid=22225,fd=4)) uid:39791 ino:200687 sk:6e cgroup:unreachable:2010c00000052 <->\n",
      "1726389584.985830 \t ts sack cubic wscale:12,7 rto:644 rtt:240.283/66.611 ato:40 mss:1448 pmtu:1500 rcvmss:536 advmss:1448 cwnd:10 bytes_sent:162 bytes_acked:163 bytes_received:4 segs_out:9 segs_in:8 data_segs_out:3 data_segs_in:4 send 482098bps lastsnd:27028 lastrcv:26084 lastack:26084 pacing_rate 964192bps delivery_rate 56832bps delivered:4 app_limited busy:676ms rcv_space:14480 rcv_ssthresh:64088 minrtt:203.825                                                   \n"
     ]
    },
    {
     "name": "stderr",
     "output_type": "stream",
     "text": [
      "Failed to open cgroup2 by ID\n",
      "Failed to open cgroup2 by ID\n",
      "Failed to open cgroup2 by ID\n",
      "Failed to open cgroup2 by ID\n"
     ]
    },
    {
     "name": "stdout",
     "output_type": "stream",
     "text": [
      "1726389585.2999551726389585.300748 tcp ESTAB 0      0      10.0.0.100:57612 12.1.1.130:4000 users:((\"iperf3\",pid=22224,fd=4)) uid:39791 ino:200688 sk:6f cgroup:unreachable:2010c00000052 <->\n",
      "1726389585.301381 \t ts sack cubic wscale:12,7 rto:832 rtt:283.134/109.099 ato:40 mss:1448 pmtu:1500 rcvmss:536 advmss:1448 cwnd:10 bytes_sent:162 bytes_acked:163 bytes_received:4 segs_out:9 segs_in:8 data_segs_out:3 data_segs_in:4 send 409135bps lastsnd:27284 lastrcv:26304 lastack:26304 pacing_rate 818264bps delivery_rate 57064bps delivered:4 app_limited busy:676ms rcv_space:14480 rcv_ssthresh:64088 minrtt:202.988\n",
      "1726389585.301924 tcp ESTAB 0      390960 10.0.0.100:39064 12.1.1.66:4000 users:((\"iperf3\",pid=22225,fd=5)) timer:(on,016ms,0) uid:39791 ino:200945 sk:71 cgroup:unreachable:2010c00000052 <->\n",
      "1726389585.302577 tcp ESTAB 0      179552 10.0.0.100:60476 12.1.1.130:4000 users:((\"iperf3\",pid=22224,fd=5)) timer:(on,016ms,0) uid:39791 ino:200946 sk:70 cgroup:unreachable:2010c00000052 <->\n",
      " \t ts sack cubic wscale:12,7 rto:428 rtt:226.656/33.614 mss:1448 pmtu:1500 rcvmss:536 advmss:1448 cwnd:6 ssthresh:5 bytes_sent:2474669 bytes_retrans:95568 bytes_acked:2370414 segs_out:1712 segs_in:1011 data_segs_out:1710 send 306650bps lastsnd:212 lastrcv:26908 lastack:212 pacing_rate 367976bps delivery_rate 212528bps delivered:1639 busy:26636ms unacked:6 retrans:0/66 rcv_space:14480 rcv_ssthresh:64088 notsent:382272 minrtt:73.482\n",
      "1726389585.3033601726389585.303672 \t ts sack cubic wscale:12,7 rto:432 rtt:230.04/10.557 mss:1448 pmtu:1500 rcvmss:536 advmss:1448 cwnd:7 ssthresh:4 bytes_sent:1170021 bytes_retrans:79640 bytes_acked:1080246 segs_out:811 segs_in:509 data_segs_out:809 send 352495bps lastsnd:180 lastrcv:26776 lastack:180 pacing_rate 422992bps delivery_rate 339064bps delivered:748 busy:26536ms unacked:7 retrans:0/55 reord_seen:1 rcv_space:14480 rcv_ssthresh:64088 notsent:169416 minrtt:167.669\n",
      " tcp ESTAB 0      0      10.0.0.100:58044 12.1.1.66:4000 users:((\"iperf3\",pid=22225,fd=4)) uid:39791 ino:200687 sk:6e cgroup:unreachable:2010c00000052 <->\n",
      "1726389585.305957 \t ts sack cubic wscale:12,7 rto:644 rtt:240.283/66.611 ato:40 mss:1448 pmtu:1500 rcvmss:536 advmss:1448 cwnd:10 bytes_sent:162 bytes_acked:163 bytes_received:4 segs_out:9 segs_in:8 data_segs_out:3 data_segs_in:4 send 482098bps lastsnd:27348 lastrcv:26404 lastack:26404 pacing_rate 964192bps delivery_rate 56832bps delivered:4 app_limited busy:676ms rcv_space:14480 rcv_ssthresh:64088 minrtt:203.825                                                      \n"
     ]
    },
    {
     "name": "stderr",
     "output_type": "stream",
     "text": [
      "Failed to open cgroup2 by ID\n",
      "Failed to open cgroup2 by ID\n",
      "Failed to open cgroup2 by ID\n",
      "Failed to open cgroup2 by ID\n"
     ]
    },
    {
     "name": "stdout",
     "output_type": "stream",
     "text": [
      "1726389585.6210381726389585.623411 tcp ESTAB 0      0      10.0.0.100:57612 12.1.1.130:4000 users:((\"iperf3\",pid=22224,fd=4)) uid:39791 ino:200688 sk:6f cgroup:unreachable:2010c00000052 <->\n",
      "1726389585.624058 \t ts sack cubic wscale:12,7 rto:832 rtt:283.134/109.099 ato:40 mss:1448 pmtu:1500 rcvmss:536 advmss:1448 cwnd:10 bytes_sent:162 bytes_acked:163 bytes_received:4 segs_out:9 segs_in:8 data_segs_out:3 data_segs_in:4 send 409135bps lastsnd:27604 lastrcv:26624 lastack:26624 pacing_rate 818264bps delivery_rate 57064bps delivered:4 app_limited busy:676ms rcv_space:14480 rcv_ssthresh:64088 minrtt:202.988\n",
      "1726389585.624625 tcp ESTAB 0      167968 10.0.0.100:60476 12.1.1.130:4000 users:((\"iperf3\",pid=22224,fd=5)) timer:(on,364ms,0) uid:39791 ino:200946 sk:70 cgroup:unreachable:2010c00000052 <->\n",
      "1726389585.625146 \t ts sack cubic wscale:12,7 rto:424 rtt:222.521/15.389 mss:1448 pmtu:1500 rcvmss:536 advmss:1448 cwnd:4 ssthresh:4 bytes_sent:1181605 bytes_retrans:83984 bytes_acked:1091830 segs_out:819 segs_in:517 data_segs_out:817 send 208232bps lastsnd:60 lastrcv:27096 lastack:60 pacing_rate 249872bps delivery_rate 170696bps delivered:756 busy:26856ms unacked:4 retrans:0/58 reord_seen:1 rcv_space:14480 rcv_ssthresh:64088 notsent:162176 minrtt:167.669\n",
      " tcp ESTAB 0      389512 10.0.0.100:39064 12.1.1.66:4000 users:((\"iperf3\",pid=22225,fd=5)) timer:(on,336ms,0) uid:39791 ino:200945 sk:71 cgroup:unreachable:2010c00000052 <->\n",
      "1726389585.626576 \t ts sack cubic wscale:12,7 rto:424 rtt:223.359/23.747 mss:1448 pmtu:1500 rcvmss:536 advmss:1448 cwnd:3 ssthresh:4 bytes_sent:2481909 bytes_retrans:101360 bytes_acked:2371862 segs_out:1717 segs_in:1014 data_segs_out:1715 send 155588bps lastsnd:88 lastrcv:27228 lastack:88 pacing_rate 373408bps delivery_rate 97856bps delivered:1642 busy:26956ms unacked:6 retrans:3/70 lost:4 sacked:2 rcv_space:14480 rcv_ssthresh:64088 notsent:380824 minrtt:73.482\n",
      "1726389585.627137 tcp ESTAB 0      0      10.0.0.100:58044 12.1.1.66:4000 users:((\"iperf3\",pid=22225,fd=4)) uid:39791 ino:200687 sk:6e cgroup:unreachable:2010c00000052 <->\n",
      "1726389585.628673 \t ts sack cubic wscale:12,7 rto:644 rtt:240.283/66.611 ato:40 mss:1448 pmtu:1500 rcvmss:536 advmss:1448 cwnd:10 bytes_sent:162 bytes_acked:163 bytes_received:4 segs_out:9 segs_in:8 data_segs_out:3 data_segs_in:4 send 482098bps lastsnd:27668 lastrcv:26724 lastack:26724 pacing_rate 964192bps delivery_rate 56832bps delivered:4 app_limited busy:676ms rcv_space:14480 rcv_ssthresh:64088 minrtt:203.825                                                                    \n"
     ]
    },
    {
     "name": "stderr",
     "output_type": "stream",
     "text": [
      "Failed to open cgroup2 by ID\n",
      "Failed to open cgroup2 by ID\n",
      "Failed to open cgroup2 by ID\n",
      "Failed to open cgroup2 by ID\n"
     ]
    },
    {
     "name": "stdout",
     "output_type": "stream",
     "text": [
      "1726389585.9406351726389585.941272 tcp ESTAB 0      0      10.0.0.100:57612 12.1.1.130:4000 users:((\"iperf3\",pid=22224,fd=4)) uid:39791 ino:200688 sk:6f cgroup:unreachable:2010c00000052 <->\n",
      "1726389585.941916 \t ts sack cubic wscale:12,7 rto:832 rtt:283.134/109.099 ato:40 mss:1448 pmtu:1500 rcvmss:536 advmss:1448 cwnd:10 bytes_sent:162 bytes_acked:163 bytes_received:4 segs_out:9 segs_in:8 data_segs_out:3 data_segs_in:4 send 409135bps lastsnd:27928 lastrcv:26948 lastack:26948 pacing_rate 818264bps delivery_rate 57064bps delivered:4 app_limited busy:676ms rcv_space:14480 rcv_ssthresh:64088 minrtt:202.988\n",
      "1726389585.942628 tcp ESTAB 0      385168 10.0.0.100:39064 12.1.1.66:4000 users:((\"iperf3\",pid=22225,fd=5)) timer:(on,296ms,0) uid:39791 ino:200945 sk:71 cgroup:unreachable:2010c00000052 <->\n",
      "1726389585.943176 tcp ESTAB 0      162176 10.0.0.100:60476 12.1.1.130:4000 users:((\"iperf3\",pid=22224,fd=5)) timer:(on,284ms,0) uid:39791 ino:200946 sk:70 cgroup:unreachable:2010c00000052 <->\n",
      " \t ts sack cubic wscale:12,7 rto:436 rtt:232.236/25.536 mss:1448 pmtu:1500 rcvmss:536 advmss:1448 cwnd:4 ssthresh:4 bytes_sent:2487701 bytes_retrans:102808 bytes_acked:2376206 segs_out:1721 segs_in:1017 data_segs_out:1719 send 199521bps lastsnd:140 lastrcv:27552 lastack:140 pacing_rate 299280bps delivery_rate 127816bps delivered:1645 busy:27280ms unacked:6 retrans:1/71 lost:1 sacked:2 rcv_space:14480 rcv_ssthresh:64088 notsent:376480 minrtt:73.482\n",
      "1726389585.9439891726389585.944305 \t ts sack cubic wscale:12,7 rto:428 rtt:226.051/14.759 mss:1448 pmtu:1500 rcvmss:536 advmss:1448 cwnd:6 ssthresh:4 bytes_sent:1190293 bytes_retrans:83984 bytes_acked:1097622 segs_out:825 segs_in:519 data_segs_out:823 send 307470bps lastsnd:144 lastrcv:27420 lastack:144 pacing_rate 368960bps delivery_rate 194816bps delivered:760 busy:27180ms unacked:6 retrans:0/58 reord_seen:1 rcv_space:14480 rcv_ssthresh:64088 notsent:153488 minrtt:167.669\n",
      " tcp ESTAB 0      0      10.0.0.100:58044 12.1.1.66:4000 users:((\"iperf3\",pid=22225,fd=4)) uid:39791 ino:200687 sk:6e cgroup:unreachable:2010c00000052 <->\n",
      "1726389585.946375 \t ts sack cubic wscale:12,7 rto:644 rtt:240.283/66.611 ato:40 mss:1448 pmtu:1500 rcvmss:536 advmss:1448 cwnd:10 bytes_sent:162 bytes_acked:163 bytes_received:4 segs_out:9 segs_in:8 data_segs_out:3 data_segs_in:4 send 482098bps lastsnd:27992 lastrcv:27048 lastack:27048 pacing_rate 964192bps delivery_rate 56832bps delivered:4 app_limited busy:676ms rcv_space:14480 rcv_ssthresh:64088 minrtt:203.825                                                                       \n"
     ]
    },
    {
     "name": "stderr",
     "output_type": "stream",
     "text": [
      "Failed to open cgroup2 by ID\n",
      "Failed to open cgroup2 by ID\n",
      "Failed to open cgroup2 by ID\n",
      "Failed to open cgroup2 by ID\n"
     ]
    },
    {
     "name": "stdout",
     "output_type": "stream",
     "text": [
      "1726389586.2587751726389586.259802 tcp ESTAB 0      0      10.0.0.100:57612 12.1.1.130:4000 users:((\"iperf3\",pid=22224,fd=4)) uid:39791 ino:200688 sk:6f cgroup:unreachable:2010c00000052 <->\n",
      "1726389586.260456 \t ts sack cubic wscale:12,7 rto:832 rtt:283.134/109.099 ato:40 mss:1448 pmtu:1500 rcvmss:536 advmss:1448 cwnd:10 bytes_sent:162 bytes_acked:163 bytes_received:4 segs_out:9 segs_in:8 data_segs_out:3 data_segs_in:4 send 409135bps lastsnd:28248 lastrcv:27268 lastack:27268 pacing_rate 818264bps delivery_rate 57064bps delivered:4 app_limited busy:676ms rcv_space:14480 rcv_ssthresh:64088 minrtt:202.988\n",
      " tcp ESTAB 0      369240 10.0.0.100:39064 12.1.1.66:4000 users:((\"iperf3\",pid=22225,fd=5)) timer:(on,372ms,0) uid:39791 ino:200945 sk:71 cgroup:unreachable:2010c00000052 <->\n",
      "1726389586.2612621726389586.261575 tcp ESTAB 0      156384 10.0.0.100:60476 12.1.1.130:4000 users:((\"iperf3\",pid=22224,fd=5)) timer:(on,400ms,0) uid:39791 ino:200946 sk:70 cgroup:unreachable:2010c00000052 <->\n",
      "1726389586.262113 \t ts sack cubic wscale:12,7 rto:424 rtt:221.313/17.445 mss:1448 pmtu:1500 rcvmss:536 advmss:1448 cwnd:5 ssthresh:4 bytes_sent:2502181 bytes_retrans:102808 bytes_acked:2392134 segs_out:1731 segs_in:1023 data_segs_out:1729 send 261711bps lastsnd:52 lastrcv:27872 lastack:56 pacing_rate 314048bps delivery_rate 283408bps delivered:1654 busy:27600ms unacked:5 retrans:0/71 rcv_space:14480 rcv_ssthresh:64088 notsent:362000 minrtt:73.482\n",
      "1726389586.262739 \t ts sack cubic wscale:12,7 rto:424 rtt:220.552/13.443 mss:1448 pmtu:1500 rcvmss:536 advmss:1448 cwnd:4 ssthresh:4 bytes_sent:1200429 bytes_retrans:86880 bytes_acked:1103414 segs_out:832 segs_in:524 data_segs_out:830 send 210091bps lastsnd:24 lastrcv:27740 lastack:24 pacing_rate 441184bps delivery_rate 146768bps delivered:767 busy:27500ms unacked:7 retrans:2/60 lost:2 sacked:3 reord_seen:1 rcv_space:14480 rcv_ssthresh:64088 notsent:146248 minrtt:167.669\n",
      " tcp ESTAB 0      0      10.0.0.100:58044 12.1.1.66:4000 users:((\"iperf3\",pid=22225,fd=4)) uid:39791 ino:200687 sk:6e cgroup:unreachable:2010c00000052 <->\n",
      "1726389586.265038 \t ts sack cubic wscale:12,7 rto:644 rtt:240.283/66.611 ato:40 mss:1448 pmtu:1500 rcvmss:536 advmss:1448 cwnd:10 bytes_sent:162 bytes_acked:163 bytes_received:4 segs_out:9 segs_in:8 data_segs_out:3 data_segs_in:4 send 482098bps lastsnd:28312 lastrcv:27368 lastack:27368 pacing_rate 964192bps delivery_rate 56832bps delivered:4 app_limited busy:676ms rcv_space:14480 rcv_ssthresh:64088 minrtt:203.825                                                     \n"
     ]
    },
    {
     "name": "stderr",
     "output_type": "stream",
     "text": [
      "Failed to open cgroup2 by ID\n",
      "Failed to open cgroup2 by ID\n",
      "Failed to open cgroup2 by ID\n",
      "Failed to open cgroup2 by ID\n"
     ]
    },
    {
     "name": "stdout",
     "output_type": "stream",
     "text": [
      "1726389586.576315 tcp ESTAB 0      0      10.0.0.100:57612 12.1.1.130:4000 users:((\"iperf3\",pid=22224,fd=4)) uid:39791 ino:200688 sk:6f cgroup:unreachable:2010c00000052 <->\n",
      "1726389586.578600 \t ts sack cubic wscale:12,7 rto:832 rtt:283.134/109.099 ato:40 mss:1448 pmtu:1500 rcvmss:536 advmss:1448 cwnd:10 bytes_sent:162 bytes_acked:163 bytes_received:4 segs_out:9 segs_in:8 data_segs_out:3 data_segs_in:4 send 409135bps lastsnd:28560 lastrcv:27580 lastack:27580 pacing_rate 818264bps delivery_rate 57064bps delivered:4 app_limited busy:676ms rcv_space:14480 rcv_ssthresh:64088 minrtt:202.988\n",
      "1726389586.579152 tcp ESTAB 0      144800 10.0.0.100:60476 12.1.1.130:4000 users:((\"iperf3\",pid=22224,fd=5)) timer:(on,308ms,0) uid:39791 ino:200946 sk:70 cgroup:unreachable:2010c00000052 <->\n",
      "1726389586.582581 \t ts sack cubic wscale:12,7 rto:436 rtt:235.045/35.277 mss:1448 pmtu:1500 rcvmss:536 advmss:1448 cwnd:4 ssthresh:4 bytes_sent:1207669 bytes_retrans:86880 bytes_acked:1114998 segs_out:837 segs_in:529 data_segs_out:835 send 197137bps lastsnd:28 lastrcv:28052 lastack:28 pacing_rate 236560bps delivery_rate 169856bps delivered:772 busy:27812ms unacked:4 retrans:0/60 reord_seen:1 rcv_space:14480 rcv_ssthresh:64088 notsent:139008 minrtt:167.669\n",
      "1726389586.582088 tcp ESTAB 0      362000 10.0.0.100:39064 12.1.1.66:4000 users:((\"iperf3\",pid=22225,fd=5)) timer:(on,248ms,0) uid:39791 ino:200945 sk:71 cgroup:unreachable:2010c00000052 <->\n",
      "1726389586.585564 \t ts sack cubic wscale:12,7 rto:416 rtt:215.337/16.297 mss:1448 pmtu:1500 rcvmss:536 advmss:1448 cwnd:7 ssthresh:4 bytes_sent:2512317 bytes_retrans:102808 bytes_acked:2399374 segs_out:1738 segs_in:1026 data_segs_out:1736 send 376563bps lastsnd:168 lastrcv:28192 lastack:172 pacing_rate 451872bps delivery_rate 282928bps delivered:1659 busy:27920ms unacked:7 retrans:0/71 rcv_space:14480 rcv_ssthresh:64088 notsent:351864 minrtt:73.482\n",
      "1726389586.586102 tcp ESTAB 0      0      10.0.0.100:58044 12.1.1.66:4000 users:((\"iperf3\",pid=22225,fd=4)) uid:39791 ino:200687 sk:6e cgroup:unreachable:2010c00000052 <->\n",
      "1726389586.586715 \t ts sack cubic wscale:12,7 rto:644 rtt:240.283/66.611 ato:40 mss:1448 pmtu:1500 rcvmss:536 advmss:1448 cwnd:10 bytes_sent:162 bytes_acked:163 bytes_received:4 segs_out:9 segs_in:8 data_segs_out:3 data_segs_in:4 send 482098bps lastsnd:28632 lastrcv:27688 lastack:27688 pacing_rate 964192bps delivery_rate 56832bps delivered:4 app_limited busy:676ms rcv_space:14480 rcv_ssthresh:64088 minrtt:203.825                                                       \n"
     ]
    },
    {
     "name": "stderr",
     "output_type": "stream",
     "text": [
      "Failed to open cgroup2 by ID\n",
      "Failed to open cgroup2 by ID\n",
      "Failed to open cgroup2 by ID\n",
      "Failed to open cgroup2 by ID\n"
     ]
    },
    {
     "name": "stdout",
     "output_type": "stream",
     "text": [
      "1726389586.8989581726389586.900627 tcp ESTAB 0      341728 10.0.0.100:39064 12.1.1.66:4000 users:((\"iperf3\",pid=22225,fd=5)) timer:(on,376ms,0) uid:39791 ino:200945 sk:71 cgroup:unreachable:2010c00000052 <->\n",
      "1726389586.901301 \t ts sack cubic wscale:12,7 rto:420 rtt:216.262/16.734 mss:1448 pmtu:1500 rcvmss:536 advmss:1448 cwnd:7 ssthresh:4 bytes_sent:2532589 bytes_retrans:102808 bytes_acked:2419646 segs_out:1752 segs_in:1034 data_segs_out:1750 send 374953bps lastsnd:44 lastrcv:28508 lastack:44 pacing_rate 449936bps delivery_rate 339128bps delivered:1673 busy:28236ms unacked:7 retrans:0/71 rcv_space:14480 rcv_ssthresh:64088 notsent:331592 minrtt:73.482\n",
      "1726389586.901940 tcp ESTAB 0      0      10.0.0.100:58044 12.1.1.66:4000 users:((\"iperf3\",pid=22225,fd=4)) uid:39791 ino:200687 sk:6e cgroup:unreachable:2010c00000052 <->\n",
      "1726389586.902548 \t ts sack cubic wscale:12,7 rto:644 rtt:240.283/66.611 ato:40 mss:1448 pmtu:1500 rcvmss:536 advmss:1448 cwnd:10 bytes_sent:162 bytes_acked:163 bytes_received:4 segs_out:9 segs_in:8 data_segs_out:3 data_segs_in:4 send 482098bps lastsnd:28948 lastrcv:28004 lastack:28004 pacing_rate 964192bps delivery_rate 56832bps delivered:4 app_limited busy:676ms rcv_space:14480 rcv_ssthresh:64088 minrtt:203.825                                                     \n",
      " tcp ESTAB 0      0      10.0.0.100:57612 12.1.1.130:4000 users:((\"iperf3\",pid=22224,fd=4)) uid:39791 ino:200688 sk:6f cgroup:unreachable:2010c00000052 <->\n",
      "1726389586.904857 \t ts sack cubic wscale:12,7 rto:832 rtt:283.134/109.099 ato:40 mss:1448 pmtu:1500 rcvmss:536 advmss:1448 cwnd:10 bytes_sent:162 bytes_acked:163 bytes_received:4 segs_out:9 segs_in:8 data_segs_out:3 data_segs_in:4 send 409135bps lastsnd:28888 lastrcv:27908 lastack:27908 pacing_rate 818264bps delivery_rate 57064bps delivered:4 app_limited busy:676ms rcv_space:14480 rcv_ssthresh:64088 minrtt:202.988\n",
      "1726389586.905412 tcp ESTAB 0      131768 10.0.0.100:60476 12.1.1.130:4000 users:((\"iperf3\",pid=22224,fd=5)) timer:(on,360ms,0) uid:39791 ino:200946 sk:70 cgroup:unreachable:2010c00000052 <->\n",
      "1726389586.906012 \t ts sack cubic wscale:12,7 rto:412 rtt:211.64/31.135 mss:1448 pmtu:1500 rcvmss:536 advmss:1448 cwnd:5 ssthresh:4 bytes_sent:1222149 bytes_retrans:86880 bytes_acked:1128030 segs_out:847 segs_in:533 data_segs_out:845 send 273672bps lastsnd:52 lastrcv:28380 lastack:52 pacing_rate 328400bps delivery_rate 339032bps delivered:781 busy:28140ms unacked:5 retrans:0/60 reord_seen:1 rcv_space:14480 rcv_ssthresh:64088 notsent:124528 minrtt:135.508\n"
     ]
    },
    {
     "name": "stderr",
     "output_type": "stream",
     "text": [
      "Failed to open cgroup2 by ID\n",
      "Failed to open cgroup2 by ID\n",
      "Failed to open cgroup2 by ID\n",
      "Failed to open cgroup2 by ID\n"
     ]
    },
    {
     "name": "stdout",
     "output_type": "stream",
     "text": [
      "1726389587.2173561726389587.220241 tcp ESTAB 0      527072 10.0.0.100:39064 12.1.1.66:4000 users:((\"iperf3\",pid=22225,fd=5)) timer:(on,300ms,0) uid:39791 ino:200945 sk:71 cgroup:unreachable:2010c00000052 <->\n",
      "1726389587.220914 \t ts sack cubic wscale:12,7 rto:428 rtt:225.346/17.048 mss:1448 pmtu:1500 rcvmss:536 advmss:1448 cwnd:7 ssthresh:4 bytes_sent:2542725 bytes_retrans:102808 bytes_acked:2429782 segs_out:1759 segs_in:1038 data_segs_out:1757 send 359838bps lastsnd:128 lastrcv:28832 lastack:128 pacing_rate 431800bps delivery_rate 339752bps delivered:1680 busy:28560ms unacked:7 retrans:0/71 rcv_space:14480 rcv_ssthresh:64088 notsent:516936 minrtt:73.482\n",
      "1726389587.221476 tcp ESTAB 0      0      10.0.0.100:58044 12.1.1.66:4000 users:((\"iperf3\",pid=22225,fd=4)) uid:39791 ino:200687 sk:6e cgroup:unreachable:2010c00000052 <->\n",
      "1726389587.221980 tcp ESTAB 0      0      10.0.0.100:57612 12.1.1.130:4000 users:((\"iperf3\",pid=22224,fd=4)) uid:39791 ino:200688 sk:6f cgroup:unreachable:2010c00000052 <->\n",
      " \t ts sack cubic wscale:12,7 rto:644 rtt:240.283/66.611 ato:40 mss:1448 pmtu:1500 rcvmss:536 advmss:1448 cwnd:10 bytes_sent:162 bytes_acked:163 bytes_received:4 segs_out:9 segs_in:8 data_segs_out:3 data_segs_in:4 send 482098bps lastsnd:29272 lastrcv:28328 lastack:28328 pacing_rate 964192bps delivery_rate 56832bps delivered:4 app_limited busy:676ms rcv_space:14480 rcv_ssthresh:64088 minrtt:203.825                                                       \n",
      "1726389587.222853 \t ts sack cubic wscale:12,7 rto:832 rtt:283.134/109.099 ato:40 mss:1448 pmtu:1500 rcvmss:536 advmss:1448 cwnd:10 bytes_sent:162 bytes_acked:163 bytes_received:4 segs_out:9 segs_in:8 data_segs_out:3 data_segs_in:4 send 409135bps lastsnd:29200 lastrcv:28220 lastack:28220 pacing_rate 818264bps delivery_rate 57064bps delivered:4 app_limited busy:676ms rcv_space:14480 rcv_ssthresh:64088 minrtt:202.988\n",
      "1726389587.224900 tcp ESTAB 0      124528 10.0.0.100:60476 12.1.1.130:4000 users:((\"iperf3\",pid=22224,fd=5)) timer:(on,300ms,0) uid:39791 ino:200946 sk:70 cgroup:unreachable:2010c00000052 <->\n",
      "1726389587.225441 \t ts sack cubic wscale:12,7 rto:424 rtt:220.556/26.536 mss:1448 pmtu:1500 rcvmss:536 advmss:1448 cwnd:5 ssthresh:4 bytes_sent:1229389 bytes_retrans:86880 bytes_acked:1135270 segs_out:852 segs_in:536 data_segs_out:850 send 262609bps lastsnd:124 lastrcv:28692 lastack:124 pacing_rate 315128bps delivery_rate 242688bps delivered:786 busy:28452ms unacked:5 retrans:0/60 reord_seen:1 rcv_space:14480 rcv_ssthresh:64088 notsent:117288 minrtt:135.508\n"
     ]
    },
    {
     "name": "stderr",
     "output_type": "stream",
     "text": [
      "Failed to open cgroup2 by ID\n",
      "Failed to open cgroup2 by ID\n",
      "Failed to open cgroup2 by ID\n",
      "Failed to open cgroup2 by ID\n"
     ]
    },
    {
     "name": "stdout",
     "output_type": "stream",
     "text": [
      "1726389587.5375991726389587.538809 tcp ESTAB 0      521280 10.0.0.100:39064 12.1.1.66:4000 users:((\"iperf3\",pid=22225,fd=5)) timer:(on,420ms,0) uid:39791 ino:200945 sk:71 cgroup:unreachable:2010c00000052 <->\n",
      "1726389587.539462 \t ts sack cubic wscale:12,7 rto:428 rtt:225.61/15.638 mss:1448 pmtu:1500 rcvmss:536 advmss:1448 cwnd:4 ssthresh:4 bytes_sent:2552861 bytes_retrans:105704 bytes_acked:2435574 segs_out:1766 segs_in:1043 data_segs_out:1764 send 205381bps lastsnd:8 lastrcv:29152 lastack:8 pacing_rate 492912bps delivery_rate 146720bps delivered:1687 busy:28880ms unacked:8 retrans:2/73 lost:3 sacked:3 rcv_space:14480 rcv_ssthresh:64088 notsent:509696 minrtt:73.482\n",
      "1726389587.539997 tcp ESTAB 0      0      10.0.0.100:58044 12.1.1.66:4000 users:((\"iperf3\",pid=22225,fd=4)) uid:39791 ino:200687 sk:6e cgroup:unreachable:2010c00000052 <->\n",
      "1726389587.540545 \t ts sack cubic wscale:12,7 rto:644 rtt:240.283/66.611 ato:40 mss:1448 pmtu:1500 rcvmss:536 advmss:1448 cwnd:10 bytes_sent:162 bytes_acked:163 bytes_received:4 segs_out:9 segs_in:8 data_segs_out:3 data_segs_in:4 send 482098bps lastsnd:29592 lastrcv:28648 lastack:28648 pacing_rate 964192bps delivery_rate 56832bps delivered:4 app_limited busy:676ms rcv_space:14480 rcv_ssthresh:64088 minrtt:203.825                                                                  \n",
      " tcp ESTAB 0      0      10.0.0.100:57612 12.1.1.130:4000 users:((\"iperf3\",pid=22224,fd=4)) uid:39791 ino:200688 sk:6f cgroup:unreachable:2010c00000052 <->\n",
      "1726389587.542567 \t ts sack cubic wscale:12,7 rto:832 rtt:283.134/109.099 ato:40 mss:1448 pmtu:1500 rcvmss:536 advmss:1448 cwnd:10 bytes_sent:162 bytes_acked:163 bytes_received:4 segs_out:9 segs_in:8 data_segs_out:3 data_segs_in:4 send 409135bps lastsnd:29520 lastrcv:28540 lastack:28540 pacing_rate 818264bps delivery_rate 57064bps delivered:4 app_limited busy:676ms rcv_space:14480 rcv_ssthresh:64088 minrtt:202.988\n",
      "1726389587.543124 tcp ESTAB 0      183896 10.0.0.100:60476 12.1.1.130:4000 users:((\"iperf3\",pid=22224,fd=5)) timer:(on,416ms,0) uid:39791 ino:200946 sk:70 cgroup:unreachable:2010c00000052 <->\n",
      "1726389587.543651 \t ts sack cubic wscale:12,7 rto:420 rtt:217.3/19.644 mss:1448 pmtu:1500 rcvmss:536 advmss:1448 cwnd:4 ssthresh:4 bytes_sent:1239525 bytes_retrans:88328 bytes_acked:1141062 segs_out:859 segs_in:541 data_segs_out:857 send 213235bps lastsnd:4 lastrcv:29012 lastack:4 pacing_rate 383816bps delivery_rate 195800bps delivered:793 busy:28772ms unacked:7 retrans:1/61 lost:1 sacked:3 reord_seen:1 rcv_space:14480 rcv_ssthresh:64088 notsent:173760 minrtt:135.508\n"
     ]
    },
    {
     "name": "stderr",
     "output_type": "stream",
     "text": [
      "Failed to open cgroup2 by ID\n",
      "Failed to open cgroup2 by ID\n",
      "Failed to open cgroup2 by ID\n",
      "Failed to open cgroup2 by ID\n"
     ]
    },
    {
     "name": "stdout",
     "output_type": "stream",
     "text": [
      "1726389587.8553571726389587.857250 tcp ESTAB 0      509696 10.0.0.100:39064 12.1.1.66:4000 users:((\"iperf3\",pid=22225,fd=5)) timer:(on,308ms,0) uid:39791 ino:200945 sk:71 cgroup:unreachable:2010c00000052 <->\n",
      "1726389587.857909 \t ts sack cubic wscale:12,7 rto:432 rtt:229.64/28.276 mss:1448 pmtu:1500 rcvmss:536 advmss:1448 cwnd:4 ssthresh:4 bytes_sent:2560101 bytes_retrans:107152 bytes_acked:2447158 segs_out:1771 segs_in:1048 data_segs_out:1769 send 201777bps lastsnd:24 lastrcv:29472 lastack:24 pacing_rate 242128bps delivery_rate 170048bps delivered:1692 busy:29200ms unacked:4 retrans:0/74 rcv_space:14480 rcv_ssthresh:64088 notsent:503904 minrtt:73.482\n",
      "1726389587.858557 tcp ESTAB 0      0      10.0.0.100:58044 12.1.1.66:4000 users:((\"iperf3\",pid=22225,fd=4)) uid:39791 ino:200687 sk:6e cgroup:unreachable:2010c00000052 <->\n",
      "1726389587.859193 \t ts sack cubic wscale:12,7 rto:644 rtt:240.283/66.611 ato:40 mss:1448 pmtu:1500 rcvmss:536 advmss:1448 cwnd:10 bytes_sent:162 bytes_acked:163 bytes_received:4 segs_out:9 segs_in:8 data_segs_out:3 data_segs_in:4 send 482098bps lastsnd:29912 lastrcv:28968 lastack:28968 pacing_rate 964192bps delivery_rate 56832bps delivered:4 app_limited busy:676ms rcv_space:14480 rcv_ssthresh:64088 minrtt:203.825                                                    \n",
      " tcp ESTAB 0      0      10.0.0.100:57612 12.1.1.130:4000 users:((\"iperf3\",pid=22224,fd=4)) uid:39791 ino:200688 sk:6f cgroup:unreachable:2010c00000052 <->\n",
      "1726389587.861559 \t ts sack cubic wscale:12,7 rto:832 rtt:283.134/109.099 ato:40 mss:1448 pmtu:1500 rcvmss:536 advmss:1448 cwnd:10 bytes_sent:162 bytes_acked:163 bytes_received:4 segs_out:9 segs_in:8 data_segs_out:3 data_segs_in:4 send 409135bps lastsnd:29840 lastrcv:28860 lastack:28860 pacing_rate 818264bps delivery_rate 57064bps delivered:4 app_limited busy:676ms rcv_space:14480 rcv_ssthresh:64088 minrtt:202.988\n",
      "1726389587.862132 tcp ESTAB 0      172312 10.0.0.100:60476 12.1.1.130:4000 users:((\"iperf3\",pid=22224,fd=5)) timer:(on,336ms,0) uid:39791 ino:200946 sk:70 cgroup:unreachable:2010c00000052 <->\n",
      "1726389587.862762 \t ts sack cubic wscale:12,7 rto:424 rtt:221.208/18.149 mss:1448 pmtu:1500 rcvmss:536 advmss:1448 cwnd:5 ssthresh:4 bytes_sent:1248213 bytes_retrans:88328 bytes_acked:1152646 segs_out:865 segs_in:545 data_segs_out:863 send 261835bps lastsnd:88 lastrcv:29332 lastack:88 pacing_rate 314200bps delivery_rate 195480bps delivered:798 busy:29092ms unacked:5 retrans:0/61 reord_seen:1 rcv_space:14480 rcv_ssthresh:64088 notsent:165072 minrtt:135.508\n"
     ]
    },
    {
     "name": "stderr",
     "output_type": "stream",
     "text": [
      "Failed to open cgroup2 by ID\n",
      "Failed to open cgroup2 by ID\n",
      "Failed to open cgroup2 by ID\n",
      "Failed to open cgroup2 by ID\n"
     ]
    },
    {
     "name": "stdout",
     "output_type": "stream",
     "text": [
      "1726389588.1751451726389588.176427 tcp ESTAB 0      501008 10.0.0.100:39064 12.1.1.66:4000 users:((\"iperf3\",pid=22225,fd=5)) timer:(on,216ms,0) uid:39791 ino:200945 sk:71 cgroup:unreachable:2010c00000052 <->\n",
      "1726389588.177058 \t ts sack cubic wscale:12,7 rto:420 rtt:219.982/17.901 mss:1448 pmtu:1500 rcvmss:536 advmss:1448 cwnd:5 ssthresh:4 bytes_sent:2570237 bytes_retrans:107152 bytes_acked:2455846 segs_out:1778 segs_in:1052 data_segs_out:1776 send 263294bps lastsnd:72 lastrcv:29792 lastack:72 pacing_rate 315952bps delivery_rate 195144bps delivered:1698 busy:29520ms unacked:5 retrans:0/74 rcv_space:14480 rcv_ssthresh:64088 notsent:493768 minrtt:73.482\n",
      "1726389588.177598 tcp ESTAB 0      0      10.0.0.100:58044 12.1.1.66:4000 users:((\"iperf3\",pid=22225,fd=4)) uid:39791 ino:200687 sk:6e cgroup:unreachable:2010c00000052 <->\n",
      " tcp ESTAB 0      0      10.0.0.100:57612 12.1.1.130:4000 users:((\"iperf3\",pid=22224,fd=4)) uid:39791 ino:200688 sk:6f cgroup:unreachable:2010c00000052 <->\n",
      "1726389588.1785401726389588.178136 \t ts sack cubic wscale:12,7 rto:832 rtt:283.134/109.099 ato:40 mss:1448 pmtu:1500 rcvmss:536 advmss:1448 cwnd:10 bytes_sent:162 bytes_acked:163 bytes_received:4 segs_out:9 segs_in:8 data_segs_out:3 data_segs_in:4 send 409135bps lastsnd:30160 lastrcv:29180 lastack:29180 pacing_rate 818264bps delivery_rate 57064bps delivered:4 app_limited busy:676ms rcv_space:14480 rcv_ssthresh:64088 minrtt:202.988\n",
      " \t ts sack cubic wscale:12,7 rto:644 rtt:240.283/66.611 ato:40 mss:1448 pmtu:1500 rcvmss:536 advmss:1448 cwnd:10 bytes_sent:162 bytes_acked:163 bytes_received:4 segs_out:9 segs_in:8 data_segs_out:3 data_segs_in:4 send 482098bps lastsnd:30232 lastrcv:29288 lastack:29288 pacing_rate 964192bps delivery_rate 56832bps delivered:4 app_limited busy:676ms rcv_space:14480 rcv_ssthresh:64088 minrtt:203.825                                                     \n",
      "1726389588.181089 tcp ESTAB 0      165072 10.0.0.100:60476 12.1.1.130:4000 users:((\"iperf3\",pid=22224,fd=5)) timer:(on,348ms,0) uid:39791 ino:200946 sk:70 cgroup:unreachable:2010c00000052 <->\n",
      "1726389588.181633 \t ts sack cubic wscale:12,7 rto:452 rtt:249.051/49.505 mss:1448 pmtu:1500 rcvmss:536 advmss:1448 cwnd:6 ssthresh:4 bytes_sent:1256901 bytes_retrans:88328 bytes_acked:1159886 segs_out:871 segs_in:548 data_segs_out:869 send 279075bps lastsnd:104 lastrcv:29652 lastack:104 pacing_rate 334888bps delivery_rate 189544bps delivered:803 busy:29412ms unacked:6 retrans:0/61 reord_seen:1 rcv_space:14480 rcv_ssthresh:64088 notsent:156384 minrtt:135.508\n"
     ]
    },
    {
     "name": "stderr",
     "output_type": "stream",
     "text": [
      "Failed to open cgroup2 by ID\n",
      "Failed to open cgroup2 by ID\n",
      "Failed to open cgroup2 by ID\n",
      "Failed to open cgroup2 by ID\n"
     ]
    },
    {
     "name": "stdout",
     "output_type": "stream",
     "text": [
      "1726389588.496079 tcp ESTAB 0      490872 10.0.0.100:39064 12.1.1.66:4000 users:((\"iperf3\",pid=22225,fd=5)) timer:(on,268ms,0) uid:39791 ino:200945 sk:71 cgroup:unreachable:2010c00000052 <->\n",
      "1726389588.4967751726389588.494184 \t ts sack cubic wscale:12,7 rto:420 rtt:217.81/23.87 mss:1448 pmtu:1500 rcvmss:536 advmss:1448 cwnd:6 ssthresh:4 bytes_sent:2581821 bytes_retrans:107152 bytes_acked:2465982 segs_out:1786 segs_in:1056 data_segs_out:1784 send 319104bps lastsnd:152 lastrcv:30108 lastack:152 pacing_rate 382920bps delivery_rate 243768bps delivered:1705 busy:29836ms unacked:6 retrans:0/74 rcv_space:14480 rcv_ssthresh:64088 notsent:482184 minrtt:73.482\n",
      " tcp ESTAB 0      0      10.0.0.100:57612 12.1.1.130:4000 users:((\"iperf3\",pid=22224,fd=4)) uid:39791 ino:200688 sk:6f cgroup:unreachable:2010c00000052 <->\n",
      "1726389588.4979171726389588.498313 tcp ESTAB 0      0      10.0.0.100:58044 12.1.1.66:4000 users:((\"iperf3\",pid=22225,fd=4)) uid:39791 ino:200687 sk:6e cgroup:unreachable:2010c00000052 <->\n",
      " \t ts sack cubic wscale:12,7 rto:832 rtt:283.134/109.099 ato:40 mss:1448 pmtu:1500 rcvmss:536 advmss:1448 cwnd:10 bytes_sent:162 bytes_acked:163 bytes_received:4 segs_out:9 segs_in:8 data_segs_out:3 data_segs_in:4 send 409135bps lastsnd:30476 lastrcv:29496 lastack:29496 pacing_rate 818264bps delivery_rate 57064bps delivered:4 app_limited busy:676ms rcv_space:14480 rcv_ssthresh:64088 minrtt:202.988\n",
      "1726389588.4991071726389588.499420 \t ts sack cubic wscale:12,7 rto:644 rtt:240.283/66.611 ato:40 mss:1448 pmtu:1500 rcvmss:536 advmss:1448 cwnd:10 bytes_sent:162 bytes_acked:163 bytes_received:4 segs_out:9 segs_in:8 data_segs_out:3 data_segs_in:4 send 482098bps lastsnd:30548 lastrcv:29604 lastack:29604 pacing_rate 964192bps delivery_rate 56832bps delivered:4 app_limited busy:676ms rcv_space:14480 rcv_ssthresh:64088 minrtt:203.825                                                     \n",
      " tcp ESTAB 0      156384 10.0.0.100:60476 12.1.1.130:4000 users:((\"iperf3\",pid=22224,fd=5)) timer:(on,364ms,0) uid:39791 ino:200946 sk:70 cgroup:unreachable:2010c00000052 <->\n",
      "1726389588.501732 \t ts sack cubic wscale:12,7 rto:476 rtt:268.022/49.368 mss:1448 pmtu:1500 rcvmss:536 advmss:1448 cwnd:6 ssthresh:4 bytes_sent:1265589 bytes_retrans:88328 bytes_acked:1168574 segs_out:877 segs_in:551 data_segs_out:875 send 259322bps lastsnd:112 lastrcv:29968 lastack:112 pacing_rate 311184bps delivery_rate 226608bps delivered:809 busy:29728ms unacked:6 retrans:0/61 reord_seen:1 rcv_space:14480 rcv_ssthresh:64088 notsent:147696 minrtt:135.508\n"
     ]
    },
    {
     "name": "stderr",
     "output_type": "stream",
     "text": [
      "Failed to open cgroup2 by ID\n",
      "Failed to open cgroup2 by ID\n",
      "Failed to open cgroup2 by ID\n",
      "Failed to open cgroup2 by ID\n"
     ]
    },
    {
     "name": "stdout",
     "output_type": "stream",
     "text": [
      "1726389588.8125501726389588.815806 tcp ESTAB 0      0      10.0.0.100:57612 12.1.1.130:4000 users:((\"iperf3\",pid=22224,fd=4)) uid:39791 ino:200688 sk:6f cgroup:unreachable:2010c00000052 <->\n",
      "1726389588.816493 \t ts sack cubic wscale:12,7 rto:832 rtt:283.134/109.099 ato:40 mss:1448 pmtu:1500 rcvmss:536 advmss:1448 cwnd:10 bytes_sent:162 bytes_acked:163 bytes_received:4 segs_out:9 segs_in:8 data_segs_out:3 data_segs_in:4 send 409135bps lastsnd:30796 lastrcv:29816 lastack:29816 pacing_rate 818264bps delivery_rate 57064bps delivered:4 app_limited busy:676ms rcv_space:14480 rcv_ssthresh:64088 minrtt:202.988\n",
      "1726389588.817061 tcp ESTAB 0      147696 10.0.0.100:60476 12.1.1.130:4000 users:((\"iperf3\",pid=22224,fd=5)) timer:(on,360ms,0) uid:39791 ino:200946 sk:70 cgroup:unreachable:2010c00000052 <->\n",
      "1726389588.817543 \t ts sack cubic wscale:12,7 rto:488 rtt:280.1/38.953 mss:1448 pmtu:1500 rcvmss:536 advmss:1448 cwnd:6 ssthresh:4 bytes_sent:1274277 bytes_retrans:88328 bytes_acked:1177262 segs_out:883 segs_in:554 data_segs_out:881 send 248140bps lastsnd:128 lastrcv:30288 lastack:128 pacing_rate 297760bps delivery_rate 226624bps delivered:815 busy:30048ms unacked:6 retrans:0/61 reord_seen:1 rcv_space:14480 rcv_ssthresh:64088 notsent:139008 minrtt:135.508\n",
      " tcp ESTAB 0      485080 10.0.0.100:39064 12.1.1.66:4000 users:((\"iperf3\",pid=22225,fd=5)) timer:(on,384ms,0) uid:39791 ino:200945 sk:71 cgroup:unreachable:2010c00000052 <->\n",
      "1726389588.819978 \t ts sack cubic wscale:12,7 rto:424 rtt:222.226/21.081 mss:1448 pmtu:1500 rcvmss:536 advmss:1448 cwnd:7 ssthresh:4 bytes_sent:2589061 bytes_retrans:107152 bytes_acked:2471774 segs_out:1791 segs_in:1058 data_segs_out:1789 send 364890bps lastsnd:40 lastrcv:30428 lastack:236 pacing_rate 437864bps delivery_rate 292648bps delivered:1709 busy:30156ms unacked:7 retrans:0/74 rcv_space:14480 rcv_ssthresh:64088 notsent:474944 minrtt:73.482\n",
      "1726389588.820520 tcp ESTAB 0      0      10.0.0.100:58044 12.1.1.66:4000 users:((\"iperf3\",pid=22225,fd=4)) uid:39791 ino:200687 sk:6e cgroup:unreachable:2010c00000052 <->\n",
      "1726389588.821073 \t ts sack cubic wscale:12,7 rto:644 rtt:240.283/66.611 ato:40 mss:1448 pmtu:1500 rcvmss:536 advmss:1448 cwnd:10 bytes_sent:162 bytes_acked:163 bytes_received:4 segs_out:9 segs_in:8 data_segs_out:3 data_segs_in:4 send 482098bps lastsnd:30868 lastrcv:29924 lastack:29924 pacing_rate 964192bps delivery_rate 56832bps delivered:4 app_limited busy:676ms rcv_space:14480 rcv_ssthresh:64088 minrtt:203.825                                                      \n"
     ]
    },
    {
     "name": "stderr",
     "output_type": "stream",
     "text": [
      "Failed to open cgroup2 by ID\n",
      "Failed to open cgroup2 by ID\n",
      "Failed to open cgroup2 by ID\n",
      "Failed to open cgroup2 by ID\n"
     ]
    },
    {
     "name": "stdout",
     "output_type": "stream",
     "text": [
      "1726389589.1321031726389589.134058 tcp ESTAB 0      0      10.0.0.100:57612 12.1.1.130:4000 users:((\"iperf3\",pid=22224,fd=4)) uid:39791 ino:200688 sk:6f cgroup:unreachable:2010c00000052 <->\n",
      "1726389589.134813 \t ts sack cubic wscale:12,7 rto:832 rtt:283.134/109.099 ato:40 mss:1448 pmtu:1500 rcvmss:536 advmss:1448 cwnd:10 bytes_sent:162 bytes_acked:163 bytes_received:4 segs_out:9 segs_in:8 data_segs_out:3 data_segs_in:4 send 409135bps lastsnd:31120 lastrcv:30140 lastack:30140 pacing_rate 818264bps delivery_rate 57064bps delivered:4 app_limited busy:676ms rcv_space:14480 rcv_ssthresh:64088 minrtt:202.988\n",
      "1726389589.135425 tcp ESTAB 0      139008 10.0.0.100:60476 12.1.1.130:4000 users:((\"iperf3\",pid=22224,fd=5)) timer:(on,260ms,0) uid:39791 ino:200946 sk:70 cgroup:unreachable:2010c00000052 <->\n",
      "1726389589.135963 \t ts sack cubic wscale:12,7 rto:472 rtt:266.198/36.993 mss:1448 pmtu:1500 rcvmss:536 advmss:1448 cwnd:6 ssthresh:4 bytes_sent:1282965 bytes_retrans:88328 bytes_acked:1185950 segs_out:889 segs_in:557 data_segs_out:887 send 261099bps lastsnd:212 lastrcv:30612 lastack:212 pacing_rate 313312bps delivery_rate 227976bps delivered:821 busy:30372ms unacked:6 retrans:0/61 reord_seen:1 rcv_space:14480 rcv_ssthresh:64088 notsent:130320 minrtt:135.508\n",
      " tcp ESTAB 0      472048 10.0.0.100:39064 12.1.1.66:4000 users:((\"iperf3\",pid=22225,fd=5)) timer:(on,300ms,0) uid:39791 ino:200945 sk:71 cgroup:unreachable:2010c00000052 <->\n",
      "1726389589.138578 \t ts sack cubic wscale:12,7 rto:408 rtt:206.225/19.942 mss:1448 pmtu:1500 rcvmss:536 advmss:1448 cwnd:4 ssthresh:4 bytes_sent:2600645 bytes_retrans:110048 bytes_acked:2484806 segs_out:1799 segs_in:1066 data_segs_out:1797 send 224687bps lastsnd:108 lastrcv:30744 lastack:108 pacing_rate 269616bps delivery_rate 271528bps delivered:1718 busy:30472ms unacked:4 retrans:0/76 rcv_space:14480 rcv_ssthresh:64088 notsent:466256 minrtt:73.482\n",
      "1726389589.139286 tcp ESTAB 0      0      10.0.0.100:58044 12.1.1.66:4000 users:((\"iperf3\",pid=22225,fd=4)) uid:39791 ino:200687 sk:6e cgroup:unreachable:2010c00000052 <->\n",
      "1726389589.139826 \t ts sack cubic wscale:12,7 rto:644 rtt:240.283/66.611 ato:40 mss:1448 pmtu:1500 rcvmss:536 advmss:1448 cwnd:10 bytes_sent:162 bytes_acked:163 bytes_received:4 segs_out:9 segs_in:8 data_segs_out:3 data_segs_in:4 send 482098bps lastsnd:31184 lastrcv:30240 lastack:30240 pacing_rate 964192bps delivery_rate 56832bps delivered:4 app_limited busy:676ms rcv_space:14480 rcv_ssthresh:64088 minrtt:203.825                                                       \n"
     ]
    },
    {
     "name": "stderr",
     "output_type": "stream",
     "text": [
      "Failed to open cgroup2 by ID\n",
      "Failed to open cgroup2 by ID\n",
      "Failed to open cgroup2 by ID\n",
      "Failed to open cgroup2 by ID\n"
     ]
    },
    {
     "name": "stdout",
     "output_type": "stream",
     "text": [
      "1726389589.4529621726389589.455532 tcp ESTAB 0      466256 10.0.0.100:39064 12.1.1.66:4000 users:((\"iperf3\",pid=22225,fd=5)) timer:(on,264ms,0) uid:39791 ino:200945 sk:71 cgroup:unreachable:2010c00000052 <->\n",
      "1726389589.456185 \t ts sack cubic wscale:12,7 rto:424 rtt:221.201/37.177 mss:1448 pmtu:1500 rcvmss:536 advmss:1448 cwnd:7 ssthresh:4 bytes_sent:2610781 bytes_retrans:110048 bytes_acked:2490598 segs_out:1806 segs_in:1068 data_segs_out:1804 send 366581bps lastsnd:160 lastrcv:31068 lastack:164 pacing_rate 439888bps delivery_rate 171520bps delivered:1722 busy:30796ms unacked:7 retrans:0/76 rcv_space:14480 rcv_ssthresh:64088 notsent:456120 minrtt:73.482\n",
      "1726389589.456738 tcp ESTAB 0      0      10.0.0.100:58044 12.1.1.66:4000 users:((\"iperf3\",pid=22225,fd=4)) uid:39791 ino:200687 sk:6e cgroup:unreachable:2010c00000052 <->\n",
      "1726389589.457269 \t ts sack cubic wscale:12,7 rto:644 rtt:240.283/66.611 ato:40 mss:1448 pmtu:1500 rcvmss:536 advmss:1448 cwnd:10 bytes_sent:162 bytes_acked:163 bytes_received:4 segs_out:9 segs_in:8 data_segs_out:3 data_segs_in:4 send 482098bps lastsnd:31508 lastrcv:30564 lastack:30564 pacing_rate 964192bps delivery_rate 56832bps delivered:4 app_limited busy:676ms rcv_space:14480 rcv_ssthresh:64088 minrtt:203.825                                                       \n",
      " tcp ESTAB 0      0      10.0.0.100:57612 12.1.1.130:4000 users:((\"iperf3\",pid=22224,fd=4)) uid:39791 ino:200688 sk:6f cgroup:unreachable:2010c00000052 <->\n",
      "1726389589.458300 \t ts sack cubic wscale:12,7 rto:832 rtt:283.134/109.099 ato:40 mss:1448 pmtu:1500 rcvmss:536 advmss:1448 cwnd:10 bytes_sent:162 bytes_acked:163 bytes_received:4 segs_out:9 segs_in:8 data_segs_out:3 data_segs_in:4 send 409135bps lastsnd:31436 lastrcv:30456 lastack:30456 pacing_rate 818264bps delivery_rate 57064bps delivered:4 app_limited busy:676ms rcv_space:14480 rcv_ssthresh:64088 minrtt:202.988\n",
      "1726389589.458826 tcp ESTAB 0      130320 10.0.0.100:60476 12.1.1.130:4000 users:((\"iperf3\",pid=22224,fd=5)) timer:(on,216ms,0) uid:39791 ino:200946 sk:70 cgroup:unreachable:2010c00000052 <->\n",
      "1726389589.460725 \t ts sack cubic wscale:12,7 rto:472 rtt:267.719/17.875 mss:1448 pmtu:1500 rcvmss:536 advmss:1448 cwnd:6 ssthresh:4 bytes_sent:1291653 bytes_retrans:88328 bytes_acked:1194638 segs_out:895 segs_in:560 data_segs_out:893 send 259615bps lastsnd:256 lastrcv:30928 lastack:256 pacing_rate 311536bps delivery_rate 256488bps delivered:827 busy:30688ms unacked:6 retrans:0/61 reord_seen:1 rcv_space:14480 rcv_ssthresh:64088 notsent:121632 minrtt:135.508\n"
     ]
    },
    {
     "name": "stderr",
     "output_type": "stream",
     "text": [
      "Failed to open cgroup2 by ID\n",
      "Failed to open cgroup2 by ID\n",
      "Failed to open cgroup2 by ID\n",
      "Failed to open cgroup2 by ID\n"
     ]
    },
    {
     "name": "stdout",
     "output_type": "stream",
     "text": [
      "1726389589.772414 tcp ESTAB 0      460464 10.0.0.100:39064 12.1.1.66:4000 users:((\"iperf3\",pid=22225,fd=5)) timer:(on,384ms,0) uid:39791 ino:200945 sk:71 cgroup:unreachable:2010c00000052 <->\n",
      "1726389589.7745471726389589.775772 \t ts sack cubic wscale:12,7 rto:424 rtt:223.894/21.884 mss:1448 pmtu:1500 rcvmss:536 advmss:1448 cwnd:4 ssthresh:4 bytes_sent:2620917 bytes_retrans:112944 bytes_acked:2496390 segs_out:1813 segs_in:1073 data_segs_out:1811 send 206955bps lastsnd:40 lastrcv:31388 lastack:40 pacing_rate 496688bps delivery_rate 146280bps delivered:1729 busy:31116ms unacked:8 retrans:2/78 lost:3 sacked:3 rcv_space:14480 rcv_ssthresh:64088 notsent:448880 minrtt:73.482\n",
      "1726389589.776422 tcp ESTAB 0      0      10.0.0.100:58044 12.1.1.66:4000 users:((\"iperf3\",pid=22225,fd=4)) uid:39791 ino:200687 sk:6e cgroup:unreachable:2010c00000052 <->\n",
      "1726389589.776949 \t ts sack cubic wscale:12,7 rto:644 rtt:240.283/66.611 ato:40 mss:1448 pmtu:1500 rcvmss:536 advmss:1448 cwnd:10 bytes_sent:162 bytes_acked:163 bytes_received:4 segs_out:9 segs_in:8 data_segs_out:3 data_segs_in:4 send 482098bps lastsnd:31828 lastrcv:30884 lastack:30884 pacing_rate 964192bps delivery_rate 56832bps delivered:4 app_limited busy:676ms rcv_space:14480 rcv_ssthresh:64088 minrtt:203.825                                                                     \n",
      " tcp ESTAB 0      0      10.0.0.100:57612 12.1.1.130:4000 users:((\"iperf3\",pid=22224,fd=4)) uid:39791 ino:200688 sk:6f cgroup:unreachable:2010c00000052 <->\n",
      "1726389589.778561 \t ts sack cubic wscale:12,7 rto:832 rtt:283.134/109.099 ato:40 mss:1448 pmtu:1500 rcvmss:536 advmss:1448 cwnd:10 bytes_sent:162 bytes_acked:163 bytes_received:4 segs_out:9 segs_in:8 data_segs_out:3 data_segs_in:4 send 409135bps lastsnd:31756 lastrcv:30776 lastack:30776 pacing_rate 818264bps delivery_rate 57064bps delivered:4 app_limited busy:676ms rcv_space:14480 rcv_ssthresh:64088 minrtt:202.988\n",
      "1726389589.779975 tcp ESTAB 0      240368 10.0.0.100:60476 12.1.1.130:4000 users:((\"iperf3\",pid=22224,fd=5)) timer:(on,384ms,0) uid:39791 ino:200946 sk:70 cgroup:unreachable:2010c00000052 <->\n",
      "1726389589.780522 \t ts sack cubic wscale:12,7 rto:452 rtt:248.034/29.828 mss:1448 pmtu:1500 rcvmss:536 advmss:1448 cwnd:8 ssthresh:4 bytes_sent:1314821 bytes_retrans:88328 bytes_acked:1214910 segs_out:911 segs_in:567 data_segs_out:909 send 373626bps lastsnd:68 lastrcv:31248 lastack:72 pacing_rate 448344bps delivery_rate 304856bps delivered:841 busy:31008ms unacked:8 retrans:0/61 reord_seen:1 rcv_space:14480 rcv_ssthresh:64088 notsent:228784 minrtt:135.508\n"
     ]
    },
    {
     "name": "stderr",
     "output_type": "stream",
     "text": [
      "Failed to open cgroup2 by ID\n",
      "Failed to open cgroup2 by ID\n",
      "Failed to open cgroup2 by ID\n",
      "Failed to open cgroup2 by ID\n"
     ]
    },
    {
     "name": "stdout",
     "output_type": "stream",
     "text": [
      "1726389590.0955701726389590.097047 tcp ESTAB 0      0      10.0.0.100:57612 12.1.1.130:4000 users:((\"iperf3\",pid=22224,fd=4)) uid:39791 ino:200688 sk:6f cgroup:unreachable:2010c00000052 <->\n",
      "1726389590.098325 \t ts sack cubic wscale:12,7 rto:832 rtt:283.134/109.099 ato:40 mss:1448 pmtu:1500 rcvmss:536 advmss:1448 cwnd:10 bytes_sent:162 bytes_acked:163 bytes_received:4 segs_out:9 segs_in:8 data_segs_out:3 data_segs_in:4 send 409135bps lastsnd:32076 lastrcv:31096 lastack:31096 pacing_rate 818264bps delivery_rate 57064bps delivered:4 app_limited busy:676ms rcv_space:14480 rcv_ssthresh:64088 minrtt:202.988\n",
      "1726389590.098406 tcp ESTAB 0      228784 10.0.0.100:60476 12.1.1.130:4000 users:((\"iperf3\",pid=22224,fd=5)) timer:(on,388ms,0) uid:39791 ino:200946 sk:70 cgroup:unreachable:2010c00000052 <->\n",
      "1726389590.098457 \t ts sack cubic wscale:12,7 rto:472 rtt:267.206/41.367 mss:1448 pmtu:1500 rcvmss:536 advmss:1448 cwnd:8 ssthresh:4 bytes_sent:1326405 bytes_retrans:88328 bytes_acked:1226494 segs_out:919 segs_in:570 data_segs_out:917 send 346819bps lastsnd:84 lastrcv:31568 lastack:84 pacing_rate 416176bps delivery_rate 302528bps delivered:849 busy:31328ms unacked:8 retrans:0/61 reord_seen:1 rcv_space:14480 rcv_ssthresh:64088 notsent:217200 minrtt:135.508\n",
      " tcp ESTAB 0      448880 10.0.0.100:39064 12.1.1.66:4000 users:((\"iperf3\",pid=22225,fd=5)) timer:(on,264ms,0) uid:39791 ino:200945 sk:71 cgroup:unreachable:2010c00000052 <->\n",
      "1726389590.097439 \t ts sack cubic wscale:12,7 rto:424 rtt:220.649/30.803 mss:1448 pmtu:1500 rcvmss:536 advmss:1448 cwnd:4 ssthresh:4 bytes_sent:2628157 bytes_retrans:114392 bytes_acked:2507974 segs_out:1818 segs_in:1078 data_segs_out:1816 send 209999bps lastsnd:128 lastrcv:31712 lastack:128 pacing_rate 251992bps delivery_rate 136728bps delivered:1734 busy:31440ms unacked:4 retrans:0/79 rcv_space:14480 rcv_ssthresh:64088 notsent:443088 minrtt:73.482\n",
      "1726389590.097517 tcp ESTAB 0      0      10.0.0.100:58044 12.1.1.66:4000 users:((\"iperf3\",pid=22225,fd=4)) uid:39791 ino:200687 sk:6e cgroup:unreachable:2010c00000052 <->\n",
      "1726389590.097567 \t ts sack cubic wscale:12,7 rto:644 rtt:240.283/66.611 ato:40 mss:1448 pmtu:1500 rcvmss:536 advmss:1448 cwnd:10 bytes_sent:162 bytes_acked:163 bytes_received:4 segs_out:9 segs_in:8 data_segs_out:3 data_segs_in:4 send 482098bps lastsnd:32152 lastrcv:31208 lastack:31208 pacing_rate 964192bps delivery_rate 56832bps delivered:4 app_limited busy:676ms rcv_space:14480 rcv_ssthresh:64088 minrtt:203.825                                                       \n"
     ]
    },
    {
     "name": "stderr",
     "output_type": "stream",
     "text": [
      "Failed to open cgroup2 by ID\n",
      "Failed to open cgroup2 by ID\n",
      "Failed to open cgroup2 by ID\n",
      "Failed to open cgroup2 by ID\n"
     ]
    },
    {
     "name": "stdout",
     "output_type": "stream",
     "text": [
      "1726389590.4337531726389590.436548 tcp ESTAB 0      0      10.0.0.100:57612 12.1.1.130:4000 users:((\"iperf3\",pid=22224,fd=4)) uid:39791 ino:200688 sk:6f cgroup:unreachable:2010c00000052 <->\n",
      "1726389590.437172 \t ts sack cubic wscale:12,7 rto:832 rtt:283.134/109.099 ato:40 mss:1448 pmtu:1500 rcvmss:536 advmss:1448 cwnd:10 bytes_sent:162 bytes_acked:163 bytes_received:4 segs_out:9 segs_in:8 data_segs_out:3 data_segs_in:4 send 409135bps lastsnd:32416 lastrcv:31436 lastack:31436 pacing_rate 818264bps delivery_rate 57064bps delivered:4 app_limited busy:676ms rcv_space:14480 rcv_ssthresh:64088 minrtt:202.988\n",
      "1726389590.437744 tcp ESTAB 0      217200 10.0.0.100:60476 12.1.1.130:4000 users:((\"iperf3\",pid=22224,fd=5)) timer:(on,272ms,0) uid:39791 ino:200946 sk:70 cgroup:unreachable:2010c00000052 <->\n",
      "1726389590.438348 \t ts sack cubic wscale:12,7 rto:460 rtt:257.307/32.359 mss:1448 pmtu:1500 rcvmss:536 advmss:1448 cwnd:8 ssthresh:4 bytes_sent:1337989 bytes_retrans:88328 bytes_acked:1238078 segs_out:927 segs_in:573 data_segs_out:925 send 360161bps lastsnd:188 lastrcv:31908 lastack:188 pacing_rate 432192bps delivery_rate 302568bps delivered:857 busy:31668ms unacked:8 retrans:0/61 reord_seen:1 rcv_space:14480 rcv_ssthresh:64088 notsent:205616 minrtt:135.508\n",
      " tcp ESTAB 0      443088 10.0.0.100:39064 12.1.1.66:4000 users:((\"iperf3\",pid=22225,fd=5)) timer:(on,124ms,0) uid:39791 ino:200945 sk:71 cgroup:unreachable:2010c00000052 <->\n",
      "1726389590.440656 \t ts sack cubic wscale:12,7 rto:416 rtt:212.535/27.964 mss:1448 pmtu:1500 rcvmss:536 advmss:1448 cwnd:6 ssthresh:4 bytes_sent:2636845 bytes_retrans:114392 bytes_acked:2513766 segs_out:1824 segs_in:1080 data_segs_out:1822 send 327024bps lastsnd:292 lastrcv:32048 lastack:292 pacing_rate 392424bps delivery_rate 271856bps delivered:1738 busy:31776ms unacked:6 retrans:0/79 rcv_space:14480 rcv_ssthresh:64088 notsent:434400 minrtt:73.482\n",
      "1726389590.441215 tcp ESTAB 0      0      10.0.0.100:58044 12.1.1.66:4000 users:((\"iperf3\",pid=22225,fd=4)) uid:39791 ino:200687 sk:6e cgroup:unreachable:2010c00000052 <->\n",
      "1726389590.441746 \t ts sack cubic wscale:12,7 rto:644 rtt:240.283/66.611 ato:40 mss:1448 pmtu:1500 rcvmss:536 advmss:1448 cwnd:10 bytes_sent:162 bytes_acked:163 bytes_received:4 segs_out:9 segs_in:8 data_segs_out:3 data_segs_in:4 send 482098bps lastsnd:32488 lastrcv:31544 lastack:31544 pacing_rate 964192bps delivery_rate 56832bps delivered:4 app_limited busy:676ms rcv_space:14480 rcv_ssthresh:64088 minrtt:203.825                                                       \n"
     ]
    },
    {
     "name": "stderr",
     "output_type": "stream",
     "text": [
      "Failed to open cgroup2 by ID\n",
      "Failed to open cgroup2 by ID\n",
      "Failed to open cgroup2 by ID\n",
      "Failed to open cgroup2 by ID\n"
     ]
    },
    {
     "name": "stdout",
     "output_type": "stream",
     "text": [
      "1726389590.7532441726389590.757161 tcp ESTAB 0      0      10.0.0.100:57612 12.1.1.130:4000 users:((\"iperf3\",pid=22224,fd=4)) uid:39791 ino:200688 sk:6f cgroup:unreachable:2010c00000052 <->\n",
      "1726389590.757814 \t ts sack cubic wscale:12,7 rto:832 rtt:283.134/109.099 ato:40 mss:1448 pmtu:1500 rcvmss:536 advmss:1448 cwnd:10 bytes_sent:162 bytes_acked:163 bytes_received:4 segs_out:9 segs_in:8 data_segs_out:3 data_segs_in:4 send 409135bps lastsnd:32740 lastrcv:31760 lastack:31760 pacing_rate 818264bps delivery_rate 57064bps delivered:4 app_limited busy:676ms rcv_space:14480 rcv_ssthresh:64088 minrtt:202.988\n",
      "1726389590.758483 tcp ESTAB 0      191136 10.0.0.100:60476 12.1.1.130:4000 users:((\"iperf3\",pid=22224,fd=5)) timer:(on,368ms,0) uid:39791 ino:200946 sk:70 cgroup:unreachable:2010c00000052 <->\n",
      "1726389590.758981 \t ts sack cubic wscale:12,7 rto:436 rtt:231.411/25.541 mss:1448 pmtu:1500 rcvmss:536 advmss:1448 cwnd:10 ssthresh:4 bytes_sent:1366949 bytes_retrans:88328 bytes_acked:1264142 segs_out:947 segs_in:580 data_segs_out:945 send 500581bps lastsnd:68 lastrcv:32232 lastack:68 pacing_rate 600688bps delivery_rate 486504bps delivered:875 busy:31992ms unacked:10 retrans:0/61 reord_seen:1 rcv_space:14480 rcv_ssthresh:64088 notsent:176656 minrtt:135.508\n",
      " tcp ESTAB 0      425712 10.0.0.100:39064 12.1.1.66:4000 users:((\"iperf3\",pid=22225,fd=5)) timer:(on,360ms,0) uid:39791 ino:200945 sk:71 cgroup:unreachable:2010c00000052 <->\n",
      "1726389590.761743 \t ts sack cubic wscale:12,7 rto:460 rtt:230.033/43.684 mss:1448 pmtu:1500 rcvmss:536 advmss:1448 cwnd:8 ssthresh:4 bytes_sent:2657117 bytes_retrans:114392 bytes_acked:2531142 segs_out:1838 segs_in:1086 data_segs_out:1836 send 402864bps lastsnd:100 lastrcv:32364 lastack:100 pacing_rate 483432bps delivery_rate 227992bps delivered:1750 busy:32092ms unacked:8 retrans:0/79 rcv_space:14480 rcv_ssthresh:64088 notsent:414128 minrtt:73.482\n",
      "1726389590.762360 tcp ESTAB 0      0      10.0.0.100:58044 12.1.1.66:4000 users:((\"iperf3\",pid=22225,fd=4)) uid:39791 ino:200687 sk:6e cgroup:unreachable:2010c00000052 <->\n",
      "1726389590.762904 \t ts sack cubic wscale:12,7 rto:644 rtt:240.283/66.611 ato:40 mss:1448 pmtu:1500 rcvmss:536 advmss:1448 cwnd:10 bytes_sent:162 bytes_acked:163 bytes_received:4 segs_out:9 segs_in:8 data_segs_out:3 data_segs_in:4 send 482098bps lastsnd:32804 lastrcv:31860 lastack:31860 pacing_rate 964192bps delivery_rate 56832bps delivered:4 app_limited busy:676ms rcv_space:14480 rcv_ssthresh:64088 minrtt:203.825                                                       \n"
     ]
    },
    {
     "name": "stderr",
     "output_type": "stream",
     "text": [
      "Failed to open cgroup2 by ID\n",
      "Failed to open cgroup2 by ID\n",
      "Failed to open cgroup2 by ID\n",
      "Failed to open cgroup2 by ID\n"
     ]
    },
    {
     "name": "stdout",
     "output_type": "stream",
     "text": [
      "1726389591.0753191726389591.077877 tcp ESTAB 0      414128 10.0.0.100:39064 12.1.1.66:4000 users:((\"iperf3\",pid=22225,fd=5)) timer:(on,224ms,0) uid:39791 ino:200945 sk:71 cgroup:unreachable:2010c00000052 <->\n",
      "1726389591.078704 \t ts sack cubic wscale:12,7 rto:444 rtt:219.372/27.764 mss:1448 pmtu:1500 rcvmss:536 advmss:1448 cwnd:8 ssthresh:4 bytes_sent:2668701 bytes_retrans:114392 bytes_acked:2542726 segs_out:1846 segs_in:1090 data_segs_out:1844 send 422442bps lastsnd:220 lastrcv:32688 lastack:220 pacing_rate 506928bps delivery_rate 453104bps delivered:1758 busy:32416ms unacked:8 retrans:0/79 rcv_space:14480 rcv_ssthresh:64088 notsent:402544 minrtt:73.482\n",
      "1726389591.079309 tcp ESTAB 0      0      10.0.0.100:58044 12.1.1.66:4000 users:((\"iperf3\",pid=22225,fd=4)) uid:39791 ino:200687 sk:6e cgroup:unreachable:2010c00000052 <->\n",
      "1726389591.079899 \t ts sack cubic wscale:12,7 rto:644 rtt:240.283/66.611 ato:40 mss:1448 pmtu:1500 rcvmss:536 advmss:1448 cwnd:10 bytes_sent:162 bytes_acked:163 bytes_received:4 segs_out:9 segs_in:8 data_segs_out:3 data_segs_in:4 send 482098bps lastsnd:33128 lastrcv:32184 lastack:32184 pacing_rate 964192bps delivery_rate 56832bps delivered:4 app_limited busy:676ms rcv_space:14480 rcv_ssthresh:64088 minrtt:203.825                                                       \n",
      " tcp ESTAB 0      0      10.0.0.100:57612 12.1.1.130:4000 users:((\"iperf3\",pid=22224,fd=4)) uid:39791 ino:200688 sk:6f cgroup:unreachable:2010c00000052 <->\n",
      "1726389591.082353 \t ts sack cubic wscale:12,7 rto:832 rtt:283.134/109.099 ato:40 mss:1448 pmtu:1500 rcvmss:536 advmss:1448 cwnd:10 bytes_sent:162 bytes_acked:163 bytes_received:4 segs_out:9 segs_in:8 data_segs_out:3 data_segs_in:4 send 409135bps lastsnd:33064 lastrcv:32084 lastack:32084 pacing_rate 818264bps delivery_rate 57064bps delivered:4 app_limited busy:676ms rcv_space:14480 rcv_ssthresh:64088 minrtt:202.988\n",
      "1726389591.082960 tcp ESTAB 0      176656 10.0.0.100:60476 12.1.1.130:4000 users:((\"iperf3\",pid=22224,fd=5)) timer:(on,280ms,0) uid:39791 ino:200946 sk:70 cgroup:unreachable:2010c00000052 <->\n",
      "1726389591.084094 \t ts sack cubic wscale:12,7 rto:436 rtt:233.744/11.014 mss:1448 pmtu:1500 rcvmss:536 advmss:1448 cwnd:10 ssthresh:4 bytes_sent:1381429 bytes_retrans:88328 bytes_acked:1278622 segs_out:957 segs_in:584 data_segs_out:955 send 495585bps lastsnd:156 lastrcv:32556 lastack:156 pacing_rate 594696bps delivery_rate 487680bps delivered:885 busy:32316ms unacked:10 retrans:0/61 reord_seen:1 rcv_space:14480 rcv_ssthresh:64088 notsent:162176 minrtt:135.508\n"
     ]
    },
    {
     "name": "stderr",
     "output_type": "stream",
     "text": [
      "Failed to open cgroup2 by ID\n",
      "Failed to open cgroup2 by ID\n",
      "Failed to open cgroup2 by ID\n",
      "Failed to open cgroup2 by ID\n"
     ]
    },
    {
     "name": "stdout",
     "output_type": "stream",
     "text": [
      "1726389591.4018761726389591.403748 tcp ESTAB 0      390960 10.0.0.100:39064 12.1.1.66:4000 users:((\"iperf3\",pid=22225,fd=5)) timer:(on,372ms,0) uid:39791 ino:200945 sk:71 cgroup:unreachable:2010c00000052 <->\n",
      "1726389591.404390 tcp ESTAB 0      0      10.0.0.100:57612 12.1.1.130:4000 users:((\"iperf3\",pid=22224,fd=4)) uid:39791 ino:200688 sk:6f cgroup:unreachable:2010c00000052 <->\n",
      "1726389591.404992 \t ts sack cubic wscale:12,7 rto:444 rtt:230.58/10.49 mss:1448 pmtu:1500 rcvmss:536 advmss:1448 cwnd:8 ssthresh:4 bytes_sent:2691869 bytes_retrans:114392 bytes_acked:2565894 segs_out:1862 segs_in:1098 data_segs_out:1860 send 401908bps lastsnd:72 lastrcv:33016 lastack:72 pacing_rate 482288bps delivery_rate 389016bps delivered:1774 busy:32744ms unacked:8 retrans:0/79 rcv_space:14480 rcv_ssthresh:64088 notsent:379376 minrtt:73.482\n",
      "1726389591.405601 \t ts sack cubic wscale:12,7 rto:832 rtt:283.134/109.099 ato:40 mss:1448 pmtu:1500 rcvmss:536 advmss:1448 cwnd:10 bytes_sent:162 bytes_acked:163 bytes_received:4 segs_out:9 segs_in:8 data_segs_out:3 data_segs_in:4 send 409135bps lastsnd:33384 lastrcv:32404 lastack:32404 pacing_rate 818264bps delivery_rate 57064bps delivered:4 app_limited busy:676ms rcv_space:14480 rcv_ssthresh:64088 minrtt:202.988\n",
      " tcp ESTAB 0      0      10.0.0.100:58044 12.1.1.66:4000 users:((\"iperf3\",pid=22225,fd=4)) uid:39791 ino:200687 sk:6e cgroup:unreachable:2010c00000052 <->\n",
      "1726389591.4065311726389591.406153 tcp ESTAB 0      162176 10.0.0.100:60476 12.1.1.130:4000 users:((\"iperf3\",pid=22224,fd=5)) timer:(on,204ms,0) uid:39791 ino:200946 sk:70 cgroup:unreachable:2010c00000052 <->\n",
      "1726389591.407363 \t ts sack cubic wscale:12,7 rto:644 rtt:240.283/66.611 ato:40 mss:1448 pmtu:1500 rcvmss:536 advmss:1448 cwnd:10 bytes_sent:162 bytes_acked:163 bytes_received:4 segs_out:9 segs_in:8 data_segs_out:3 data_segs_in:4 send 482098bps lastsnd:33456 lastrcv:32512 lastack:32512 pacing_rate 964192bps delivery_rate 56832bps delivered:4 app_limited busy:676ms rcv_space:14480 rcv_ssthresh:64088 minrtt:203.825                                                   \n",
      " \t ts sack cubic wscale:12,7 rto:440 rtt:236.095/5.203 mss:1448 pmtu:1500 rcvmss:536 advmss:1448 cwnd:10 ssthresh:4 bytes_sent:1395909 bytes_retrans:88328 bytes_acked:1293102 segs_out:967 segs_in:589 data_segs_out:965 send 490650bps lastsnd:236 lastrcv:32876 lastack:236 pacing_rate 588776bps delivery_rate 484920bps delivered:895 busy:32636ms unacked:10 retrans:0/61 reord_seen:1 rcv_space:14480 rcv_ssthresh:64088 notsent:147696 minrtt:135.508\n"
     ]
    },
    {
     "name": "stderr",
     "output_type": "stream",
     "text": [
      "Failed to open cgroup2 by ID\n",
      "Failed to open cgroup2 by ID\n",
      "Failed to open cgroup2 by ID\n",
      "Failed to open cgroup2 by ID\n"
     ]
    },
    {
     "name": "stdout",
     "output_type": "stream",
     "text": [
      "1726389591.7211191726389591.725627 tcp ESTAB 0      0      10.0.0.100:57612 12.1.1.130:4000 users:((\"iperf3\",pid=22224,fd=4)) uid:39791 ino:200688 sk:6f cgroup:unreachable:2010c00000052 <->\n",
      "1726389591.726364 \t ts sack cubic wscale:12,7 rto:832 rtt:283.134/109.099 ato:40 mss:1448 pmtu:1500 rcvmss:536 advmss:1448 cwnd:10 bytes_sent:162 bytes_acked:163 bytes_received:4 segs_out:9 segs_in:8 data_segs_out:3 data_segs_in:4 send 409135bps lastsnd:33704 lastrcv:32724 lastack:32724 pacing_rate 818264bps delivery_rate 57064bps delivered:4 app_limited busy:676ms rcv_space:14480 rcv_ssthresh:64088 minrtt:202.988\n",
      "1726389591.726936 tcp ESTAB 0      130320 10.0.0.100:60476 12.1.1.130:4000 users:((\"iperf3\",pid=22224,fd=5)) timer:(on,364ms,0) uid:39791 ino:200946 sk:70 cgroup:unreachable:2010c00000052 <->\n",
      "1726389591.727414 \t ts sack cubic wscale:12,7 rto:440 rtt:238.001/2.294 mss:1448 pmtu:1500 rcvmss:536 advmss:1448 cwnd:12 ssthresh:4 bytes_sent:1430661 bytes_retrans:88328 bytes_acked:1324958 segs_out:991 segs_in:598 data_segs_out:989 send 584065bps lastsnd:76 lastrcv:33196 lastack:80 pacing_rate 700872bps delivery_rate 578464bps delivered:917 busy:32956ms unacked:12 retrans:0/61 reord_seen:1 rcv_space:14480 rcv_ssthresh:64088 notsent:112944 minrtt:135.508\n",
      " tcp ESTAB 0      379376 10.0.0.100:39064 12.1.1.66:4000 users:((\"iperf3\",pid=22225,fd=5)) timer:(on,244ms,0) uid:39791 ino:200945 sk:71 cgroup:unreachable:2010c00000052 <->\n",
      "1726389591.729819 \t ts sack cubic wscale:12,7 rto:432 rtt:220.26/11.687 mss:1448 pmtu:1500 rcvmss:536 advmss:1448 cwnd:8 ssthresh:4 bytes_sent:2703453 bytes_retrans:114392 bytes_acked:2577478 segs_out:1870 segs_in:1102 data_segs_out:1868 send 420739bps lastsnd:188 lastrcv:33336 lastack:188 pacing_rate 504880bps delivery_rate 393120bps delivered:1782 busy:33064ms unacked:8 retrans:0/79 rcv_space:14480 rcv_ssthresh:64088 notsent:367792 minrtt:73.482\n",
      "1726389591.730467 tcp ESTAB 0      0      10.0.0.100:58044 12.1.1.66:4000 users:((\"iperf3\",pid=22225,fd=4)) uid:39791 ino:200687 sk:6e cgroup:unreachable:2010c00000052 <->\n",
      "1726389591.731038 \t ts sack cubic wscale:12,7 rto:644 rtt:240.283/66.611 ato:40 mss:1448 pmtu:1500 rcvmss:536 advmss:1448 cwnd:10 bytes_sent:162 bytes_acked:163 bytes_received:4 segs_out:9 segs_in:8 data_segs_out:3 data_segs_in:4 send 482098bps lastsnd:33776 lastrcv:32832 lastack:32832 pacing_rate 964192bps delivery_rate 56832bps delivered:4 app_limited busy:676ms rcv_space:14480 rcv_ssthresh:64088 minrtt:203.825                                                      \n"
     ]
    },
    {
     "name": "stderr",
     "output_type": "stream",
     "text": [
      "Failed to open cgroup2 by ID\n",
      "Failed to open cgroup2 by ID\n",
      "Failed to open cgroup2 by ID\n",
      "Failed to open cgroup2 by ID\n"
     ]
    },
    {
     "name": "stdout",
     "output_type": "stream",
     "text": [
      "1726389592.048846 tcp ESTAB 0      0      10.0.0.100:57612 12.1.1.130:4000 users:((\"iperf3\",pid=22224,fd=4)) uid:39791 ino:200688 sk:6f cgroup:unreachable:2010c00000052 <->\n",
      "1726389592.049529 \t ts sack cubic wscale:12,7 rto:832 rtt:283.134/109.099 ato:40 mss:1448 pmtu:1500 rcvmss:536 advmss:1448 cwnd:10 bytes_sent:162 bytes_acked:163 bytes_received:4 segs_out:9 segs_in:8 data_segs_out:3 data_segs_in:4 send 409135bps lastsnd:34032 lastrcv:33052 lastack:33052 pacing_rate 818264bps delivery_rate 57064bps delivered:4 app_limited busy:676ms rcv_space:14480 rcv_ssthresh:64088 minrtt:202.988\n",
      "1726389592.050552 tcp ESTAB 0      243264 10.0.0.100:60476 12.1.1.130:4000 users:((\"iperf3\",pid=22224,fd=5)) timer:(on,272ms,0) uid:39791 ino:200946 sk:70 cgroup:unreachable:2010c00000052 <->\n",
      "1726389592.051107 \t ts sack cubic wscale:12,7 rto:440 rtt:236.872/1.927 mss:1448 pmtu:1500 rcvmss:536 advmss:1448 cwnd:12 ssthresh:4 bytes_sent:1448037 bytes_retrans:88328 bytes_acked:1342334 segs_out:1003 segs_in:603 data_segs_out:1001 send 586849bps lastsnd:168 lastrcv:33524 lastack:172 pacing_rate 704216bps delivery_rate 578000bps delivered:929 busy:33284ms unacked:12 retrans:0/61 reord_seen:1 rcv_space:14480 rcv_ssthresh:64088 notsent:225888 minrtt:135.508\n",
      "1726389592.050154 tcp ESTAB 0      367792 10.0.0.100:39064 12.1.1.66:4000 users:((\"iperf3\",pid=22225,fd=5)) timer:(on,264ms,0) uid:39791 ino:200945 sk:71 cgroup:unreachable:2010c00000052 <->\n",
      "1726389592.053804 \t ts sack cubic wscale:12,7 rto:464 rtt:255.838/50.033 mss:1448 pmtu:1500 rcvmss:536 advmss:1448 cwnd:8 ssthresh:4 bytes_sent:2715037 bytes_retrans:114392 bytes_acked:2589062 segs_out:1878 segs_in:1106 data_segs_out:1876 send 362229bps lastsnd:200 lastrcv:33656 lastack:200 pacing_rate 434672bps delivery_rate 302480bps delivered:1790 busy:33384ms unacked:8 retrans:0/79 rcv_space:14480 rcv_ssthresh:64088 notsent:356208 minrtt:73.482\n",
      "1726389592.054518 tcp ESTAB 0      0      10.0.0.100:58044 12.1.1.66:4000 users:((\"iperf3\",pid=22225,fd=4)) uid:39791 ino:200687 sk:6e cgroup:unreachable:2010c00000052 <->\n",
      "1726389592.055074 \t ts sack cubic wscale:12,7 rto:644 rtt:240.283/66.611 ato:40 mss:1448 pmtu:1500 rcvmss:536 advmss:1448 cwnd:10 bytes_sent:162 bytes_acked:163 bytes_received:4 segs_out:9 segs_in:8 data_segs_out:3 data_segs_in:4 send 482098bps lastsnd:34096 lastrcv:33152 lastack:33152 pacing_rate 964192bps delivery_rate 56832bps delivered:4 app_limited busy:676ms rcv_space:14480 rcv_ssthresh:64088 minrtt:203.825                                                       \n"
     ]
    },
    {
     "name": "stderr",
     "output_type": "stream",
     "text": [
      "Failed to open cgroup2 by ID\n",
      "Failed to open cgroup2 by ID\n",
      "Failed to open cgroup2 by ID\n",
      "Failed to open cgroup2 by ID\n"
     ]
    },
    {
     "name": "stdout",
     "output_type": "stream",
     "text": [
      "1726389592.3689091726389592.371052 tcp ESTAB 0      350416 10.0.0.100:39064 12.1.1.66:4000 users:((\"iperf3\",pid=22225,fd=5)) timer:(on,132ms,0) uid:39791 ino:200945 sk:71 cgroup:unreachable:2010c00000052 <->\n",
      "1726389592.371690 \t ts sack cubic wscale:12,7 rto:448 rtt:243.005/39.141 mss:1448 pmtu:1500 rcvmss:536 advmss:1448 cwnd:8 ssthresh:4 bytes_sent:2732413 bytes_retrans:114392 bytes_acked:2606438 segs_out:1890 segs_in:1112 data_segs_out:1888 send 381358bps lastsnd:48 lastrcv:33980 lastack:48 pacing_rate 457624bps delivery_rate 342424bps delivered:1802 busy:33708ms unacked:8 retrans:0/79 rcv_space:14480 rcv_ssthresh:64088 notsent:338832 minrtt:73.482\n",
      "1726389592.372257 tcp ESTAB 0      0      10.0.0.100:58044 12.1.1.66:4000 users:((\"iperf3\",pid=22225,fd=4)) uid:39791 ino:200687 sk:6e cgroup:unreachable:2010c00000052 <->\n",
      "1726389592.372827 \t ts sack cubic wscale:12,7 rto:644 rtt:240.283/66.611 ato:40 mss:1448 pmtu:1500 rcvmss:536 advmss:1448 cwnd:10 bytes_sent:162 bytes_acked:163 bytes_received:4 segs_out:9 segs_in:8 data_segs_out:3 data_segs_in:4 send 482098bps lastsnd:34420 lastrcv:33476 lastack:33476 pacing_rate 964192bps delivery_rate 56832bps delivered:4 app_limited busy:676ms rcv_space:14480 rcv_ssthresh:64088 minrtt:203.825                                                     \n",
      " tcp ESTAB 0      0      10.0.0.100:57612 12.1.1.130:4000 users:((\"iperf3\",pid=22224,fd=4)) uid:39791 ino:200688 sk:6f cgroup:unreachable:2010c00000052 <->\n",
      "1726389592.374632 \t ts sack cubic wscale:12,7 rto:832 rtt:283.134/109.099 ato:40 mss:1448 pmtu:1500 rcvmss:536 advmss:1448 cwnd:10 bytes_sent:162 bytes_acked:163 bytes_received:4 segs_out:9 segs_in:8 data_segs_out:3 data_segs_in:4 send 409135bps lastsnd:34356 lastrcv:33376 lastack:33376 pacing_rate 818264bps delivery_rate 57064bps delivered:4 app_limited busy:676ms rcv_space:14480 rcv_ssthresh:64088 minrtt:202.988\n",
      "1726389592.375203 tcp ESTAB 0      225888 10.0.0.100:60476 12.1.1.130:4000 users:((\"iperf3\",pid=22224,fd=5)) timer:(on,184ms,0) uid:39791 ino:200946 sk:70 cgroup:unreachable:2010c00000052 <->\n",
      "1726389592.375762 \t ts sack cubic wscale:12,7 rto:440 rtt:237.68/0.983 mss:1448 pmtu:1500 rcvmss:536 advmss:1448 cwnd:15 ssthresh:4 bytes_sent:1469757 bytes_retrans:88328 bytes_acked:1359710 segs_out:1018 segs_in:609 data_segs_out:1016 send 731067bps lastsnd:256 lastrcv:33848 lastack:256 pacing_rate 877272bps delivery_rate 581776bps delivered:941 busy:33608ms unacked:15 retrans:0/61 reord_seen:1 rcv_space:14480 rcv_ssthresh:64088 notsent:204168 minrtt:135.508\n"
     ]
    },
    {
     "name": "stderr",
     "output_type": "stream",
     "text": [
      "Failed to open cgroup2 by ID\n",
      "Failed to open cgroup2 by ID\n",
      "Failed to open cgroup2 by ID\n",
      "Failed to open cgroup2 by ID\n"
     ]
    },
    {
     "name": "stdout",
     "output_type": "stream",
     "text": [
      "1726389592.692291 tcp ESTAB 0      350416 10.0.0.100:39064 12.1.1.66:4000 users:((\"iperf3\",pid=22225,fd=5)) timer:(on,328ms,0) uid:39791 ino:200945 sk:71 cgroup:unreachable:2010c00000052 <->\n",
      "1726389592.692967 \t ts sack cubic wscale:12,7 rto:432 rtt:224.743/26.677 mss:1448 pmtu:1500 rcvmss:536 advmss:1448 cwnd:5 ssthresh:5 bytes_sent:2741101 bytes_retrans:120184 bytes_acked:2606438 segs_out:1896 segs_in:1117 data_segs_out:1894 send 257717bps lastsnd:104 lastrcv:34304 lastack:104 pacing_rate 556664bps delivery_rate 127512bps delivered:1807 busy:34032ms unacked:10 retrans:4/83 lost:4 sacked:5 rcv_space:14480 rcv_ssthresh:64088 notsent:335936 minrtt:73.482\n",
      "1726389592.693551 tcp ESTAB 0      0      10.0.0.100:58044 12.1.1.66:4000 users:((\"iperf3\",pid=22225,fd=4)) uid:39791 ino:200687 sk:6e cgroup:unreachable:2010c00000052 <->\n",
      "1726389592.694079 \t ts sack cubic wscale:12,7 rto:644 rtt:240.283/66.611 ato:40 mss:1448 pmtu:1500 rcvmss:536 advmss:1448 cwnd:10 bytes_sent:162 bytes_acked:163 bytes_received:4 segs_out:9 segs_in:8 data_segs_out:3 data_segs_in:4 send 482098bps lastsnd:34744 lastrcv:33800 lastack:33800 pacing_rate 964192bps delivery_rate 56832bps delivered:4 app_limited busy:676ms rcv_space:14480 rcv_ssthresh:64088 minrtt:203.825                                                                        \n",
      "1726389592.696521 tcp ESTAB 0      0      10.0.0.100:57612 12.1.1.130:4000 users:((\"iperf3\",pid=22224,fd=4)) uid:39791 ino:200688 sk:6f cgroup:unreachable:2010c00000052 <->\n",
      "1726389592.697183 \t ts sack cubic wscale:12,7 rto:832 rtt:283.134/109.099 ato:40 mss:1448 pmtu:1500 rcvmss:536 advmss:1448 cwnd:10 bytes_sent:162 bytes_acked:163 bytes_received:4 segs_out:9 segs_in:8 data_segs_out:3 data_segs_in:4 send 409135bps lastsnd:34672 lastrcv:33692 lastack:33692 pacing_rate 818264bps delivery_rate 57064bps delivered:4 app_limited busy:676ms rcv_space:14480 rcv_ssthresh:64088 minrtt:202.988\n",
      "1726389592.697726 tcp ESTAB 0      220096 10.0.0.100:60476 12.1.1.130:4000 users:((\"iperf3\",pid=22224,fd=5)) timer:(on,420ms,0) uid:39791 ino:200946 sk:70 cgroup:unreachable:2010c00000052 <->\n",
      "1726389592.698926 \t ts sack cubic wscale:12,7 rto:452 rtt:248.196/18.711 mss:1448 pmtu:1500 rcvmss:536 advmss:1448 cwnd:5 ssthresh:10 bytes_sent:1481341 bytes_retrans:92672 bytes_acked:1365502 segs_out:1026 segs_in:614 data_segs_out:1024 send 233364bps lastsnd:32 lastrcv:34164 lastack:32 pacing_rate 896112bps delivery_rate 114632bps delivered:948 busy:33924ms unacked:16 retrans:3/64 lost:11 sacked:3 reord_seen:1 rcv_space:14480 rcv_ssthresh:64088 notsent:196928 minrtt:135.508\n"
     ]
    },
    {
     "name": "stderr",
     "output_type": "stream",
     "text": [
      "Failed to open cgroup2 by ID\n",
      "Failed to open cgroup2 by ID\n",
      "Failed to open cgroup2 by ID\n",
      "Failed to open cgroup2 by ID\n"
     ]
    },
    {
     "name": "stdout",
     "output_type": "stream",
     "text": [
      "1726389593.0126171726389593.015859 tcp ESTAB 0      524176 10.0.0.100:39064 12.1.1.66:4000 users:((\"iperf3\",pid=22225,fd=5)) timer:(on,404ms,0) uid:39791 ino:200945 sk:71 cgroup:unreachable:2010c00000052 <->\n",
      "1726389593.016499 \t ts sack cubic wscale:12,7 rto:424 rtt:218.147/18.252 mss:1448 pmtu:1500 rcvmss:536 advmss:1448 cwnd:8 ssthresh:5 bytes_sent:2759925 bytes_retrans:120184 bytes_acked:2628158 segs_out:1909 segs_in:1125 data_segs_out:1907 send 424814bps lastsnd:20 lastrcv:34628 lastack:20 pacing_rate 509776bps delivery_rate 282280bps delivered:1817 busy:34356ms unacked:8 retrans:0/83 rcv_space:14480 rcv_ssthresh:64088 notsent:512592 minrtt:73.482\n",
      "1726389593.017148 tcp ESTAB 0      0      10.0.0.100:58044 12.1.1.66:4000 users:((\"iperf3\",pid=22225,fd=4)) uid:39791 ino:200687 sk:6e cgroup:unreachable:2010c00000052 <->\n",
      "1726389593.017618 \t ts sack cubic wscale:12,7 rto:644 rtt:240.283/66.611 ato:40 mss:1448 pmtu:1500 rcvmss:536 advmss:1448 cwnd:10 bytes_sent:162 bytes_acked:163 bytes_received:4 segs_out:9 segs_in:8 data_segs_out:3 data_segs_in:4 send 482098bps lastsnd:35068 lastrcv:34124 lastack:34124 pacing_rate 964192bps delivery_rate 56832bps delivered:4 app_limited busy:676ms rcv_space:14480 rcv_ssthresh:64088 minrtt:203.825                                                     \n",
      " tcp ESTAB 0      0      10.0.0.100:57612 12.1.1.130:4000 users:((\"iperf3\",pid=22224,fd=4)) uid:39791 ino:200688 sk:6f cgroup:unreachable:2010c00000052 <->\n",
      "1726389593.020089 \t ts sack cubic wscale:12,7 rto:832 rtt:283.134/109.099 ato:40 mss:1448 pmtu:1500 rcvmss:536 advmss:1448 cwnd:10 bytes_sent:162 bytes_acked:163 bytes_received:4 segs_out:9 segs_in:8 data_segs_out:3 data_segs_in:4 send 409135bps lastsnd:34992 lastrcv:34012 lastack:34012 pacing_rate 818264bps delivery_rate 57064bps delivered:4 app_limited busy:676ms rcv_space:14480 rcv_ssthresh:64088 minrtt:202.988\n",
      "1726389593.020651 tcp ESTAB 0      212856 10.0.0.100:60476 12.1.1.130:4000 users:((\"iperf3\",pid=22224,fd=5)) timer:(on,404ms,0) uid:39791 ino:200946 sk:70 cgroup:unreachable:2010c00000052 <->\n",
      "1726389593.021202 \t ts sack cubic wscale:12,7 rto:448 rtt:247.564/36.292 mss:1448 pmtu:1500 rcvmss:536 advmss:1448 cwnd:8 ssthresh:10 bytes_sent:1495821 bytes_retrans:104256 bytes_acked:1372742 segs_out:1036 segs_in:621 data_segs_out:1034 send 374336bps lastsnd:44 lastrcv:34484 lastack:44 pacing_rate 617648bps delivery_rate 285152bps delivered:955 busy:34244ms unacked:13 retrans:6/72 lost:6 sacked:5 reord_seen:1 rcv_space:14480 rcv_ssthresh:64088 notsent:194032 minrtt:135.508\n"
     ]
    },
    {
     "name": "stderr",
     "output_type": "stream",
     "text": [
      "Failed to open cgroup2 by ID\n",
      "Failed to open cgroup2 by ID\n",
      "Failed to open cgroup2 by ID\n",
      "Failed to open cgroup2 by ID\n"
     ]
    },
    {
     "name": "stdout",
     "output_type": "stream",
     "text": [
      "1726389593.337170 tcp ESTAB 0      512592 10.0.0.100:39064 12.1.1.66:4000 users:((\"iperf3\",pid=22225,fd=5)) timer:(on,328ms,0) uid:39791 ino:200945 sk:71 cgroup:unreachable:2010c00000052 <->\n",
      "1726389593.337863 \t ts sack cubic wscale:12,7 rto:428 rtt:225.946/15.915 mss:1448 pmtu:1500 rcvmss:536 advmss:1448 cwnd:8 ssthresh:5 bytes_sent:2771509 bytes_retrans:120184 bytes_acked:2639742 segs_out:1917 segs_in:1129 data_segs_out:1915 send 410151bps lastsnd:100 lastrcv:34948 lastack:100 pacing_rate 492176bps delivery_rate 390792bps delivered:1825 busy:34676ms unacked:8 retrans:0/83 rcv_space:14480 rcv_ssthresh:64088 notsent:501008 minrtt:73.482\n",
      "1726389593.338548 tcp ESTAB 0      0      10.0.0.100:58044 12.1.1.66:4000 users:((\"iperf3\",pid=22225,fd=4)) uid:39791 ino:200687 sk:6e cgroup:unreachable:2010c00000052 <->\n",
      "1726389593.339094 \t ts sack cubic wscale:12,7 rto:644 rtt:240.283/66.611 ato:40 mss:1448 pmtu:1500 rcvmss:536 advmss:1448 cwnd:10 bytes_sent:162 bytes_acked:163 bytes_received:4 segs_out:9 segs_in:8 data_segs_out:3 data_segs_in:4 send 482098bps lastsnd:35388 lastrcv:34444 lastack:34444 pacing_rate 964192bps delivery_rate 56832bps delivered:4 app_limited busy:676ms rcv_space:14480 rcv_ssthresh:64088 minrtt:203.825                                                       \n",
      "1726389593.341510 tcp ESTAB 0      0      10.0.0.100:57612 12.1.1.130:4000 users:((\"iperf3\",pid=22224,fd=4)) uid:39791 ino:200688 sk:6f cgroup:unreachable:2010c00000052 <->\n",
      "1726389593.342165 \t ts sack cubic wscale:12,7 rto:832 rtt:283.134/109.099 ato:40 mss:1448 pmtu:1500 rcvmss:536 advmss:1448 cwnd:10 bytes_sent:162 bytes_acked:163 bytes_received:4 segs_out:9 segs_in:8 data_segs_out:3 data_segs_in:4 send 409135bps lastsnd:35316 lastrcv:34336 lastack:34336 pacing_rate 818264bps delivery_rate 57064bps delivered:4 app_limited busy:676ms rcv_space:14480 rcv_ssthresh:64088 minrtt:202.988\n",
      "1726389593.342925 tcp ESTAB 0      185344 10.0.0.100:60476 12.1.1.130:4000 users:((\"iperf3\",pid=22224,fd=5)) timer:(on,236ms,0) uid:39791 ino:200946 sk:70 cgroup:unreachable:2010c00000052 <->\n",
      "1726389593.344008 \t ts sack cubic wscale:12,7 rto:400 rtt:196.592/27.57 mss:1448 pmtu:1500 rcvmss:536 advmss:1448 cwnd:11 ssthresh:10 bytes_sent:1518989 bytes_retrans:104256 bytes_acked:1400254 segs_out:1052 segs_in:631 data_segs_out:1050 send 648165bps lastsnd:64 lastrcv:34808 lastack:64 pacing_rate 777792bps delivery_rate 569168bps delivered:969 busy:34568ms unacked:10 retrans:0/72 reord_seen:1 rcv_space:14480 rcv_ssthresh:64088 notsent:170864 minrtt:102.64\n"
     ]
    },
    {
     "name": "stderr",
     "output_type": "stream",
     "text": [
      "Failed to open cgroup2 by ID\n",
      "Failed to open cgroup2 by ID\n",
      "Failed to open cgroup2 by ID\n",
      "Failed to open cgroup2 by ID\n"
     ]
    },
    {
     "name": "stdout",
     "output_type": "stream",
     "text": [
      "1726389593.6600831726389593.660827 tcp ESTAB 0      501008 10.0.0.100:39064 12.1.1.66:4000 users:((\"iperf3\",pid=22225,fd=5)) timer:(on,260ms,0) uid:39791 ino:200945 sk:71 cgroup:unreachable:2010c00000052 <->\n",
      "1726389593.661472 \t ts sack cubic wscale:12,7 rto:436 rtt:231.712/12.499 mss:1448 pmtu:1500 rcvmss:536 advmss:1448 cwnd:8 ssthresh:5 bytes_sent:2783093 bytes_retrans:120184 bytes_acked:2651326 segs_out:1925 segs_in:1133 data_segs_out:1923 send 399945bps lastsnd:176 lastrcv:35264 lastack:176 pacing_rate 479928bps delivery_rate 385856bps delivered:1833 busy:34992ms unacked:8 retrans:0/83 rcv_space:14480 rcv_ssthresh:64088 notsent:489424 minrtt:73.482\n",
      "1726389593.662015 tcp ESTAB 0      0      10.0.0.100:58044 12.1.1.66:4000 users:((\"iperf3\",pid=22225,fd=4)) uid:39791 ino:200687 sk:6e cgroup:unreachable:2010c00000052 <->\n",
      "1726389593.662687 tcp ESTAB 0      0      10.0.0.100:57612 12.1.1.130:4000 users:((\"iperf3\",pid=22224,fd=4)) uid:39791 ino:200688 sk:6f cgroup:unreachable:2010c00000052 <->\n",
      "1726389593.663305 \t ts sack cubic wscale:12,7 rto:644 rtt:240.283/66.611 ato:40 mss:1448 pmtu:1500 rcvmss:536 advmss:1448 cwnd:10 bytes_sent:162 bytes_acked:163 bytes_received:4 segs_out:9 segs_in:8 data_segs_out:3 data_segs_in:4 send 482098bps lastsnd:35704 lastrcv:34760 lastack:34760 pacing_rate 964192bps delivery_rate 56832bps delivered:4 app_limited busy:676ms rcv_space:14480 rcv_ssthresh:64088 minrtt:203.825                                                       \n",
      " \t ts sack cubic wscale:12,7 rto:832 rtt:283.134/109.099 ato:40 mss:1448 pmtu:1500 rcvmss:536 advmss:1448 cwnd:10 bytes_sent:162 bytes_acked:163 bytes_received:4 segs_out:9 segs_in:8 data_segs_out:3 data_segs_in:4 send 409135bps lastsnd:35632 lastrcv:34652 lastack:34652 pacing_rate 818264bps delivery_rate 57064bps delivered:4 app_limited busy:676ms rcv_space:14480 rcv_ssthresh:64088 minrtt:202.988\n",
      "1726389593.665631 tcp ESTAB 0      149144 10.0.0.100:60476 12.1.1.130:4000 users:((\"iperf3\",pid=22224,fd=5)) timer:(on,272ms,0) uid:39791 ino:200946 sk:70 cgroup:unreachable:2010c00000052 <->\n",
      "1726389593.666189 \t ts sack cubic wscale:12,7 rto:376 rtt:173.274/5.51 mss:1448 pmtu:1500 rcvmss:536 advmss:1448 cwnd:14 ssthresh:10 bytes_sent:1560981 bytes_retrans:104256 bytes_acked:1436454 segs_out:1081 segs_in:644 data_segs_out:1079 send 935951bps lastsnd:4 lastrcv:35124 lastack:4 pacing_rate 1123136bps delivery_rate 882160bps delivered:994 busy:34884ms unacked:14 retrans:0/72 reord_seen:1 rcv_space:14480 rcv_ssthresh:64088 notsent:128872 minrtt:102.335\n"
     ]
    },
    {
     "name": "stderr",
     "output_type": "stream",
     "text": [
      "Failed to open cgroup2 by ID\n",
      "Failed to open cgroup2 by ID\n",
      "Failed to open cgroup2 by ID\n",
      "Failed to open cgroup2 by ID\n"
     ]
    },
    {
     "name": "stdout",
     "output_type": "stream",
     "text": [
      "1726389593.979868 tcp ESTAB 0      477840 10.0.0.100:39064 12.1.1.66:4000 users:((\"iperf3\",pid=22225,fd=5)) timer:(on,360ms,0) uid:39791 ino:200945 sk:71 cgroup:unreachable:2010c00000052 <->\n",
      "1726389593.982598 \t ts sack cubic wscale:12,7 rto:424 rtt:221.859/10.066 mss:1448 pmtu:1500 rcvmss:536 advmss:1448 cwnd:8 ssthresh:5 bytes_sent:2806261 bytes_retrans:120184 bytes_acked:2674494 segs_out:1941 segs_in:1141 data_segs_out:1939 send 417707bps lastsnd:64 lastrcv:35596 lastack:68 pacing_rate 501240bps delivery_rate 386912bps delivered:1849 busy:35324ms unacked:8 retrans:0/83 rcv_space:14480 rcv_ssthresh:64088 notsent:466256 minrtt:73.482\n",
      "1726389593.983174 tcp ESTAB 0      0      10.0.0.100:58044 12.1.1.66:4000 users:((\"iperf3\",pid=22225,fd=4)) uid:39791 ino:200687 sk:6e cgroup:unreachable:2010c00000052 <->\n",
      "1726389593.9837871726389593.984293 \t ts sack cubic wscale:12,7 rto:644 rtt:240.283/66.611 ato:40 mss:1448 pmtu:1500 rcvmss:536 advmss:1448 cwnd:10 bytes_sent:162 bytes_acked:163 bytes_received:4 segs_out:9 segs_in:8 data_segs_out:3 data_segs_in:4 send 482098bps lastsnd:36036 lastrcv:35092 lastack:35092 pacing_rate 964192bps delivery_rate 56832bps delivered:4 app_limited busy:676ms rcv_space:14480 rcv_ssthresh:64088 minrtt:203.825                                                     \n",
      " tcp ESTAB 0      0      10.0.0.100:57612 12.1.1.130:4000 users:((\"iperf3\",pid=22224,fd=4)) uid:39791 ino:200688 sk:6f cgroup:unreachable:2010c00000052 <->\n",
      "1726389593.986789 \t ts sack cubic wscale:12,7 rto:832 rtt:283.134/109.099 ato:40 mss:1448 pmtu:1500 rcvmss:536 advmss:1448 cwnd:10 bytes_sent:162 bytes_acked:163 bytes_received:4 segs_out:9 segs_in:8 data_segs_out:3 data_segs_in:4 send 409135bps lastsnd:35964 lastrcv:34984 lastack:34984 pacing_rate 818264bps delivery_rate 57064bps delivered:4 app_limited busy:676ms rcv_space:14480 rcv_ssthresh:64088 minrtt:202.988\n",
      "1726389593.987395 tcp ESTAB 0      134664 10.0.0.100:60476 12.1.1.130:4000 users:((\"iperf3\",pid=22224,fd=5)) timer:(on,364ms,0) uid:39791 ino:200946 sk:70 cgroup:unreachable:2010c00000052 <->\n",
      "1726389593.987940 \t ts sack cubic wscale:12,7 rto:392 rtt:191.558/32.647 mss:1448 pmtu:1500 rcvmss:536 advmss:1448 cwnd:9 ssthresh:9 bytes_sent:1579805 bytes_retrans:108600 bytes_acked:1450934 segs_out:1094 segs_in:652 data_segs_out:1092 send 544253bps lastsnd:28 lastrcv:35456 lastack:28 pacing_rate 1015936bps delivery_rate 484632bps delivered:1009 busy:35216ms unacked:14 retrans:3/75 lost:3 sacked:5 reord_seen:1 rcv_space:14480 rcv_ssthresh:64088 notsent:114392 minrtt:102.335\n"
     ]
    },
    {
     "name": "stderr",
     "output_type": "stream",
     "text": [
      "Failed to open cgroup2 by ID\n",
      "Failed to open cgroup2 by ID\n",
      "Failed to open cgroup2 by ID\n",
      "Failed to open cgroup2 by ID\n"
     ]
    },
    {
     "name": "stdout",
     "output_type": "stream",
     "text": [
      "1726389594.299988 tcp ESTAB 0      0      10.0.0.100:57612 12.1.1.130:4000 users:((\"iperf3\",pid=22224,fd=4)) uid:39791 ino:200688 sk:6f cgroup:unreachable:2010c00000052 <->\n",
      "1726389594.302566 \t ts sack cubic wscale:12,7 rto:832 rtt:283.134/109.099 ato:40 mss:1448 pmtu:1500 rcvmss:536 advmss:1448 cwnd:10 bytes_sent:162 bytes_acked:163 bytes_received:4 segs_out:9 segs_in:8 data_segs_out:3 data_segs_in:4 send 409135bps lastsnd:36280 lastrcv:35300 lastack:35300 pacing_rate 818264bps delivery_rate 57064bps delivered:4 app_limited busy:676ms rcv_space:14480 rcv_ssthresh:64088 minrtt:202.988\n",
      "1726389594.303145 tcp ESTAB 0      228784 10.0.0.100:60476 12.1.1.130:4000 users:((\"iperf3\",pid=22224,fd=5)) timer:(on,344ms,0) uid:39791 ino:200946 sk:70 cgroup:unreachable:2010c00000052 <->\n",
      "1726389594.303828 \t ts sack cubic wscale:12,7 rto:408 rtt:204.735/39.763 mss:1448 pmtu:1500 rcvmss:536 advmss:1448 cwnd:10 ssthresh:9 bytes_sent:1610213 bytes_retrans:108600 bytes_acked:1487134 segs_out:1115 segs_in:661 data_segs_out:1113 send 565805bps lastrcv:35772 pacing_rate 678960bps delivery_rate 611008bps delivered:1029 busy:35532ms unacked:10 retrans:0/75 reord_seen:1 rcv_space:14480 rcv_ssthresh:64088 notsent:214304 minrtt:102.335\n",
      "1726389594.306481 tcp ESTAB 0      466256 10.0.0.100:39064 12.1.1.66:4000 users:((\"iperf3\",pid=22225,fd=5)) timer:(on,288ms,0) uid:39791 ino:200945 sk:71 cgroup:unreachable:2010c00000052 <->\n",
      "1726389594.307122 \t ts sack cubic wscale:12,7 rto:432 rtt:229.237/12.755 mss:1448 pmtu:1500 rcvmss:536 advmss:1448 cwnd:8 ssthresh:5 bytes_sent:2817845 bytes_retrans:120184 bytes_acked:2686078 segs_out:1949 segs_in:1145 data_segs_out:1947 send 404263bps lastsnd:144 lastrcv:35916 lastack:148 pacing_rate 485112bps delivery_rate 386168bps delivered:1857 busy:35644ms unacked:8 retrans:0/83 rcv_space:14480 rcv_ssthresh:64088 notsent:454672 minrtt:73.482\n",
      "1726389594.307685 tcp ESTAB 0      0      10.0.0.100:58044 12.1.1.66:4000 users:((\"iperf3\",pid=22225,fd=4)) uid:39791 ino:200687 sk:6e cgroup:unreachable:2010c00000052 <->\n",
      "1726389594.308229 \t ts sack cubic wscale:12,7 rto:644 rtt:240.283/66.611 ato:40 mss:1448 pmtu:1500 rcvmss:536 advmss:1448 cwnd:10 bytes_sent:162 bytes_acked:163 bytes_received:4 segs_out:9 segs_in:8 data_segs_out:3 data_segs_in:4 send 482098bps lastsnd:36356 lastrcv:35412 lastack:35412 pacing_rate 964192bps delivery_rate 56832bps delivered:4 app_limited busy:676ms rcv_space:14480 rcv_ssthresh:64088 minrtt:203.825                                                       \n"
     ]
    },
    {
     "name": "stderr",
     "output_type": "stream",
     "text": [
      "Failed to open cgroup2 by ID\n",
      "Failed to open cgroup2 by ID\n",
      "Failed to open cgroup2 by ID\n",
      "Failed to open cgroup2 by ID\n"
     ]
    },
    {
     "name": "stdout",
     "output_type": "stream",
     "text": [
      "1726389594.6217811726389594.624716 tcp ESTAB 0      443088 10.0.0.100:39064 12.1.1.66:4000 users:((\"iperf3\",pid=22225,fd=5)) timer:(on,408ms,0) uid:39791 ino:200945 sk:71 cgroup:unreachable:2010c00000052 <->\n",
      "1726389594.625407 tcp ESTAB 0      0      10.0.0.100:57612 12.1.1.130:4000 users:((\"iperf3\",pid=22224,fd=4)) uid:39791 ino:200688 sk:6f cgroup:unreachable:2010c00000052 <->\n",
      "1726389594.625995 \t ts sack cubic wscale:12,7 rto:428 rtt:226.604/13.633 mss:1448 pmtu:1500 rcvmss:536 advmss:1448 cwnd:8 ssthresh:5 bytes_sent:2841013 bytes_retrans:120184 bytes_acked:2709246 segs_out:1965 segs_in:1153 data_segs_out:1963 send 408960bps lastsnd:20 lastrcv:36232 lastack:20 pacing_rate 490744bps delivery_rate 390864bps delivered:1873 busy:35960ms unacked:8 retrans:0/83 rcv_space:14480 rcv_ssthresh:64088 notsent:431504 minrtt:73.482\n",
      "1726389594.626646 \t ts sack cubic wscale:12,7 rto:832 rtt:283.134/109.099 ato:40 mss:1448 pmtu:1500 rcvmss:536 advmss:1448 cwnd:10 bytes_sent:162 bytes_acked:163 bytes_received:4 segs_out:9 segs_in:8 data_segs_out:3 data_segs_in:4 send 409135bps lastsnd:36608 lastrcv:35628 lastack:35628 pacing_rate 818264bps delivery_rate 57064bps delivered:4 app_limited busy:676ms rcv_space:14480 rcv_ssthresh:64088 minrtt:202.988\n",
      "1726389594.627218 tcp ESTAB 0      0      10.0.0.100:58044 12.1.1.66:4000 users:((\"iperf3\",pid=22225,fd=4)) uid:39791 ino:200687 sk:6e cgroup:unreachable:2010c00000052 <->\n",
      "1726389594.627771 tcp ESTAB 0      208512 10.0.0.100:60476 12.1.1.130:4000 users:((\"iperf3\",pid=22224,fd=5)) timer:(on,232ms,0) uid:39791 ino:200946 sk:70 cgroup:unreachable:2010c00000052 <->\n",
      "1726389594.628328 \t ts sack cubic wscale:12,7 rto:644 rtt:240.283/66.611 ato:40 mss:1448 pmtu:1500 rcvmss:536 advmss:1448 cwnd:10 bytes_sent:162 bytes_acked:163 bytes_received:4 segs_out:9 segs_in:8 data_segs_out:3 data_segs_in:4 send 482098bps lastsnd:36672 lastrcv:35728 lastack:35728 pacing_rate 964192bps delivery_rate 56832bps delivered:4 app_limited busy:676ms rcv_space:14480 rcv_ssthresh:64088 minrtt:203.825                                                     \n",
      " \t ts sack cubic wscale:12,7 rto:388 rtt:187.014/23.924 mss:1448 pmtu:1500 rcvmss:536 advmss:1448 cwnd:11 ssthresh:9 bytes_sent:1631933 bytes_retrans:108600 bytes_acked:1507406 segs_out:1130 segs_in:668 data_segs_out:1128 send 681361bps lastsnd:56 lastrcv:36100 lastack:56 pacing_rate 817624bps delivery_rate 678928bps delivered:1043 busy:35860ms unacked:11 retrans:0/75 reord_seen:1 rcv_space:14480 rcv_ssthresh:64088 notsent:192584 minrtt:102.335\n"
     ]
    },
    {
     "name": "stderr",
     "output_type": "stream",
     "text": [
      "Failed to open cgroup2 by ID\n",
      "Failed to open cgroup2 by ID\n",
      "Failed to open cgroup2 by ID\n",
      "Failed to open cgroup2 by ID\n"
     ]
    },
    {
     "name": "stdout",
     "output_type": "stream",
     "text": [
      "1726389594.9450401726389594.947229 tcp ESTAB 0      0      10.0.0.100:57612 12.1.1.130:4000 users:((\"iperf3\",pid=22224,fd=4)) uid:39791 ino:200688 sk:6f cgroup:unreachable:2010c00000052 <->\n",
      "1726389594.947897 \t ts sack cubic wscale:12,7 rto:832 rtt:283.134/109.099 ato:40 mss:1448 pmtu:1500 rcvmss:536 advmss:1448 cwnd:10 bytes_sent:162 bytes_acked:163 bytes_received:4 segs_out:9 segs_in:8 data_segs_out:3 data_segs_in:4 send 409135bps lastsnd:36928 lastrcv:35948 lastack:35948 pacing_rate 818264bps delivery_rate 57064bps delivered:4 app_limited busy:676ms rcv_space:14480 rcv_ssthresh:64088 minrtt:202.988\n",
      "1726389594.948456 tcp ESTAB 0      186792 10.0.0.100:60476 12.1.1.130:4000 users:((\"iperf3\",pid=22224,fd=5)) timer:(on,248ms,0) uid:39791 ino:200946 sk:70 cgroup:unreachable:2010c00000052 <->\n",
      "1726389594.948987 tcp ESTAB 0      431504 10.0.0.100:39064 12.1.1.66:4000 users:((\"iperf3\",pid=22225,fd=5)) timer:(on,280ms,0) uid:39791 ino:200945 sk:71 cgroup:unreachable:2010c00000052 <->\n",
      "1726389594.949545 \t ts sack cubic wscale:12,7 rto:380 rtt:178.516/23.88 mss:1448 pmtu:1500 rcvmss:536 advmss:1448 cwnd:7 ssthresh:7 bytes_sent:1650757 bytes_retrans:111496 bytes_acked:1529126 segs_out:1143 segs_in:677 data_segs_out:1141 send 454234bps lastsnd:68 lastrcv:36420 lastack:68 pacing_rate 545072bps delivery_rate 610016bps delivered:1058 busy:36180ms unacked:7 retrans:0/77 reord_seen:1 rcv_space:14480 rcv_ssthresh:64088 notsent:176656 minrtt:102.335\n",
      " \t ts sack cubic wscale:12,7 rto:420 rtt:218.04/14.04 mss:1448 pmtu:1500 rcvmss:536 advmss:1448 cwnd:10 ssthresh:5 bytes_sent:2855493 bytes_retrans:120184 bytes_acked:2720830 segs_out:1975 segs_in:1157 data_segs_out:1973 send 531279bps lastsnd:140 lastrcv:36560 lastack:140 pacing_rate 637528bps delivery_rate 390864bps delivered:1881 busy:36288ms unacked:10 retrans:0/83 rcv_space:14480 rcv_ssthresh:64088 notsent:417024 minrtt:73.482\n",
      "1726389594.950527 tcp ESTAB 0      0      10.0.0.100:58044 12.1.1.66:4000 users:((\"iperf3\",pid=22225,fd=4)) uid:39791 ino:200687 sk:6e cgroup:unreachable:2010c00000052 <->\n",
      "1726389594.952577 \t ts sack cubic wscale:12,7 rto:644 rtt:240.283/66.611 ato:40 mss:1448 pmtu:1500 rcvmss:536 advmss:1448 cwnd:10 bytes_sent:162 bytes_acked:163 bytes_received:4 segs_out:9 segs_in:8 data_segs_out:3 data_segs_in:4 send 482098bps lastsnd:37000 lastrcv:36056 lastack:36056 pacing_rate 964192bps delivery_rate 56832bps delivered:4 app_limited busy:676ms rcv_space:14480 rcv_ssthresh:64088 minrtt:203.825                                                       \n"
     ]
    },
    {
     "name": "stderr",
     "output_type": "stream",
     "text": [
      "Failed to open cgroup2 by ID\n",
      "Failed to open cgroup2 by ID\n",
      "Failed to open cgroup2 by ID\n",
      "Failed to open cgroup2 by ID\n"
     ]
    },
    {
     "name": "stdout",
     "output_type": "stream",
     "text": [
      "1726389595.2728241726389595.276593 tcp ESTAB 0      402544 10.0.0.100:39064 12.1.1.66:4000 users:((\"iperf3\",pid=22225,fd=5)) timer:(on,404ms,0) uid:39791 ino:200945 sk:71 cgroup:unreachable:2010c00000052 <->\n",
      "1726389595.276984 \t ts sack cubic wscale:12,7 rto:416 rtt:215.84/15.481 mss:1448 pmtu:1500 rcvmss:536 advmss:1448 cwnd:10 ssthresh:5 bytes_sent:2884453 bytes_retrans:120184 bytes_acked:2749790 segs_out:1995 segs_in:1167 data_segs_out:1993 send 536694bps lastsnd:12 lastrcv:36876 lastack:16 pacing_rate 644024bps delivery_rate 484384bps delivered:1901 busy:36604ms unacked:10 retrans:0/83 rcv_space:14480 rcv_ssthresh:64088 notsent:388064 minrtt:73.482\n",
      "1726389595.277094 tcp ESTAB 0      0      10.0.0.100:58044 12.1.1.66:4000 users:((\"iperf3\",pid=22225,fd=4)) uid:39791 ino:200687 sk:6e cgroup:unreachable:2010c00000052 <->\n",
      "1726389595.277146 \t ts sack cubic wscale:12,7 rto:644 rtt:240.283/66.611 ato:40 mss:1448 pmtu:1500 rcvmss:536 advmss:1448 cwnd:10 bytes_sent:162 bytes_acked:163 bytes_received:4 segs_out:9 segs_in:8 data_segs_out:3 data_segs_in:4 send 482098bps lastsnd:37316 lastrcv:36372 lastack:36372 pacing_rate 964192bps delivery_rate 56832bps delivered:4 app_limited busy:676ms rcv_space:14480 rcv_ssthresh:64088 minrtt:203.825                                                      \n",
      " tcp ESTAB 0      0      10.0.0.100:57612 12.1.1.130:4000 users:((\"iperf3\",pid=22224,fd=4)) uid:39791 ino:200688 sk:6f cgroup:unreachable:2010c00000052 <->\n",
      "1726389595.273589 \t ts sack cubic wscale:12,7 rto:832 rtt:283.134/109.099 ato:40 mss:1448 pmtu:1500 rcvmss:536 advmss:1448 cwnd:10 bytes_sent:162 bytes_acked:163 bytes_received:4 segs_out:9 segs_in:8 data_segs_out:3 data_segs_in:4 send 409135bps lastsnd:37252 lastrcv:36272 lastack:36272 pacing_rate 818264bps delivery_rate 57064bps delivered:4 app_limited busy:676ms rcv_space:14480 rcv_ssthresh:64088 minrtt:202.988\n",
      "1726389595.273670 tcp ESTAB 0      176656 10.0.0.100:60476 12.1.1.130:4000 users:((\"iperf3\",pid=22224,fd=5)) timer:(on,176ms,0) uid:39791 ino:200946 sk:70 cgroup:unreachable:2010c00000052 <->\n",
      "1726389595.273724 \t ts sack cubic wscale:12,7 rto:396 rtt:195.754/26.549 mss:1448 pmtu:1500 rcvmss:536 advmss:1448 cwnd:9 ssthresh:7 bytes_sent:1663789 bytes_retrans:111496 bytes_acked:1539262 segs_out:1152 segs_in:681 data_segs_out:1150 send 532587bps lastsnd:188 lastrcv:36744 lastack:188 pacing_rate 639096bps delivery_rate 396224bps delivered:1065 busy:36504ms unacked:9 retrans:0/77 reord_seen:1 rcv_space:14480 rcv_ssthresh:64088 notsent:163624 minrtt:102.335\n"
     ]
    },
    {
     "name": "stderr",
     "output_type": "stream",
     "text": [
      "Failed to open cgroup2 by ID\n",
      "Failed to open cgroup2 by ID\n",
      "Failed to open cgroup2 by ID\n",
      "Failed to open cgroup2 by ID\n"
     ]
    },
    {
     "name": "stdout",
     "output_type": "stream",
     "text": [
      "1726389595.6475371726389595.646140 tcp ESTAB 0      0      10.0.0.100:57612 12.1.1.130:4000 users:((\"iperf3\",pid=22224,fd=4)) uid:39791 ino:200688 sk:6f cgroup:unreachable:2010c00000052 <->\n",
      "1726389595.648509 \t ts sack cubic wscale:12,7 rto:832 rtt:283.134/109.099 ato:40 mss:1448 pmtu:1500 rcvmss:536 advmss:1448 cwnd:10 bytes_sent:162 bytes_acked:163 bytes_received:4 segs_out:9 segs_in:8 data_segs_out:3 data_segs_in:4 send 409135bps lastsnd:37620 lastrcv:36640 lastack:36640 pacing_rate 818264bps delivery_rate 57064bps delivered:4 app_limited busy:676ms rcv_space:14480 rcv_ssthresh:64088 minrtt:202.988\n",
      "1726389595.649089 tcp ESTAB 0      160728 10.0.0.100:60476 12.1.1.130:4000 users:((\"iperf3\",pid=22224,fd=5)) timer:(on,064ms,0) uid:39791 ino:200946 sk:70 cgroup:unreachable:2010c00000052 <->\n",
      "1726389595.649645 \t ts sack cubic wscale:12,7 rto:412 rtt:208.102/19.961 mss:1448 pmtu:1500 rcvmss:536 advmss:1448 cwnd:10 ssthresh:7 bytes_sent:1681165 bytes_retrans:111496 bytes_acked:1555190 segs_out:1164 segs_in:686 data_segs_out:1162 send 556650bps lastsnd:148 lastrcv:37112 lastack:148 pacing_rate 667976bps delivery_rate 390936bps delivered:1076 busy:36872ms unacked:10 retrans:0/77 reord_seen:1 rcv_space:14480 rcv_ssthresh:64088 notsent:146248 minrtt:102.335\n",
      " tcp ESTAB 0      388064 10.0.0.100:39064 12.1.1.66:4000 users:((\"iperf3\",pid=22225,fd=5)) timer:(on,276ms,0) uid:39791 ino:200945 sk:71 cgroup:unreachable:2010c00000052 <->\n",
      "1726389595.652086 \t ts sack cubic wscale:12,7 rto:428 rtt:226.356/15.458 mss:1448 pmtu:1500 rcvmss:536 advmss:1448 cwnd:10 ssthresh:5 bytes_sent:2898933 bytes_retrans:120184 bytes_acked:2764270 segs_out:2005 segs_in:1172 data_segs_out:2003 send 511760bps lastsnd:152 lastrcv:37252 lastack:152 pacing_rate 614104bps delivery_rate 487016bps delivered:1911 busy:36980ms unacked:10 retrans:0/83 rcv_space:14480 rcv_ssthresh:64088 notsent:373584 minrtt:73.482\n",
      "1726389595.652662 tcp ESTAB 0      0      10.0.0.100:58044 12.1.1.66:4000 users:((\"iperf3\",pid=22225,fd=4)) uid:39791 ino:200687 sk:6e cgroup:unreachable:2010c00000052 <->\n",
      "1726389595.653213 \t ts sack cubic wscale:12,7 rto:644 rtt:240.283/66.611 ato:40 mss:1448 pmtu:1500 rcvmss:536 advmss:1448 cwnd:10 bytes_sent:162 bytes_acked:163 bytes_received:4 segs_out:9 segs_in:8 data_segs_out:3 data_segs_in:4 send 482098bps lastsnd:37692 lastrcv:36748 lastack:36748 pacing_rate 964192bps delivery_rate 56832bps delivered:4 app_limited busy:676ms rcv_space:14480 rcv_ssthresh:64088 minrtt:203.825                                                         \n"
     ]
    },
    {
     "name": "stderr",
     "output_type": "stream",
     "text": [
      "Failed to open cgroup2 by ID\n",
      "Failed to open cgroup2 by ID\n",
      "Failed to open cgroup2 by ID\n",
      "Failed to open cgroup2 by ID\n"
     ]
    },
    {
     "name": "stdout",
     "output_type": "stream",
     "text": [
      "1726389595.969157 tcp ESTAB 0      0      10.0.0.100:57612 12.1.1.130:4000 users:((\"iperf3\",pid=22224,fd=4)) uid:39791 ino:200688 sk:6f cgroup:unreachable:2010c00000052 <->\n",
      "1726389595.969855 \t ts sack cubic wscale:12,7 rto:832 rtt:283.134/109.099 ato:40 mss:1448 pmtu:1500 rcvmss:536 advmss:1448 cwnd:10 bytes_sent:162 bytes_acked:163 bytes_received:4 segs_out:9 segs_in:8 data_segs_out:3 data_segs_in:4 send 409135bps lastsnd:37948 lastrcv:36968 lastack:36968 pacing_rate 818264bps delivery_rate 57064bps delivered:4 app_limited busy:676ms rcv_space:14480 rcv_ssthresh:64088 minrtt:202.988\n",
      "1726389595.970521 tcp ESTAB 0      157832 10.0.0.100:60476 12.1.1.130:4000 users:((\"iperf3\",pid=22224,fd=5)) timer:(on,376ms,0) uid:39791 ino:200946 sk:70 cgroup:unreachable:2010c00000052 <->\n",
      "1726389595.971078 \t ts sack cubic wscale:12,7 rto:412 rtt:209.657/13.786 mss:1448 pmtu:1500 rcvmss:536 advmss:1448 cwnd:4 ssthresh:7 bytes_sent:1689853 bytes_retrans:120184 bytes_acked:1558086 segs_out:1170 segs_in:690 data_segs_out:1168 send 221009bps lastsnd:36 lastrcv:37440 lastack:36 pacing_rate 530416bps delivery_rate 97616bps delivered:1080 busy:37200ms unacked:8 retrans:4/83 lost:6 sacked:2 reord_seen:1 rcv_space:14480 rcv_ssthresh:64088 notsent:146248 minrtt:102.335\n",
      "1726389595.966065 tcp ESTAB 0      356208 10.0.0.100:39064 12.1.1.66:4000 users:((\"iperf3\",pid=22225,fd=5)) timer:(on,432ms,0) uid:39791 ino:200945 sk:71 cgroup:unreachable:2010c00000052 <->\n",
      "1726389595.973646 \t ts sack cubic wscale:12,7 rto:436 rtt:234.677/4.664 mss:1448 pmtu:1500 rcvmss:536 advmss:1448 cwnd:12 ssthresh:5 bytes_sent:2933685 bytes_retrans:120184 bytes_acked:2796126 segs_out:2029 segs_in:1183 data_segs_out:2027 send 592338bps lastsnd:4 lastrcv:37580 lastack:4 pacing_rate 710800bps delivery_rate 584280bps delivered:1933 busy:37308ms unacked:12 retrans:0/83 rcv_space:14480 rcv_ssthresh:64088 notsent:338832 minrtt:73.482\n",
      "1726389595.974326 tcp ESTAB 0      0      10.0.0.100:58044 12.1.1.66:4000 users:((\"iperf3\",pid=22225,fd=4)) uid:39791 ino:200687 sk:6e cgroup:unreachable:2010c00000052 <->\n",
      "1726389595.974852 \t ts sack cubic wscale:12,7 rto:644 rtt:240.283/66.611 ato:40 mss:1448 pmtu:1500 rcvmss:536 advmss:1448 cwnd:10 bytes_sent:162 bytes_acked:163 bytes_received:4 segs_out:9 segs_in:8 data_segs_out:3 data_segs_in:4 send 482098bps lastsnd:38020 lastrcv:37076 lastack:37076 pacing_rate 964192bps delivery_rate 56832bps delivered:4 app_limited busy:676ms rcv_space:14480 rcv_ssthresh:64088 minrtt:203.825                                                    \n"
     ]
    },
    {
     "name": "stderr",
     "output_type": "stream",
     "text": [
      "Failed to open cgroup2 by ID\n",
      "Failed to open cgroup2 by ID\n",
      "Failed to open cgroup2 by ID\n",
      "Failed to open cgroup2 by ID\n"
     ]
    },
    {
     "name": "stdout",
     "output_type": "stream",
     "text": [
      "1726389596.289580 tcp ESTAB 0      0      10.0.0.100:57612 12.1.1.130:4000 users:((\"iperf3\",pid=22224,fd=4)) uid:39791 ino:200688 sk:6f cgroup:unreachable:2010c00000052 <->\n",
      "1726389596.294575 \t ts sack cubic wscale:12,7 rto:832 rtt:283.134/109.099 ato:40 mss:1448 pmtu:1500 rcvmss:536 advmss:1448 cwnd:10 bytes_sent:162 bytes_acked:163 bytes_received:4 segs_out:9 segs_in:8 data_segs_out:3 data_segs_in:4 send 409135bps lastsnd:38276 lastrcv:37296 lastack:37296 pacing_rate 818264bps delivery_rate 57064bps delivered:4 app_limited busy:676ms rcv_space:14480 rcv_ssthresh:64088 minrtt:202.988\n",
      "1726389596.295101 tcp ESTAB 0      152040 10.0.0.100:60476 12.1.1.130:4000 users:((\"iperf3\",pid=22224,fd=5)) timer:(on,372ms,0) uid:39791 ino:200946 sk:70 cgroup:unreachable:2010c00000052 <->\n",
      "1726389596.295711 \t ts sack cubic wscale:12,7 rto:428 rtt:226.151/35.486 mss:1448 pmtu:1500 rcvmss:536 advmss:1448 cwnd:7 ssthresh:7 bytes_sent:1699989 bytes_retrans:123080 bytes_acked:1563878 segs_out:1177 segs_in:694 data_segs_out:1175 send 358557bps lastsnd:56 lastrcv:37768 lastack:56 pacing_rate 491728bps delivery_rate 151776bps delivered:1084 busy:37528ms unacked:9 retrans:2/85 lost:2 sacked:2 reord_seen:1 rcv_space:14480 rcv_ssthresh:64088 notsent:139008 minrtt:102.335\n",
      "1726389596.294104 tcp ESTAB 0      338832 10.0.0.100:39064 12.1.1.66:4000 users:((\"iperf3\",pid=22225,fd=5)) timer:(on,356ms,0) uid:39791 ino:200945 sk:71 cgroup:unreachable:2010c00000052 <->\n",
      "1726389596.298442 \t ts sack cubic wscale:12,7 rto:440 rtt:236.336/2.301 mss:1448 pmtu:1500 rcvmss:536 advmss:1448 cwnd:12 ssthresh:5 bytes_sent:2951061 bytes_retrans:120184 bytes_acked:2813502 segs_out:2041 segs_in:1189 data_segs_out:2039 send 588180bps lastsnd:84 lastrcv:37900 lastack:88 pacing_rate 705808bps delivery_rate 583344bps delivered:1945 busy:37628ms unacked:12 retrans:0/83 rcv_space:14480 rcv_ssthresh:64088 notsent:321456 minrtt:73.482\n",
      "1726389596.299013 tcp ESTAB 0      0      10.0.0.100:58044 12.1.1.66:4000 users:((\"iperf3\",pid=22225,fd=4)) uid:39791 ino:200687 sk:6e cgroup:unreachable:2010c00000052 <->\n",
      "1726389596.299563 \t ts sack cubic wscale:12,7 rto:644 rtt:240.283/66.611 ato:40 mss:1448 pmtu:1500 rcvmss:536 advmss:1448 cwnd:10 bytes_sent:162 bytes_acked:163 bytes_received:4 segs_out:9 segs_in:8 data_segs_out:3 data_segs_in:4 send 482098bps lastsnd:38340 lastrcv:37396 lastack:37396 pacing_rate 964192bps delivery_rate 56832bps delivered:4 app_limited busy:676ms rcv_space:14480 rcv_ssthresh:64088 minrtt:203.825                                                      \n"
     ]
    },
    {
     "name": "stderr",
     "output_type": "stream",
     "text": [
      "Failed to open cgroup2 by ID\n",
      "Failed to open cgroup2 by ID\n",
      "Failed to open cgroup2 by ID\n",
      "Failed to open cgroup2 by ID\n"
     ]
    },
    {
     "name": "stdout",
     "output_type": "stream",
     "text": [
      "1726389596.6139231726389596.615199 tcp ESTAB 0      0      10.0.0.100:57612 12.1.1.130:4000 users:((\"iperf3\",pid=22224,fd=4)) uid:39791 ino:200688 sk:6f cgroup:unreachable:2010c00000052 <->\n",
      "1726389596.615942 \t ts sack cubic wscale:12,7 rto:832 rtt:283.134/109.099 ato:40 mss:1448 pmtu:1500 rcvmss:536 advmss:1448 cwnd:10 bytes_sent:162 bytes_acked:163 bytes_received:4 segs_out:9 segs_in:8 data_segs_out:3 data_segs_in:4 send 409135bps lastsnd:38600 lastrcv:37620 lastack:37620 pacing_rate 818264bps delivery_rate 57064bps delivered:4 app_limited busy:676ms rcv_space:14480 rcv_ssthresh:64088 minrtt:202.988\n",
      "1726389596.616494 tcp ESTAB 0      128872 10.0.0.100:60476 12.1.1.130:4000 users:((\"iperf3\",pid=22224,fd=5)) timer:(on,428ms,0) uid:39791 ino:200946 sk:70 cgroup:unreachable:2010c00000052 <->\n",
      "1726389596.617020 \t ts sack cubic wscale:12,7 rto:432 rtt:228.344/14.676 mss:1448 pmtu:1500 rcvmss:536 advmss:1448 cwnd:8 ssthresh:7 bytes_sent:1721709 bytes_retrans:123080 bytes_acked:1587046 segs_out:1192 segs_in:702 data_segs_out:1190 send 405844bps lastsnd:4 lastrcv:38092 lastack:8 pacing_rate 487008bps delivery_rate 398136bps delivered:1098 busy:37852ms unacked:8 retrans:0/85 reord_seen:1 rcv_space:14480 rcv_ssthresh:64088 notsent:117288 minrtt:102.335\n",
      " tcp ESTAB 0      516936 10.0.0.100:39064 12.1.1.66:4000 users:((\"iperf3\",pid=22225,fd=5)) timer:(on,268ms,0) uid:39791 ino:200945 sk:71 cgroup:unreachable:2010c00000052 <->\n",
      "1726389596.618559 \t ts sack cubic wscale:12,7 rto:440 rtt:237.373/1.253 mss:1448 pmtu:1500 rcvmss:536 advmss:1448 cwnd:12 ssthresh:5 bytes_sent:2968437 bytes_retrans:120184 bytes_acked:2830878 segs_out:2053 segs_in:1195 data_segs_out:2051 send 585610bps lastsnd:172 lastrcv:38224 lastack:172 pacing_rate 702728bps delivery_rate 581592bps delivered:1957 busy:37952ms unacked:12 retrans:0/83 rcv_space:14480 rcv_ssthresh:64088 notsent:499560 minrtt:73.482\n",
      "1726389596.619118 tcp ESTAB 0      0      10.0.0.100:58044 12.1.1.66:4000 users:((\"iperf3\",pid=22225,fd=4)) uid:39791 ino:200687 sk:6e cgroup:unreachable:2010c00000052 <->\n",
      "1726389596.619669 \t ts sack cubic wscale:12,7 rto:644 rtt:240.283/66.611 ato:40 mss:1448 pmtu:1500 rcvmss:536 advmss:1448 cwnd:10 bytes_sent:162 bytes_acked:163 bytes_received:4 segs_out:9 segs_in:8 data_segs_out:3 data_segs_in:4 send 482098bps lastsnd:38664 lastrcv:37720 lastack:37720 pacing_rate 964192bps delivery_rate 56832bps delivered:4 app_limited busy:676ms rcv_space:14480 rcv_ssthresh:64088 minrtt:203.825                                                        \n"
     ]
    },
    {
     "name": "stderr",
     "output_type": "stream",
     "text": [
      "Failed to open cgroup2 by ID\n",
      "Failed to open cgroup2 by ID\n",
      "Failed to open cgroup2 by ID\n",
      "Failed to open cgroup2 by ID\n"
     ]
    },
    {
     "name": "stdout",
     "output_type": "stream",
     "text": [
      "1726389596.934950 tcp ESTAB 0      0      10.0.0.100:57612 12.1.1.130:4000 users:((\"iperf3\",pid=22224,fd=4)) uid:39791 ino:200688 sk:6f cgroup:unreachable:2010c00000052 <->\n",
      "1726389596.935660 \t ts sack cubic wscale:12,7 rto:832 rtt:283.134/109.099 ato:40 mss:1448 pmtu:1500 rcvmss:536 advmss:1448 cwnd:10 bytes_sent:162 bytes_acked:163 bytes_received:4 segs_out:9 segs_in:8 data_segs_out:3 data_segs_in:4 send 409135bps lastsnd:38916 lastrcv:37936 lastack:37936 pacing_rate 818264bps delivery_rate 57064bps delivered:4 app_limited busy:676ms rcv_space:14480 rcv_ssthresh:64088 minrtt:202.988\n",
      "1726389596.936236 tcp ESTAB 0      247608 10.0.0.100:60476 12.1.1.130:4000 users:((\"iperf3\",pid=22224,fd=5)) timer:(on,352ms,0) uid:39791 ino:200946 sk:70 cgroup:unreachable:2010c00000052 <->\n",
      "1726389596.936791 \t ts sack cubic wscale:12,7 rto:436 rtt:232.534/10.072 mss:1448 pmtu:1500 rcvmss:536 advmss:1448 cwnd:8 ssthresh:7 bytes_sent:1733293 bytes_retrans:123080 bytes_acked:1598630 segs_out:1200 segs_in:706 data_segs_out:1198 send 398531bps lastsnd:84 lastrcv:38408 lastack:84 pacing_rate 478232bps delivery_rate 388272bps delivered:1106 busy:38168ms unacked:8 retrans:0/85 reord_seen:1 rcv_space:14480 rcv_ssthresh:64088 notsent:236024 minrtt:102.335\n",
      "1726389596.939937 tcp ESTAB 0      479288 10.0.0.100:39064 12.1.1.66:4000 users:((\"iperf3\",pid=22225,fd=5)) timer:(on,424ms,0) uid:39791 ino:200945 sk:71 cgroup:unreachable:2010c00000052 <->\n",
      "1726389596.941841 \t ts sack cubic wscale:12,7 rto:440 rtt:237.531/0.404 mss:1448 pmtu:1500 rcvmss:536 advmss:1448 cwnd:14 ssthresh:5 bytes_sent:3008981 bytes_retrans:120184 bytes_acked:2868526 segs_out:2081 segs_in:1208 data_segs_out:2079 send 682757bps lastsnd:16 lastrcv:38548 lastack:20 pacing_rate 819304bps delivery_rate 678864bps delivered:1983 busy:38276ms unacked:14 retrans:0/83 rcv_space:14480 rcv_ssthresh:64088 notsent:459016 minrtt:73.482\n",
      "1726389596.942490 tcp ESTAB 0      0      10.0.0.100:58044 12.1.1.66:4000 users:((\"iperf3\",pid=22225,fd=4)) uid:39791 ino:200687 sk:6e cgroup:unreachable:2010c00000052 <->\n",
      "1726389596.943049 \t ts sack cubic wscale:12,7 rto:644 rtt:240.283/66.611 ato:40 mss:1448 pmtu:1500 rcvmss:536 advmss:1448 cwnd:10 bytes_sent:162 bytes_acked:163 bytes_received:4 segs_out:9 segs_in:8 data_segs_out:3 data_segs_in:4 send 482098bps lastsnd:38988 lastrcv:38044 lastack:38044 pacing_rate 964192bps delivery_rate 56832bps delivered:4 app_limited busy:676ms rcv_space:14480 rcv_ssthresh:64088 minrtt:203.825                                                      \n"
     ]
    },
    {
     "name": "stderr",
     "output_type": "stream",
     "text": [
      "Failed to open cgroup2 by ID\n",
      "Failed to open cgroup2 by ID\n",
      "Failed to open cgroup2 by ID\n",
      "Failed to open cgroup2 by ID\n"
     ]
    },
    {
     "name": "stdout",
     "output_type": "stream",
     "text": [
      "1726389597.2576241726389597.261368 tcp ESTAB 0      461912 10.0.0.100:39064 12.1.1.66:4000 users:((\"iperf3\",pid=22225,fd=5)) timer:(on,084ms,0) uid:39791 ino:200945 sk:71 cgroup:unreachable:2010c00000052 <->\n",
      "1726389597.262201 \t ts sack cubic wscale:12,7 rto:420 rtt:218.924/4.589 mss:1448 pmtu:1500 rcvmss:536 advmss:1448 cwnd:14 ssthresh:5 bytes_sent:3026357 bytes_retrans:120184 bytes_acked:2885902 segs_out:2093 segs_in:1214 data_segs_out:2091 send 740787bps lastsnd:136 lastrcv:38868 lastack:136 pacing_rate 888936bps delivery_rate 583952bps delivered:1995 busy:38596ms unacked:14 retrans:0/83 rcv_space:14480 rcv_ssthresh:64088 notsent:441640 minrtt:73.482\n",
      "1726389597.262820 tcp ESTAB 0      0      10.0.0.100:58044 12.1.1.66:4000 users:((\"iperf3\",pid=22225,fd=4)) uid:39791 ino:200687 sk:6e cgroup:unreachable:2010c00000052 <->\n",
      "1726389597.263384 \t ts sack cubic wscale:12,7 rto:644 rtt:240.283/66.611 ato:40 mss:1448 pmtu:1500 rcvmss:536 advmss:1448 cwnd:10 bytes_sent:162 bytes_acked:163 bytes_received:4 segs_out:9 segs_in:8 data_segs_out:3 data_segs_in:4 send 482098bps lastsnd:39308 lastrcv:38364 lastack:38364 pacing_rate 964192bps delivery_rate 56832bps delivered:4 app_limited busy:676ms rcv_space:14480 rcv_ssthresh:64088 minrtt:203.825                                                        \n",
      " tcp ESTAB 0      0      10.0.0.100:57612 12.1.1.130:4000 users:((\"iperf3\",pid=22224,fd=4)) uid:39791 ino:200688 sk:6f cgroup:unreachable:2010c00000052 <->\n",
      "1726389597.265703 \t ts sack cubic wscale:12,7 rto:832 rtt:283.134/109.099 ato:40 mss:1448 pmtu:1500 rcvmss:536 advmss:1448 cwnd:10 bytes_sent:162 bytes_acked:163 bytes_received:4 segs_out:9 segs_in:8 data_segs_out:3 data_segs_in:4 send 409135bps lastsnd:39244 lastrcv:38264 lastack:38264 pacing_rate 818264bps delivery_rate 57064bps delivered:4 app_limited busy:676ms rcv_space:14480 rcv_ssthresh:64088 minrtt:202.988\n",
      "1726389597.266346 tcp ESTAB 0      236024 10.0.0.100:60476 12.1.1.130:4000 users:((\"iperf3\",pid=22224,fd=5)) timer:(on,264ms,0) uid:39791 ino:200946 sk:70 cgroup:unreachable:2010c00000052 <->\n",
      "1726389597.266896 \t ts sack cubic wscale:12,7 rto:436 rtt:235.1/6.487 mss:1448 pmtu:1500 rcvmss:536 advmss:1448 cwnd:8 ssthresh:7 bytes_sent:1744877 bytes_retrans:123080 bytes_acked:1610214 segs_out:1208 segs_in:710 data_segs_out:1206 send 394181bps lastsnd:172 lastrcv:38736 lastack:172 pacing_rate 473008bps delivery_rate 387736bps delivered:1114 busy:38496ms unacked:8 retrans:0/85 reord_seen:1 rcv_space:14480 rcv_ssthresh:64088 notsent:224440 minrtt:102.335\n"
     ]
    },
    {
     "name": "stderr",
     "output_type": "stream",
     "text": [
      "Failed to open cgroup2 by ID\n",
      "Failed to open cgroup2 by ID\n",
      "Failed to open cgroup2 by ID\n",
      "Failed to open cgroup2 by ID\n"
     ]
    },
    {
     "name": "stdout",
     "output_type": "stream",
     "text": [
      "1726389597.581063 tcp ESTAB 0      431504 10.0.0.100:39064 12.1.1.66:4000 users:((\"iperf3\",pid=22225,fd=5)) timer:(on,352ms,0) uid:39791 ino:200945 sk:71 cgroup:unreachable:2010c00000052 <->\n",
      "1726389597.581760 \t ts sack cubic wscale:12,7 rto:408 rtt:206.531/5.302 mss:1448 pmtu:1500 rcvmss:536 advmss:1448 cwnd:9 ssthresh:9 bytes_sent:3052421 bytes_retrans:123080 bytes_acked:2916310 segs_out:2111 segs_in:1225 data_segs_out:2109 send 504796bps lastsnd:56 lastrcv:39196 lastack:56 pacing_rate 605752bps delivery_rate 512104bps delivered:2016 busy:38924ms unacked:9 retrans:0/85 rcv_space:14480 rcv_ssthresh:64088 notsent:418472 minrtt:73.482\n",
      "1726389597.582398 tcp ESTAB 0      0      10.0.0.100:58044 12.1.1.66:4000 users:((\"iperf3\",pid=22225,fd=4)) uid:39791 ino:200687 sk:6e cgroup:unreachable:2010c00000052 <->\n",
      "1726389597.582945 \t ts sack cubic wscale:12,7 rto:644 rtt:240.283/66.611 ato:40 mss:1448 pmtu:1500 rcvmss:536 advmss:1448 cwnd:10 bytes_sent:162 bytes_acked:163 bytes_received:4 segs_out:9 segs_in:8 data_segs_out:3 data_segs_in:4 send 482098bps lastsnd:39636 lastrcv:38692 lastack:38692 pacing_rate 964192bps delivery_rate 56832bps delivered:4 app_limited busy:676ms rcv_space:14480 rcv_ssthresh:64088 minrtt:203.825                                                    \n",
      "1726389597.585462 tcp ESTAB 0      0      10.0.0.100:57612 12.1.1.130:4000 users:((\"iperf3\",pid=22224,fd=4)) uid:39791 ino:200688 sk:6f cgroup:unreachable:2010c00000052 <->\n",
      "1726389597.586112 \t ts sack cubic wscale:12,7 rto:832 rtt:283.134/109.099 ato:40 mss:1448 pmtu:1500 rcvmss:536 advmss:1448 cwnd:10 bytes_sent:162 bytes_acked:163 bytes_received:4 segs_out:9 segs_in:8 data_segs_out:3 data_segs_in:4 send 409135bps lastsnd:39564 lastrcv:38584 lastack:38584 pacing_rate 818264bps delivery_rate 57064bps delivered:4 app_limited busy:676ms rcv_space:14480 rcv_ssthresh:64088 minrtt:202.988\n",
      "1726389597.586841 tcp ESTAB 0      230232 10.0.0.100:60476 12.1.1.130:4000 users:((\"iperf3\",pid=22224,fd=5)) timer:(on,416ms,0) uid:39791 ino:200946 sk:70 cgroup:unreachable:2010c00000052 <->\n",
      "1726389597.587367 \t ts sack cubic wscale:12,7 rto:436 rtt:235.823/2.604 mss:1448 pmtu:1500 rcvmss:536 advmss:1448 cwnd:5 ssthresh:6 bytes_sent:1756461 bytes_retrans:127424 bytes_acked:1616006 segs_out:1216 segs_in:715 data_segs_out:1214 send 245608bps lastsnd:20 lastrcv:39056 lastack:20 pacing_rate 530512bps delivery_rate 146488bps delivered:1121 busy:38816ms unacked:9 retrans:3/88 lost:4 sacked:3 reord_seen:2 rcv_space:14480 rcv_ssthresh:64088 notsent:217200 minrtt:102.335\n"
     ]
    },
    {
     "name": "stderr",
     "output_type": "stream",
     "text": [
      "Failed to open cgroup2 by ID\n",
      "Failed to open cgroup2 by ID\n",
      "Failed to open cgroup2 by ID\n",
      "Failed to open cgroup2 by ID\n"
     ]
    },
    {
     "name": "stdout",
     "output_type": "stream",
     "text": [
      "1726389597.9003601726389597.903068 tcp ESTAB 0      418472 10.0.0.100:39064 12.1.1.66:4000 users:((\"iperf3\",pid=22225,fd=5)) timer:(on,236ms,0) uid:39791 ino:200945 sk:71 cgroup:unreachable:2010c00000052 <->\n",
      "1726389597.903731 \t ts sack cubic wscale:12,7 rto:408 rtt:205.316/2.713 mss:1448 pmtu:1500 rcvmss:536 advmss:1448 cwnd:12 ssthresh:9 bytes_sent:3069797 bytes_retrans:123080 bytes_acked:2929342 segs_out:2123 segs_in:1230 data_segs_out:2121 send 677044bps lastsnd:172 lastrcv:39516 lastack:172 pacing_rate 812448bps delivery_rate 510304bps delivered:2025 busy:39244ms unacked:12 retrans:0/85 rcv_space:14480 rcv_ssthresh:64088 notsent:401096 minrtt:73.482\n",
      "1726389597.904315 tcp ESTAB 0      0      10.0.0.100:57612 12.1.1.130:4000 users:((\"iperf3\",pid=22224,fd=4)) uid:39791 ino:200688 sk:6f cgroup:unreachable:2010c00000052 <->\n",
      "1726389597.904880 tcp ESTAB 0      0      10.0.0.100:58044 12.1.1.66:4000 users:((\"iperf3\",pid=22225,fd=4)) uid:39791 ino:200687 sk:6e cgroup:unreachable:2010c00000052 <->\n",
      "1726389597.905460 \t ts sack cubic wscale:12,7 rto:832 rtt:283.134/109.099 ato:40 mss:1448 pmtu:1500 rcvmss:536 advmss:1448 cwnd:10 bytes_sent:162 bytes_acked:163 bytes_received:4 segs_out:9 segs_in:8 data_segs_out:3 data_segs_in:4 send 409135bps lastsnd:39884 lastrcv:38904 lastack:38904 pacing_rate 818264bps delivery_rate 57064bps delivered:4 app_limited busy:676ms rcv_space:14480 rcv_ssthresh:64088 minrtt:202.988\n",
      "1726389597.906012 \t ts sack cubic wscale:12,7 rto:644 rtt:240.283/66.611 ato:40 mss:1448 pmtu:1500 rcvmss:536 advmss:1448 cwnd:10 bytes_sent:162 bytes_acked:163 bytes_received:4 segs_out:9 segs_in:8 data_segs_out:3 data_segs_in:4 send 482098bps lastsnd:39956 lastrcv:39012 lastack:39012 pacing_rate 964192bps delivery_rate 56832bps delivered:4 app_limited busy:676ms rcv_space:14480 rcv_ssthresh:64088 minrtt:203.825                                                        \n",
      " tcp ESTAB 0      217200 10.0.0.100:60476 12.1.1.130:4000 users:((\"iperf3\",pid=22224,fd=5)) timer:(on,292ms,0) uid:39791 ino:200946 sk:70 cgroup:unreachable:2010c00000052 <->\n",
      "1726389597.908420 \t ts sack cubic wscale:12,7 rto:424 rtt:221.433/12.668 mss:1448 pmtu:1500 rcvmss:536 advmss:1448 cwnd:6 ssthresh:6 bytes_sent:1766597 bytes_retrans:128872 bytes_acked:1629038 segs_out:1223 segs_in:721 data_segs_out:1221 send 313883bps lastsnd:132 lastrcv:39376 lastack:132 pacing_rate 376656bps delivery_rate 212904bps delivered:1127 busy:39136ms unacked:6 retrans:0/89 reord_seen:2 rcv_space:14480 rcv_ssthresh:64088 notsent:208512 minrtt:102.335\n"
     ]
    },
    {
     "name": "stderr",
     "output_type": "stream",
     "text": [
      "Failed to open cgroup2 by ID\n",
      "Failed to open cgroup2 by ID\n",
      "Failed to open cgroup2 by ID\n",
      "Failed to open cgroup2 by ID\n"
     ]
    },
    {
     "name": "stdout",
     "output_type": "stream",
     "text": [
      "1726389598.2253511726389598.227837 tcp ESTAB 0      0      10.0.0.100:57612 12.1.1.130:4000 users:((\"iperf3\",pid=22224,fd=4)) uid:39791 ino:200688 sk:6f cgroup:unreachable:2010c00000052 <->\n",
      "1726389598.228499 \t ts sack cubic wscale:12,7 rto:832 rtt:283.134/109.099 ato:40 mss:1448 pmtu:1500 rcvmss:536 advmss:1448 cwnd:10 bytes_sent:162 bytes_acked:163 bytes_received:4 segs_out:9 segs_in:8 data_segs_out:3 data_segs_in:4 send 409135bps lastsnd:40204 lastrcv:39224 lastack:39224 pacing_rate 818264bps delivery_rate 57064bps delivered:4 app_limited busy:676ms rcv_space:14480 rcv_ssthresh:64088 minrtt:202.988\n",
      "1726389598.229074 tcp ESTAB 0      208512 10.0.0.100:60476 12.1.1.130:4000 users:((\"iperf3\",pid=22224,fd=5)) timer:(on,212ms,0) uid:39791 ino:200946 sk:70 cgroup:unreachable:2010c00000052 <->\n",
      "1726389598.229597 \t ts sack cubic wscale:12,7 rto:428 rtt:226.22/12.503 mss:1448 pmtu:1500 rcvmss:536 advmss:1448 cwnd:8 ssthresh:6 bytes_sent:1778181 bytes_retrans:128872 bytes_acked:1637726 segs_out:1231 segs_in:724 data_segs_out:1229 send 409654bps lastsnd:216 lastrcv:39696 lastack:216 pacing_rate 491576bps delivery_rate 294336bps delivered:1133 busy:39456ms unacked:8 retrans:0/89 reord_seen:2 rcv_space:14480 rcv_ssthresh:64088 notsent:196928 minrtt:102.335\n",
      " tcp ESTAB 0      396752 10.0.0.100:39064 12.1.1.66:4000 users:((\"iperf3\",pid=22225,fd=5)) timer:(on,372ms,0) uid:39791 ino:200945 sk:71 cgroup:unreachable:2010c00000052 <->\n",
      "1726389598.232033 \t ts sack cubic wscale:12,7 rto:424 rtt:220.174/18.252 mss:1448 pmtu:1500 rcvmss:536 advmss:1448 cwnd:8 ssthresh:8 bytes_sent:3091517 bytes_retrans:128872 bytes_acked:2951062 segs_out:2138 segs_in:1240 data_segs_out:2136 send 420903bps lastsnd:52 lastrcv:39836 lastack:52 pacing_rate 505080bps delivery_rate 342264bps delivered:2040 busy:39564ms unacked:8 retrans:0/89 rcv_space:14480 rcv_ssthresh:64088 notsent:385168 minrtt:73.482\n",
      "1726389598.232671 tcp ESTAB 0      0      10.0.0.100:58044 12.1.1.66:4000 users:((\"iperf3\",pid=22225,fd=4)) uid:39791 ino:200687 sk:6e cgroup:unreachable:2010c00000052 <->\n",
      "1726389598.233221 \t ts sack cubic wscale:12,7 rto:644 rtt:240.283/66.611 ato:40 mss:1448 pmtu:1500 rcvmss:536 advmss:1448 cwnd:10 bytes_sent:162 bytes_acked:163 bytes_received:4 segs_out:9 segs_in:8 data_segs_out:3 data_segs_in:4 send 482098bps lastsnd:40276 lastrcv:39332 lastack:39332 pacing_rate 964192bps delivery_rate 56832bps delivered:4 app_limited busy:676ms rcv_space:14480 rcv_ssthresh:64088 minrtt:203.825                                                     \n"
     ]
    },
    {
     "name": "stderr",
     "output_type": "stream",
     "text": [
      "Failed to open cgroup2 by ID\n",
      "Failed to open cgroup2 by ID\n",
      "Failed to open cgroup2 by ID\n",
      "Failed to open cgroup2 by ID\n"
     ]
    },
    {
     "name": "stdout",
     "output_type": "stream",
     "text": [
      "1726389598.5519251726389598.552457 tcp ESTAB 0      0      10.0.0.100:57612 12.1.1.130:4000 users:((\"iperf3\",pid=22224,fd=4)) uid:39791 ino:200688 sk:6f cgroup:unreachable:2010c00000052 <->\n",
      "1726389598.553092 \t ts sack cubic wscale:12,7 rto:832 rtt:283.134/109.099 ato:40 mss:1448 pmtu:1500 rcvmss:536 advmss:1448 cwnd:10 bytes_sent:162 bytes_acked:163 bytes_received:4 segs_out:9 segs_in:8 data_segs_out:3 data_segs_in:4 send 409135bps lastsnd:40532 lastrcv:39552 lastack:39552 pacing_rate 818264bps delivery_rate 57064bps delivered:4 app_limited busy:676ms rcv_space:14480 rcv_ssthresh:64088 minrtt:202.988\n",
      "1726389598.553648 tcp ESTAB 0      189688 10.0.0.100:60476 12.1.1.130:4000 users:((\"iperf3\",pid=22224,fd=5)) timer:(on,364ms,0) uid:39791 ino:200946 sk:70 cgroup:unreachable:2010c00000052 <->\n",
      " tcp ESTAB 0      388064 10.0.0.100:39064 12.1.1.66:4000 users:((\"iperf3\",pid=22225,fd=5)) timer:(on,056ms,0) uid:39791 ino:200945 sk:71 cgroup:unreachable:2010c00000052 <->\n",
      "1726389598.5545601726389598.554882 \t ts sack cubic wscale:12,7 rto:428 rtt:225.598/15.837 mss:1448 pmtu:1500 rcvmss:536 advmss:1448 cwnd:9 ssthresh:8 bytes_sent:3100205 bytes_retrans:128872 bytes_acked:2959750 segs_out:2144 segs_in:1243 data_segs_out:2142 send 462132bps lastsnd:136 lastrcv:40156 lastack:136 pacing_rate 554552bps delivery_rate 293488bps delivered:2046 busy:39884ms unacked:8 retrans:0/89 rcv_space:14480 rcv_ssthresh:64088 notsent:376480 minrtt:73.482\n",
      "1726389598.555458 \t ts sack cubic wscale:12,7 rto:436 rtt:233.085/7.726 mss:1448 pmtu:1500 rcvmss:536 advmss:1448 cwnd:9 ssthresh:6 bytes_sent:1797005 bytes_retrans:128872 bytes_acked:1656550 segs_out:1244 segs_in:731 data_segs_out:1242 send 447287bps lastsnd:72 lastrcv:40024 lastack:72 pacing_rate 536736bps delivery_rate 340728bps delivered:1146 busy:39784ms unacked:8 retrans:0/89 reord_seen:2 rcv_space:14480 rcv_ssthresh:64088 notsent:178104 minrtt:102.335\n",
      " tcp ESTAB 0      0      10.0.0.100:58044 12.1.1.66:4000 users:((\"iperf3\",pid=22225,fd=4)) uid:39791 ino:200687 sk:6e cgroup:unreachable:2010c00000052 <->\n",
      "1726389598.557807 \t ts sack cubic wscale:12,7 rto:644 rtt:240.283/66.611 ato:40 mss:1448 pmtu:1500 rcvmss:536 advmss:1448 cwnd:10 bytes_sent:162 bytes_acked:163 bytes_received:4 segs_out:9 segs_in:8 data_segs_out:3 data_segs_in:4 send 482098bps lastsnd:40596 lastrcv:39652 lastack:39652 pacing_rate 964192bps delivery_rate 56832bps delivered:4 app_limited busy:676ms rcv_space:14480 rcv_ssthresh:64088 minrtt:203.825                                                       \n"
     ]
    },
    {
     "name": "stderr",
     "output_type": "stream",
     "text": [
      "Failed to open cgroup2 by ID\n",
      "Failed to open cgroup2 by ID\n",
      "Failed to open cgroup2 by ID\n",
      "Failed to open cgroup2 by ID\n"
     ]
    },
    {
     "name": "stdout",
     "output_type": "stream",
     "text": [
      "1726389598.8736321726389598.874625 tcp ESTAB 0      370688 10.0.0.100:39064 12.1.1.66:4000 users:((\"iperf3\",pid=22225,fd=5)) timer:(on,364ms,0) uid:39791 ino:200945 sk:71 cgroup:unreachable:2010c00000052 <->\n",
      "1726389598.875304 \t ts sack cubic wscale:12,7 rto:412 rtt:209.689/12.787 mss:1448 pmtu:1500 rcvmss:536 advmss:1448 cwnd:6 ssthresh:6 bytes_sent:3117581 bytes_retrans:131768 bytes_acked:2977126 segs_out:2156 segs_in:1252 data_segs_out:2154 send 331462bps lastsnd:16 lastrcv:40480 lastack:16 pacing_rate 397752bps delivery_rate 293728bps delivered:2058 busy:40208ms unacked:6 retrans:0/91 rcv_space:14480 rcv_ssthresh:64088 notsent:362000 minrtt:73.482\n",
      "1726389598.875948 tcp ESTAB 0      0      10.0.0.100:58044 12.1.1.66:4000 users:((\"iperf3\",pid=22225,fd=4)) uid:39791 ino:200687 sk:6e cgroup:unreachable:2010c00000052 <->\n",
      "1726389598.876562 tcp ESTAB 0      0      10.0.0.100:57612 12.1.1.130:4000 users:((\"iperf3\",pid=22224,fd=4)) uid:39791 ino:200688 sk:6f cgroup:unreachable:2010c00000052 <->\n",
      " \t ts sack cubic wscale:12,7 rto:644 rtt:240.283/66.611 ato:40 mss:1448 pmtu:1500 rcvmss:536 advmss:1448 cwnd:10 bytes_sent:162 bytes_acked:163 bytes_received:4 segs_out:9 segs_in:8 data_segs_out:3 data_segs_in:4 send 482098bps lastsnd:40920 lastrcv:39976 lastack:39976 pacing_rate 964192bps delivery_rate 56832bps delivered:4 app_limited busy:676ms rcv_space:14480 rcv_ssthresh:64088 minrtt:203.825                                                     \n",
      "1726389598.877512 \t ts sack cubic wscale:12,7 rto:832 rtt:283.134/109.099 ato:40 mss:1448 pmtu:1500 rcvmss:536 advmss:1448 cwnd:10 bytes_sent:162 bytes_acked:163 bytes_received:4 segs_out:9 segs_in:8 data_segs_out:3 data_segs_in:4 send 409135bps lastsnd:40856 lastrcv:39876 lastack:39876 pacing_rate 818264bps delivery_rate 57064bps delivered:4 app_limited busy:676ms rcv_space:14480 rcv_ssthresh:64088 minrtt:202.988\n",
      "1726389598.878576 tcp ESTAB 0      189688 10.0.0.100:60476 12.1.1.130:4000 users:((\"iperf3\",pid=22224,fd=5)) timer:(on,272ms,0) uid:39791 ino:200946 sk:70 cgroup:unreachable:2010c00000052 <->\n",
      "1726389598.879215 \t ts sack cubic wscale:12,7 rto:428 rtt:224.613/10.702 mss:1448 pmtu:1500 rcvmss:536 advmss:1448 cwnd:4 ssthresh:6 bytes_sent:1802797 bytes_retrans:134664 bytes_acked:1656550 segs_out:1248 segs_in:735 data_segs_out:1246 send 206293bps lastsnd:156 lastrcv:40348 lastack:156 pacing_rate 495096bps delivery_rate 243392bps delivered:1150 busy:40108ms unacked:8 retrans:4/93 lost:4 sacked:4 reord_seen:2 rcv_space:14480 rcv_ssthresh:64088 notsent:178104 minrtt:102.335\n"
     ]
    },
    {
     "name": "stderr",
     "output_type": "stream",
     "text": [
      "Failed to open cgroup2 by ID\n",
      "Failed to open cgroup2 by ID\n",
      "Failed to open cgroup2 by ID\n",
      "Failed to open cgroup2 by ID\n"
     ]
    },
    {
     "name": "stdout",
     "output_type": "stream",
     "text": [
      "1726389599.1939631726389599.197807 tcp ESTAB 0      362000 10.0.0.100:39064 12.1.1.66:4000 users:((\"iperf3\",pid=22225,fd=5)) timer:(on,280ms,0) uid:39791 ino:200945 sk:71 cgroup:unreachable:2010c00000052 <->\n",
      "1726389599.198572 \t ts sack cubic wscale:12,7 rto:416 rtt:214.739/17.167 mss:1448 pmtu:1500 rcvmss:536 advmss:1448 cwnd:7 ssthresh:6 bytes_sent:3127717 bytes_retrans:131768 bytes_acked:2985814 segs_out:2163 segs_in:1255 data_segs_out:2161 send 377612bps lastsnd:136 lastrcv:40804 lastack:140 pacing_rate 453128bps delivery_rate 339696bps delivered:2064 busy:40532ms unacked:7 retrans:0/91 rcv_space:14480 rcv_ssthresh:64088 notsent:351864 minrtt:73.482\n",
      "1726389599.199222"
     ]
    },
    {
     "name": "stderr",
     "output_type": "stream",
     "text": [
      "Failed to open cgroup2 by ID\n"
     ]
    },
    {
     "name": "stdout",
     "output_type": "stream",
     "text": [
      " tcp ESTAB 0      0      10.0.0.100:58044 12.1.1.66:4000 users:((\"iperf3\",pid=22225,fd=4)) uid:39791 ino:200687 sk:6e cgroup:unreachable:2010c00000052 <->\n",
      "1726389599.199697 \t ts sack cubic wscale:12,7 rto:644 rtt:240.283/66.611 ato:40 mss:1448 pmtu:1500 rcvmss:536 advmss:1448 cwnd:10 bytes_sent:162 bytes_acked:163 bytes_received:4 segs_out:9 segs_in:8 data_segs_out:3 data_segs_in:4 send 482098bps lastsnd:41244 lastrcv:40300 lastack:40300 pacing_rate 964192bps delivery_rate 56832bps delivered:4 app_limited busy:676ms rcv_space:14480 rcv_ssthresh:64088 minrtt:203.825                                                       \n",
      " tcp ESTAB 0      0      10.0.0.100:57612 12.1.1.130:4000 users:((\"iperf3\",pid=22224,fd=4)) uid:39791 ino:200688 sk:6f cgroup:unreachable:2010c00000052 <->\n",
      "1726389599.202082 \t ts sack cubic wscale:12,7 rto:832 rtt:283.134/109.099 ato:40 mss:1448 pmtu:1500 rcvmss:536 advmss:1448 cwnd:10 bytes_sent:162 bytes_acked:163 bytes_received:4 segs_out:9 segs_in:8 data_segs_out:3 d"
     ]
    },
    {
     "name": "stderr",
     "output_type": "stream",
     "text": [
      "Failed to open cgroup2 by ID\n",
      "Failed to open cgroup2 by ID\n",
      "Failed to open cgroup2 by ID\n"
     ]
    },
    {
     "name": "stdout",
     "output_type": "stream",
     "text": [
      "ata_segs_in:4 send 409135bps lastsnd:41180 lastrcv:40200 lastack:40200 pacing_rate 818264bps delivery_rate 57064bps delivered:4 app_limited busy:676ms rcv_space:14480 rcv_ssthresh:64088 minrtt:202.988\n",
      "1726389599.202712 tcp ESTAB 0      169416 10.0.0.100:60476 12.1.1.130:4000 users:((\"iperf3\",pid=22224,fd=5)) timer:(on,304ms,0) uid:39791 ino:200946 sk:70 cgroup:unreachable:2010c00000052 <->\n",
      "1726389599.203257 \t ts sack cubic wscale:12,7 rto:412 rtt:208.943/10.062 mss:1448 pmtu:1500 rcvmss:536 advmss:1448 cwnd:8 ssthresh:6 bytes_sent:1823069 bytes_retrans:134664 bytes_acked:1676822 segs_out:1262 segs_in:742 data_segs_out:1260 send 443528bps lastsnd:108 lastrcv:40672 lastack:108 pacing_rate 532224bps delivery_rate 342880bps delivered:1160 busy:40432ms unacked:8 retrans:0/93 reord_seen:2 rcv_space:14480 rcv_ssthresh:64088 notsent:157832 minrtt:102.335\n",
      "1726389599.5179501726389599.518909 tcp ESTAB 0      341728 10.0.0.100:39064 12.1.1.66:4000 users:((\"iperf3\",pid=22225,fd=5)) timer:(on,404ms,0) uid:39791 ino:200945 sk:71 cgroup:unreachable:2010c00000052 <->\n",
      "1726389599.519587 \t ts sack cubic wscale:12,7 rto:424 rtt:221.217/17.531 mss:1448 pmtu:1500 rcvmss:536 advmss:1448 cwnd:7 ssthresh:6 bytes_sent:3147989 bytes_retrans:131768 bytes_acked:3006086 segs_out:2177 segs_in:1263 data_segs_out:2175 send 366554bps lastsnd:20 lastrcv:41128 lastack:20 pacing_rate 439864bps delivery_rate 341896bps delivered:2078 busy:40856ms unacked:7 retrans:0/91 rcv_space:14480 rcv_ssthresh:64088 notsent:331592 minrtt:73.482\n",
      "1726389599.520141 tcp ESTAB 0      0      10.0.0.100:57612 12.1.1.130:4000 users:((\"iperf3\",pid=22224,fd=4)) uid:39791 ino:200688 sk:6f cgroup:unreachable:2010c00000052 <->\n",
      " tcp ESTAB 0      0      10.0.0.100:58044 12.1.1.66:4000 users:((\"iperf3\",pid=22225,fd=4)) uid:39791 ino:200687 sk:6e cgroup:unreachable:2010c00000052 <->\n",
      "1726389599.5207821726389599.520995 \t ts sack cubic wscale:12,7 rto:832 rtt:283.134/109.099 ato:40 mss:1448 pmtu:1500 rcvmss:536 advmss:1448 cwnd:10 bytes_sent:162 bytes_acked:163 bytes_received:4 segs_out:9 segs_in:8 data_segs_out:3 data_segs_in:4 send 409135bps lastsnd:41504 lastrcv:40524 lastack:40524 pacing_rate 818264bps delivery_rate 57064bps delivered:4 app_limited busy:676ms rcv_space:14480 rcv_ssthresh:64088 minrtt:202.988\n",
      " \t ts sack cubic wscale:12,7 rto:644 rtt:240.283/66.611 ato:40 mss:1448 pmtu:1500 rcvmss:536 advmss:1448 cwnd:10 bytes_sent:162 bytes_acked:163 bytes_received:4 segs_out:9 segs_in:8 data_segs_out:3 data_segs_in:4 send 482098bps lastsnd:41568 lastrcv:40624 lastack:40624 pacing_rate 964192bps delivery_rate 56832bps delivered:4 app_limited busy:676ms rcv_space:14480 rcv_ssthresh:64088 minrtt:203.825                                                     \n",
      "1726389599.522317 tcp ESTAB 0      157832 10.0.0.100:60476 12.1.1.130:4000 users:((\"iperf3\",pid=22224,fd=5)) timer:(on,232ms,0) uid:39791 ino:200946 sk:70 cgroup:unreachable:2010c00000052 <->\n",
      "1726389599.522667 \t ts sack cubic wscale:12,7 rto:424 rtt:221.218/19.134 mss:1448 pmtu:1500 rcvmss:536 advmss:1448 cwnd:8 ssthresh:6 bytes_sent:1834653 bytes_retrans:134664 bytes_acked:1688406 segs_out:1270 segs_in:746 data_segs_out:1268 send 418917bps lastsnd:192 lastrcv:40996 lastack:192 pacing_rate 502696bps delivery_rate 387864bps delivered:1168 busy:40756ms unacked:8 retrans:0/93 reord_seen:2 rcv_space:14480 rcv_ssthresh:64088 notsent:146248 minrtt:102.335\n"
     ]
    },
    {
     "name": "stderr",
     "output_type": "stream",
     "text": [
      "Failed to open cgroup2 by ID\n",
      "Failed to open cgroup2 by ID\n",
      "Failed to open cgroup2 by ID\n",
      "Failed to open cgroup2 by ID\n"
     ]
    },
    {
     "name": "stdout",
     "output_type": "stream",
     "text": [
      "1726389599.8367311726389599.838534 tcp ESTAB 0      0      10.0.0.100:57612 12.1.1.130:4000 users:((\"iperf3\",pid=22224,fd=4)) uid:39791 ino:200688 sk:6f cgroup:unreachable:2010c00000052 <->\n",
      "1726389599.839226 tcp ESTAB 0      527072 10.0.0.100:39064 12.1.1.66:4000 users:((\"iperf3\",pid=22225,fd=5)) timer:(on,328ms,0) uid:39791 ino:200945 sk:71 cgroup:unreachable:2010c00000052 <->\n",
      "1726389599.839817 \t ts sack cubic wscale:12,7 rto:832 rtt:283.134/109.099 ato:40 mss:1448 pmtu:1500 rcvmss:536 advmss:1448 cwnd:10 bytes_sent:162 bytes_acked:163 bytes_received:4 segs_out:9 segs_in:8 data_segs_out:3 data_segs_in:4 send 409135bps lastsnd:41820 lastrcv:40840 lastack:40840 pacing_rate 818264bps delivery_rate 57064bps delivered:4 app_limited busy:676ms rcv_space:14480 rcv_ssthresh:64088 minrtt:202.988\n",
      "1726389599.840398 \t ts sack cubic wscale:12,7 rto:432 rtt:228.024/14.32 mss:1448 pmtu:1500 rcvmss:536 advmss:1448 cwnd:7 ssthresh:6 bytes_sent:3158125 bytes_retrans:131768 bytes_acked:3016222 segs_out:2184 segs_in:1267 data_segs_out:2182 send 355612bps lastsnd:104 lastrcv:41452 lastack:108 pacing_rate 426728bps delivery_rate 340512bps delivered:2085 busy:41180ms unacked:7 retrans:0/91 rcv_space:14480 rcv_ssthresh:64088 notsent:516936 minrtt:73.482\n",
      "1726389599.840970 tcp ESTAB 0      131768 10.0.0.100:60476 12.1.1.130:4000 users:((\"iperf3\",pid=22224,fd=5)) timer:(on,404ms,0) uid:39791 ino:200946 sk:70 cgroup:unreachable:2010c00000052 <->\n",
      "1726389599.841524 tcp ESTAB 0      0      10.0.0.100:58044 12.1.1.66:4000 users:((\"iperf3\",pid=22225,fd=4)) uid:39791 ino:200687 sk:6e cgroup:unreachable:2010c00000052 <->\n",
      "1726389599.842084 \t ts sack cubic wscale:12,7 rto:436 rtt:232.959/8.91 mss:1448 pmtu:1500 rcvmss:536 advmss:1448 cwnd:10 ssthresh:6 bytes_sent:1863613 bytes_retrans:134664 bytes_acked:1714470 segs_out:1290 segs_in:755 data_segs_out:1288 send 497255bps lastsnd:32 lastrcv:41312 lastack:32 pacing_rate 596704bps delivery_rate 484952bps delivered:1186 busy:41072ms unacked:10 retrans:0/93 reord_seen:2 rcv_space:14480 rcv_ssthresh:64088 notsent:117288 minrtt:102.335\n",
      " \t ts sack cubic wscale:12,7 rto:644 rtt:240.283/66.611 ato:40 mss:1448 pmtu:1500 rcvmss:536 advmss:1448 cwnd:10 bytes_sent:162 bytes_acked:163 bytes_received:4 segs_out:9 segs_in:8 data_segs_out:3 data_segs_in:4 send 482098bps lastsnd:41892 lastrcv:40948 lastack:40948 pacing_rate 964192bps delivery_rate 56832bps delivered:4 app_limited busy:676ms rcv_space:14480 rcv_ssthresh:64088 minrtt:203.825                                                      \n"
     ]
    },
    {
     "name": "stderr",
     "output_type": "stream",
     "text": [
      "Failed to open cgroup2 by ID\n",
      "Failed to open cgroup2 by ID\n",
      "Failed to open cgroup2 by ID\n",
      "Failed to open cgroup2 by ID\n"
     ]
    },
    {
     "name": "stdout",
     "output_type": "stream",
     "text": [
      "1726389600.1577551726389600.159278 tcp ESTAB 0      0      10.0.0.100:57612 12.1.1.130:4000 users:((\"iperf3\",pid=22224,fd=4)) uid:39791 ino:200688 sk:6f cgroup:unreachable:2010c00000052 <->\n",
      "1726389600.159899 \t ts sack cubic wscale:12,7 rto:832 rtt:283.134/109.099 ato:40 mss:1448 pmtu:1500 rcvmss:536 advmss:1448 cwnd:10 bytes_sent:162 bytes_acked:163 bytes_received:4 segs_out:9 segs_in:8 data_segs_out:3 data_segs_in:4 send 409135bps lastsnd:42144 lastrcv:41164 lastack:41164 pacing_rate 818264bps delivery_rate 57064bps delivered:4 app_limited busy:676ms rcv_space:14480 rcv_ssthresh:64088 minrtt:202.988\n",
      "1726389600.160434 tcp ESTAB 0      247608 10.0.0.100:60476 12.1.1.130:4000 users:((\"iperf3\",pid=22224,fd=5)) timer:(on,316ms,0) uid:39791 ino:200946 sk:70 cgroup:unreachable:2010c00000052 <->\n",
      "1726389600.161037 \t ts sack cubic wscale:12,7 rto:436 rtt:234.068/3.29 mss:1448 pmtu:1500 rcvmss:536 advmss:1448 cwnd:10 ssthresh:6 bytes_sent:1878093 bytes_retrans:134664 bytes_acked:1728950 segs_out:1300 segs_in:760 data_segs_out:1298 send 494899bps lastsnd:120 lastrcv:41636 lastack:120 pacing_rate 593872bps delivery_rate 485504bps delivered:1196 busy:41396ms unacked:10 retrans:0/93 reord_seen:2 rcv_space:14480 rcv_ssthresh:64088 notsent:233128 minrtt:102.335\n",
      " tcp ESTAB 0      516936 10.0.0.100:39064 12.1.1.66:4000 users:((\"iperf3\",pid=22225,fd=5)) timer:(on,300ms,0) uid:39791 ino:200945 sk:71 cgroup:unreachable:2010c00000052 <->\n",
      "1726389600.162541 \t ts sack cubic wscale:12,7 rto:448 rtt:245.728/27.497 mss:1448 pmtu:1500 rcvmss:536 advmss:1448 cwnd:9 ssthresh:6 bytes_sent:3171157 bytes_retrans:131768 bytes_acked:3026358 segs_out:2193 segs_in:1271 data_segs_out:2191 send 424274bps lastsnd:148 lastrcv:41768 lastack:152 pacing_rate 509128bps delivery_rate 298816bps delivered:2092 busy:41496ms unacked:9 retrans:0/91 rcv_space:14480 rcv_ssthresh:64088 notsent:503904 minrtt:73.482\n",
      "1726389600.164023 tcp ESTAB 0      0      10.0.0.100:58044 12.1.1.66:4000 users:((\"iperf3\",pid=22225,fd=4)) uid:39791 ino:200687 sk:6e cgroup:unreachable:2010c00000052 <->\n",
      "1726389600.164568 \t ts sack cubic wscale:12,7 rto:644 rtt:240.283/66.611 ato:40 mss:1448 pmtu:1500 rcvmss:536 advmss:1448 cwnd:10 bytes_sent:162 bytes_acked:163 bytes_received:4 segs_out:9 segs_in:8 data_segs_out:3 data_segs_in:4 send 482098bps lastsnd:42208 lastrcv:41264 lastack:41264 pacing_rate 964192bps delivery_rate 56832bps delivered:4 app_limited busy:676ms rcv_space:14480 rcv_ssthresh:64088 minrtt:203.825                                                       \n"
     ]
    },
    {
     "name": "stderr",
     "output_type": "stream",
     "text": [
      "Failed to open cgroup2 by ID\n",
      "Failed to open cgroup2 by ID\n",
      "Failed to open cgroup2 by ID\n",
      "Failed to open cgroup2 by ID\n"
     ]
    },
    {
     "name": "stdout",
     "output_type": "stream",
     "text": [
      "1726389600.4803151726389600.481513 tcp ESTAB 0      511144 10.0.0.100:39064 12.1.1.66:4000 users:((\"iperf3\",pid=22225,fd=5)) timer:(on,404ms,0) uid:39791 ino:200945 sk:71 cgroup:unreachable:2010c00000052 <->\n",
      "1726389600.481874 \t ts sack cubic wscale:12,7 rto:440 rtt:236.204/12.097 mss:1448 pmtu:1500 rcvmss:536 advmss:1448 cwnd:5 ssthresh:6 bytes_sent:3182741 bytes_retrans:136112 bytes_acked:3032150 segs_out:2201 segs_in:1276 data_segs_out:2199 send 245212bps lastsnd:36 lastrcv:42096 lastack:36 pacing_rate 588504bps delivery_rate 146936bps delivered:2099 busy:41824ms unacked:10 retrans:3/94 lost:5 sacked:3 rcv_space:14480 rcv_ssthresh:64088 notsent:496664 minrtt:73.482\n",
      "1726389600.481979 tcp ESTAB 0      0      10.0.0.100:58044 12.1.1.66:4000 users:((\"iperf3\",pid=22225,fd=4)) uid:39791 ino:200687 sk:6e cgroup:unreachable:2010c00000052 <->\n",
      "1726389600.482036 \t ts sack cubic wscale:12,7 rto:644 rtt:240.283/66.611 ato:40 mss:1448 pmtu:1500 rcvmss:536 advmss:1448 cwnd:10 bytes_sent:162 bytes_acked:163 bytes_received:4 segs_out:9 segs_in:8 data_segs_out:3 data_segs_in:4 send 482098bps lastsnd:42536 lastrcv:41592 lastack:41592 pacing_rate 964192bps delivery_rate 56832bps delivered:4 app_limited busy:676ms rcv_space:14480 rcv_ssthresh:64088 minrtt:203.825                                                                      \n",
      " tcp ESTAB 0      0      10.0.0.100:57612 12.1.1.130:4000 users:((\"iperf3\",pid=22224,fd=4)) uid:39791 ino:200688 sk:6f cgroup:unreachable:2010c00000052 <->\n",
      "1726389600.483497 \t ts sack cubic wscale:12,7 rto:832 rtt:283.134/109.099 ato:40 mss:1448 pmtu:1500 rcvmss:536 advmss:1448 cwnd:10 bytes_sent:162 bytes_acked:163 bytes_received:4 segs_out:9 segs_in:8 data_segs_out:3 data_segs_in:4 send 409135bps lastsnd:42460 lastrcv:41480 lastack:41480 pacing_rate 818264bps delivery_rate 57064bps delivered:4 app_limited busy:676ms rcv_space:14480 rcv_ssthresh:64088 minrtt:202.988\n",
      "1726389600.483576 tcp ESTAB 0      233128 10.0.0.100:60476 12.1.1.130:4000 users:((\"iperf3\",pid=22224,fd=5)) timer:(on,244ms,0) uid:39791 ino:200946 sk:70 cgroup:unreachable:2010c00000052 <->\n",
      "1726389600.483627 \t ts sack cubic wscale:12,7 rto:440 rtt:236.574/3.502 mss:1448 pmtu:1500 rcvmss:536 advmss:1448 cwnd:10 ssthresh:6 bytes_sent:1892573 bytes_retrans:134664 bytes_acked:1743430 segs_out:1310 segs_in:765 data_segs_out:1308 send 489657bps lastsnd:196 lastrcv:41952 lastack:196 pacing_rate 587584bps delivery_rate 483440bps delivered:1206 busy:41712ms unacked:10 retrans:0/93 reord_seen:2 rcv_space:14480 rcv_ssthresh:64088 notsent:218648 minrtt:102.335\n"
     ]
    },
    {
     "name": "stderr",
     "output_type": "stream",
     "text": [
      "Failed to open cgroup2 by ID\n",
      "Failed to open cgroup2 by ID\n",
      "Failed to open cgroup2 by ID\n",
      "Failed to open cgroup2 by ID\n"
     ]
    },
    {
     "name": "stdout",
     "output_type": "stream",
     "text": [
      "1726389600.8056311726389600.808887 tcp ESTAB 0      0      10.0.0.100:57612 12.1.1.130:4000 users:((\"iperf3\",pid=22224,fd=4)) uid:39791 ino:200688 sk:6f cgroup:unreachable:2010c00000052 <->\n",
      " tcp ESTAB 0      505352 10.0.0.100:39064 12.1.1.66:4000 users:((\"iperf3\",pid=22225,fd=5)) timer:(on,348ms,0) uid:39791 ino:200945 sk:71 cgroup:unreachable:2010c00000052 <->\n",
      "1726389600.809797 \t ts sack cubic wscale:12,7 rto:832 rtt:283.134/109.099 ato:40 mss:1448 pmtu:1500 rcvmss:536 advmss:1448 cwnd:10 bytes_sent:162 bytes_acked:163 bytes_received:4 segs_out:9 segs_in:8 data_segs_out:3 data_segs_in:4 send 409135bps lastsnd:42792 lastrcv:41812 lastack:41812 pacing_rate 818264bps delivery_rate 57064bps delivered:4 app_limited busy:676ms rcv_space:14480 rcv_ssthresh:64088 minrtt:202.988\n",
      "1726389600.8106481726389600.810131 \t ts sack cubic wscale:12,7 rto:436 rtt:235.571/22.13 mss:1448 pmtu:1500 rcvmss:536 advmss:1448 cwnd:6 ssthresh:6 bytes_sent:3192877 bytes_retrans:139008 bytes_acked:3037942 segs_out:2208 segs_in:1281 data_segs_out:2206 send 295045bps lastsnd:88 lastrcv:42416 lastack:88 pacing_rate 590080bps delivery_rate 171376bps delivered:2105 busy:42144ms unacked:11 retrans:1/96 lost:1 sacked:5 rcv_space:14480 rcv_ssthresh:64088 notsent:489424 minrtt:73.482\n",
      " tcp ESTAB 0      204168 10.0.0.100:60476 12.1.1.130:4000 users:((\"iperf3\",pid=22224,fd=5)) timer:(on,388ms,0) uid:39791 ino:200946 sk:70 cgroup:unreachable:2010c00000052 <->\n",
      "1726389600.8116531726389600.811972 tcp ESTAB 0      0      10.0.0.100:58044 12.1.1.66:4000 users:((\"iperf3\",pid=22225,fd=4)) uid:39791 ino:200687 sk:6e cgroup:unreachable:2010c00000052 <->\n",
      " \t ts sack cubic wscale:12,7 rto:440 rtt:236.759/0.855 mss:1448 pmtu:1500 rcvmss:536 advmss:1448 cwnd:10 ssthresh:6 bytes_sent:1921533 bytes_retrans:134664 bytes_acked:1772390 segs_out:1330 segs_in:775 data_segs_out:1328 send 489274bps lastsnd:52 lastrcv:42284 lastack:56 pacing_rate 587120bps delivery_rate 486952bps delivered:1226 busy:42044ms unacked:10 retrans:0/93 reord_seen:2 rcv_space:14480 rcv_ssthresh:64088 notsent:189688 minrtt:102.335\n",
      "1726389600.814559 \t ts sack cubic wscale:12,7 rto:644 rtt:240.283/66.611 ato:40 mss:1448 pmtu:1500 rcvmss:536 advmss:1448 cwnd:10 bytes_sent:162 bytes_acked:163 bytes_received:4 segs_out:9 segs_in:8 data_segs_out:3 data_segs_in:4 send 482098bps lastsnd:42856 lastrcv:41912 lastack:41912 pacing_rate 964192bps delivery_rate 56832bps delivered:4 app_limited busy:676ms rcv_space:14480 rcv_ssthresh:64088 minrtt:203.825                                                                     \n"
     ]
    },
    {
     "name": "stderr",
     "output_type": "stream",
     "text": [
      "Failed to open cgroup2 by ID\n",
      "Failed to open cgroup2 by ID\n",
      "Failed to open cgroup2 by ID\n",
      "Failed to open cgroup2 by ID\n"
     ]
    },
    {
     "name": "stdout",
     "output_type": "stream",
     "text": [
      "1726389601.131573 tcp ESTAB 0      0      10.0.0.100:57612 12.1.1.130:4000 users:((\"iperf3\",pid=22224,fd=4)) uid:39791 ino:200688 sk:6f cgroup:unreachable:2010c00000052 <->\n",
      "1726389601.132277 \t ts sack cubic wscale:12,7 rto:832 rtt:283.134/109.099 ato:40 mss:1448 pmtu:1500 rcvmss:536 advmss:1448 cwnd:10 bytes_sent:162 bytes_acked:163 bytes_received:4 segs_out:9 segs_in:8 data_segs_out:3 data_segs_in:4 send 409135bps lastsnd:43116 lastrcv:42136 lastack:42136 pacing_rate 818264bps delivery_rate 57064bps delivered:4 app_limited busy:676ms rcv_space:14480 rcv_ssthresh:64088 minrtt:202.988\n",
      "1726389601.132832 tcp ESTAB 0      189688 10.0.0.100:60476 12.1.1.130:4000 users:((\"iperf3\",pid=22224,fd=5)) timer:(on,300ms,0) uid:39791 ino:200946 sk:70 cgroup:unreachable:2010c00000052 <->\n",
      "1726389601.133392 \t ts sack cubic wscale:12,7 rto:440 rtt:236.297/0.66 mss:1448 pmtu:1500 rcvmss:536 advmss:1448 cwnd:10 ssthresh:6 bytes_sent:1936013 bytes_retrans:134664 bytes_acked:1786870 segs_out:1340 segs_in:780 data_segs_out:1338 send 490231bps lastsnd:140 lastrcv:42608 lastack:144 pacing_rate 588272bps delivery_rate 486744bps delivered:1236 busy:42368ms unacked:10 retrans:0/93 reord_seen:2 rcv_space:14480 rcv_ssthresh:64088 notsent:175208 minrtt:102.335\n",
      "1726389601.137316 tcp ESTAB 0      489424 10.0.0.100:39064 12.1.1.66:4000 users:((\"iperf3\",pid=22225,fd=5)) timer:(on,232ms,0) uid:39791 ino:200945 sk:71 cgroup:unreachable:2010c00000052 <->\n",
      "1726389601.138603 \t ts sack cubic wscale:12,7 rto:436 rtt:232.233/10.844 mss:1448 pmtu:1500 rcvmss:536 advmss:1448 cwnd:7 ssthresh:6 bytes_sent:3203013 bytes_retrans:139008 bytes_acked:3053870 segs_out:2215 segs_in:1285 data_segs_out:2213 send 349167bps lastsnd:204 lastrcv:42740 lastack:208 pacing_rate 418992bps delivery_rate 339600bps delivered:2111 busy:42468ms unacked:7 retrans:0/96 rcv_space:14480 rcv_ssthresh:64088 notsent:479288 minrtt:73.482\n",
      "1726389601.139171 tcp ESTAB 0      0      10.0.0.100:58044 12.1.1.66:4000 users:((\"iperf3\",pid=22225,fd=4)) uid:39791 ino:200687 sk:6e cgroup:unreachable:2010c00000052 <->\n",
      "1726389601.139731 \t ts sack cubic wscale:12,7 rto:644 rtt:240.283/66.611 ato:40 mss:1448 pmtu:1500 rcvmss:536 advmss:1448 cwnd:10 bytes_sent:162 bytes_acked:163 bytes_received:4 segs_out:9 segs_in:8 data_segs_out:3 data_segs_in:4 send 482098bps lastsnd:43180 lastrcv:42236 lastack:42236 pacing_rate 964192bps delivery_rate 56832bps delivered:4 app_limited busy:676ms rcv_space:14480 rcv_ssthresh:64088 minrtt:203.825                                                       \n"
     ]
    },
    {
     "name": "stderr",
     "output_type": "stream",
     "text": [
      "Failed to open cgroup2 by ID\n",
      "Failed to open cgroup2 by ID\n",
      "Failed to open cgroup2 by ID\n",
      "Failed to open cgroup2 by ID\n"
     ]
    },
    {
     "name": "stdout",
     "output_type": "stream",
     "text": [
      "1726389601.4806471726389601.483086 tcp ESTAB 0      0      10.0.0.100:57612 12.1.1.130:4000 users:((\"iperf3\",pid=22224,fd=4)) uid:39791 ino:200688 sk:6f cgroup:unreachable:2010c00000052 <->\n",
      "1726389601.483785 tcp ESTAB 0      482184 10.0.0.100:39064 12.1.1.66:4000 users:((\"iperf3\",pid=22225,fd=5)) timer:(on,332ms,0) uid:39791 ino:200945 sk:71 cgroup:unreachable:2010c00000052 <->\n",
      " \t ts sack cubic wscale:12,7 rto:832 rtt:283.134/109.099 ato:40 mss:1448 pmtu:1500 rcvmss:536 advmss:1448 cwnd:10 bytes_sent:162 bytes_acked:163 bytes_received:4 segs_out:9 segs_in:8 data_segs_out:3 data_segs_in:4 send 409135bps lastsnd:43440 lastrcv:42460 lastack:42460 pacing_rate 818264bps delivery_rate 57064bps delivered:4 app_limited busy:676ms rcv_space:14480 rcv_ssthresh:64088 minrtt:202.988\n",
      "1726389601.4847451726389601.485096 \t ts sack cubic wscale:12,7 rto:424 rtt:223.619/8.576 mss:1448 pmtu:1500 rcvmss:536 advmss:1448 cwnd:4 ssthresh:4 bytes_sent:3213149 bytes_retrans:141904 bytes_acked:3061110 segs_out:2222 segs_in:1291 data_segs_out:2220 send 207210bps lastsnd:92 lastrcv:43064 lastack:92 pacing_rate 372976bps delivery_rate 195824bps delivered:2119 busy:42792ms unacked:7 retrans:2/98 lost:2 sacked:3 rcv_space:14480 rcv_ssthresh:64088 notsent:472048 minrtt:73.482\n",
      " tcp ESTAB 0      175208 10.0.0.100:60476 12.1.1.130:4000 users:((\"iperf3\",pid=22224,fd=5)) timer:(on,212ms,0) uid:39791 ino:200946 sk:70 cgroup:unreachable:2010c00000052 <->\n",
      "1726389601.4859501726389601.486357 \t ts sack cubic wscale:12,7 rto:440 rtt:236.49/0.493 mss:1448 pmtu:1500 rcvmss:536 advmss:1448 cwnd:10 ssthresh:6 bytes_sent:1950493 bytes_retrans:134664 bytes_acked:1801350 segs_out:1350 segs_in:785 data_segs_out:1348 send 489830bps lastsnd:228 lastrcv:42932 lastack:228 pacing_rate 587792bps delivery_rate 488344bps delivered:1246 busy:42692ms unacked:10 retrans:0/93 reord_seen:2 rcv_space:14480 rcv_ssthresh:64088 notsent:160728 minrtt:102.335\n",
      " tcp ESTAB 0      0      10.0.0.100:58044 12.1.1.66:4000 users:((\"iperf3\",pid=22225,fd=4)) uid:39791 ino:200687 sk:6e cgroup:unreachable:2010c00000052 <->\n",
      "1726389601.489085 \t ts sack cubic wscale:12,7 rto:644 rtt:240.283/66.611 ato:40 mss:1448 pmtu:1500 rcvmss:536 advmss:1448 cwnd:10 bytes_sent:162 bytes_acked:163 bytes_received:4 segs_out:9 segs_in:8 data_segs_out:3 data_segs_in:4 send 482098bps lastsnd:43504 lastrcv:42560 lastack:42560 pacing_rate 964192bps delivery_rate 56832bps delivered:4 app_limited busy:676ms rcv_space:14480 rcv_ssthresh:64088 minrtt:203.825                                                                    \n"
     ]
    },
    {
     "name": "stderr",
     "output_type": "stream",
     "text": [
      "Failed to open cgroup2 by ID\n",
      "Failed to open cgroup2 by ID\n",
      "Failed to open cgroup2 by ID\n",
      "Failed to open cgroup2 by ID\n"
     ]
    },
    {
     "name": "stdout",
     "output_type": "stream",
     "text": [
      "1726389601.833546 tcp ESTAB 0      0      10.0.0.100:57612 12.1.1.130:4000 users:((\"iperf3\",pid=22224,fd=4)) uid:39791 ino:200688 sk:6f cgroup:unreachable:2010c00000052 <->\n",
      "1726389601.8346781726389601.834174 \t ts sack cubic wscale:12,7 rto:832 rtt:283.134/109.099 ato:40 mss:1448 pmtu:1500 rcvmss:536 advmss:1448 cwnd:10 bytes_sent:162 bytes_acked:163 bytes_received:4 segs_out:9 segs_in:8 data_segs_out:3 data_segs_in:4 send 409135bps lastsnd:43792 lastrcv:42812 lastack:42812 pacing_rate 818264bps delivery_rate 57064bps delivered:4 app_limited busy:676ms rcv_space:14480 rcv_ssthresh:64088 minrtt:202.988\n",
      "1726389601.835724 tcp ESTAB 0      470600 10.0.0.100:39064 12.1.1.66:4000 users:((\"iperf3\",pid=22225,fd=5)) timer:(on,276ms,0) uid:39791 ino:200945 sk:71 cgroup:unreachable:2010c00000052 <->\n",
      " tcp ESTAB 0      143352 10.0.0.100:60476 12.1.1.130:4000 users:((\"iperf3\",pid=22224,fd=5)) timer:(on,336ms,0) uid:39791 ino:200946 sk:70 cgroup:unreachable:2010c00000052 <->\n",
      "1726389601.8366961726389601.837010 \t ts sack cubic wscale:12,7 rto:444 rtt:240.621/30.292 mss:1448 pmtu:1500 rcvmss:536 advmss:1448 cwnd:4 ssthresh:4 bytes_sent:3220389 bytes_retrans:141904 bytes_acked:3072694 segs_out:2227 segs_in:1296 data_segs_out:2225 send 192568bps lastsnd:136 lastrcv:43416 lastack:136 pacing_rate 231080bps delivery_rate 151168bps delivered:2124 busy:43144ms unacked:4 retrans:0/98 rcv_space:14480 rcv_ssthresh:64088 notsent:464808 minrtt:73.482\n",
      "1726389601.837625 \t ts sack cubic wscale:12,7 rto:440 rtt:237.184/0.389 mss:1448 pmtu:1500 rcvmss:536 advmss:1448 cwnd:12 ssthresh:6 bytes_sent:1985245 bytes_retrans:134664 bytes_acked:1833206 segs_out:1374 segs_in:796 data_segs_out:1372 send 586077bps lastsnd:104 lastrcv:43284 lastack:104 pacing_rate 703288bps delivery_rate 583480bps delivered:1268 busy:43044ms unacked:12 retrans:0/93 reord_seen:2 rcv_space:14480 rcv_ssthresh:64088 notsent:125976 minrtt:102.335\n",
      " tcp ESTAB 0      0      10.0.0.100:58044 12.1.1.66:4000 users:((\"iperf3\",pid=22225,fd=4)) uid:39791 ino:200687 sk:6e cgroup:unreachable:2010c00000052 <->\n",
      "1726389601.840358 \t ts sack cubic wscale:12,7 rto:644 rtt:240.283/66.611 ato:40 mss:1448 pmtu:1500 rcvmss:536 advmss:1448 cwnd:10 bytes_sent:162 bytes_acked:163 bytes_received:4 segs_out:9 segs_in:8 data_segs_out:3 data_segs_in:4 send 482098bps lastsnd:43856 lastrcv:42912 lastack:42912 pacing_rate 964192bps delivery_rate 56832bps delivered:4 app_limited busy:676ms rcv_space:14480 rcv_ssthresh:64088 minrtt:203.825                                                       \n"
     ]
    },
    {
     "name": "stderr",
     "output_type": "stream",
     "text": [
      "Failed to open cgroup2 by ID\n",
      "Failed to open cgroup2 by ID\n",
      "Failed to open cgroup2 by ID\n",
      "Failed to open cgroup2 by ID\n"
     ]
    },
    {
     "name": "stdout",
     "output_type": "stream",
     "text": [
      "1726389602.1693701726389602.172009 tcp ESTAB 0      0      10.0.0.100:57612 12.1.1.130:4000 users:((\"iperf3\",pid=22224,fd=4)) uid:39791 ino:200688 sk:6f cgroup:unreachable:2010c00000052 <->\n",
      "1726389602.172746 tcp ESTAB 0      464808 10.0.0.100:39064 12.1.1.66:4000 users:((\"iperf3\",pid=22225,fd=5)) timer:(on,248ms,0) uid:39791 ino:200945 sk:71 cgroup:unreachable:2010c00000052 <->\n",
      "1726389602.173351 \t ts sack cubic wscale:12,7 rto:832 rtt:283.134/109.099 ato:40 mss:1448 pmtu:1500 rcvmss:536 advmss:1448 cwnd:10 bytes_sent:162 bytes_acked:163 bytes_received:4 segs_out:9 segs_in:8 data_segs_out:3 data_segs_in:4 send 409135bps lastsnd:44144 lastrcv:43164 lastack:43164 pacing_rate 818264bps delivery_rate 57064bps delivered:4 app_limited busy:676ms rcv_space:14480 rcv_ssthresh:64088 minrtt:202.988\n",
      "1726389602.173988 \t ts sack cubic wscale:12,7 rto:460 rtt:256.271/44.165 mss:1448 pmtu:1500 rcvmss:536 advmss:1448 cwnd:5 ssthresh:4 bytes_sent:3227629 bytes_retrans:141904 bytes_acked:3078486 segs_out:2232 segs_in:1298 data_segs_out:2230 send 226011bps lastsnd:212 lastrcv:43764 lastack:212 pacing_rate 271208bps delivery_rate 169080bps delivered:2128 busy:43492ms unacked:5 retrans:0/98 rcv_space:14480 rcv_ssthresh:64088 notsent:457568 minrtt:73.482\n",
      "1726389602.174676 tcp ESTAB 0      137560 10.0.0.100:60476 12.1.1.130:4000 users:((\"iperf3\",pid=22224,fd=5)) timer:(on,336ms,0) uid:39791 ino:200946 sk:70 cgroup:unreachable:2010c00000052 <->\n",
      "1726389602.175292 tcp ESTAB 0      0      10.0.0.100:58044 12.1.1.66:4000 users:((\"iperf3\",pid=22225,fd=4)) uid:39791 ino:200687 sk:6e cgroup:unreachable:2010c00000052 <->\n",
      "1726389602.175940 \t ts sack cubic wscale:12,7 rto:452 rtt:249.983/25.673 mss:1448 pmtu:1500 rcvmss:536 advmss:1448 cwnd:8 ssthresh:8 bytes_sent:1996829 bytes_retrans:137560 bytes_acked:1838998 segs_out:1382 segs_in:802 data_segs_out:1380 send 370713bps lastsnd:116 lastrcv:43636 lastack:116 pacing_rate 778488bps delivery_rate 272520bps delivered:1276 busy:43396ms unacked:14 retrans:2/95 lost:4 sacked:4 reord_seen:2 rcv_space:14480 rcv_ssthresh:64088 notsent:117288 minrtt:102.335\n",
      " \t ts sack cubic wscale:12,7 rto:644 rtt:240.283/66.611 ato:40 mss:1448 pmtu:1500 rcvmss:536 advmss:1448 cwnd:10 bytes_sent:162 bytes_acked:163 bytes_received:4 segs_out:9 segs_in:8 data_segs_out:3 data_segs_in:4 send 482098bps lastsnd:44204 lastrcv:43260 lastack:43260 pacing_rate 964192bps delivery_rate 56832bps delivered:4 app_limited busy:676ms rcv_space:14480 rcv_ssthresh:64088 minrtt:203.825                                                       \n"
     ]
    },
    {
     "name": "stderr",
     "output_type": "stream",
     "text": [
      "Failed to open cgroup2 by ID\n",
      "Failed to open cgroup2 by ID\n",
      "Failed to open cgroup2 by ID\n",
      "Failed to open cgroup2 by ID\n"
     ]
    },
    {
     "name": "stdout",
     "output_type": "stream",
     "text": [
      "1726389602.520121 tcp ESTAB 0      457568 10.0.0.100:39064 12.1.1.66:4000 users:((\"iperf3\",pid=22225,fd=5)) timer:(on,224ms,0) uid:39791 ino:200945 sk:71 cgroup:unreachable:2010c00000052 <->\n",
      "1726389602.5226021726389602.524282 \t ts sack cubic wscale:12,7 rto:476 rtt:272.424/42.871 mss:1448 pmtu:1500 rcvmss:536 advmss:1448 cwnd:5 ssthresh:4 bytes_sent:3234869 bytes_retrans:141904 bytes_acked:3085726 segs_out:2237 segs_in:1301 data_segs_out:2235 send 212610bps lastsnd:252 lastrcv:44108 lastack:252 pacing_rate 255128bps delivery_rate 189592bps delivered:2133 busy:43836ms unacked:5 retrans:0/98 rcv_space:14480 rcv_ssthresh:64088 notsent:450328 minrtt:73.482\n",
      "1726389602.524994 tcp ESTAB 0      0      10.0.0.100:58044 12.1.1.66:4000 users:((\"iperf3\",pid=22225,fd=4)) uid:39791 ino:200687 sk:6e cgroup:unreachable:2010c00000052 <->\n",
      "1726389602.525616 \t ts sack cubic wscale:12,7 rto:644 rtt:240.283/66.611 ato:40 mss:1448 pmtu:1500 rcvmss:536 advmss:1448 cwnd:10 bytes_sent:162 bytes_acked:163 bytes_received:4 segs_out:9 segs_in:8 data_segs_out:3 data_segs_in:4 send 482098bps lastsnd:44548 lastrcv:43604 lastack:43604 pacing_rate 964192bps delivery_rate 56832bps delivered:4 app_limited busy:676ms rcv_space:14480 rcv_ssthresh:64088 minrtt:203.825                                                       \n",
      " tcp ESTAB 0      0      10.0.0.100:57612 12.1.1.130:4000 users:((\"iperf3\",pid=22224,fd=4)) uid:39791 ino:200688 sk:6f cgroup:unreachable:2010c00000052 <->\n",
      "1726389602.528518 \t ts sack cubic wscale:12,7 rto:832 rtt:283.134/109.099 ato:40 mss:1448 pmtu:1500 rcvmss:536 advmss:1448 cwnd:10 bytes_sent:162 bytes_acked:163 bytes_received:4 segs_out:9 segs_in:8 data_segs_out:3 data_segs_in:4 send 409135bps lastsnd:44476 lastrcv:43496 lastack:43496 pacing_rate 818264bps delivery_rate 57064bps delivered:4 app_limited busy:676ms rcv_space:14480 rcv_ssthresh:64088 minrtt:202.988\n",
      "1726389602.529130 tcp ESTAB 0      238920 10.0.0.100:60476 12.1.1.130:4000 users:((\"iperf3\",pid=22224,fd=5)) timer:(on,304ms,0) uid:39791 ino:200946 sk:70 cgroup:unreachable:2010c00000052 <->\n",
      "1726389602.529747 \t ts sack cubic wscale:12,7 rto:412 rtt:208.896/28.577 mss:1448 pmtu:1500 rcvmss:536 advmss:1448 cwnd:8 ssthresh:8 bytes_sent:2019997 bytes_retrans:140456 bytes_acked:1867958 segs_out:1398 segs_in:810 data_segs_out:1396 send 443627bps lastsnd:108 lastrcv:43968 lastack:108 pacing_rate 532344bps delivery_rate 456192bps delivered:1292 busy:43728ms unacked:8 retrans:0/97 reord_seen:2 rcv_space:14480 rcv_ssthresh:64088 notsent:227336 minrtt:102.335\n"
     ]
    },
    {
     "name": "stderr",
     "output_type": "stream",
     "text": [
      "Failed to open cgroup2 by ID\n",
      "Failed to open cgroup2 by ID\n",
      "Failed to open cgroup2 by ID\n",
      "Failed to open cgroup2 by ID\n"
     ]
    },
    {
     "name": "stdout",
     "output_type": "stream",
     "text": [
      "1726389602.872369 tcp ESTAB 0      444536 10.0.0.100:39064 12.1.1.66:4000 users:((\"iperf3\",pid=22225,fd=5)) timer:(on,180ms,0) uid:39791 ino:200945 sk:71 cgroup:unreachable:2010c00000052 <->\n",
      "1726389602.873100 \t ts sack cubic wscale:12,7 rto:476 rtt:272.382/34.799 mss:1448 pmtu:1500 rcvmss:536 advmss:1448 cwnd:6 ssthresh:4 bytes_sent:3247901 bytes_retrans:141904 bytes_acked:3098758 segs_out:2246 segs_in:1306 data_segs_out:2244 send 255171bps lastsnd:60 lastrcv:44460 lastack:60 pacing_rate 306200bps delivery_rate 189904bps delivered:2142 busy:44188ms unacked:5 retrans:0/98 rcv_space:14480 rcv_ssthresh:64088 notsent:437296 minrtt:73.482\n",
      "1726389602.873661 tcp ESTAB 0      0      10.0.0.100:58044 12.1.1.66:4000 users:((\"iperf3\",pid=22225,fd=4)) uid:39791 ino:200687 sk:6e cgroup:unreachable:2010c00000052 <->\n",
      "1726389602.874534 \t ts sack cubic wscale:12,7 rto:644 rtt:240.283/66.611 ato:40 mss:1448 pmtu:1500 rcvmss:536 advmss:1448 cwnd:10 bytes_sent:162 bytes_acked:163 bytes_received:4 segs_out:9 segs_in:8 data_segs_out:3 data_segs_in:4 send 482098bps lastsnd:44900 lastrcv:43956 lastack:43956 pacing_rate 964192bps delivery_rate 56832bps delivered:4 app_limited busy:676ms rcv_space:14480 rcv_ssthresh:64088 minrtt:203.825                                                     \n",
      "1726389602.877963 tcp ESTAB 0      0      10.0.0.100:57612 12.1.1.130:4000 users:((\"iperf3\",pid=22224,fd=4)) uid:39791 ino:200688 sk:6f cgroup:unreachable:2010c00000052 <->\n",
      "1726389602.879239 \t ts sack cubic wscale:12,7 rto:832 rtt:283.134/109.099 ato:40 mss:1448 pmtu:1500 rcvmss:536 advmss:1448 cwnd:10 bytes_sent:162 bytes_acked:163 bytes_received:4 segs_out:9 segs_in:8 data_segs_out:3 data_segs_in:4 send 409135bps lastsnd:44828 lastrcv:43848 lastack:43848 pacing_rate 818264bps delivery_rate 57064bps delivered:4 app_limited busy:676ms rcv_space:14480 rcv_ssthresh:64088 minrtt:202.988\n",
      "1726389602.879844 tcp ESTAB 0      237472 10.0.0.100:60476 12.1.1.130:4000 users:((\"iperf3\",pid=22224,fd=5)) timer:(on,424ms,0) uid:39791 ino:200946 sk:70 cgroup:unreachable:2010c00000052 <->\n",
      "1726389602.880401 \t ts sack cubic wscale:12,7 rto:440 rtt:224.866/53.373 mss:1448 pmtu:1500 rcvmss:536 advmss:1448 cwnd:9 ssthresh:8 bytes_sent:2024341 bytes_retrans:140456 bytes_acked:1869406 segs_out:1401 segs_in:811 data_segs_out:1399 send 463636bps lastsnd:16 lastrcv:44320 lastack:124 pacing_rate 556360bps delivery_rate 275248bps delivered:1293 busy:44080ms unacked:10 retrans:0/97 reord_seen:2 rcv_space:14480 rcv_ssthresh:64088 notsent:222992 minrtt:102.335\n"
     ]
    },
    {
     "name": "stderr",
     "output_type": "stream",
     "text": [
      "Failed to open cgroup2 by ID\n",
      "Failed to open cgroup2 by ID\n",
      "Failed to open cgroup2 by ID\n",
      "Failed to open cgroup2 by ID\n"
     ]
    },
    {
     "name": "stdout",
     "output_type": "stream",
     "text": [
      "1726389603.196907 tcp ESTAB 0      444536 10.0.0.100:39064 12.1.1.66:4000 users:((\"iperf3\",pid=22225,fd=5)) timer:(on,356ms,0) uid:39791 ino:200945 sk:71 cgroup:unreachable:2010c00000052 <->\n",
      "1726389603.198554 \t ts sack cubic wscale:12,7 rto:460 rtt:256.664/41.861 mss:1448 pmtu:1500 rcvmss:536 advmss:1448 cwnd:4 ssthresh:4 bytes_sent:3253693 bytes_retrans:143352 bytes_acked:3098758 segs_out:2250 segs_in:1310 data_segs_out:2248 send 180532bps lastsnd:104 lastrcv:44808 lastack:104 pacing_rate 379112bps delivery_rate 151560bps delivered:2146 busy:44536ms unacked:8 retrans:1/99 lost:1 sacked:4 rcv_space:14480 rcv_ssthresh:64088 notsent:432952 minrtt:73.482\n",
      "1726389603.1991131726389603.201022 tcp ESTAB 0      0      10.0.0.100:58044 12.1.1.66:4000 users:((\"iperf3\",pid=22225,fd=4)) uid:39791 ino:200687 sk:6e cgroup:unreachable:2010c00000052 <->\n",
      "1726389603.201680 \t ts sack cubic wscale:12,7 rto:644 rtt:240.283/66.611 ato:40 mss:1448 pmtu:1500 rcvmss:536 advmss:1448 cwnd:10 bytes_sent:162 bytes_acked:163 bytes_received:4 segs_out:9 segs_in:8 data_segs_out:3 data_segs_in:4 send 482098bps lastsnd:45248 lastrcv:44304 lastack:44304 pacing_rate 964192bps delivery_rate 56832bps delivered:4 app_limited busy:676ms rcv_space:14480 rcv_ssthresh:64088 minrtt:203.825                                                                       \n",
      " tcp ESTAB 0      0      10.0.0.100:57612 12.1.1.130:4000 users:((\"iperf3\",pid=22224,fd=4)) uid:39791 ino:200688 sk:6f cgroup:unreachable:2010c00000052 <->\n",
      "1726389603.204665 \t ts sack cubic wscale:12,7 rto:832 rtt:283.134/109.099 ato:40 mss:1448 pmtu:1500 rcvmss:536 advmss:1448 cwnd:10 bytes_sent:162 bytes_acked:163 bytes_received:4 segs_out:9 segs_in:8 data_segs_out:3 data_segs_in:4 send 409135bps lastsnd:45176 lastrcv:44196 lastack:44196 pacing_rate 818264bps delivery_rate 57064bps delivered:4 app_limited busy:676ms rcv_space:14480 rcv_ssthresh:64088 minrtt:202.988\n",
      "1726389603.205240 tcp ESTAB 0      236024 10.0.0.100:60476 12.1.1.130:4000 users:((\"iperf3\",pid=22224,fd=5)) timer:(on,292ms,0) uid:39791 ino:200946 sk:70 cgroup:unreachable:2010c00000052 <->\n",
      "1726389603.205794 \t ts sack cubic wscale:12,7 rto:424 rtt:207.107/53.051 mss:1448 pmtu:1500 rcvmss:536 advmss:1448 cwnd:4 ssthresh:6 bytes_sent:2031581 bytes_retrans:147696 bytes_acked:1870854 segs_out:1406 segs_in:815 data_segs_out:1404 send 223730bps lastsnd:132 lastrcv:44668 lastack:132 pacing_rate 604064bps delivery_rate 128024bps delivered:1297 busy:44428ms unacked:9 retrans:4/102 lost:6 sacked:3 reord_seen:2 rcv_space:14480 rcv_ssthresh:64088 notsent:222992 minrtt:68\n"
     ]
    },
    {
     "name": "stderr",
     "output_type": "stream",
     "text": [
      "Failed to open cgroup2 by ID\n",
      "Failed to open cgroup2 by ID\n",
      "Failed to open cgroup2 by ID\n",
      "Failed to open cgroup2 by ID\n"
     ]
    },
    {
     "name": "stdout",
     "output_type": "stream",
     "text": [
      "1726389603.5190911726389603.519934 tcp ESTAB 0      0      10.0.0.100:57612 12.1.1.130:4000 users:((\"iperf3\",pid=22224,fd=4)) uid:39791 ino:200688 sk:6f cgroup:unreachable:2010c00000052 <->\n",
      "1726389603.520589 tcp ESTAB 0      444536 10.0.0.100:39064 12.1.1.66:4000 users:((\"iperf3\",pid=22225,fd=5)) timer:(on,268ms,0) uid:39791 ino:200945 sk:71 cgroup:unreachable:2010c00000052 <->\n",
      "1726389603.521288 \t ts sack cubic wscale:12,7 rto:832 rtt:283.134/109.099 ato:40 mss:1448 pmtu:1500 rcvmss:536 advmss:1448 cwnd:10 bytes_sent:162 bytes_acked:163 bytes_received:4 segs_out:9 segs_in:8 data_segs_out:3 data_segs_in:4 send 409135bps lastsnd:45500 lastrcv:44520 lastack:44520 pacing_rate 818264bps delivery_rate 57064bps delivered:4 app_limited busy:676ms rcv_space:14480 rcv_ssthresh:64088 minrtt:202.988\n",
      "1726389603.521814 \t ts sack cubic wscale:12,7 rto:456 rtt:254.148/36.427 mss:1448 pmtu:1500 rcvmss:536 advmss:1448 cwnd:1 ssthresh:4 bytes_sent:3255141 bytes_retrans:144800 bytes_acked:3098758 segs_out:2251 segs_in:1311 data_segs_out:2249 send 45580bps lastsnd:188 lastrcv:45132 lastack:188 pacing_rate 729272bps delivery_rate 37888bps delivered:2147 busy:44860ms unacked:8 retrans:1/100 lost:3 sacked:5 rcv_space:14480 rcv_ssthresh:64088 notsent:432952 minrtt:73.482\n",
      "1726389603.522522 tcp ESTAB 0      236024 10.0.0.100:60476 12.1.1.130:4000 users:((\"iperf3\",pid=22224,fd=5)) timer:(on,272ms,0) uid:39791 ino:200946 sk:70 cgroup:unreachable:2010c00000052 <->\n",
      "1726389603.523097 tcp ESTAB 0      0      10.0.0.100:58044 12.1.1.66:4000 users:((\"iperf3\",pid=22225,fd=4)) uid:39791 ino:200687 sk:6e cgroup:unreachable:2010c00000052 <->\n",
      "1726389603.523657 \t ts sack cubic wscale:12,7 rto:424 rtt:207.107/53.051 mss:1448 pmtu:1500 rcvmss:536 advmss:1448 cwnd:2 ssthresh:6 bytes_sent:2034477 bytes_retrans:150592 bytes_acked:1870854 segs_out:1408 segs_in:817 data_segs_out:1406 send 111865bps lastsnd:152 lastrcv:44992 lastack:152 pacing_rate 1006776bps delivery_rate 76136bps delivered:1299 busy:44752ms unacked:9 retrans:2/104 lost:4 sacked:5 reord_seen:2 rcv_space:14480 rcv_ssthresh:64088 notsent:222992 minrtt:68\n",
      " \t ts sack cubic wscale:12,7 rto:644 rtt:240.283/66.611 ato:40 mss:1448 pmtu:1500 rcvmss:536 advmss:1448 cwnd:10 bytes_sent:162 bytes_acked:163 bytes_received:4 segs_out:9 segs_in:8 data_segs_out:3 data_segs_in:4 send 482098bps lastsnd:45572 lastrcv:44628 lastack:44628 pacing_rate 964192bps delivery_rate 56832bps delivered:4 app_limited busy:676ms rcv_space:14480 rcv_ssthresh:64088 minrtt:203.825                                                                      \n"
     ]
    },
    {
     "name": "stderr",
     "output_type": "stream",
     "text": [
      "Failed to open cgroup2 by ID\n",
      "Failed to open cgroup2 by ID\n",
      "Failed to open cgroup2 by ID\n",
      "Failed to open cgroup2 by ID\n"
     ]
    },
    {
     "name": "stdout",
     "output_type": "stream",
     "text": [
      "1726389603.8365581726389603.839587 tcp ESTAB 0      0      10.0.0.100:57612 12.1.1.130:4000 users:((\"iperf3\",pid=22224,fd=4)) uid:39791 ino:200688 sk:6f cgroup:unreachable:2010c00000052 <->\n",
      "1726389603.840238 \t ts sack cubic wscale:12,7 rto:832 rtt:283.134/109.099 ato:40 mss:1448 pmtu:1500 rcvmss:536 advmss:1448 cwnd:10 bytes_sent:162 bytes_acked:163 bytes_received:4 segs_out:9 segs_in:8 data_segs_out:3 data_segs_in:4 send 409135bps lastsnd:45820 lastrcv:44840 lastack:44840 pacing_rate 818264bps delivery_rate 57064bps delivered:4 app_limited busy:676ms rcv_space:14480 rcv_ssthresh:64088 minrtt:202.988\n",
      "1726389603.840838 tcp ESTAB 0      230232 10.0.0.100:60476 12.1.1.130:4000 users:((\"iperf3\",pid=22224,fd=5)) timer:(on,232ms,0) uid:39791 ino:200946 sk:70 cgroup:unreachable:2010c00000052 <->\n",
      "1726389603.841398 \t ts sack cubic wscale:12,7 rto:432 rtt:218.363/50.485 mss:1448 pmtu:1500 rcvmss:536 advmss:1448 cwnd:4 ssthresh:6 bytes_sent:2040269 bytes_retrans:153488 bytes_acked:1876646 segs_out:1412 segs_in:819 data_segs_out:1410 send 212197bps lastsnd:200 lastrcv:45312 lastack:200 pacing_rate 318288bps delivery_rate 76136bps delivered:1301 busy:45072ms unacked:7 retrans:2/106 lost:2 sacked:3 reord_seen:2 rcv_space:14480 rcv_ssthresh:64088 notsent:220096 minrtt:68\n",
      " tcp ESTAB 0      432952 10.0.0.100:39064 12.1.1.66:4000 users:((\"iperf3\",pid=22225,fd=5)) timer:(on,412ms,0) uid:39791 ino:200945 sk:71 cgroup:unreachable:2010c00000052 <->\n",
      "1726389603.843827 \t ts sack cubic wscale:12,7 rto:452 rtt:248.392/23.965 mss:1448 pmtu:1500 rcvmss:536 advmss:1448 cwnd:2 ssthresh:2 bytes_sent:3260933 bytes_retrans:147696 bytes_acked:3110342 segs_out:2255 segs_in:1314 data_segs_out:2253 send 93272bps lastsnd:40 lastrcv:45456 lastack:40 pacing_rate 111920bps delivery_rate 97784bps delivered:2150 busy:45184ms unacked:2 retrans:0/102 rcv_space:14480 rcv_ssthresh:64088 notsent:430056 minrtt:73.482\n",
      "1726389603.844425 tcp ESTAB 0      0      10.0.0.100:58044 12.1.1.66:4000 users:((\"iperf3\",pid=22225,fd=4)) uid:39791 ino:200687 sk:6e cgroup:unreachable:2010c00000052 <->\n",
      "1726389603.844984 \t ts sack cubic wscale:12,7 rto:644 rtt:240.283/66.611 ato:40 mss:1448 pmtu:1500 rcvmss:536 advmss:1448 cwnd:10 bytes_sent:162 bytes_acked:163 bytes_received:4 segs_out:9 segs_in:8 data_segs_out:3 data_segs_in:4 send 482098bps lastsnd:45896 lastrcv:44952 lastack:44952 pacing_rate 964192bps delivery_rate 56832bps delivered:4 app_limited busy:676ms rcv_space:14480 rcv_ssthresh:64088 minrtt:203.825                                                    \n"
     ]
    },
    {
     "name": "stderr",
     "output_type": "stream",
     "text": [
      "Failed to open cgroup2 by ID\n",
      "Failed to open cgroup2 by ID\n",
      "Failed to open cgroup2 by ID\n",
      "Failed to open cgroup2 by ID\n"
     ]
    },
    {
     "name": "stdout",
     "output_type": "stream",
     "text": [
      "1726389604.161152 tcp ESTAB 0      0      10.0.0.100:57612 12.1.1.130:4000 users:((\"iperf3\",pid=22224,fd=4)) uid:39791 ino:200688 sk:6f cgroup:unreachable:2010c00000052 <->\n",
      "1726389604.161964 \t ts sack cubic wscale:12,7 rto:832 rtt:283.134/109.099 ato:40 mss:1448 pmtu:1500 rcvmss:536 advmss:1448 cwnd:10 bytes_sent:162 bytes_acked:163 bytes_received:4 segs_out:9 segs_in:8 data_segs_out:3 data_segs_in:4 send 409135bps lastsnd:46144 lastrcv:45164 lastack:45164 pacing_rate 818264bps delivery_rate 57064bps delivered:4 app_limited busy:676ms rcv_space:14480 rcv_ssthresh:64088 minrtt:202.988\n",
      "1726389604.162627 tcp ESTAB 0      222992 10.0.0.100:60476 12.1.1.130:4000 users:((\"iperf3\",pid=22224,fd=5)) timer:(on,428ms,0) uid:39791 ino:200946 sk:70 cgroup:unreachable:2010c00000052 <->\n",
      "1726389604.1631401726389604.164130 \t ts sack cubic wscale:12,7 rto:480 rtt:226.755/44.211 mss:1448 pmtu:1500 rcvmss:536 advmss:1448 cwnd:4 ssthresh:4 bytes_sent:2050405 bytes_retrans:156384 bytes_acked:1883886 segs_out:1419 segs_in:824 data_segs_out:1417 send 204344bps lastsnd:52 lastrcv:45636 lastack:52 pacing_rate 367816bps delivery_rate 114232bps delivered:1306 busy:45396ms unacked:7 retrans:2/108 lost:2 sacked:3 reord_seen:2 rcv_space:14480 rcv_ssthresh:64088 notsent:212856 minrtt:68\n",
      " tcp ESTAB 0      430056 10.0.0.100:39064 12.1.1.66:4000 users:((\"iperf3\",pid=22225,fd=5)) timer:(on,292ms,0) uid:39791 ino:200945 sk:71 cgroup:unreachable:2010c00000052 <->\n",
      "1726389604.166702 \t ts sack cubic wscale:12,7 rto:440 rtt:237.913/25.066 mss:1448 pmtu:1500 rcvmss:536 advmss:1448 cwnd:3 ssthresh:2 bytes_sent:3265277 bytes_retrans:147696 bytes_acked:3113238 segs_out:2258 segs_in:1316 data_segs_out:2256 send 146070bps lastsnd:148 lastrcv:45768 lastack:148 pacing_rate 175280bps delivery_rate 97776bps delivered:2152 busy:45496ms unacked:3 retrans:0/102 rcv_space:14480 rcv_ssthresh:64088 notsent:425712 minrtt:73.482\n",
      "1726389604.167280 tcp ESTAB 0      0      10.0.0.100:58044 12.1.1.66:4000 users:((\"iperf3\",pid=22225,fd=4)) uid:39791 ino:200687 sk:6e cgroup:unreachable:2010c00000052 <->\n",
      "1726389604.167834 \t ts sack cubic wscale:12,7 rto:644 rtt:240.283/66.611 ato:40 mss:1448 pmtu:1500 rcvmss:536 advmss:1448 cwnd:10 bytes_sent:162 bytes_acked:163 bytes_received:4 segs_out:9 segs_in:8 data_segs_out:3 data_segs_in:4 send 482098bps lastsnd:46208 lastrcv:45264 lastack:45264 pacing_rate 964192bps delivery_rate 56832bps delivered:4 app_limited busy:676ms rcv_space:14480 rcv_ssthresh:64088 minrtt:203.825                                                       \n"
     ]
    },
    {
     "name": "stderr",
     "output_type": "stream",
     "text": [
      "Failed to open cgroup2 by ID\n",
      "Failed to open cgroup2 by ID\n",
      "Failed to open cgroup2 by ID\n",
      "Failed to open cgroup2 by ID\n"
     ]
    },
    {
     "name": "stdout",
     "output_type": "stream",
     "text": [
      "1726389604.484675 tcp ESTAB 0      0      10.0.0.100:57612 12.1.1.130:4000 users:((\"iperf3\",pid=22224,fd=4)) uid:39791 ino:200688 sk:6f cgroup:unreachable:2010c00000052 <->\n",
      "1726389604.485348 \t ts sack cubic wscale:12,7 rto:832 rtt:283.134/109.099 ato:40 mss:1448 pmtu:1500 rcvmss:536 advmss:1448 cwnd:10 bytes_sent:162 bytes_acked:163 bytes_received:4 segs_out:9 segs_in:8 data_segs_out:3 data_segs_in:4 send 409135bps lastsnd:46464 lastrcv:45484 lastack:45484 pacing_rate 818264bps delivery_rate 57064bps delivered:4 app_limited busy:676ms rcv_space:14480 rcv_ssthresh:64088 minrtt:202.988\n",
      "1726389604.486378 tcp ESTAB 0      211408 10.0.0.100:60476 12.1.1.130:4000 users:((\"iperf3\",pid=22224,fd=5)) timer:(on,448ms,0) uid:39791 ino:200946 sk:70 cgroup:unreachable:2010c00000052 <->\n",
      "1726389604.486902 \t ts sack cubic wscale:12,7 rto:512 rtt:256.666/47.627 mss:1448 pmtu:1500 rcvmss:536 advmss:1448 cwnd:4 ssthresh:4 bytes_sent:2057645 bytes_retrans:156384 bytes_acked:1895470 segs_out:1424 segs_in:829 data_segs_out:1422 send 180530bps lastsnd:32 lastrcv:45956 lastack:32 pacing_rate 216632bps delivery_rate 152360bps delivered:1311 busy:45716ms unacked:4 retrans:0/108 reord_seen:2 rcv_space:14480 rcv_ssthresh:64088 notsent:205616 minrtt:68\n",
      "1726389604.489129 tcp ESTAB 0      421368 10.0.0.100:39064 12.1.1.66:4000 users:((\"iperf3\",pid=22225,fd=5)) timer:(on,352ms,0) uid:39791 ino:200945 sk:71 cgroup:unreachable:2010c00000052 <->\n",
      "1726389604.489783 \t ts sack cubic wscale:12,7 rto:420 rtt:219.045/21.627 mss:1448 pmtu:1500 rcvmss:536 advmss:1448 cwnd:3 ssthresh:2 bytes_sent:3273965 bytes_retrans:147696 bytes_acked:3121926 segs_out:2264 segs_in:1322 data_segs_out:2262 send 158652bps lastsnd:68 lastrcv:46096 lastack:68 pacing_rate 190376bps delivery_rate 169824bps delivered:2158 busy:45824ms unacked:3 retrans:0/102 rcv_space:14480 rcv_ssthresh:64088 notsent:417024 minrtt:73.482\n",
      "1726389604.490515 tcp ESTAB 0      0      10.0.0.100:58044 12.1.1.66:4000 users:((\"iperf3\",pid=22225,fd=4)) uid:39791 ino:200687 sk:6e cgroup:unreachable:2010c00000052 <->\n",
      "1726389604.491038 \t ts sack cubic wscale:12,7 rto:644 rtt:240.283/66.611 ato:40 mss:1448 pmtu:1500 rcvmss:536 advmss:1448 cwnd:10 bytes_sent:162 bytes_acked:163 bytes_received:4 segs_out:9 segs_in:8 data_segs_out:3 data_segs_in:4 send 482098bps lastsnd:46536 lastrcv:45592 lastack:45592 pacing_rate 964192bps delivery_rate 56832bps delivered:4 app_limited busy:676ms rcv_space:14480 rcv_ssthresh:64088 minrtt:203.825                                                      \n"
     ]
    },
    {
     "name": "stderr",
     "output_type": "stream",
     "text": [
      "Failed to open cgroup2 by ID\n",
      "Failed to open cgroup2 by ID\n",
      "Failed to open cgroup2 by ID\n",
      "Failed to open cgroup2 by ID\n"
     ]
    },
    {
     "name": "stdout",
     "output_type": "stream",
     "text": [
      "1726389604.807487 tcp ESTAB 0      0      10.0.0.100:57612 12.1.1.130:4000 users:((\"iperf3\",pid=22224,fd=4)) uid:39791 ino:200688 sk:6f cgroup:unreachable:2010c00000052 <->\n",
      "1726389604.808160 \t ts sack cubic wscale:12,7 rto:832 rtt:283.134/109.099 ato:40 mss:1448 pmtu:1500 rcvmss:536 advmss:1448 cwnd:10 bytes_sent:162 bytes_acked:163 bytes_received:4 segs_out:9 segs_in:8 data_segs_out:3 data_segs_in:4 send 409135bps lastsnd:46792 lastrcv:45812 lastack:45812 pacing_rate 818264bps delivery_rate 57064bps delivered:4 app_limited busy:676ms rcv_space:14480 rcv_ssthresh:64088 minrtt:202.988\n",
      "1726389604.808710 tcp ESTAB 0      205616 10.0.0.100:60476 12.1.1.130:4000 users:((\"iperf3\",pid=22224,fd=5)) timer:(on,260ms,0) uid:39791 ino:200946 sk:70 cgroup:unreachable:2010c00000052 <->\n",
      "1726389604.809324 \t ts sack cubic wscale:12,7 rto:484 rtt:236.233/49.72 mss:1448 pmtu:1500 rcvmss:536 advmss:1448 cwnd:5 ssthresh:4 bytes_sent:2064885 bytes_retrans:156384 bytes_acked:1901262 segs_out:1429 segs_in:831 data_segs_out:1427 send 245182bps lastsnd:192 lastrcv:46284 lastack:192 pacing_rate 294216bps delivery_rate 194480bps delivered:1315 busy:46044ms unacked:5 retrans:0/108 reord_seen:2 rcv_space:14480 rcv_ssthresh:64088 notsent:198376 minrtt:68\n",
      "1726389604.812079 tcp ESTAB 0      417024 10.0.0.100:39064 12.1.1.66:4000 users:((\"iperf3\",pid=22225,fd=5)) timer:(on,232ms,0) uid:39791 ino:200945 sk:71 cgroup:unreachable:2010c00000052 <->\n",
      "1726389604.813243 \t ts sack cubic wscale:12,7 rto:416 rtt:213.678/17.22 mss:1448 pmtu:1500 rcvmss:536 advmss:1448 cwnd:3 ssthresh:2 bytes_sent:3278309 bytes_retrans:147696 bytes_acked:3126270 segs_out:2267 segs_in:1325 data_segs_out:2265 send 162637bps lastsnd:184 lastrcv:46416 lastack:188 pacing_rate 195160bps delivery_rate 169768bps delivered:2161 busy:46144ms unacked:3 retrans:0/102 rcv_space:14480 rcv_ssthresh:64088 notsent:412680 minrtt:73.482\n",
      "1726389604.813854 tcp ESTAB 0      0      10.0.0.100:58044 12.1.1.66:4000 users:((\"iperf3\",pid=22225,fd=4)) uid:39791 ino:200687 sk:6e cgroup:unreachable:2010c00000052 <->\n",
      "1726389604.814492 \t ts sack cubic wscale:12,7 rto:644 rtt:240.283/66.611 ato:40 mss:1448 pmtu:1500 rcvmss:536 advmss:1448 cwnd:10 bytes_sent:162 bytes_acked:163 bytes_received:4 segs_out:9 segs_in:8 data_segs_out:3 data_segs_in:4 send 482098bps lastsnd:46856 lastrcv:45912 lastack:45912 pacing_rate 964192bps delivery_rate 56832bps delivered:4 app_limited busy:676ms rcv_space:14480 rcv_ssthresh:64088 minrtt:203.825                                                       \n"
     ]
    },
    {
     "name": "stderr",
     "output_type": "stream",
     "text": [
      "Failed to open cgroup2 by ID\n",
      "Failed to open cgroup2 by ID\n",
      "Failed to open cgroup2 by ID\n",
      "Failed to open cgroup2 by ID\n"
     ]
    },
    {
     "name": "stdout",
     "output_type": "stream",
     "text": [
      "1726389605.1286981726389605.129879 tcp ESTAB 0      0      10.0.0.100:57612 12.1.1.130:4000 users:((\"iperf3\",pid=22224,fd=4)) uid:39791 ino:200688 sk:6f cgroup:unreachable:2010c00000052 <->\n",
      "1726389605.130635 \t ts sack cubic wscale:12,7 rto:832 rtt:283.134/109.099 ato:40 mss:1448 pmtu:1500 rcvmss:536 advmss:1448 cwnd:10 bytes_sent:162 bytes_acked:163 bytes_received:4 segs_out:9 segs_in:8 data_segs_out:3 data_segs_in:4 send 409135bps lastsnd:47116 lastrcv:46136 lastack:46136 pacing_rate 818264bps delivery_rate 57064bps delivered:4 app_limited busy:676ms rcv_space:14480 rcv_ssthresh:64088 minrtt:202.988\n",
      " tcp ESTAB 0      412680 10.0.0.100:39064 12.1.1.66:4000 users:((\"iperf3\",pid=22225,fd=5)) timer:(on,200ms,0) uid:39791 ino:200945 sk:71 cgroup:unreachable:2010c00000052 <->\n",
      "1726389605.1315531726389605.131885 tcp ESTAB 0      198376 10.0.0.100:60476 12.1.1.130:4000 users:((\"iperf3\",pid=22224,fd=5)) timer:(on,252ms,0) uid:39791 ino:200946 sk:70 cgroup:unreachable:2010c00000052 <->\n",
      "1726389605.132461 \t ts sack cubic wscale:12,7 rto:436 rtt:232.601/35.674 mss:1448 pmtu:1500 rcvmss:536 advmss:1448 cwnd:5 ssthresh:2 bytes_sent:3285549 bytes_retrans:147696 bytes_acked:3130614 segs_out:2272 segs_in:1328 data_segs_out:2270 send 249010bps lastsnd:236 lastrcv:46736 lastack:236 pacing_rate 298808bps delivery_rate 128136bps delivered:2164 busy:46464ms unacked:5 retrans:0/102 rcv_space:14480 rcv_ssthresh:64088 notsent:405440 minrtt:73.482\n",
      "1726389605.133030 \t ts sack cubic wscale:12,7 rto:496 rtt:252.241/55.717 mss:1448 pmtu:1500 rcvmss:536 advmss:1448 cwnd:5 ssthresh:4 bytes_sent:2072125 bytes_retrans:156384 bytes_acked:1908502 segs_out:1434 segs_in:833 data_segs_out:1432 send 229622bps lastsnd:244 lastrcv:46608 lastack:244 pacing_rate 275544bps delivery_rate 213544bps delivered:1320 busy:46368ms unacked:5 retrans:0/108 reord_seen:2 rcv_space:14480 rcv_ssthresh:64088 notsent:191136 minrtt:68\n",
      " tcp ESTAB 0      0      10.0.0.100:58044 12.1.1.66:4000 users:((\"iperf3\",pid=22225,fd=4)) uid:39791 ino:200687 sk:6e cgroup:unreachable:2010c00000052 <->\n",
      "1726389605.134560 \t ts sack cubic wscale:12,7 rto:644 rtt:240.283/66.611 ato:40 mss:1448 pmtu:1500 rcvmss:536 advmss:1448 cwnd:10 bytes_sent:162 bytes_acked:163 bytes_received:4 segs_out:9 segs_in:8 data_segs_out:3 data_segs_in:4 send 482098bps lastsnd:47176 lastrcv:46232 lastack:46232 pacing_rate 964192bps delivery_rate 56832bps delivered:4 app_limited busy:676ms rcv_space:14480 rcv_ssthresh:64088 minrtt:203.825                                                        \n"
     ]
    },
    {
     "name": "stderr",
     "output_type": "stream",
     "text": [
      "Failed to open cgroup2 by ID\n",
      "Failed to open cgroup2 by ID\n",
      "Failed to open cgroup2 by ID\n",
      "Failed to open cgroup2 by ID\n"
     ]
    },
    {
     "name": "stdout",
     "output_type": "stream",
     "text": [
      "1726389605.457051 tcp ESTAB 0      399648 10.0.0.100:39064 12.1.1.66:4000 users:((\"iperf3\",pid=22225,fd=5)) timer:(on,112ms,0) uid:39791 ino:200945 sk:71 cgroup:unreachable:2010c00000052 <->\n",
      "1726389605.458559 \t ts sack cubic wscale:12,7 rto:436 rtt:235.039/11.251 mss:1448 pmtu:1500 rcvmss:536 advmss:1448 cwnd:5 ssthresh:2 bytes_sent:3298581 bytes_retrans:147696 bytes_acked:3143646 segs_out:2281 segs_in:1333 data_segs_out:2279 send 246427bps lastsnd:88 lastrcv:47064 lastack:88 pacing_rate 295712bps delivery_rate 243576bps delivered:2173 busy:46792ms unacked:5 retrans:0/102 rcv_space:14480 rcv_ssthresh:64088 notsent:392408 minrtt:73.482\n",
      "1726389605.459236 tcp ESTAB 0      0      10.0.0.100:58044 12.1.1.66:4000 users:((\"iperf3\",pid=22225,fd=4)) uid:39791 ino:200687 sk:6e cgroup:unreachable:2010c00000052 <->\n",
      "1726389605.459751 \t ts sack cubic wscale:12,7 rto:644 rtt:240.283/66.611 ato:40 mss:1448 pmtu:1500 rcvmss:536 advmss:1448 cwnd:10 bytes_sent:162 bytes_acked:163 bytes_received:4 segs_out:9 segs_in:8 data_segs_out:3 data_segs_in:4 send 482098bps lastsnd:47504 lastrcv:46560 lastack:46560 pacing_rate 964192bps delivery_rate 56832bps delivered:4 app_limited busy:676ms rcv_space:14480 rcv_ssthresh:64088 minrtt:203.825                                                      \n",
      "1726389605.462536 tcp ESTAB 0      0      10.0.0.100:57612 12.1.1.130:4000 users:((\"iperf3\",pid=22224,fd=4)) uid:39791 ino:200688 sk:6f cgroup:unreachable:2010c00000052 <->\n",
      "1726389605.463192 \t ts sack cubic wscale:12,7 rto:832 rtt:283.134/109.099 ato:40 mss:1448 pmtu:1500 rcvmss:536 advmss:1448 cwnd:10 bytes_sent:162 bytes_acked:163 bytes_received:4 segs_out:9 segs_in:8 data_segs_out:3 data_segs_in:4 send 409135bps lastsnd:47432 lastrcv:46452 lastack:46452 pacing_rate 818264bps delivery_rate 57064bps delivered:4 app_limited busy:676ms rcv_space:14480 rcv_ssthresh:64088 minrtt:202.988\n",
      "1726389605.463769 tcp ESTAB 0      191136 10.0.0.100:60476 12.1.1.130:4000 users:((\"iperf3\",pid=22224,fd=5)) timer:(on,208ms,0) uid:39791 ino:200946 sk:70 cgroup:unreachable:2010c00000052 <->\n",
      "1726389605.464317 \t ts sack cubic wscale:12,7 rto:496 rtt:258.467/32.826 mss:1448 pmtu:1500 rcvmss:536 advmss:1448 cwnd:5 ssthresh:4 bytes_sent:2079365 bytes_retrans:156384 bytes_acked:1915742 segs_out:1439 segs_in:836 data_segs_out:1437 send 224091bps lastsnd:288 lastrcv:46924 lastack:288 pacing_rate 268904bps delivery_rate 213064bps delivered:1325 busy:46684ms unacked:5 retrans:0/108 reord_seen:2 rcv_space:14480 rcv_ssthresh:64088 notsent:183896 minrtt:68\n"
     ]
    },
    {
     "name": "stderr",
     "output_type": "stream",
     "text": [
      "Failed to open cgroup2 by ID\n",
      "Failed to open cgroup2 by ID\n",
      "Failed to open cgroup2 by ID\n",
      "Failed to open cgroup2 by ID\n"
     ]
    },
    {
     "name": "stdout",
     "output_type": "stream",
     "text": [
      "1726389605.7797291726389605.778093 tcp ESTAB 0      0      10.0.0.100:57612 12.1.1.130:4000 users:((\"iperf3\",pid=22224,fd=4)) uid:39791 ino:200688 sk:6f cgroup:unreachable:2010c00000052 <->\n",
      "1726389605.782323 \t ts sack cubic wscale:12,7 rto:832 rtt:283.134/109.099 ato:40 mss:1448 pmtu:1500 rcvmss:536 advmss:1448 cwnd:10 bytes_sent:162 bytes_acked:163 bytes_received:4 segs_out:9 segs_in:8 data_segs_out:3 data_segs_in:4 send 409135bps lastsnd:47756 lastrcv:46776 lastack:46776 pacing_rate 818264bps delivery_rate 57064bps delivered:4 app_limited busy:676ms rcv_space:14480 rcv_ssthresh:64088 minrtt:202.988\n",
      "1726389605.782416 tcp ESTAB 0      173760 10.0.0.100:60476 12.1.1.130:4000 users:((\"iperf3\",pid=22224,fd=5)) timer:(on,460ms,0) uid:39791 ino:200946 sk:70 cgroup:unreachable:2010c00000052 <->\n",
      "1726389605.782505 \t ts sack cubic wscale:12,7 rto:492 rtt:270.205/17.028 mss:1448 pmtu:1500 rcvmss:536 advmss:1448 cwnd:7 ssthresh:4 bytes_sent:2099637 bytes_retrans:156384 bytes_acked:1933118 segs_out:1453 segs_in:841 data_segs_out:1451 send 300098bps lastsnd:32 lastrcv:47248 lastack:36 pacing_rate 360112bps delivery_rate 265720bps delivered:1337 busy:47008ms unacked:7 retrans:0/108 reord_seen:2 rcv_space:14480 rcv_ssthresh:64088 notsent:163624 minrtt:68\n",
      " tcp ESTAB 0      399648 10.0.0.100:39064 12.1.1.66:4000 users:((\"iperf3\",pid=22225,fd=5)) timer:(on,296ms,0) uid:39791 ino:200945 sk:71 cgroup:unreachable:2010c00000052 <->\n",
      "1726389605.780504 \t ts sack cubic wscale:12,7 rto:440 rtt:239.945/12.953 mss:1448 pmtu:1500 rcvmss:536 advmss:1448 cwnd:3 ssthresh:3 bytes_sent:3302925 bytes_retrans:149144 bytes_acked:3143646 segs_out:2284 segs_in:1337 data_segs_out:2282 send 144833bps lastsnd:180 lastrcv:47392 lastack:144 pacing_rate 405528bps delivery_rate 171024bps delivered:2177 busy:47120ms unacked:7 retrans:1/103 lost:1 sacked:4 rcv_space:14480 rcv_ssthresh:64088 notsent:389512 minrtt:73.482\n",
      "1726389605.780582 tcp ESTAB 0      0      10.0.0.100:58044 12.1.1.66:4000 users:((\"iperf3\",pid=22225,fd=4)) uid:39791 ino:200687 sk:6e cgroup:unreachable:2010c00000052 <->\n",
      "1726389605.780632 \t ts sack cubic wscale:12,7 rto:644 rtt:240.283/66.611 ato:40 mss:1448 pmtu:1500 rcvmss:536 advmss:1448 cwnd:10 bytes_sent:162 bytes_acked:163 bytes_received:4 segs_out:9 segs_in:8 data_segs_out:3 data_segs_in:4 send 482098bps lastsnd:47832 lastrcv:46888 lastack:46888 pacing_rate 964192bps delivery_rate 56832bps delivered:4 app_limited busy:676ms rcv_space:14480 rcv_ssthresh:64088 minrtt:203.825                                                                        \n"
     ]
    },
    {
     "name": "stderr",
     "output_type": "stream",
     "text": [
      "Failed to open cgroup2 by ID\n",
      "Failed to open cgroup2 by ID\n",
      "Failed to open cgroup2 by ID\n",
      "Failed to open cgroup2 by ID\n"
     ]
    },
    {
     "name": "stdout",
     "output_type": "stream",
     "text": [
      "1726389606.172409 tcp ESTAB 0      0      10.0.0.100:57612 12.1.1.130:4000 users:((\"iperf3\",pid=22224,fd=4)) uid:39791 ino:200688 sk:6f cgroup:unreachable:2010c00000052 <->\n",
      "1726389606.173058 \t ts sack cubic wscale:12,7 rto:832 rtt:283.134/109.099 ato:40 mss:1448 pmtu:1500 rcvmss:536 advmss:1448 cwnd:10 bytes_sent:162 bytes_acked:163 bytes_received:4 segs_out:9 segs_in:8 data_segs_out:3 data_segs_in:4 send 409135bps lastsnd:48148 lastrcv:47168 lastack:47168 pacing_rate 818264bps delivery_rate 57064bps delivered:4 app_limited busy:676ms rcv_space:14480 rcv_ssthresh:64088 minrtt:202.988\n",
      "1726389606.173644 tcp ESTAB 0      167968 10.0.0.100:60476 12.1.1.130:4000 users:((\"iperf3\",pid=22224,fd=5)) timer:(on,412ms,0) uid:39791 ino:200946 sk:70 cgroup:unreachable:2010c00000052 <->\n",
      "1726389606.174623 \t ts sack cubic wscale:12,7 rto:500 rtt:281.975/24.815 mss:1448 pmtu:1500 rcvmss:536 advmss:1448 cwnd:5 ssthresh:4 bytes_sent:2106877 bytes_retrans:157832 bytes_acked:1938910 segs_out:1458 segs_in:844 data_segs_out:1456 send 205408bps lastsnd:88 lastrcv:47640 lastack:120 pacing_rate 345080bps delivery_rate 189128bps delivered:1342 busy:47400ms unacked:7 retrans:1/109 lost:2 sacked:1 reord_seen:2 rcv_space:14480 rcv_ssthresh:64088 notsent:157832 minrtt:68\n",
      "1726389606.176350 tcp ESTAB 0      385168 10.0.0.100:39064 12.1.1.66:4000 users:((\"iperf3\",pid=22225,fd=5)) timer:(on,308ms,0) uid:39791 ino:200945 sk:71 cgroup:unreachable:2010c00000052 <->\n",
      "1726389606.179098 \t ts sack cubic wscale:12,7 rto:436 rtt:233.117/8.826 mss:1448 pmtu:1500 rcvmss:536 advmss:1448 cwnd:4 ssthresh:3 bytes_sent:3313061 bytes_retrans:149144 bytes_acked:3158126 segs_out:2291 segs_in:1342 data_segs_out:2289 send 198767bps lastsnd:128 lastrcv:47784 lastack:128 pacing_rate 238520bps delivery_rate 145968bps delivered:2183 busy:47512ms unacked:4 retrans:0/103 rcv_space:14480 rcv_ssthresh:64088 notsent:379376 minrtt:73.482\n",
      "1726389606.179682 tcp ESTAB 0      0      10.0.0.100:58044 12.1.1.66:4000 users:((\"iperf3\",pid=22225,fd=4)) uid:39791 ino:200687 sk:6e cgroup:unreachable:2010c00000052 <->\n",
      "1726389606.180227 \t ts sack cubic wscale:12,7 rto:644 rtt:240.283/66.611 ato:40 mss:1448 pmtu:1500 rcvmss:536 advmss:1448 cwnd:10 bytes_sent:162 bytes_acked:163 bytes_received:4 segs_out:9 segs_in:8 data_segs_out:3 data_segs_in:4 send 482098bps lastsnd:48224 lastrcv:47280 lastack:47280 pacing_rate 964192bps delivery_rate 56832bps delivered:4 app_limited busy:676ms rcv_space:14480 rcv_ssthresh:64088 minrtt:203.825                                                       \n"
     ]
    },
    {
     "name": "stderr",
     "output_type": "stream",
     "text": [
      "Failed to open cgroup2 by ID\n",
      "Failed to open cgroup2 by ID\n",
      "Failed to open cgroup2 by ID\n",
      "Failed to open cgroup2 by ID\n"
     ]
    },
    {
     "name": "stdout",
     "output_type": "stream",
     "text": [
      "1726389606.4960871726389606.497620 tcp ESTAB 0      379376 10.0.0.100:39064 12.1.1.66:4000 users:((\"iperf3\",pid=22225,fd=5)) timer:(on,180ms,0) uid:39791 ino:200945 sk:71 cgroup:unreachable:2010c00000052 <->\n",
      "1726389606.498545 \t ts sack cubic wscale:12,7 rto:428 rtt:225.986/10.036 mss:1448 pmtu:1500 rcvmss:536 advmss:1448 cwnd:5 ssthresh:3 bytes_sent:3320301 bytes_retrans:149144 bytes_acked:3163918 segs_out:2296 segs_in:1344 data_segs_out:2294 send 256299bps lastsnd:248 lastrcv:48108 lastack:248 pacing_rate 307552bps delivery_rate 194976bps delivered:2187 busy:47836ms unacked:5 retrans:0/103 rcv_space:14480 rcv_ssthresh:64088 notsent:372136 minrtt:73.482\n",
      "1726389606.499114 tcp ESTAB 0      0      10.0.0.100:57612 12.1.1.130:4000 users:((\"iperf3\",pid=22224,fd=4)) uid:39791 ino:200688 sk:6f cgroup:unreachable:2010c00000052 <->\n",
      "1726389606.499745 tcp ESTAB 0      0      10.0.0.100:58044 12.1.1.66:4000 users:((\"iperf3\",pid=22225,fd=4)) uid:39791 ino:200687 sk:6e cgroup:unreachable:2010c00000052 <->\n",
      " \t ts sack cubic wscale:12,7 rto:832 rtt:283.134/109.099 ato:40 mss:1448 pmtu:1500 rcvmss:536 advmss:1448 cwnd:10 bytes_sent:162 bytes_acked:163 bytes_received:4 segs_out:9 segs_in:8 data_segs_out:3 data_segs_in:4 send 409135bps lastsnd:48476 lastrcv:47496 lastack:47496 pacing_rate 818264bps delivery_rate 57064bps delivered:4 app_limited busy:676ms rcv_space:14480 rcv_ssthresh:64088 minrtt:202.988\n",
      "1726389606.5006441726389606.500967 \t ts sack cubic wscale:12,7 rto:644 rtt:240.283/66.611 ato:40 mss:1448 pmtu:1500 rcvmss:536 advmss:1448 cwnd:10 bytes_sent:162 bytes_acked:163 bytes_received:4 segs_out:9 segs_in:8 data_segs_out:3 data_segs_in:4 send 482098bps lastsnd:48548 lastrcv:47604 lastack:47604 pacing_rate 964192bps delivery_rate 56832bps delivered:4 app_limited busy:676ms rcv_space:14480 rcv_ssthresh:64088 minrtt:203.825           "
     ]
    },
    {
     "name": "stderr",
     "output_type": "stream",
     "text": [
      "Failed to open cgroup2 by ID\n",
      "Failed to open cgroup2 by ID\n",
      "Failed to open cgroup2 by ID\n",
      "Failed to open cgroup2 by ID\n"
     ]
    },
    {
     "name": "stdout",
     "output_type": "stream",
     "text": [
      "                                             \n",
      " tcp ESTAB 0      154936 10.0.0.100:60476 12.1.1.130:4000 users:((\"iperf3\",pid=22224,fd=5)) timer:(on,360ms,0) uid:39791 ino:200946 sk:70 cgroup:unreachable:2010c00000052 <->\n",
      "1726389606.502536 \t ts sack cubic wscale:12,7 rto:468 rtt:256.404/32.144 mss:1448 pmtu:1500 rcvmss:536 advmss:1448 cwnd:4 ssthresh:4 bytes_sent:2117013 bytes_retrans:159280 bytes_acked:1951942 segs_out:1465 segs_in:850 data_segs_out:1463 send 180715bps lastsnd:8 lastrcv:47968 lastack:8 pacing_rate 216856bps delivery_rate 195424bps delivered:1350 busy:47728ms unacked:4 retrans:0/110 reord_seen:2 rcv_space:14480 rcv_ssthresh:64088 notsent:149144 minrtt:68\n",
      "1726389606.8164121726389606.817722 tcp ESTAB 0      0      10.0.0.100:57612 12.1.1.130:4000 users:((\"iperf3\",pid=22224,fd=4)) uid:39791 ino:200688 sk:6f cgroup:unreachable:2010c00000052 <->\n",
      "1726389606.818473 \t ts sack cubic wscale:12,7 rto:832 rtt:283.134/109.099 ato:40 mss:1448 pmtu:1500 rcvmss:536 advmss:1448 cwnd:10 bytes_sent:162 bytes_acked:163 bytes_received:4 segs_out:9 segs_in:8 data_segs_out:3 data_segs_in:4 send 409135bps lastsnd:48800 lastrcv:47820 lastack:47820 pacing_rate 818264bps delivery_rate 57064bps delivered:4 app_limited busy:676ms rcv_space:14480 rcv_ssthresh:64088 minrtt:202.988\n",
      "1726389606.818991 tcp ESTAB 0      149144 10.0.0.100:60476 12.1.1.130:4000 users:((\"iperf3\",pid=22224,fd=5)) timer:(on,292ms,0) uid:39791 ino:200946 sk:70 cgroup:unreachable:2010c00000052 <->\n",
      "1726389606.819450 \t ts sack cubic wscale:12,7 rto:452 rtt:241.6/30.273 mss:1448 pmtu:1500 rcvmss:536 advmss:1448 cwnd:5 ssthresh:4 bytes_sent:2124253 bytes_retrans:159280 bytes_acked:1957734 segs_out:1470 segs_in:853 data_segs_out:1468 send 239735bps lastsnd:128 lastrcv:48292 lastack:128 pacing_rate 287680bps delivery_rate 226768bps delivered:1354 busy:48052ms unacked:5 retrans:0/110 reord_seen:2 rcv_space:14480 rcv_ssthresh:64088 notsent:141904 minrtt:68\n",
      " tcp ESTAB 0      372136 10.0.0.100:39064 12.1.1.66:4000 users:((\"iperf3\",pid=22225,fd=5)) timer:(on,276ms,0) uid:39791 ino:200945 sk:71 cgroup:unreachable:2010c00000052 <->\n",
      "1726389606.821515 \t ts sack cubic wscale:12,7 rto:508 rtt:263.622/60.774 mss:1448 pmtu:1500 rcvmss:536 advmss:1448 cwnd:5 ssthresh:3 bytes_sent:3327541 bytes_retrans:149144 bytes_acked:3171158 segs_out:2301 segs_in:1347 data_segs_out:2299 send 219709bps lastsnd:232 lastrcv:48432 lastack:232 pacing_rate 263648bps delivery_rate 170240bps delivered:2192 busy:48160ms unacked:5 retrans:0/103 rcv_space:14480 rcv_ssthresh:64088 notsent:364896 minrtt:73.482\n",
      "1726389606.821863 tcp ESTAB 0      0      10.0.0.100:58044 12.1.1.66:4000 users:((\"iperf3\",pid=22225,fd=4)) uid:39791 ino:200687 sk:6e cgroup:unreachable:2010c00000052 <->\n",
      "1726389606.822182 \t ts sack cubic wscale:12,7 rto:644 rtt:240.283/66.611 ato:40 mss:1448 pmtu:1500 rcvmss:536 advmss:1448 cwnd:10 bytes_sent:162 bytes_acked:163 bytes_received:4 segs_out:9 segs_in:8 data_segs_out:3 data_segs_in:4 send 482098bps lastsnd:48872 lastrcv:47928 lastack:47928 pacing_rate 964192bps delivery_rate 56832bps delivered:4 app_limited busy:676ms rcv_space:14480 rcv_ssthresh:64088 minrtt:203.825                                                        \n"
     ]
    },
    {
     "name": "stderr",
     "output_type": "stream",
     "text": [
      "Failed to open cgroup2 by ID\n",
      "Failed to open cgroup2 by ID\n",
      "Failed to open cgroup2 by ID\n",
      "Failed to open cgroup2 by ID\n"
     ]
    },
    {
     "name": "stdout",
     "output_type": "stream",
     "text": [
      "1726389607.135995 tcp ESTAB 0      0      10.0.0.100:57612 12.1.1.130:4000 users:((\"iperf3\",pid=22224,fd=4)) uid:39791 ino:200688 sk:6f cgroup:unreachable:2010c00000052 <->\n",
      "1726389607.136688 \t ts sack cubic wscale:12,7 rto:832 rtt:283.134/109.099 ato:40 mss:1448 pmtu:1500 rcvmss:536 advmss:1448 cwnd:10 bytes_sent:162 bytes_acked:163 bytes_received:4 segs_out:9 segs_in:8 data_segs_out:3 data_segs_in:4 send 409135bps lastsnd:49124 lastrcv:48144 lastack:48144 pacing_rate 818264bps delivery_rate 57064bps delivered:4 app_limited busy:676ms rcv_space:14480 rcv_ssthresh:64088 minrtt:202.988\n",
      "1726389607.137295 tcp ESTAB 0      133216 10.0.0.100:60476 12.1.1.130:4000 users:((\"iperf3\",pid=22224,fd=5)) timer:(on,436ms,0) uid:39791 ino:200946 sk:70 cgroup:unreachable:2010c00000052 <->\n",
      "1726389607.1378851726389607.138616 \t ts sack cubic wscale:12,7 rto:444 rtt:236.969/14.695 mss:1448 pmtu:1500 rcvmss:536 advmss:1448 cwnd:7 ssthresh:4 bytes_sent:2143077 bytes_retrans:159280 bytes_acked:1973662 segs_out:1483 segs_in:857 data_segs_out:1481 send 342188bps lastsnd:8 lastrcv:48616 lastack:8 pacing_rate 410624bps delivery_rate 290888bps delivered:1365 busy:48376ms unacked:7 retrans:0/110 reord_seen:2 rcv_space:14480 rcv_ssthresh:64088 notsent:123080 minrtt:68\n",
      " tcp ESTAB 0      359104 10.0.0.100:39064 12.1.1.66:4000 users:((\"iperf3\",pid=22225,fd=5)) timer:(on,220ms,0) uid:39791 ino:200945 sk:71 cgroup:unreachable:2010c00000052 <->\n",
      "1726389607.141068 \t ts sack cubic wscale:12,7 rto:492 rtt:259.302/28.288 mss:1448 pmtu:1500 rcvmss:536 advmss:1448 cwnd:5 ssthresh:3 bytes_sent:3340573 bytes_retrans:149144 bytes_acked:3184190 segs_out:2310 segs_in:1352 data_segs_out:2308 send 223369bps lastsnd:36 lastrcv:48744 lastack:36 pacing_rate 268040bps delivery_rate 213520bps delivered:2201 busy:48472ms unacked:5 retrans:0/103 rcv_space:14480 rcv_ssthresh:64088 notsent:351864 minrtt:73.482\n",
      "1726389607.141656 tcp ESTAB 0      0      10.0.0.100:58044 12.1.1.66:4000 users:((\"iperf3\",pid=22225,fd=4)) uid:39791 ino:200687 sk:6e cgroup:unreachable:2010c00000052 <->\n",
      "1726389607.142322 \t ts sack cubic wscale:12,7 rto:644 rtt:240.283/66.611 ato:40 mss:1448 pmtu:1500 rcvmss:536 advmss:1448 cwnd:10 bytes_sent:162 bytes_acked:163 bytes_received:4 segs_out:9 segs_in:8 data_segs_out:3 data_segs_in:4 send 482098bps lastsnd:49184 lastrcv:48240 lastack:48240 pacing_rate 964192bps delivery_rate 56832bps delivered:4 app_limited busy:676ms rcv_space:14480 rcv_ssthresh:64088 minrtt:203.825                                                      \n"
     ]
    },
    {
     "name": "stderr",
     "output_type": "stream",
     "text": [
      "Failed to open cgroup2 by ID\n",
      "Failed to open cgroup2 by ID\n",
      "Failed to open cgroup2 by ID\n",
      "Failed to open cgroup2 by ID\n"
     ]
    },
    {
     "name": "stdout",
     "output_type": "stream",
     "text": [
      "1726389607.4576781726389607.459206 tcp ESTAB 0      359104 10.0.0.100:39064 12.1.1.66:4000 users:((\"iperf3\",pid=22225,fd=5)) timer:(on,352ms,0) uid:39791 ino:200945 sk:71 cgroup:unreachable:2010c00000052 <->\n",
      "1726389607.459881 tcp ESTAB 0      0      10.0.0.100:57612 12.1.1.130:4000 users:((\"iperf3\",pid=22224,fd=4)) uid:39791 ino:200688 sk:6f cgroup:unreachable:2010c00000052 <->\n",
      " \t ts sack cubic wscale:12,7 rto:476 rtt:240.669/23.5 mss:1448 pmtu:1500 rcvmss:536 advmss:1448 cwnd:3 ssthresh:3 bytes_sent:3344917 bytes_retrans:150592 bytes_acked:3184190 segs_out:2313 segs_in:1356 data_segs_out:2311 send 144397bps lastsnd:124 lastrcv:49068 lastack:124 pacing_rate 346552bps delivery_rate 195128bps delivered:2205 busy:48796ms unacked:7 retrans:1/104 lost:1 sacked:4 rcv_space:14480 rcv_ssthresh:64088 notsent:348968 minrtt:73.482\n",
      "1726389607.4607431726389607.461073 \t ts sack cubic wscale:12,7 rto:832 rtt:283.134/109.099 ato:40 mss:1448 pmtu:1500 rcvmss:536 advmss:1448 cwnd:10 bytes_sent:162 bytes_acked:163 bytes_received:4 segs_out:9 segs_in:8 data_segs_out:3 data_segs_in:4 send 409135bps lastsnd:49444 lastrcv:48464 lastack:48464 pacing_rate 818264bps delivery_rate 57064bps delivered:4 app_limited busy:676ms rcv_space:14480 rcv_ssthresh:64088 minrtt:202.988\n",
      " tcp ESTAB 0      0      10.0.0.100:58044 12.1.1.66:4000 users:((\"iperf3\",pid=22225,fd=4)) uid:39791 ino:200687 sk:6e cgroup:unreachable:2010c00000052 <->\n",
      "1726389607.4618711726389607.462327 tcp ESTAB 0      123080 10.0.0.100:60476 12.1.1.130:4000 users:((\"iperf3\",pid=22224,fd=5)) timer:(on,352ms,0) uid:39791 ino:200946 sk:70 cgroup:unreachable:2010c00000052 <->\n",
      "1726389607.462872 \t ts sack cubic wscale:12,7 rto:644 rtt:240.283/66.611 ato:40 mss:1448 pmtu:1500 rcvmss:536 advmss:1448 cwnd:10 bytes_sent:162 bytes_acked:163 bytes_received:4 segs_out:9 segs_in:8 data_segs_out:3 data_segs_in:4 send 482098bps lastsnd:49508 lastrcv:48564 lastack:48564 pacing_rate 964192bps delivery_rate 56832bps delivered:4 app_limited busy:676ms rcv_space:14480 rcv_ssthresh:64088 minrtt:203.825                                                                      \n",
      " \t ts sack cubic wscale:12,7 rto:444 rtt:236.835/8.519 mss:1448 pmtu:1500 rcvmss:536 advmss:1448 cwnd:7 ssthresh:4 bytes_sent:2153213 bytes_retrans:159280 bytes_acked:1983798 segs_out:1490 segs_in:859 data_segs_out:1488 send 342382bps lastsnd:92 lastrcv:48936 lastack:92 pacing_rate 410856bps delivery_rate 338592bps delivered:1372 busy:48696ms unacked:7 retrans:0/110 reord_seen:2 rcv_space:14480 rcv_ssthresh:64088 notsent:112944 minrtt:68\n"
     ]
    },
    {
     "name": "stderr",
     "output_type": "stream",
     "text": [
      "Failed to open cgroup2 by ID\n",
      "Failed to open cgroup2 by ID\n",
      "Failed to open cgroup2 by ID\n",
      "Failed to open cgroup2 by ID\n"
     ]
    },
    {
     "name": "stdout",
     "output_type": "stream",
     "text": [
      "1726389607.7762481726389607.778584 tcp ESTAB 0      348968 10.0.0.100:39064 12.1.1.66:4000 users:((\"iperf3\",pid=22225,fd=5)) timer:(on,272ms,0) uid:39791 ino:200945 sk:71 cgroup:unreachable:2010c00000052 <->\n",
      "1726389607.779211 \t ts sack cubic wscale:12,7 rto:476 rtt:248.008/25.937 mss:1448 pmtu:1500 rcvmss:536 advmss:1448 cwnd:4 ssthresh:3 bytes_sent:3350709 bytes_retrans:150592 bytes_acked:3194326 segs_out:2317 segs_in:1358 data_segs_out:2315 send 186833bps lastsnd:204 lastrcv:49388 lastack:204 pacing_rate 224192bps delivery_rate 145560bps delivered:2208 busy:49116ms unacked:4 retrans:0/104 rcv_space:14480 rcv_ssthresh:64088 notsent:343176 minrtt:73.482\n",
      "1726389607.779833 tcp ESTAB 0      0      10.0.0.100:57612 12.1.1.130:4000 users:((\"iperf3\",pid=22224,fd=4)) uid:39791 ino:200688 sk:6f cgroup:unreachable:2010c00000052 <->\n",
      "1726389607.780381 tcp ESTAB 0      0      10.0.0.100:58044 12.1.1.66:4000 users:((\"iperf3\",pid=22225,fd=4)) uid:39791 ino:200687 sk:6e cgroup:unreachable:2010c00000052 <->\n",
      "1726389607.780943 \t ts sack cubic wscale:12,7 rto:832 rtt:283.134/109.099 ato:40 mss:1448 pmtu:1500 rcvmss:536 advmss:1448 cwnd:10 bytes_sent:162 bytes_acked:163 bytes_received:4 segs_out:9 segs_in:8 data_segs_out:3 data_segs_in:4 send 409135bps lastsnd:49764 lastrcv:48784 lastack:48784 pacing_rate 818264bps delivery_rate 57064bps delivered:4 app_limited busy:676ms rcv_space:14480 rcv_ssthresh:64088 minrtt:202.988\n",
      " \t ts sack cubic wscale:12,7 rto:644 rtt:240.283/66.611 ato:40 mss:1448 pmtu:1500 rcvmss:536 advmss:1448 cwnd:10 bytes_sent:162 bytes_acked:163 bytes_received:4 segs_out:9 segs_in:8 data_segs_out:3 data_segs_in:4 send 482098bps lastsnd:49828 lastrcv:48884 lastack:48884 pacing_rate 964192bps delivery_rate 56832bps delivered:4 app_limited busy:676ms rcv_space:14480 rcv_ssthresh:64088 minrtt:203.825                                                        \n",
      "1726389607.781763 tcp ESTAB 0      243264 10.0.0.100:60476 12.1.1.130:4000 users:((\"iperf3\",pid=22224,fd=5)) timer:(on,268ms,0) uid:39791 ino:200946 sk:70 cgroup:unreachable:2010c00000052 <->\n",
      "1726389607.782517 \t ts sack cubic wscale:12,7 rto:440 rtt:237.305/3.259 mss:1448 pmtu:1500 rcvmss:536 advmss:1448 cwnd:7 ssthresh:4 bytes_sent:2163349 bytes_retrans:159280 bytes_acked:1993934 segs_out:1497 segs_in:863 data_segs_out:1495 send 341704bps lastsnd:172 lastrcv:49256 lastack:176 pacing_rate 410040bps delivery_rate 340400bps delivered:1379 busy:49016ms unacked:7 retrans:0/110 reord_seen:2 rcv_space:14480 rcv_ssthresh:64088 notsent:233128 minrtt:68\n"
     ]
    },
    {
     "name": "stderr",
     "output_type": "stream",
     "text": [
      "Failed to open cgroup2 by ID\n",
      "Failed to open cgroup2 by ID\n",
      "Failed to open cgroup2 by ID\n",
      "Failed to open cgroup2 by ID\n"
     ]
    },
    {
     "name": "stdout",
     "output_type": "stream",
     "text": [
      "1726389608.0974181726389608.100023 tcp ESTAB 0      337384 10.0.0.100:39064 12.1.1.66:4000 users:((\"iperf3\",pid=22225,fd=5)) timer:(on,408ms,0) uid:39791 ino:200945 sk:71 cgroup:unreachable:2010c00000052 <->\n",
      "1726389608.100670 \t ts sack cubic wscale:12,7 rto:460 rtt:243.218/14.515 mss:1448 pmtu:1500 rcvmss:536 advmss:1448 cwnd:6 ssthresh:3 bytes_sent:3365189 bytes_retrans:150592 bytes_acked:3205910 segs_out:2327 segs_in:1362 data_segs_out:2325 send 285768bps lastsnd:52 lastrcv:49708 lastack:52 pacing_rate 342920bps delivery_rate 196160bps delivered:2216 busy:49436ms unacked:6 retrans:0/104 rcv_space:14480 rcv_ssthresh:64088 notsent:328696 minrtt:73.482\n",
      "1726389608.101261 tcp ESTAB 0      0      10.0.0.100:58044 12.1.1.66:4000 users:((\"iperf3\",pid=22225,fd=4)) uid:39791 ino:200687 sk:6e cgroup:unreachable:2010c00000052 <->\n",
      "1726389608.101819 tcp ESTAB 0      0      10.0.0.100:57612 12.1.1.130:4000 users:((\"iperf3\",pid=22224,fd=4)) uid:39791 ino:200688 sk:6f cgroup:unreachable:2010c00000052 <->\n",
      "1726389608.102468 \t ts sack cubic wscale:12,7 rto:644 rtt:240.283/66.611 ato:40 mss:1448 pmtu:1500 rcvmss:536 advmss:1448 cwnd:10 bytes_sent:162 bytes_acked:163 bytes_received:4 segs_out:9 segs_in:8 data_segs_out:3 data_segs_in:4 send 482098bps lastsnd:50148 lastrcv:49204 lastack:49204 pacing_rate 964192bps delivery_rate 56832bps delivered:4 app_limited busy:676ms rcv_space:14480 rcv_ssthresh:64088 minrtt:203.825                                                      \n",
      " \t ts sack cubic wscale:12,7 rto:832 rtt:283.134/109.099 ato:40 mss:1448 pmtu:1500 rcvmss:536 advmss:1448 cwnd:10 bytes_sent:162 bytes_acked:163 bytes_received:4 segs_out:9 segs_in:8 data_segs_out:3 data_segs_in:4 send 409135bps lastsnd:50084 lastrcv:49104 lastack:49104 pacing_rate 818264bps delivery_rate 57064bps delivered:4 app_limited busy:676ms rcv_space:14480 rcv_ssthresh:64088 minrtt:202.988\n",
      "1726389608.105124 tcp ESTAB 0      222992 10.0.0.100:60476 12.1.1.130:4000 users:((\"iperf3\",pid=22224,fd=5)) timer:(on,420ms,0) uid:39791 ino:200946 sk:70 cgroup:unreachable:2010c00000052 <->\n",
      "1726389608.105694 \t ts sack cubic wscale:12,7 rto:440 rtt:236.958/0.978 mss:1448 pmtu:1500 rcvmss:536 advmss:1448 cwnd:7 ssthresh:4 bytes_sent:2183621 bytes_retrans:159280 bytes_acked:2014206 segs_out:1511 segs_in:869 data_segs_out:1509 send 342204bps lastsnd:20 lastrcv:49576 lastack:20 pacing_rate 410640bps delivery_rate 342032bps delivered:1393 busy:49336ms unacked:7 retrans:0/110 reord_seen:2 rcv_space:14480 rcv_ssthresh:64088 notsent:212856 minrtt:68\n"
     ]
    },
    {
     "name": "stderr",
     "output_type": "stream",
     "text": [
      "Failed to open cgroup2 by ID\n",
      "Failed to open cgroup2 by ID\n",
      "Failed to open cgroup2 by ID\n",
      "Failed to open cgroup2 by ID\n"
     ]
    },
    {
     "name": "stdout",
     "output_type": "stream",
     "text": [
      "1726389608.4327761726389608.434946 tcp ESTAB 0      337384 10.0.0.100:39064 12.1.1.66:4000 users:((\"iperf3\",pid=22225,fd=5)) timer:(on,068ms,0) uid:39791 ino:200945 sk:71 cgroup:unreachable:2010c00000052 <->\n",
      "1726389608.435602 \t ts sack cubic wscale:12,7 rto:460 rtt:243.218/14.515 mss:1448 pmtu:1500 rcvmss:536 advmss:1448 cwnd:6 ssthresh:3 bytes_sent:3365189 bytes_retrans:150592 bytes_acked:3205910 segs_out:2327 segs_in:1362 data_segs_out:2325 send 285768bps lastsnd:392 lastrcv:50048 lastack:392 pacing_rate 342920bps delivery_rate 196160bps delivered:2216 busy:49776ms unacked:6 retrans:0/104 rcv_space:14480 rcv_ssthresh:64088 notsent:328696 minrtt:73.482\n",
      "1726389608.436150 tcp ESTAB 0      0      10.0.0.100:58044 12.1.1.66:4000 users:((\"iperf3\",pid=22225,fd=4)) uid:39791 ino:200687 sk:6e cgroup:unreachable:2010c00000052 <->\n",
      "1726389608.436691 \t ts sack cubic wscale:12,7 rto:644 rtt:240.283/66.611 ato:40 mss:1448 pmtu:1500 rcvmss:536 advmss:1448 cwnd:10 bytes_sent:162 bytes_acked:163 bytes_received:4 segs_out:9 segs_in:8 data_segs_out:3 data_segs_in:4 send 482098bps lastsnd:50488 lastrcv:49544 lastack:49544 pacing_rate 964192bps delivery_rate 56832bps delivered:4 app_limited busy:676ms rcv_space:14480 rcv_ssthresh:64088 minrtt:203.825                                                        \n",
      " tcp ESTAB 0      0      10.0.0.100:57612 12.1.1.130:4000 users:((\"iperf3\",pid=22224,fd=4)) uid:39791 ino:200688 sk:6f cgroup:unreachable:2010c00000052 <->\n",
      "1726389608.438549 \t ts sack cubic wscale:12,7 rto:832 rtt:283.134/109.099 ato:40 mss:1448 pmtu:1500 rcvmss:536 advmss:1448 cwnd:10 bytes_sent:162 bytes_acked:163 bytes_received:4 segs_out:9 segs_in:8 data_segs_out:3 data_segs_in:4 send 409135bps lastsnd:50400 lastrcv:49420 lastack:49420 pacing_rate 818264bps delivery_rate 57064bps delivered:4 app_limited busy:676ms rcv_space:14480 rcv_ssthresh:64088 minrtt:202.988\n",
      "1726389608.439154 tcp ESTAB 0      212856 10.0.0.100:60476 12.1.1.130:4000 users:((\"iperf3\",pid=22224,fd=5)) timer:(on,340ms,0) uid:39791 ino:200946 sk:70 cgroup:unreachable:2010c00000052 <->\n",
      "1726389608.439701 \t ts sack cubic wscale:12,7 rto:440 rtt:236.19/1.045 mss:1448 pmtu:1500 rcvmss:536 advmss:1448 cwnd:7 ssthresh:4 bytes_sent:2193757 bytes_retrans:159280 bytes_acked:2024342 segs_out:1518 segs_in:873 data_segs_out:1516 send 343317bps lastsnd:100 lastrcv:49892 lastack:100 pacing_rate 411976bps delivery_rate 342248bps delivered:1400 busy:49652ms unacked:7 retrans:0/110 reord_seen:2 rcv_space:14480 rcv_ssthresh:64088 notsent:202720 minrtt:68\n"
     ]
    },
    {
     "name": "stderr",
     "output_type": "stream",
     "text": [
      "Failed to open cgroup2 by ID\n",
      "Failed to open cgroup2 by ID\n",
      "Failed to open cgroup2 by ID\n",
      "Failed to open cgroup2 by ID\n"
     ]
    },
    {
     "name": "stdout",
     "output_type": "stream",
     "text": [
      "1726389608.7530991726389608.753555 tcp ESTAB 0      337384 10.0.0.100:39064 12.1.1.66:4000 users:((\"iperf3\",pid=22225,fd=5)) timer:(on,212ms,0) uid:39791 ino:200945 sk:71 cgroup:unreachable:2010c00000052 <->\n",
      "1726389608.754273 \t ts sack cubic wscale:12,7 rto:460 rtt:243.218/14.515 mss:1448 pmtu:1500 rcvmss:536 advmss:1448 cwnd:6 ssthresh:3 bytes_sent:3366637 bytes_retrans:150592 bytes_acked:3205910 segs_out:2328 segs_in:1362 data_segs_out:2326 send 285768bps lastsnd:248 lastrcv:50368 lastack:712 pacing_rate 342920bps delivery_rate 196160bps delivered:2216 busy:50096ms unacked:7 retrans:0/104 rcv_space:14480 rcv_ssthresh:64088 notsent:327248 minrtt:73.482\n",
      "1726389608.754844 tcp ESTAB 0      0      10.0.0.100:58044 12.1.1.66:4000 users:((\"iperf3\",pid=22225,fd=4)) uid:39791 ino:200687 sk:6e cgroup:unreachable:2010c00000052 <->\n",
      "1726389608.755390 \t ts sack cubic wscale:12,7 rto:644 rtt:240.283/66.611 ato:40 mss:1448 pmtu:1500 rcvmss:536 advmss:1448 cwnd:10 bytes_sent:162 bytes_acked:163 bytes_received:4 segs_out:9 segs_in:8 data_segs_out:3 data_segs_in:4 send 482098bps lastsnd:50808 lastrcv:49864 lastack:49864 pacing_rate 964192bps delivery_rate 56832bps delivered:4 app_limited busy:676ms rcv_space:14480 rcv_ssthresh:64088 minrtt:203.825                                                        \n",
      " tcp ESTAB 0      0      10.0.0.100:57612 12.1.1.130:4000 users:((\"iperf3\",pid=22224,fd=4)) uid:39791 ino:200688 sk:6f cgroup:unreachable:2010c00000052 <->\n",
      "1726389608.758200 \t ts sack cubic wscale:12,7 rto:832 rtt:283.134/109.099 ato:40 mss:1448 pmtu:1500 rcvmss:536 advmss:1448 cwnd:10 bytes_sent:162 bytes_acked:163 bytes_received:4 segs_out:9 segs_in:8 data_segs_out:3 data_segs_in:4 send 409135bps lastsnd:50736 lastrcv:49756 lastack:49756 pacing_rate 818264bps delivery_rate 57064bps delivered:4 app_limited busy:676ms rcv_space:14480 rcv_ssthresh:64088 minrtt:202.988\n",
      "1726389608.758861 tcp ESTAB 0      202720 10.0.0.100:60476 12.1.1.130:4000 users:((\"iperf3\",pid=22224,fd=5)) timer:(on,240ms,0) uid:39791 ino:200946 sk:70 cgroup:unreachable:2010c00000052 <->\n",
      "1726389608.759406 \t ts sack cubic wscale:12,7 rto:440 rtt:236.268/0.66 mss:1448 pmtu:1500 rcvmss:536 advmss:1448 cwnd:9 ssthresh:4 bytes_sent:2206789 bytes_retrans:159280 bytes_acked:2034478 segs_out:1527 segs_in:877 data_segs_out:1525 send 441262bps lastsnd:200 lastrcv:50228 lastack:200 pacing_rate 529512bps delivery_rate 342280bps delivered:1407 busy:49988ms unacked:9 retrans:0/110 reord_seen:2 rcv_space:14480 rcv_ssthresh:64088 notsent:189688 minrtt:68\n"
     ]
    },
    {
     "name": "stderr",
     "output_type": "stream",
     "text": [
      "Failed to open cgroup2 by ID\n",
      "Failed to open cgroup2 by ID\n",
      "Failed to open cgroup2 by ID\n",
      "Failed to open cgroup2 by ID\n"
     ]
    },
    {
     "name": "stdout",
     "output_type": "stream",
     "text": [
      "1726389609.0718891726389609.073582 tcp ESTAB 0      335936 10.0.0.100:39064 12.1.1.66:4000 users:((\"iperf3\",pid=22225,fd=5)) timer:(on,372ms,0) uid:39791 ino:200945 sk:71 cgroup:unreachable:2010c00000052 <->\n",
      "1726389609.074192 \t ts sack cubic wscale:12,7 rto:456 rtt:242.382/21.546 mss:1448 pmtu:1500 rcvmss:536 advmss:1448 cwnd:2 ssthresh:4 bytes_sent:3370981 bytes_retrans:154936 bytes_acked:3207358 segs_out:2331 segs_in:1364 data_segs_out:2329 send 95585bps lastsnd:84 lastrcv:50688 lastack:84 pacing_rate 344104bps delivery_rate 40976bps delivered:2218 busy:50416ms unacked:6 retrans:2/107 lost:5 sacked:1 rcv_space:14480 rcv_ssthresh:64088 notsent:327248 minrtt:73.482\n",
      "1726389609.074832 tcp ESTAB 0      0      10.0.0.100:58044 12.1.1.66:4000 users:((\"iperf3\",pid=22225,fd=4)) uid:39791 ino:200687 sk:6e cgroup:unreachable:2010c00000052 <->\n",
      "1726389609.075313 tcp ESTAB 0      0      10.0.0.100:57612 12.1.1.130:4000 users:((\"iperf3\",pid=22224,fd=4)) uid:39791 ino:200688 sk:6f cgroup:unreachable:2010c00000052 <->\n",
      "1726389609.075868 \t ts sack cubic wscale:12,7 rto:644 rtt:240.283/66.611 ato:40 mss:1448 pmtu:1500 rcvmss:536 advmss:1448 cwnd:10 bytes_sent:162 bytes_acked:163 bytes_received:4 segs_out:9 segs_in:8 data_segs_out:3 data_segs_in:4 send 482098bps lastsnd:51128 lastrcv:50184 lastack:50184 pacing_rate 964192bps delivery_rate 56832bps delivered:4 app_limited busy:676ms rcv_space:14480 rcv_ssthresh:64088 minrtt:203.825                                                                    \n",
      " \t ts sack cubic wscale:12,7 rto:832 rtt:283.134/109.099 ato:40 mss:1448 pmtu:1500 rcvmss:536 advmss:1448 cwnd:10 bytes_sent:162 bytes_acked:163 bytes_received:4 segs_out:9 segs_in:8 data_segs_out:3 data_segs_in:4 send 409135bps lastsnd:51056 lastrcv:50076 lastack:50076 pacing_rate 818264bps delivery_rate 57064bps delivered:4 app_limited busy:676ms rcv_space:14480 rcv_ssthresh:64088 minrtt:202.988\n",
      "1726389609.078134 tcp ESTAB 0      176656 10.0.0.100:60476 12.1.1.130:4000 users:((\"iperf3\",pid=22224,fd=5)) timer:(on,396ms,0) uid:39791 ino:200946 sk:70 cgroup:unreachable:2010c00000052 <->\n",
      "1726389609.078779 \t ts sack cubic wscale:12,7 rto:440 rtt:236.651/0.366 mss:1448 pmtu:1500 rcvmss:536 advmss:1448 cwnd:9 ssthresh:4 bytes_sent:2232853 bytes_retrans:159280 bytes_acked:2060542 segs_out:1545 segs_in:885 data_segs_out:1543 send 440547bps lastsnd:44 lastrcv:50548 lastack:48 pacing_rate 528656bps delivery_rate 438104bps delivered:1425 busy:50308ms unacked:9 retrans:0/110 reord_seen:2 rcv_space:14480 rcv_ssthresh:64088 notsent:163624 minrtt:68\n"
     ]
    },
    {
     "name": "stderr",
     "output_type": "stream",
     "text": [
      "Failed to open cgroup2 by ID\n",
      "Failed to open cgroup2 by ID\n",
      "Failed to open cgroup2 by ID\n",
      "Failed to open cgroup2 by ID\n"
     ]
    },
    {
     "name": "stdout",
     "output_type": "stream",
     "text": [
      "1726389609.3915301726389609.393999 tcp ESTAB 0      333040 10.0.0.100:39064 12.1.1.66:4000 users:((\"iperf3\",pid=22225,fd=5)) timer:(on,284ms,0) uid:39791 ino:200945 sk:71 cgroup:unreachable:2010c00000052 <->\n",
      "1726389609.394728 \t ts sack cubic wscale:12,7 rto:452 rtt:241.12/14.306 mss:1448 pmtu:1500 rcvmss:536 advmss:1448 cwnd:4 ssthresh:4 bytes_sent:3376773 bytes_retrans:159280 bytes_acked:3210254 segs_out:2335 segs_in:1366 data_segs_out:2333 send 192170bps lastsnd:168 lastrcv:51008 lastack:168 pacing_rate 230600bps delivery_rate 97544bps delivered:2220 busy:50736ms unacked:5 retrans:3/110 lost:3 sacked:1 rcv_space:14480 rcv_ssthresh:64088 notsent:325800 minrtt:73.482\n",
      "1726389609.395294 tcp ESTAB 0      0      10.0.0.100:58044 12.1.1.66:4000 users:((\"iperf3\",pid=22225,fd=4)) uid:39791 ino:200687 sk:6e cgroup:unreachable:2010c00000052 <->\n",
      "1726389609.395855 \t ts sack cubic wscale:12,7 rto:644 rtt:240.283/66.611 ato:40 mss:1448 pmtu:1500 rcvmss:536 advmss:1448 cwnd:10 bytes_sent:162 bytes_acked:163 bytes_received:4 segs_out:9 segs_in:8 data_segs_out:3 data_segs_in:4 send 482098bps lastsnd:51448 lastrcv:50504 lastack:50504 pacing_rate 964192bps delivery_rate 56832bps delivered:4 app_limited busy:676ms rcv_space:14480 rcv_ssthresh:64088 minrtt:203.825                                                                      \n",
      " tcp ESTAB 0      0      10.0.0.100:57612 12.1.1.130:4000 users:((\"iperf3\",pid=22224,fd=4)) uid:39791 ino:200688 sk:6f cgroup:unreachable:2010c00000052 <->\n",
      "1726389609.398160 \t ts sack cubic wscale:12,7 rto:832 rtt:283.134/109.099 ato:40 mss:1448 pmtu:1500 rcvmss:536 advmss:1448 cwnd:10 bytes_sent:162 bytes_acked:163 bytes_received:4 segs_out:9 segs_in:8 data_segs_out:3 data_segs_in:4 send 409135bps lastsnd:51376 lastrcv:50396 lastack:50396 pacing_rate 818264bps delivery_rate 57064bps delivered:4 app_limited busy:676ms rcv_space:14480 rcv_ssthresh:64088 minrtt:202.988\n",
      "1726389609.398805 tcp ESTAB 0      170864 10.0.0.100:60476 12.1.1.130:4000 users:((\"iperf3\",pid=22224,fd=5)) timer:(on,068ms,0) uid:39791 ino:200946 sk:70 cgroup:unreachable:2010c00000052 <->\n",
      "1726389609.399454 \t ts sack cubic wscale:12,7 rto:432 rtt:228.561/2.332 mss:1448 pmtu:1500 rcvmss:536 advmss:1448 cwnd:9 ssthresh:4 bytes_sent:2238645 bytes_retrans:159280 bytes_acked:2066334 segs_out:1549 segs_in:887 data_segs_out:1547 send 456141bps lastsnd:164 lastrcv:50868 lastack:164 pacing_rate 547368bps delivery_rate 439712bps delivered:1429 busy:50628ms unacked:9 retrans:0/110 reord_seen:2 rcv_space:14480 rcv_ssthresh:64088 notsent:157832 minrtt:68\n"
     ]
    },
    {
     "name": "stderr",
     "output_type": "stream",
     "text": [
      "Failed to open cgroup2 by ID\n",
      "Failed to open cgroup2 by ID\n",
      "Failed to open cgroup2 by ID\n",
      "Failed to open cgroup2 by ID\n"
     ]
    },
    {
     "name": "stdout",
     "output_type": "stream",
     "text": [
      "1726389609.712954 tcp ESTAB 0      515488 10.0.0.100:39064 12.1.1.66:4000 users:((\"iperf3\",pid=22225,fd=5)) timer:(on,440ms,0) uid:39791 ino:200945 sk:71 cgroup:unreachable:2010c00000052 <->\n",
      "1726389609.714655 \t ts sack cubic wscale:12,7 rto:448 rtt:238.681/3.032 mss:1448 pmtu:1500 rcvmss:536 advmss:1448 cwnd:5 ssthresh:4 bytes_sent:3389805 bytes_retrans:159280 bytes_acked:3223286 segs_out:2344 segs_in:1374 data_segs_out:2342 send 242667bps lastsnd:8 lastrcv:51324 lastack:8 pacing_rate 291192bps delivery_rate 194864bps delivered:2228 busy:51052ms unacked:5 retrans:0/110 rcv_space:14480 rcv_ssthresh:64088 notsent:508248 minrtt:73.482\n",
      "1726389609.715222 tcp ESTAB 0      0      10.0.0.100:58044 12.1.1.66:4000 users:((\"iperf3\",pid=22225,fd=4)) uid:39791 ino:200687 sk:6e cgroup:unreachable:2010c00000052 <->\n",
      "1726389609.715736 \t ts sack cubic wscale:12,7 rto:644 rtt:240.283/66.611 ato:40 mss:1448 pmtu:1500 rcvmss:536 advmss:1448 cwnd:10 bytes_sent:162 bytes_acked:163 bytes_received:4 segs_out:9 segs_in:8 data_segs_out:3 data_segs_in:4 send 482098bps lastsnd:51764 lastrcv:50820 lastack:50820 pacing_rate 964192bps delivery_rate 56832bps delivered:4 app_limited busy:676ms rcv_space:14480 rcv_ssthresh:64088 minrtt:203.825                                                   \n",
      "1726389609.718518 tcp ESTAB 0      0      10.0.0.100:57612 12.1.1.130:4000 users:((\"iperf3\",pid=22224,fd=4)) uid:39791 ino:200688 sk:6f cgroup:unreachable:2010c00000052 <->\n",
      "1726389609.719182 \t ts sack cubic wscale:12,7 rto:832 rtt:283.134/109.099 ato:40 mss:1448 pmtu:1500 rcvmss:536 advmss:1448 cwnd:10 bytes_sent:162 bytes_acked:163 bytes_received:4 segs_out:9 segs_in:8 data_segs_out:3 data_segs_in:4 send 409135bps lastsnd:51700 lastrcv:50720 lastack:50720 pacing_rate 818264bps delivery_rate 57064bps delivered:4 app_limited busy:676ms rcv_space:14480 rcv_ssthresh:64088 minrtt:202.988\n",
      "1726389609.719730 tcp ESTAB 0      165072 10.0.0.100:60476 12.1.1.130:4000 users:((\"iperf3\",pid=22224,fd=5)) timer:(on,368ms,0) uid:39791 ino:200946 sk:70 cgroup:unreachable:2010c00000052 <->\n",
      "1726389609.720282 \t ts sack cubic wscale:12,7 rto:416 rtt:214.402/8.221 mss:1448 pmtu:1500 rcvmss:536 advmss:1448 cwnd:6 ssthresh:6 bytes_sent:2253125 bytes_retrans:166520 bytes_acked:2072126 segs_out:1559 segs_in:895 data_segs_out:1557 send 324176bps lastsnd:48 lastrcv:51192 lastack:48 pacing_rate 583512bps delivery_rate 195680bps delivered:1437 busy:50952ms unacked:10 retrans:1/115 lost:1 sacked:4 reord_seen:2 rcv_space:14480 rcv_ssthresh:64088 notsent:150592 minrtt:68\n"
     ]
    },
    {
     "name": "stderr",
     "output_type": "stream",
     "text": [
      "Failed to open cgroup2 by ID\n",
      "Failed to open cgroup2 by ID\n",
      "Failed to open cgroup2 by ID\n",
      "Failed to open cgroup2 by ID\n"
     ]
    },
    {
     "name": "stdout",
     "output_type": "stream",
     "text": [
      "1726389610.0328561726389610.033492 tcp ESTAB 0      508248 10.0.0.100:39064 12.1.1.66:4000 users:((\"iperf3\",pid=22225,fd=5)) timer:(on,296ms,0) uid:39791 ino:200945 sk:71 cgroup:unreachable:2010c00000052 <->\n",
      "1726389610.034149 \t ts sack cubic wscale:12,7 rto:428 rtt:221.274/6.64 mss:1448 pmtu:1500 rcvmss:536 advmss:1448 cwnd:6 ssthresh:4 bytes_sent:3398493 bytes_retrans:159280 bytes_acked:3230526 segs_out:2350 segs_in:1379 data_segs_out:2348 send 314108bps lastsnd:132 lastrcv:51648 lastack:132 pacing_rate 376928bps delivery_rate 243584bps delivered:2233 busy:51376ms unacked:6 retrans:0/110 rcv_space:14480 rcv_ssthresh:64088 notsent:499560 minrtt:73.482\n",
      "1726389610.034741 tcp ESTAB 0      0      10.0.0.100:58044 12.1.1.66:4000 users:((\"iperf3\",pid=22225,fd=4)) uid:39791 ino:200687 sk:6e cgroup:unreachable:2010c00000052 <->\n",
      "1726389610.035260 \t ts sack cubic wscale:12,7 rto:644 rtt:240.283/66.611 ato:40 mss:1448 pmtu:1500 rcvmss:536 advmss:1448 cwnd:10 bytes_sent:162 bytes_acked:163 bytes_received:4 segs_out:9 segs_in:8 data_segs_out:3 data_segs_in:4 send 482098bps lastsnd:52088 lastrcv:51144 lastack:51144 pacing_rate 964192bps delivery_rate 56832bps delivered:4 app_limited busy:676ms rcv_space:14480 rcv_ssthresh:64088 minrtt:203.825                                                      \n",
      " tcp ESTAB 0      0      10.0.0.100:57612 12.1.1.130:4000 users:((\"iperf3\",pid=22224,fd=4)) uid:39791 ino:200688 sk:6f cgroup:unreachable:2010c00000052 <->\n",
      "1726389610.037538 \t ts sack cubic wscale:12,7 rto:832 rtt:283.134/109.099 ato:40 mss:1448 pmtu:1500 rcvmss:536 advmss:1448 cwnd:10 bytes_sent:162 bytes_acked:163 bytes_received:4 segs_out:9 segs_in:8 data_segs_out:3 data_segs_in:4 send 409135bps lastsnd:52016 lastrcv:51036 lastack:51036 pacing_rate 818264bps delivery_rate 57064bps delivered:4 app_limited busy:676ms rcv_space:14480 rcv_ssthresh:64088 minrtt:202.988\n",
      "1726389610.038106 tcp ESTAB 0      150592 10.0.0.100:60476 12.1.1.130:4000 users:((\"iperf3\",pid=22224,fd=5)) timer:(on,264ms,0) uid:39791 ino:200946 sk:70 cgroup:unreachable:2010c00000052 <->\n",
      "1726389610.038715 \t ts sack cubic wscale:12,7 rto:424 rtt:220.009/15.238 mss:1448 pmtu:1500 rcvmss:536 advmss:1448 cwnd:7 ssthresh:6 bytes_sent:2263261 bytes_retrans:166520 bytes_acked:2086606 segs_out:1566 segs_in:899 data_segs_out:1564 send 368567bps lastsnd:160 lastrcv:51508 lastack:160 pacing_rate 442272bps delivery_rate 339408bps delivered:1443 busy:51268ms unacked:7 retrans:0/115 reord_seen:2 rcv_space:14480 rcv_ssthresh:64088 notsent:140456 minrtt:68\n"
     ]
    },
    {
     "name": "stderr",
     "output_type": "stream",
     "text": [
      "Failed to open cgroup2 by ID\n",
      "Failed to open cgroup2 by ID\n",
      "Failed to open cgroup2 by ID\n",
      "Failed to open cgroup2 by ID\n"
     ]
    },
    {
     "name": "stdout",
     "output_type": "stream",
     "text": [
      "1726389610.352172 tcp ESTAB 0      0      10.0.0.100:57612 12.1.1.130:4000 users:((\"iperf3\",pid=22224,fd=4)) uid:39791 ino:200688 sk:6f cgroup:unreachable:2010c00000052 <->\n",
      "1726389610.354571 \t ts sack cubic wscale:12,7 rto:832 rtt:283.134/109.099 ato:40 mss:1448 pmtu:1500 rcvmss:536 advmss:1448 cwnd:10 bytes_sent:162 bytes_acked:163 bytes_received:4 segs_out:9 segs_in:8 data_segs_out:3 data_segs_in:4 send 409135bps lastsnd:52340 lastrcv:51360 lastack:51360 pacing_rate 818264bps delivery_rate 57064bps delivered:4 app_limited busy:676ms rcv_space:14480 rcv_ssthresh:64088 minrtt:202.988\n",
      "1726389610.3552831726389610.355643 tcp ESTAB 0      143352 10.0.0.100:60476 12.1.1.130:4000 users:((\"iperf3\",pid=22224,fd=5)) timer:(on,420ms,0) uid:39791 ino:200946 sk:70 cgroup:unreachable:2010c00000052 <->\n",
      "1726389610.356148 \t ts sack cubic wscale:12,7 rto:432 rtt:228.008/12.452 mss:1448 pmtu:1500 rcvmss:536 advmss:1448 cwnd:4 ssthresh:4 bytes_sent:2273397 bytes_retrans:169416 bytes_acked:2093846 segs_out:1573 segs_in:904 data_segs_out:1571 send 203221bps lastsnd:12 lastrcv:51832 lastack:12 pacing_rate 426760bps delivery_rate 146240bps delivered:1451 busy:51592ms unacked:7 retrans:2/117 lost:2 sacked:3 reord_seen:2 rcv_space:14480 rcv_ssthresh:64088 notsent:133216 minrtt:68\n",
      " tcp ESTAB 0      499560 10.0.0.100:39064 12.1.1.66:4000 users:((\"iperf3\",pid=22225,fd=5)) timer:(on,312ms,0) uid:39791 ino:200945 sk:71 cgroup:unreachable:2010c00000052 <->\n",
      "1726389610.358649 \t ts sack cubic wscale:12,7 rto:452 rtt:248.694/44.014 mss:1448 pmtu:1500 rcvmss:536 advmss:1448 cwnd:6 ssthresh:4 bytes_sent:3407181 bytes_retrans:159280 bytes_acked:3239214 segs_out:2356 segs_in:1382 data_segs_out:2354 send 279476bps lastsnd:140 lastrcv:51964 lastack:144 pacing_rate 335368bps delivery_rate 228400bps delivered:2239 busy:51692ms unacked:6 retrans:0/110 rcv_space:14480 rcv_ssthresh:64088 notsent:490872 minrtt:73.482\n",
      "1726389610.359186 tcp ESTAB 0      0      10.0.0.100:58044 12.1.1.66:4000 users:((\"iperf3\",pid=22225,fd=4)) uid:39791 ino:200687 sk:6e cgroup:unreachable:2010c00000052 <->\n",
      "1726389610.359738 \t ts sack cubic wscale:12,7 rto:644 rtt:240.283/66.611 ato:40 mss:1448 pmtu:1500 rcvmss:536 advmss:1448 cwnd:10 bytes_sent:162 bytes_acked:163 bytes_received:4 segs_out:9 segs_in:8 data_segs_out:3 data_segs_in:4 send 482098bps lastsnd:52404 lastrcv:51460 lastack:51460 pacing_rate 964192bps delivery_rate 56832bps delivered:4 app_limited busy:676ms rcv_space:14480 rcv_ssthresh:64088 minrtt:203.825                                                        \n"
     ]
    },
    {
     "name": "stderr",
     "output_type": "stream",
     "text": [
      "Failed to open cgroup2 by ID\n",
      "Failed to open cgroup2 by ID\n",
      "Failed to open cgroup2 by ID\n",
      "Failed to open cgroup2 by ID\n"
     ]
    },
    {
     "name": "stdout",
     "output_type": "stream",
     "text": [
      "1726389610.6727561726389610.675748 tcp ESTAB 0      490872 10.0.0.100:39064 12.1.1.66:4000 users:((\"iperf3\",pid=22225,fd=5)) timer:(on,220ms,0) uid:39791 ino:200945 sk:71 cgroup:unreachable:2010c00000052 <->\n",
      "1726389610.676400 \t ts sack cubic wscale:12,7 rto:448 rtt:245.071/24.048 mss:1448 pmtu:1500 rcvmss:536 advmss:1448 cwnd:6 ssthresh:4 bytes_sent:3415869 bytes_retrans:159280 bytes_acked:3247902 segs_out:2362 segs_in:1385 data_segs_out:2360 send 283608bps lastsnd:228 lastrcv:52288 lastack:228 pacing_rate 340328bps delivery_rate 228240bps delivered:2245 busy:52016ms unacked:6 retrans:0/110 rcv_space:14480 rcv_ssthresh:64088 notsent:482184 minrtt:73.482\n",
      "1726389610.677063 tcp ESTAB 0      0      10.0.0.100:57612 12.1.1.130:4000 users:((\"iperf3\",pid=22224,fd=4)) uid:39791 ino:200688 sk:6f cgroup:unreachable:2010c00000052 <->\n",
      "1726389610.677614 tcp ESTAB 0      0      10.0.0.100:58044 12.1.1.66:4000 users:((\"iperf3\",pid=22225,fd=4)) uid:39791 ino:200687 sk:6e cgroup:unreachable:2010c00000052 <->\n",
      " \t ts sack cubic wscale:12,7 rto:832 rtt:283.134/109.099 ato:40 mss:1448 pmtu:1500 rcvmss:536 advmss:1448 cwnd:10 bytes_sent:162 bytes_acked:163 bytes_received:4 segs_out:9 segs_in:8 data_segs_out:3 data_segs_in:4 send 409135bps lastsnd:52656 lastrcv:51676 lastack:51676 pacing_rate 818264bps delivery_rate 57064bps delivered:4 app_limited busy:676ms rcv_space:14480 rcv_ssthresh:64088 minrtt:202.988\n",
      "1726389610.6785551726389610.678168 tcp ESTAB 0      131768 10.0.0.100:60476 12.1.1.130:4000 users:((\"iperf3\",pid=22224,fd=5)) timer:(on,312ms,0) uid:39791 ino:200946 sk:70 cgroup:unreachable:2010c00000052 <->\n",
      "1726389610.679378 \t ts sack cubic wscale:12,7 rto:644 rtt:240.283/66.611 ato:40 mss:1448 pmtu:1500 rcvmss:536 advmss:1448 cwnd:10 bytes_sent:162 bytes_acked:163 bytes_received:4 segs_out:9 segs_in:8 data_segs_out:3 data_segs_in:4 send 482098bps lastsnd:52728 lastrcv:51784 lastack:51784 pacing_rate 964192bps delivery_rate 56832bps delivered:4 app_limited busy:676ms rcv_space:14480 rcv_ssthresh:64088 minrtt:203.825                                                        \n",
      " \t ts sack cubic wscale:12,7 rto:432 rtt:228.285/15.748 mss:1448 pmtu:1500 rcvmss:536 advmss:1448 cwnd:4 ssthresh:4 bytes_sent:2280637 bytes_retrans:169416 bytes_acked:2105430 segs_out:1578 segs_in:909 data_segs_out:1576 send 202974bps lastsnd:88 lastrcv:52148 lastack:88 pacing_rate 243568bps delivery_rate 171216bps delivered:1456 busy:51908ms unacked:4 retrans:0/117 reord_seen:2 rcv_space:14480 rcv_ssthresh:64088 notsent:125976 minrtt:68\n"
     ]
    },
    {
     "name": "stderr",
     "output_type": "stream",
     "text": [
      "Failed to open cgroup2 by ID\n",
      "Failed to open cgroup2 by ID\n",
      "Failed to open cgroup2 by ID\n",
      "Failed to open cgroup2 by ID\n"
     ]
    },
    {
     "name": "stdout",
     "output_type": "stream",
     "text": [
      "1726389610.9922571726389610.994952 tcp ESTAB 0      0      10.0.0.100:57612 12.1.1.130:4000 users:((\"iperf3\",pid=22224,fd=4)) uid:39791 ino:200688 sk:6f cgroup:unreachable:2010c00000052 <->\n",
      "1726389610.996900 \t ts sack cubic wscale:12,7 rto:832 rtt:283.134/109.099 ato:40 mss:1448 pmtu:1500 rcvmss:536 advmss:1448 cwnd:10 bytes_sent:162 bytes_acked:163 bytes_received:4 segs_out:9 segs_in:8 data_segs_out:3 data_segs_in:4 send 409135bps lastsnd:52976 lastrcv:51996 lastack:51996 pacing_rate 818264bps delivery_rate 57064bps delivered:4 app_limited busy:676ms rcv_space:14480 rcv_ssthresh:64088 minrtt:202.988\n",
      "1726389610.996979 tcp ESTAB 0      125976 10.0.0.100:60476 12.1.1.130:4000 users:((\"iperf3\",pid=22224,fd=5)) timer:(on,224ms,0) uid:39791 ino:200946 sk:70 cgroup:unreachable:2010c00000052 <->\n",
      "1726389610.997030 \t ts sack cubic wscale:12,7 rto:428 rtt:226.4/14.592 mss:1448 pmtu:1500 rcvmss:536 advmss:1448 cwnd:5 ssthresh:4 bytes_sent:2287877 bytes_retrans:169416 bytes_acked:2111222 segs_out:1583 segs_in:911 data_segs_out:1581 send 255830bps lastsnd:204 lastrcv:52468 lastack:204 pacing_rate 306992bps delivery_rate 226480bps delivered:1460 busy:52228ms unacked:5 retrans:0/117 reord_seen:2 rcv_space:14480 rcv_ssthresh:64088 notsent:118736 minrtt:68\n",
      " tcp ESTAB 0      473496 10.0.0.100:39064 12.1.1.66:4000 users:((\"iperf3\",pid=22225,fd=5)) timer:(on,372ms,0) uid:39791 ino:200945 sk:71 cgroup:unreachable:2010c00000052 <->\n",
      "1726389610.995352 \t ts sack cubic wscale:12,7 rto:444 rtt:240.855/8.579 mss:1448 pmtu:1500 rcvmss:536 advmss:1448 cwnd:6 ssthresh:4 bytes_sent:3433245 bytes_retrans:159280 bytes_acked:3265278 segs_out:2374 segs_in:1391 data_segs_out:2372 send 288572bps lastsnd:72 lastrcv:52608 lastack:72 pacing_rate 346280bps delivery_rate 292040bps delivered:2257 busy:52336ms unacked:6 retrans:0/110 rcv_space:14480 rcv_ssthresh:64088 notsent:464808 minrtt:73.482\n",
      "1726389610.995464 tcp ESTAB 0      0      10.0.0.100:58044 12.1.1.66:4000 users:((\"iperf3\",pid=22225,fd=4)) uid:39791 ino:200687 sk:6e cgroup:unreachable:2010c00000052 <->\n",
      "1726389610.995519 \t ts sack cubic wscale:12,7 rto:644 rtt:240.283/66.611 ato:40 mss:1448 pmtu:1500 rcvmss:536 advmss:1448 cwnd:10 bytes_sent:162 bytes_acked:163 bytes_received:4 segs_out:9 segs_in:8 data_segs_out:3 data_segs_in:4 send 482098bps lastsnd:53048 lastrcv:52104 lastack:52104 pacing_rate 964192bps delivery_rate 56832bps delivered:4 app_limited busy:676ms rcv_space:14480 rcv_ssthresh:64088 minrtt:203.825                                                     \n"
     ]
    },
    {
     "name": "stderr",
     "output_type": "stream",
     "text": [
      "Failed to open cgroup2 by ID\n",
      "Failed to open cgroup2 by ID\n",
      "Failed to open cgroup2 by ID\n",
      "Failed to open cgroup2 by ID\n"
     ]
    },
    {
     "name": "stdout",
     "output_type": "stream",
     "text": [
      "1726389611.3246821726389611.326600 tcp ESTAB 0      0      10.0.0.100:57612 12.1.1.130:4000 users:((\"iperf3\",pid=22224,fd=4)) uid:39791 ino:200688 sk:6f cgroup:unreachable:2010c00000052 <->\n",
      "1726389611.327279 \t ts sack cubic wscale:12,7 rto:832 rtt:283.134/109.099 ato:40 mss:1448 pmtu:1500 rcvmss:536 advmss:1448 cwnd:10 bytes_sent:162 bytes_acked:163 bytes_received:4 segs_out:9 segs_in:8 data_segs_out:3 data_segs_in:4 send 409135bps lastsnd:53308 lastrcv:52328 lastack:52328 pacing_rate 818264bps delivery_rate 57064bps delivered:4 app_limited busy:676ms rcv_space:14480 rcv_ssthresh:64088 minrtt:202.988\n"
     ]
    },
    {
     "name": "stderr",
     "output_type": "stream",
     "text": [
      "Failed to open cgroup2 by ID\n",
      "Failed to open cgroup2 by ID\n"
     ]
    },
    {
     "name": "stdout",
     "output_type": "stream",
     "text": [
      "1726389611.327770 tcp ESTAB 0      176656 10.0.0.100:60476 12.1.1.130:4000 users:((\"iperf3\",pid=22224,fd=5)) timer:(on,372ms,0) uid:39791 ino:200946 sk:70 cgroup:unreachable:2010c00000052 <->\n",
      "1726389611.328321 tcp ESTAB 0      464808 10.0.0.100:39064 12.1.1.66:4000 users:((\"iperf3\",pid=22225,fd=5)) timer:(on,276ms,0) uid:39791 ino:200945 sk:71 cgroup:unreachable:2010c00000052 <->\n",
      "1726389611.328899 \t ts sack cubic wscale:12,7 rto:432 rtt:231.886/9.903 mss:1448 pmtu:1500 rcvmss:536 advmss:1448 cwnd:5 ssthresh:4 bytes_sent:2302357 bytes_retrans:169416 bytes_acked:2125702 segs_out:1593 segs_in:916 data_segs_out:1591 send 249778bps lastsnd:60 lastrcv:52800 lastack:60 pacing_rate 299728bps delivery_rate 242736bps delivered:1470 busy:52560ms unacked:5 retrans:0/117 reord_seen:2 rcv_space:14480 rcv_ssthresh:64088 notsent:169416 minrtt:68\n",
      " \t ts sack cubic wscale:12,7 rto:444 rtt:239.299/5.989 mss:1448 pmtu:1500 rcvmss:536 advmss:1448 cwnd:8 ssthresh:4 bytes_sent:3444829 bytes_retrans:159280 byt"
     ]
    },
    {
     "name": "stderr",
     "output_type": "stream",
     "text": [
      "Failed to open cgroup2 by ID\n"
     ]
    },
    {
     "name": "stdout",
     "output_type": "stream",
     "text": [
      "es_acked:3273966 segs_out:2382 segs_in:1394 data_segs_out:2380 send 387264bps lastsnd:168 lastrcv:52940 lastack:168 pacing_rate 464712bps delivery_rate 292808bps delivered:2263 busy:52668ms unacked:8 retrans:0/110 rcv_space:14480 rcv_ssthresh:64088 notsent:453224 minrtt:73.482\n",
      "1726389611.330565 tcp ESTAB 0      0      10.0.0.100:58044 12.1.1.66:4000 users:((\"iperf3\",pid=22225,fd=4)) uid:39791 ino:200687 sk:6e cgroup:unreachable:2010c00000052 <->\n",
      "1726389611.331120 \t ts sack cubic wscale:12,7 rto:644 rtt:240.283/66.611 ato:40 mss:1448 pmtu:1500 rcvmss:536 advmss:1448 cwnd:10 bytes_sent:162 bytes_acked:163 bytes_received:4 segs_out:9 segs_in:8 data_segs_out:3 data_segs_in:4 send 482098bps lastsnd:53380 lastrcv:52436 lastack:52436 pacing_rate 964192bps delivery_rate 56832bps delivered:4 app_limited busy:676ms rcv_space:14480 rcv_ssthresh:64088 minrtt:203.825                                                       \n"
     ]
    },
    {
     "name": "stderr",
     "output_type": "stream",
     "text": [
      "Failed to open cgroup2 by ID\n"
     ]
    },
    {
     "name": "stdout",
     "output_type": "stream",
     "text": [
      "1726389611.647601 tcp ESTAB 0      447432 10.0.0.100:39064 12.1.1.66:4000 users:((\"iperf3\",pid=22225,fd=5)) timer:(on,188ms,0) uid:39791 ino:200945 sk:71 cgroup:unreachable:2010c00000052 <->\n",
      "1726389611.648419 \t ts sack cubic wscale:12,7 rto:432 rtt:230.486/4.771 mss:1448 pmtu:1500 rcvmss:536 advmss:1448 cwnd:8 ssthresh:4 bytes_sent:3462205 bytes_retrans:159280 bytes_acked:3291342 segs_out:2394 segs_in:1400 data_segs_out:2392 send 402072bps lastsnd:44 lastrcv:53256 lastack:44 pacing_rate 482480bps delivery_rate 389776bps delivered:2275 busy:52984ms unacked:8 retrans:0/110 rcv_space:14480 rcv_ssthresh:64088 notsent:435848 minrtt:73.482\n",
      "1726389611.649064 tcp ESTAB 0      0      10.0.0.100:58044 12.1.1.66:4000 users:((\"iperf3\",pid=22225,fd=4)) uid:39791 ino:200687 sk:6e cgroup:unreachable:2010c00000052 <->\n",
      "1726389611.649563 \t ts sack cubic wscale:12,7 rto:644 rtt:240.283/66.611 ato:40 mss:1448 pmtu:1500 rcvmss:536 advmss:1448 cwnd:10 bytes_sent:162 bytes_acked:163 bytes_received:4 segs_out:9 segs_in:8 data_segs_out:3 data_segs_in:4 send 482098bps lastsnd:53696 lastrcv:52752 lastack:52752 pacing_rate 964192bps delivery_rate 56832bps delivered:4 app_limited busy:676ms rcv_space:14480 rcv_ssthresh:64088 minrtt:203.825                                                     \n",
      "1726389611.651152 tcp ESTAB 0      0      10.0.0.100:57612 12.1.1.130:4000 users:((\"iperf3\",pid=22224,fd=4)) uid:39791 ino:200688 sk:6f cgroup:unreachable:2010c00000052 <->\n",
      "1726389611.653128 \t ts sack cubic wscale:12,7 rto:832 rtt:283.134/109.099 ato:40 mss:1448 pmtu:1500 rcvmss:536 advmss:1448 cwnd:10 bytes_sent:162 bytes_acked:163 bytes_received:4 segs_out:9 segs_in:8 data_segs_out:3 data_segs_in:4 send 409135bps lastsnd:53620 lastrcv:52640 lastack:52640 pacing_rate 818264bps delivery_rate 57064bps delivered:4 app_limited busy:676ms rcv_space:14480 rcv_ssthresh:64088 minrtt:202.988\n",
      "1726389611.653469 tcp ESTAB 0      169416 10.0.0.100:60476 12.1.1.130:4000 users:((\"iperf3\",pid=22224,fd=5)) timer:(on,300ms,0) uid:39791 ino:200946 sk:70 cgroup:unreachable:2010c00000052 <->\n",
      "1726389611.654444 \t ts sack cubic wscale:12,7 rto:436 rtt:232.871/7.278 mss:1448 pmtu:1500 rcvmss:536 advmss:1448 cwnd:7 ssthresh:4 bytes_sent:2312493 bytes_retrans:169416 bytes_acked:2132942 segs_out:1600 segs_in:918 data_segs_out:1598 send 348210bps lastsnd:136 lastrcv:53112 lastack:136 pacing_rate 417848bps delivery_rate 242760bps delivered:1475 busy:52872ms unacked:7 retrans:0/117 reord_seen:2 rcv_space:14480 rcv_ssthresh:64088 notsent:159280 minrtt:68\n"
     ]
    },
    {
     "name": "stderr",
     "output_type": "stream",
     "text": [
      "Failed to open cgroup2 by ID\n",
      "Failed to open cgroup2 by ID\n",
      "Failed to open cgroup2 by ID\n",
      "Failed to open cgroup2 by ID\n"
     ]
    },
    {
     "name": "stdout",
     "output_type": "stream",
     "text": [
      "1726389611.9648651726389611.968070 tcp ESTAB 0      0      10.0.0.100:57612 12.1.1.130:4000 users:((\"iperf3\",pid=22224,fd=4)) uid:39791 ino:200688 sk:6f cgroup:unreachable:2010c00000052 <->\n",
      "1726389611.968726 \t ts sack cubic wscale:12,7 rto:832 rtt:283.134/109.099 ato:40 mss:1448 pmtu:1500 rcvmss:536 advmss:1448 cwnd:10 bytes_sent:162 bytes_acked:163 bytes_received:4 segs_out:9 segs_in:8 data_segs_out:3 data_segs_in:4 send 409135bps lastsnd:53948 lastrcv:52968 lastack:52968 pacing_rate 818264bps delivery_rate 57064bps delivered:4 app_limited busy:676ms rcv_space:14480 rcv_ssthresh:64088 minrtt:202.988\n",
      "1726389611.969297 tcp ESTAB 0      159280 10.0.0.100:60476 12.1.1.130:4000 users:((\"iperf3\",pid=22224,fd=5)) timer:(on,212ms,0) uid:39791 ino:200946 sk:70 cgroup:unreachable:2010c00000052 <->\n",
      "1726389611.969817 \t ts sack cubic wscale:12,7 rto:436 rtt:234.606/5.652 mss:1448 pmtu:1500 rcvmss:536 advmss:1448 cwnd:7 ssthresh:4 bytes_sent:2322629 bytes_retrans:169416 bytes_acked:2143078 segs_out:1607 segs_in:921 data_segs_out:1605 send 345635bps lastsnd:224 lastrcv:53440 lastack:228 pacing_rate 414760bps delivery_rate 340296bps delivered:1482 busy:53200ms unacked:7 retrans:0/117 reord_seen:2 rcv_space:14480 rcv_ssthresh:64088 notsent:149144 minrtt:68\n",
      " tcp ESTAB 0      447432 10.0.0.100:39064 12.1.1.66:4000 users:((\"iperf3\",pid=22225,fd=5)) timer:(on,376ms,0) uid:39791 ino:200945 sk:71 cgroup:unreachable:2010c00000052 <->\n",
      "1726389611.972210 \t ts sack cubic wscale:12,7 rto:436 rtt:231.7/25.97 mss:1448 pmtu:1500 rcvmss:536 advmss:1448 cwnd:4 ssthresh:5 bytes_sent:3467997 bytes_retrans:165072 bytes_acked:3291342 segs_out:2398 segs_in:1404 data_segs_out:2396 send 199983bps lastsnd:60 lastrcv:53580 lastack:60 pacing_rate 479952bps delivery_rate 151760bps delivered:2279 busy:53308ms unacked:8 retrans:4/114 lost:4 sacked:4 rcv_space:14480 rcv_ssthresh:64088 notsent:435848 minrtt:73.482\n",
      "1726389611.972775 tcp ESTAB 0      0      10.0.0.100:58044 12.1.1.66:4000 users:((\"iperf3\",pid=22225,fd=4)) uid:39791 ino:200687 sk:6e cgroup:unreachable:2010c00000052 <->\n",
      "1726389611.973244 \t ts sack cubic wscale:12,7 rto:644 rtt:240.283/66.611 ato:40 mss:1448 pmtu:1500 rcvmss:536 advmss:1448 cwnd:10 bytes_sent:162 bytes_acked:163 bytes_received:4 segs_out:9 segs_in:8 data_segs_out:3 data_segs_in:4 send 482098bps lastsnd:54020 lastrcv:53076 lastack:53076 pacing_rate 964192bps delivery_rate 56832bps delivered:4 app_limited busy:676ms rcv_space:14480 rcv_ssthresh:64088 minrtt:203.825                                                                   \n"
     ]
    },
    {
     "name": "stderr",
     "output_type": "stream",
     "text": [
      "Failed to open cgroup2 by ID\n",
      "Failed to open cgroup2 by ID\n",
      "Failed to open cgroup2 by ID\n",
      "Failed to open cgroup2 by ID\n"
     ]
    },
    {
     "name": "stdout",
     "output_type": "stream",
     "text": [
      "1726389612.2846341726389612.286721 tcp ESTAB 0      430056 10.0.0.100:39064 12.1.1.66:4000 users:((\"iperf3\",pid=22225,fd=5)) timer:(on,308ms,0) uid:39791 ino:200945 sk:71 cgroup:unreachable:2010c00000052 <->\n",
      "1726389612.287374 tcp ESTAB 0      0      10.0.0.100:57612 12.1.1.130:4000 users:((\"iperf3\",pid=22224,fd=4)) uid:39791 ino:200688 sk:6f cgroup:unreachable:2010c00000052 <->\n",
      " \t ts sack cubic wscale:12,7 rto:440 rtt:236.007/8.636 mss:1448 pmtu:1500 rcvmss:536 advmss:1448 cwnd:6 ssthresh:5 bytes_sent:3481029 bytes_retrans:165072 bytes_acked:3308718 segs_out:2407 segs_in:1410 data_segs_out:2405 send 294500bps lastrcv:53896 pacing_rate 353392bps delivery_rate 241056bps delivered:2287 busy:53624ms unacked:5 retrans:0/114 rcv_space:14480 rcv_ssthresh:64088 notsent:422816 minrtt:73.482\n",
      "1726389612.2882541726389612.288589 tcp ESTAB 0      0      10.0.0.100:58044 12.1.1.66:4000 users:((\"iperf3\",pid=22225,fd=4)) uid:39791 ino:200687 sk:6e cgroup:unreachable:2010c00000052 <->\n",
      "1726389612.289152 \t ts sack cubic wscale:12,7 rto:832 rtt:283.134/109.099 ato:40 mss:1448 pmtu:1500 rcvmss:536 advmss:1448 cwnd:10 bytes_sent:162 bytes_acked:163 bytes_received:4 segs_out:9 segs_in:8 data_segs_out:3 data_segs_in:4 send 409135bps lastsnd:54272 lastrcv:53292 lastack:53292 pacing_rate 818264bps delivery_rate 57064bps delivered:4 app_limited busy:676ms rcv_space:14480 rcv_ssthresh:64088 minrtt:202.988\n",
      "1726389612.289708 \t ts sack cubic wscale:12,7 rto:644 rtt:240.283/66.611 ato:40 mss:1448 pmtu:1500 rcvmss:536 advmss:1448 cwnd:10 bytes_sent:162 bytes_acked:163 bytes_received:4 segs_out:9 segs_in:8 data_segs_out:3 data_segs_in:4 send 482098bps lastsnd:54336 lastrcv:53392 lastack:53392 pacing_rate 964192bps delivery_rate 56832bps delivered:4 app_limited busy:676ms rcv_space:14480 rcv_ssthresh:64088 minrtt:203.825                               \n",
      " tcp ESTAB 0      139008 10.0.0.100:60476 12.1.1.130:4000 users:((\"iperf3\",pid=22224,fd=5)) timer:(on,368ms,0) uid:39791 ino:200946 sk:70 cgroup:unreachable:2010c00000052 <->\n",
      "1726389612.292076 \t ts sack cubic wscale:12,7 rto:440 rtt:236.721/3.303 mss:1448 pmtu:1500 rcvmss:536 advmss:1448 cwnd:7 ssthresh:4 bytes_sent:2342901 bytes_retrans:169416 bytes_acked:2163350 segs_out:1621 segs_in:927 data_segs_out:1619 send 342547bps lastsnd:72 lastrcv:53764 lastack:72 pacing_rate 411048bps delivery_rate 338424bps delivered:1496 busy:53524ms unacked:7 retrans:0/117 reord_seen:2 rcv_space:14480 rcv_ssthresh:64088 notsent:128872 minrtt:68\n"
     ]
    },
    {
     "name": "stderr",
     "output_type": "stream",
     "text": [
      "Failed to open cgroup2 by ID\n",
      "Failed to open cgroup2 by ID\n",
      "Failed to open cgroup2 by ID\n",
      "Failed to open cgroup2 by ID\n"
     ]
    },
    {
     "name": "stdout",
     "output_type": "stream",
     "text": [
      "1726389612.6087031726389612.609441 tcp ESTAB 0      422816 10.0.0.100:39064 12.1.1.66:4000 users:((\"iperf3\",pid=22225,fd=5)) timer:(on,268ms,0) uid:39791 ino:200945 sk:71 cgroup:unreachable:2010c00000052 <->\n",
      "1726389612.610063 tcp ESTAB 0      0      10.0.0.100:57612 12.1.1.130:4000 users:((\"iperf3\",pid=22224,fd=4)) uid:39791 ino:200688 sk:6f cgroup:unreachable:2010c00000052 <->\n",
      "1726389612.610741 \t ts sack cubic wscale:12,7 rto:456 rtt:255.658/35.017 mss:1448 pmtu:1500 rcvmss:536 advmss:1448 cwnd:6 ssthresh:5 bytes_sent:3489717 bytes_retrans:165072 bytes_acked:3315958 segs_out:2413 segs_in:1413 data_segs_out:2411 send 271863bps lastsnd:20 lastrcv:54220 lastack:20 pacing_rate 326232bps delivery_rate 189632bps delivered:2292 busy:53948ms unacked:6 retrans:0/114 rcv_space:14480 rcv_ssthresh:64088 notsent:414128 minrtt:73.482\n",
      "1726389612.611309 \t ts sack cubic wscale:12,7 rto:832 rtt:283.134/109.099 ato:40 mss:1448 pmtu:1500 rcvmss:536 advmss:1448 cwnd:10 bytes_sent:162 bytes_acked:163 bytes_received:4 segs_out:9 segs_in:8 data_segs_out:3 data_segs_in:4 send 409135bps lastsnd:54588 lastrcv:53608 lastack:53608 pacing_rate 818264bps delivery_rate 57064bps delivered:4 app_limited busy:676ms rcv_space:14480 rcv_ssthresh:64088 minrtt:202.988\n",
      "1726389612.611947 tcp ESTAB 0      0      10.0.0.100:58044 12.1.1.66:4000 users:((\"iperf3\",pid=22225,fd=4)) uid:39791 ino:200687 sk:6e cgroup:unreachable:2010c00000052 <->\n",
      "1726389612.612503 tcp ESTAB 0      128872 10.0.0.100:60476 12.1.1.130:4000 users:((\"iperf3\",pid=22224,fd=5)) timer:(on,288ms,0) uid:39791 ino:200946 sk:70 cgroup:unreachable:2010c00000052 <->\n",
      "1726389612.613068 \t ts sack cubic wscale:12,7 rto:644 rtt:240.283/66.611 ato:40 mss:1448 pmtu:1500 rcvmss:536 advmss:1448 cwnd:10 bytes_sent:162 bytes_acked:163 bytes_received:4 segs_out:9 segs_in:8 data_segs_out:3 data_segs_in:4 send 482098bps lastsnd:54660 lastrcv:53716 lastack:53716 pacing_rate 964192bps delivery_rate 56832bps delivered:4 app_limited busy:676ms rcv_space:14480 rcv_ssthresh:64088 minrtt:203.825                                                      \n",
      " \t ts sack cubic wscale:12,7 rto:440 rtt:236.929/1.665 mss:1448 pmtu:1500 rcvmss:536 advmss:1448 cwnd:7 ssthresh:4 bytes_sent:2353037 bytes_retrans:169416 bytes_acked:2173486 segs_out:1628 segs_in:930 data_segs_out:1626 send 342246bps lastsnd:152 lastrcv:54080 lastack:152 pacing_rate 410688bps delivery_rate 338248bps delivered:1503 busy:53840ms unacked:7 retrans:0/117 reord_seen:2 rcv_space:14480 rcv_ssthresh:64088 notsent:118736 minrtt:68\n"
     ]
    },
    {
     "name": "stderr",
     "output_type": "stream",
     "text": [
      "Failed to open cgroup2 by ID\n",
      "Failed to open cgroup2 by ID\n",
      "Failed to open cgroup2 by ID\n",
      "Failed to open cgroup2 by ID\n"
     ]
    },
    {
     "name": "stdout",
     "output_type": "stream",
     "text": [
      "1726389612.931089 tcp ESTAB 0      411232 10.0.0.100:39064 12.1.1.66:4000 users:((\"iperf3\",pid=22225,fd=5)) timer:(on,340ms,0) uid:39791 ino:200945 sk:71 cgroup:unreachable:2010c00000052 <->\n",
      "1726389612.931800 \t ts sack cubic wscale:12,7 rto:444 rtt:241.171/34.285 mss:1448 pmtu:1500 rcvmss:536 advmss:1448 cwnd:8 ssthresh:5 bytes_sent:3504197 bytes_retrans:165072 bytes_acked:3327542 segs_out:2423 segs_in:1417 data_segs_out:2421 send 384258bps lastsnd:72 lastrcv:54544 lastack:72 pacing_rate 461104bps delivery_rate 227696bps delivered:2300 busy:54272ms unacked:8 retrans:0/114 rcv_space:14480 rcv_ssthresh:64088 notsent:399648 minrtt:73.482\n",
      "1726389612.932321 tcp ESTAB 0      0      10.0.0.100:58044 12.1.1.66:4000 users:((\"iperf3\",pid=22225,fd=4)) uid:39791 ino:200687 sk:6e cgroup:unreachable:2010c00000052 <->\n",
      "1726389612.932836 \t ts sack cubic wscale:12,7 rto:644 rtt:240.283/66.611 ato:40 mss:1448 pmtu:1500 rcvmss:536 advmss:1448 cwnd:10 bytes_sent:162 bytes_acked:163 bytes_received:4 segs_out:9 segs_in:8 data_segs_out:3 data_segs_in:4 send 482098bps lastsnd:54984 lastrcv:54040 lastack:54040 pacing_rate 964192bps delivery_rate 56832bps delivered:4 app_limited busy:676ms rcv_space:14480 rcv_ssthresh:64088 minrtt:203.825                                                      \n",
      "1726389612.930191 tcp ESTAB 0      0      10.0.0.100:57612 12.1.1.130:4000 users:((\"iperf3\",pid=22224,fd=4)) uid:39791 ino:200688 sk:6f cgroup:unreachable:2010c00000052 <->\n",
      "1726389612.936044 \t ts sack cubic wscale:12,7 rto:832 rtt:283.134/109.099 ato:40 mss:1448 pmtu:1500 rcvmss:536 advmss:1448 cwnd:10 bytes_sent:162 bytes_acked:163 bytes_received:4 segs_out:9 segs_in:8 data_segs_out:3 data_segs_in:4 send 409135bps lastsnd:54912 lastrcv:53932 lastack:53932 pacing_rate 818264bps delivery_rate 57064bps delivered:4 app_limited busy:676ms rcv_space:14480 rcv_ssthresh:64088 minrtt:202.988\n",
      "1726389612.936576 tcp ESTAB 0      183896 10.0.0.100:60476 12.1.1.130:4000 users:((\"iperf3\",pid=22224,fd=5)) timer:(on,204ms,0) uid:39791 ino:200946 sk:70 cgroup:unreachable:2010c00000052 <->\n",
      "1726389612.937105 \t ts sack cubic wscale:12,7 rto:440 rtt:237.23/0.868 mss:1448 pmtu:1500 rcvmss:536 advmss:1448 cwnd:9 ssthresh:4 bytes_sent:2366069 bytes_retrans:169416 bytes_acked:2183622 segs_out:1637 segs_in:934 data_segs_out:1635 send 439472bps lastsnd:236 lastrcv:54404 lastack:236 pacing_rate 527360bps delivery_rate 340840bps delivered:1510 busy:54164ms unacked:9 retrans:0/117 reord_seen:2 rcv_space:14480 rcv_ssthresh:64088 notsent:170864 minrtt:68\n"
     ]
    },
    {
     "name": "stderr",
     "output_type": "stream",
     "text": [
      "Failed to open cgroup2 by ID\n",
      "Failed to open cgroup2 by ID\n",
      "Failed to open cgroup2 by ID\n",
      "Failed to open cgroup2 by ID\n"
     ]
    },
    {
     "name": "stdout",
     "output_type": "stream",
     "text": [
      "1726389613.2494521726389613.250627 tcp ESTAB 0      399648 10.0.0.100:39064 12.1.1.66:4000 users:((\"iperf3\",pid=22225,fd=5)) timer:(on,200ms,0) uid:39791 ino:200945 sk:71 cgroup:unreachable:2010c00000052 <->\n",
      "1726389613.251249 \t ts sack cubic wscale:12,7 rto:424 rtt:221.334/33.683 mss:1448 pmtu:1500 rcvmss:536 advmss:1448 cwnd:8 ssthresh:5 bytes_sent:3515781 bytes_retrans:165072 bytes_acked:3339126 segs_out:2431 segs_in:1421 data_segs_out:2429 send 418698bps lastsnd:224 lastrcv:54868 lastack:228 pacing_rate 502432bps delivery_rate 544720bps delivered:2308 busy:54596ms unacked:8 retrans:0/114 rcv_space:14480 rcv_ssthresh:64088 notsent:388064 minrtt:73.482\n",
      "1726389613.251812 tcp ESTAB 0      0      10.0.0.100:58044 12.1.1.66:4000 users:((\"iperf3\",pid=22225,fd=4)) uid:39791 ino:200687 sk:6e cgroup:unreachable:2010c00000052 <->\n",
      " tcp ESTAB 0      0      10.0.0.100:57612 12.1.1.130:4000 users:((\"iperf3\",pid=22224,fd=4)) uid:39791 ino:200688 sk:6f cgroup:unreachable:2010c00000052 <->\n",
      "1726389613.2525801726389613.252893 \t ts sack cubic wscale:12,7 rto:644 rtt:240.283/66.611 ato:40 mss:1448 pmtu:1500 rcvmss:536 advmss:1448 cwnd:10 bytes_sent:162 bytes_acked:163 bytes_received:4 segs_out:9 segs_in:8 data_segs_out:3 data_segs_in:4 send 482098bps lastsnd:55308 lastrcv:54364 lastack:54364 pacing_rate 964192bps delivery_rate 56832bps delivered:4 app_limited busy:676ms rcv_space:14480 rcv_ssthresh:64088 minrtt:203.825                                                        \n",
      " \t ts sack cubic wscale:12,7 rto:832 rtt:283.134/109.099 ato:40 mss:1448 pmtu:1500 rcvmss:536 advmss:1448 cwnd:10 bytes_sent:162 bytes_acked:163 bytes_received:4 segs_out:9 segs_in:8 data_segs_out:3 data_segs_in:4 send 409135bps lastsnd:55232 lastrcv:54252 lastack:54252 pacing_rate 818264bps delivery_rate 57064bps delivered:4 app_limited busy:676ms rcv_space:14480 rcv_ssthresh:64088 minrtt:202.988\n",
      "1726389613.254543 tcp ESTAB 0      157832 10.0.0.100:60476 12.1.1.130:4000 users:((\"iperf3\",pid=22224,fd=5)) timer:(on,360ms,0) uid:39791 ino:200946 sk:70 cgroup:unreachable:2010c00000052 <->\n",
      "1726389613.255078 \t ts sack cubic wscale:12,7 rto:440 rtt:237.406/0.48 mss:1448 pmtu:1500 rcvmss:536 advmss:1448 cwnd:9 ssthresh:4 bytes_sent:2392133 bytes_retrans:169416 bytes_acked:2209686 segs_out:1655 segs_in:940 data_segs_out:1653 send 439146bps lastsnd:80 lastrcv:54724 lastack:84 pacing_rate 526968bps delivery_rate 437992bps delivered:1528 busy:54484ms unacked:9 retrans:0/117 reord_seen:2 rcv_space:14480 rcv_ssthresh:64088 notsent:144800 minrtt:68\n"
     ]
    },
    {
     "name": "stderr",
     "output_type": "stream",
     "text": [
      "Failed to open cgroup2 by ID\n",
      "Failed to open cgroup2 by ID\n",
      "Failed to open cgroup2 by ID\n",
      "Failed to open cgroup2 by ID\n"
     ]
    },
    {
     "name": "stdout",
     "output_type": "stream",
     "text": [
      "1726389613.5696591726389613.570956 tcp ESTAB 0      376480 10.0.0.100:39064 12.1.1.66:4000 users:((\"iperf3\",pid=22225,fd=5)) timer:(on,372ms,0) uid:39791 ino:200945 sk:71 cgroup:unreachable:2010c00000052 <->\n",
      "1726389613.571557 \t ts sack cubic wscale:12,7 rto:436 rtt:232.293/11.346 mss:1448 pmtu:1500 rcvmss:536 advmss:1448 cwnd:8 ssthresh:5 bytes_sent:3538949 bytes_retrans:165072 bytes_acked:3362294 segs_out:2447 segs_in:1429 data_segs_out:2445 send 398944bps lastsnd:64 lastrcv:55184 lastack:64 pacing_rate 478728bps delivery_rate 388440bps delivered:2324 busy:54912ms unacked:8 retrans:0/114 rcv_space:14480 rcv_ssthresh:64088 notsent:364896 minrtt:73.482\n",
      "1726389613.572109 tcp ESTAB 0      0      10.0.0.100:58044 12.1.1.66:4000 users:((\"iperf3\",pid=22225,fd=4)) uid:39791 ino:200687 sk:6e cgroup:unreachable:2010c00000052 <->\n",
      "1726389613.572645 \t ts sack cubic wscale:12,7 rto:644 rtt:240.283/66.611 ato:40 mss:1448 pmtu:1500 rcvmss:536 advmss:1448 cwnd:10 bytes_sent:162 bytes_acked:163 bytes_received:4 segs_out:9 segs_in:8 data_segs_out:3 data_segs_in:4 send 482098bps lastsnd:55624 lastrcv:54680 lastack:54680 pacing_rate 964192bps delivery_rate 56832bps delivered:4 app_limited busy:676ms rcv_space:14480 rcv_ssthresh:64088 minrtt:203.825                                                      \n",
      " tcp ESTAB 0      0      10.0.0.100:57612 12.1.1.130:4000 users:((\"iperf3\",pid=22224,fd=4)) uid:39791 ino:200688 sk:6f cgroup:unreachable:2010c00000052 <->\n",
      "1726389613.575544 \t ts sack cubic wscale:12,7 rto:832 rtt:283.134/109.099 ato:40 mss:1448 pmtu:1500 rcvmss:536 advmss:1448 cwnd:10 bytes_sent:162 bytes_acked:163 bytes_received:4 segs_out:9 segs_in:8 data_segs_out:3 data_segs_in:4 send 409135bps lastsnd:55552 lastrcv:54572 lastack:54572 pacing_rate 818264bps delivery_rate 57064bps delivered:4 app_limited busy:676ms rcv_space:14480 rcv_ssthresh:64088 minrtt:202.988\n",
      "1726389613.576089 tcp ESTAB 0      144800 10.0.0.100:60476 12.1.1.130:4000 users:((\"iperf3\",pid=22224,fd=5)) timer:(on,276ms,0) uid:39791 ino:200946 sk:70 cgroup:unreachable:2010c00000052 <->\n",
      "1726389613.576628 \t ts sack cubic wscale:12,7 rto:440 rtt:237.817/0.618 mss:1448 pmtu:1500 rcvmss:536 advmss:1448 cwnd:11 ssthresh:4 bytes_sent:2408061 bytes_retrans:169416 bytes_acked:2222718 segs_out:1666 segs_in:944 data_segs_out:1664 send 535807bps lastsnd:164 lastrcv:55044 lastack:164 pacing_rate 642960bps delivery_rate 436480bps delivered:1537 busy:54804ms unacked:11 retrans:0/117 reord_seen:2 rcv_space:14480 rcv_ssthresh:64088 notsent:128872 minrtt:68\n"
     ]
    },
    {
     "name": "stderr",
     "output_type": "stream",
     "text": [
      "Failed to open cgroup2 by ID\n",
      "Failed to open cgroup2 by ID\n",
      "Failed to open cgroup2 by ID\n",
      "Failed to open cgroup2 by ID\n"
     ]
    },
    {
     "name": "stdout",
     "output_type": "stream",
     "text": [
      "1726389613.888250 tcp ESTAB 0      364896 10.0.0.100:39064 12.1.1.66:4000 users:((\"iperf3\",pid=22225,fd=5)) timer:(on,292ms,0) uid:39791 ino:200945 sk:71 cgroup:unreachable:2010c00000052 <->\n",
      "1726389613.890569 \t ts sack cubic wscale:12,7 rto:436 rtt:233.856/5.596 mss:1448 pmtu:1500 rcvmss:536 advmss:1448 cwnd:8 ssthresh:5 bytes_sent:3550533 bytes_retrans:165072 bytes_acked:3373878 segs_out:2455 segs_in:1433 data_segs_out:2453 send 396278bps lastsnd:144 lastrcv:55500 lastack:144 pacing_rate 475528bps delivery_rate 389400bps delivered:2332 busy:55228ms unacked:8 retrans:0/114 rcv_space:14480 rcv_ssthresh:64088 notsent:353312 minrtt:73.482\n",
      "1726389613.891121 tcp ESTAB 0      0      10.0.0.100:58044 12.1.1.66:4000 users:((\"iperf3\",pid=22225,fd=4)) uid:39791 ino:200687 sk:6e cgroup:unreachable:2010c00000052 <->\n",
      "1726389613.891690 \t ts sack cubic wscale:12,7 rto:644 rtt:240.283/66.611 ato:40 mss:1448 pmtu:1500 rcvmss:536 advmss:1448 cwnd:10 bytes_sent:162 bytes_acked:163 bytes_received:4 segs_out:9 segs_in:8 data_segs_out:3 data_segs_in:4 send 482098bps lastsnd:55940 lastrcv:54996 lastack:54996 pacing_rate 964192bps delivery_rate 56832bps delivered:4 app_limited busy:676ms rcv_space:14480 rcv_ssthresh:64088 minrtt:203.825                                                       \n",
      "1726389613.893411 tcp ESTAB 0      0      10.0.0.100:57612 12.1.1.130:4000 users:((\"iperf3\",pid=22224,fd=4)) uid:39791 ino:200688 sk:6f cgroup:unreachable:2010c00000052 <->\n",
      "1726389613.896091 \t ts sack cubic wscale:12,7 rto:832 rtt:283.134/109.099 ato:40 mss:1448 pmtu:1500 rcvmss:536 advmss:1448 cwnd:10 bytes_sent:162 bytes_acked:163 bytes_received:4 segs_out:9 segs_in:8 data_segs_out:3 data_segs_in:4 send 409135bps lastsnd:55876 lastrcv:54896 lastack:54896 pacing_rate 818264bps delivery_rate 57064bps delivered:4 app_limited busy:676ms rcv_space:14480 rcv_ssthresh:64088 minrtt:202.988\n",
      "1726389613.896637 tcp ESTAB 0      139008 10.0.0.100:60476 12.1.1.130:4000 users:((\"iperf3\",pid=22224,fd=5)) timer:(on,428ms,0) uid:39791 ino:200946 sk:70 cgroup:unreachable:2010c00000052 <->\n",
      "1726389613.897176 \t ts sack cubic wscale:12,7 rto:440 rtt:236.998/13.094 mss:1448 pmtu:1500 rcvmss:536 advmss:1448 cwnd:5 ssthresh:7 bytes_sent:2421093 bytes_retrans:175208 bytes_acked:2228510 segs_out:1675 segs_in:950 data_segs_out:1673 send 244390bps lastsnd:12 lastrcv:55368 lastack:12 pacing_rate 703840bps delivery_rate 171296bps delivered:1545 busy:55128ms unacked:12 retrans:4/121 lost:7 sacked:4 reord_seen:2 rcv_space:14480 rcv_ssthresh:64088 notsent:121632 minrtt:68\n"
     ]
    },
    {
     "name": "stderr",
     "output_type": "stream",
     "text": [
      "Failed to open cgroup2 by ID\n",
      "Failed to open cgroup2 by ID\n",
      "Failed to open cgroup2 by ID\n",
      "Failed to open cgroup2 by ID\n"
     ]
    },
    {
     "name": "stdout",
     "output_type": "stream",
     "text": [
      "1726389614.2099351726389614.211788 tcp ESTAB 0      353312 10.0.0.100:39064 12.1.1.66:4000 users:((\"iperf3\",pid=22225,fd=5)) timer:(on,200ms,0) uid:39791 ino:200945 sk:71 cgroup:unreachable:2010c00000052 <->\n",
      "1726389614.212390 \t ts sack cubic wscale:12,7 rto:436 rtt:235.371/3.716 mss:1448 pmtu:1500 rcvmss:536 advmss:1448 cwnd:8 ssthresh:5 bytes_sent:3562117 bytes_retrans:165072 bytes_acked:3385462 segs_out:2463 segs_in:1437 data_segs_out:2461 send 393727bps lastsnd:236 lastrcv:55828 lastack:236 pacing_rate 472464bps delivery_rate 389864bps delivered:2340 busy:55556ms unacked:8 retrans:0/114 rcv_space:14480 rcv_ssthresh:64088 notsent:341728 minrtt:73.482\n",
      "1726389614.212934 tcp ESTAB 0      0      10.0.0.100:58044 12.1.1.66:4000 users:((\"iperf3\",pid=22225,fd=4)) uid:39791 ino:200687 sk:6e cgroup:unreachable:2010c00000052 <->\n",
      " tcp ESTAB 0      0      10.0.0.100:57612 12.1.1.130:4000 users:((\"iperf3\",pid=22224,fd=4)) uid:39791 ino:200688 sk:6f cgroup:unreachable:2010c00000052 <->\n",
      "1726389614.2136611726389614.213903 \t ts sack cubic wscale:12,7 rto:832 rtt:283.134/109.099 ato:40 mss:1448 pmtu:1500 rcvmss:536 advmss:1448 cwnd:10 bytes_sent:162 bytes_acked:163 bytes_received:4 segs_out:9 segs_in:8 data_segs_out:3 data_segs_in:4 send 409135bps lastsnd:56192 lastrcv:55212 lastack:55212 pacing_rate 818264bps delivery_rate 57064bps delivered:4 app_limited busy:676ms rcv_space:14480 rcv_ssthresh:64088 minrtt:202.988\n",
      " \t ts sack cubic wscale:12,7 rto:644 rtt:240.283/66.611 ato:40 mss:1448 pmtu:1500 rcvmss:536 advmss:1448 cwnd:10 bytes_sent:162 bytes_acked:163 bytes_received:4 segs_out:9 segs_in:8 data_segs_out:3 data_segs_in:4 send 482098bps lastsnd:56268 lastrcv:55324 lastack:55324 pacing_rate 964192bps delivery_rate 56832bps delivered:4 app_limited busy:676ms rcv_space:14480 rcv_ssthresh:64088 minrtt:203.825                                                       \n",
      "1726389614.216238 tcp ESTAB 0      133216 10.0.0.100:60476 12.1.1.130:4000 users:((\"iperf3\",pid=22224,fd=5)) timer:(on,348ms,0) uid:39791 ino:200946 sk:70 cgroup:unreachable:2010c00000052 <->\n",
      "1726389614.216596 \t ts sack cubic wscale:12,7 rto:440 rtt:237.685/4.825 mss:1448 pmtu:1500 rcvmss:536 advmss:1448 cwnd:7 ssthresh:7 bytes_sent:2431229 bytes_retrans:179552 bytes_acked:2234302 segs_out:1682 segs_in:954 data_segs_out:1680 send 341157bps lastsnd:92 lastrcv:55684 lastack:92 pacing_rate 643320bps delivery_rate 214128bps delivered:1550 busy:55444ms unacked:12 retrans:3/124 lost:3 sacked:5 reord_seen:2 rcv_space:14480 rcv_ssthresh:64088 notsent:115840 minrtt:68\n"
     ]
    },
    {
     "name": "stderr",
     "output_type": "stream",
     "text": [
      "Failed to open cgroup2 by ID\n",
      "Failed to open cgroup2 by ID\n",
      "Failed to open cgroup2 by ID\n",
      "Failed to open cgroup2 by ID\n"
     ]
    },
    {
     "name": "stdout",
     "output_type": "stream",
     "text": [
      "1726389614.5299311726389614.532048 tcp ESTAB 0      0      10.0.0.100:57612 12.1.1.130:4000 users:((\"iperf3\",pid=22224,fd=4)) uid:39791 ino:200688 sk:6f cgroup:unreachable:2010c00000052 <->\n",
      "1726389614.532694 tcp ESTAB 0      522728 10.0.0.100:39064 12.1.1.66:4000 users:((\"iperf3\",pid=22225,fd=5)) timer:(on,368ms,0) uid:39791 ino:200945 sk:71 cgroup:unreachable:2010c00000052 <->\n",
      "1726389614.533269 \t ts sack cubic wscale:12,7 rto:832 rtt:283.134/109.099 ato:40 mss:1448 pmtu:1500 rcvmss:536 advmss:1448 cwnd:10 bytes_sent:162 bytes_acked:163 bytes_received:4 segs_out:9 segs_in:8 data_segs_out:3 data_segs_in:4 send 409135bps lastsnd:56512 lastrcv:55532 lastack:55532 pacing_rate 818264bps delivery_rate 57064bps delivered:4 app_limited busy:676ms rcv_space:14480 rcv_ssthresh:64088 minrtt:202.988\n",
      "1726389614.533837 \t ts sack cubic wscale:12,7 rto:440 rtt:237.021/1.107 mss:1448 pmtu:1500 rcvmss:536 advmss:1448 cwnd:10 ssthresh:5 bytes_sent:3591077 bytes_retrans:165072 bytes_acked:3411526 segs_out:2483 segs_in:1446 data_segs_out:2481 send 488733bps lastsnd:72 lastrcv:56144 lastack:76 pacing_rate 586472bps delivery_rate 483848bps delivered:2358 busy:55872ms unacked:10 retrans:0/114 rcv_space:14480 rcv_ssthresh:64088 notsent:508248 minrtt:73.482\n",
      " tcp ESTAB 0      246160 10.0.0.100:60476 12.1.1.130:4000 users:((\"iperf3\",pid=22224,fd=5)) timer:(on,236ms,0) uid:39791 ino:200946 sk:70 cgroup:unreachable:2010c00000052 <->\n",
      "1726389614.5346931726389614.535035 \t ts sack cubic wscale:12,7 rto:440 rtt:237.866/1.349 mss:1448 pmtu:1500 rcvmss:536 advmss:1448 cwnd:7 ssthresh:7 bytes_sent:2441365 bytes_retrans:179552 bytes_acked:2251678 segs_out:1689 segs_in:959 data_segs_out:1687 send 340898bps lastsnd:204 lastrcv:56004 lastack:208 pacing_rate 409072bps delivery_rate 340296bps delivered:1557 busy:55764ms unacked:7 retrans:0/124 reord_seen:2 rcv_space:14480 rcv_ssthresh:64088 notsent:236024 minrtt:68\n",
      " tcp ESTAB 0      0      10.0.0.100:58044 12.1.1.66:4000 users:((\"iperf3\",pid=22225,fd=4)) uid:39791 ino:200687 sk:6e cgroup:unreachable:2010c00000052 <->\n",
      "1726389614.537251 \t ts sack cubic wscale:12,7 rto:644 rtt:240.283/66.611 ato:40 mss:1448 pmtu:1500 rcvmss:536 advmss:1448 cwnd:10 bytes_sent:162 bytes_acked:163 bytes_received:4 segs_out:9 segs_in:8 data_segs_out:3 data_segs_in:4 send 482098bps lastsnd:56584 lastrcv:55640 lastack:55640 pacing_rate 964192bps delivery_rate 56832bps delivered:4 app_limited busy:676ms rcv_space:14480 rcv_ssthresh:64088 minrtt:203.825                                                       \n"
     ]
    },
    {
     "name": "stderr",
     "output_type": "stream",
     "text": [
      "Failed to open cgroup2 by ID\n",
      "Failed to open cgroup2 by ID\n",
      "Failed to open cgroup2 by ID\n",
      "Failed to open cgroup2 by ID\n"
     ]
    },
    {
     "name": "stdout",
     "output_type": "stream",
     "text": [
      "1726389614.851716 tcp ESTAB 0      0      10.0.0.100:57612 12.1.1.130:4000 users:((\"iperf3\",pid=22224,fd=4)) uid:39791 ino:200688 sk:6f cgroup:unreachable:2010c00000052 <->\n",
      "1726389614.852374 \t ts sack cubic wscale:12,7 rto:832 rtt:283.134/109.099 ato:40 mss:1448 pmtu:1500 rcvmss:536 advmss:1448 cwnd:10 bytes_sent:162 bytes_acked:163 bytes_received:4 segs_out:9 segs_in:8 data_segs_out:3 data_segs_in:4 send 409135bps lastsnd:56836 lastrcv:55856 lastack:55856 pacing_rate 818264bps delivery_rate 57064bps delivered:4 app_limited busy:676ms rcv_space:14480 rcv_ssthresh:64088 minrtt:202.988\n",
      "1726389614.852963 tcp ESTAB 0      221544 10.0.0.100:60476 12.1.1.130:4000 users:((\"iperf3\",pid=22224,fd=5)) timer:(on,336ms,0) uid:39791 ino:200946 sk:70 cgroup:unreachable:2010c00000052 <->\n",
      "1726389614.853481 \t ts sack cubic wscale:12,7 rto:424 rtt:221.354/4.702 mss:1448 pmtu:1500 rcvmss:536 advmss:1448 cwnd:10 ssthresh:7 bytes_sent:2470325 bytes_retrans:179552 bytes_acked:2276294 segs_out:1709 segs_in:968 data_segs_out:1707 send 523325bps lastsnd:88 lastrcv:56328 lastack:88 pacing_rate 627984bps delivery_rate 488744bps delivered:1574 busy:56088ms unacked:10 retrans:0/124 reord_seen:2 rcv_space:14480 rcv_ssthresh:64088 notsent:207064 minrtt:68\n",
      "1726389614.856182 tcp ESTAB 0      508248 10.0.0.100:39064 12.1.1.66:4000 users:((\"iperf3\",pid=22225,fd=5)) timer:(on,288ms,0) uid:39791 ino:200945 sk:71 cgroup:unreachable:2010c00000052 <->\n",
      "1726389614.857437 \t ts sack cubic wscale:12,7 rto:440 rtt:236.984/0.511 mss:1448 pmtu:1500 rcvmss:536 advmss:1448 cwnd:10 ssthresh:5 bytes_sent:3605557 bytes_retrans:165072 bytes_acked:3426006 segs_out:2493 segs_in:1451 data_segs_out:2491 send 488809bps lastsnd:152 lastrcv:56460 lastack:152 pacing_rate 586568bps delivery_rate 486648bps delivered:2368 busy:56188ms unacked:10 retrans:0/114 rcv_space:14480 rcv_ssthresh:64088 notsent:493768 minrtt:73.482\n",
      "1726389614.858006 tcp ESTAB 0      0      10.0.0.100:58044 12.1.1.66:4000 users:((\"iperf3\",pid=22225,fd=4)) uid:39791 ino:200687 sk:6e cgroup:unreachable:2010c00000052 <->\n",
      "1726389614.858640 \t ts sack cubic wscale:12,7 rto:644 rtt:240.283/66.611 ato:40 mss:1448 pmtu:1500 rcvmss:536 advmss:1448 cwnd:10 bytes_sent:162 bytes_acked:163 bytes_received:4 segs_out:9 segs_in:8 data_segs_out:3 data_segs_in:4 send 482098bps lastsnd:56900 lastrcv:55956 lastack:55956 pacing_rate 964192bps delivery_rate 56832bps delivered:4 app_limited busy:676ms rcv_space:14480 rcv_ssthresh:64088 minrtt:203.825                                                         \n"
     ]
    },
    {
     "name": "stderr",
     "output_type": "stream",
     "text": [
      "Failed to open cgroup2 by ID\n",
      "Failed to open cgroup2 by ID\n",
      "Failed to open cgroup2 by ID\n",
      "Failed to open cgroup2 by ID\n"
     ]
    },
    {
     "name": "stdout",
     "output_type": "stream",
     "text": [
      "1726389615.1696251726389615.171569 tcp ESTAB 0      0      10.0.0.100:57612 12.1.1.130:4000 users:((\"iperf3\",pid=22224,fd=4)) uid:39791 ino:200688 sk:6f cgroup:unreachable:2010c00000052 <->\n",
      "1726389615.172214 \t ts sack cubic wscale:12,7 rto:832 rtt:283.134/109.099 ato:40 mss:1448 pmtu:1500 rcvmss:536 advmss:1448 cwnd:10 bytes_sent:162 bytes_acked:163 bytes_received:4 segs_out:9 segs_in:8 data_segs_out:3 data_segs_in:4 send 409135bps lastsnd:57156 lastrcv:56176 lastack:56176 pacing_rate 818264bps delivery_rate 57064bps delivered:4 app_limited busy:676ms rcv_space:14480 rcv_ssthresh:64088 minrtt:202.988\n",
      "1726389615.172768 tcp ESTAB 0      207064 10.0.0.100:60476 12.1.1.130:4000 users:((\"iperf3\",pid=22224,fd=5)) timer:(on,264ms,0) uid:39791 ino:200946 sk:70 cgroup:unreachable:2010c00000052 <->\n",
      "1726389615.173281 tcp ESTAB 0      493768 10.0.0.100:39064 12.1.1.66:4000 users:((\"iperf3\",pid=22225,fd=5)) timer:(on,208ms,0) uid:39791 ino:200945 sk:71 cgroup:unreachable:2010c00000052 <->\n",
      "1726389615.173831 \t ts sack cubic wscale:12,7 rto:432 rtt:228.305/10.427 mss:1448 pmtu:1500 rcvmss:536 advmss:1448 cwnd:10 ssthresh:7 bytes_sent:2484805 bytes_retrans:179552 bytes_acked:2290774 segs_out:1719 segs_in:972 data_segs_out:1717 send 507391bps lastsnd:168 lastrcv:56648 lastack:168 pacing_rate 608864bps delivery_rate 485248bps delivered:1584 busy:56408ms unacked:10 retrans:0/124 reord_seen:2 rcv_space:14480 rcv_ssthresh:64088 notsent:192584 minrtt:68\n",
      " \t ts sack cubic wscale:12,7 rto:440 rtt:237.791/0.967 mss:1448 pmtu:1500 rcvmss:536 advmss:1448 cwnd:10 ssthresh:5 bytes_sent:3620037 bytes_retrans:165072 bytes_acked:3440486 segs_out:2503 segs_in:1456 data_segs_out:2501 send 487150bps lastsnd:232 lastrcv:56780 lastack:236 pacing_rate 584576bps delivery_rate 484848bps delivered:2378 busy:56508ms unacked:10 retrans:0/114 rcv_space:14480 rcv_ssthresh:64088 notsent:479288 minrtt:73.482\n",
      "1726389615.176224 tcp ESTAB 0      0      10.0.0.100:58044 12.1.1.66:4000 users:((\"iperf3\",pid=22225,fd=4)) uid:39791 ino:200687 sk:6e cgroup:unreachable:2010c00000052 <->\n",
      "1726389615.176756 \t ts sack cubic wscale:12,7 rto:644 rtt:240.283/66.611 ato:40 mss:1448 pmtu:1500 rcvmss:536 advmss:1448 cwnd:10 bytes_sent:162 bytes_acked:163 bytes_received:4 segs_out:9 segs_in:8 data_segs_out:3 data_segs_in:4 send 482098bps lastsnd:57220 lastrcv:56276 lastack:56276 pacing_rate 964192bps delivery_rate 56832bps delivered:4 app_limited busy:676ms rcv_space:14480 rcv_ssthresh:64088 minrtt:203.825                                                         \n"
     ]
    },
    {
     "name": "stderr",
     "output_type": "stream",
     "text": [
      "Failed to open cgroup2 by ID\n",
      "Failed to open cgroup2 by ID\n",
      "Failed to open cgroup2 by ID\n",
      "Failed to open cgroup2 by ID\n"
     ]
    },
    {
     "name": "stdout",
     "output_type": "stream",
     "text": [
      "1726389615.4892991726389615.492343 tcp ESTAB 0      461912 10.0.0.100:39064 12.1.1.66:4000 users:((\"iperf3\",pid=22225,fd=5)) timer:(on,404ms,0) uid:39791 ino:200945 sk:71 cgroup:unreachable:2010c00000052 <->\n",
      "1726389615.493007 \t ts sack cubic wscale:12,7 rto:448 rtt:244.946/12.075 mss:1448 pmtu:1500 rcvmss:536 advmss:1448 cwnd:12 ssthresh:5 bytes_sent:3654789 bytes_retrans:165072 bytes_acked:3472342 segs_out:2527 segs_in:1467 data_segs_out:2525 send 567505bps lastsnd:44 lastrcv:57100 lastack:44 pacing_rate 681000bps delivery_rate 512760bps delivered:2400 busy:56828ms unacked:12 retrans:0/114 rcv_space:14480 rcv_ssthresh:64088 notsent:444536 minrtt:73.482\n",
      " tcp ESTAB 0      0      10.0.0.100:57612 12.1.1.130:4000 users:((\"iperf3\",pid=22224,fd=4)) uid:39791 ino:200688 sk:6f cgroup:unreachable:2010c00000052 <->\n",
      "1726389615.493820 tcp ESTAB 0      0      10.0.0.100:58044 12.1.1.66:4000 users:((\"iperf3\",pid=22225,fd=4)) uid:39791 ino:200687 sk:6e cgroup:unreachable:2010c00000052 <->\n",
      "1726389615.4945331726389615.494143 \t ts sack cubic wscale:12,7 rto:832 rtt:283.134/109.099 ato:40 mss:1448 pmtu:1500 rcvmss:536 advmss:1448 cwnd:10 bytes_sent:162 bytes_acked:163 bytes_received:4 segs_out:9 segs_in:8 data_segs_out:3 data_segs_in:4 send 409135bps lastsnd:57476 lastrcv:56496 lastack:56496 pacing_rate 818264bps delivery_rate 57064bps delivered:4 app_limited busy:676ms rcv_space:14480 rcv_ssthresh:64088 minrtt:202.988\n",
      "1726389615.495341 \t ts sack cubic wscale:12,7 rto:644 rtt:240.283/66.611 ato:40 mss:1448 pmtu:1500 rcvmss:536 advmss:1448 cwnd:10 bytes_sent:162 bytes_acked:163 bytes_received:4 segs_out:9 segs_in:8 data_segs_out:3 data_segs_in:4 send 482098bps lastsnd:57540 lastrcv:56596 lastack:56596 pacing_rate 964192bps delivery_rate 56832bps delivered:4 app_limited busy:676ms rcv_space:14480 rcv_ssthresh:64088 minrtt:203.825                                                        \n",
      " tcp ESTAB 0      175208 10.0.0.100:60476 12.1.1.130:4000 users:((\"iperf3\",pid=22224,fd=5)) timer:(on,420ms,0) uid:39791 ino:200946 sk:70 cgroup:unreachable:2010c00000052 <->\n",
      "1726389615.497660 \t ts sack cubic wscale:12,7 rto:436 rtt:234.393/4.333 mss:1448 pmtu:1500 rcvmss:536 advmss:1448 cwnd:12 ssthresh:7 bytes_sent:2519557 bytes_retrans:179552 bytes_acked:2322630 segs_out:1743 segs_in:982 data_segs_out:1741 send 593055bps lastsnd:16 lastrcv:56968 lastack:16 pacing_rate 711664bps delivery_rate 584320bps delivered:1606 busy:56728ms unacked:12 retrans:0/124 reord_seen:2 rcv_space:14480 rcv_ssthresh:64088 notsent:157832 minrtt:68\n"
     ]
    },
    {
     "name": "stderr",
     "output_type": "stream",
     "text": [
      "Failed to open cgroup2 by ID\n",
      "Failed to open cgroup2 by ID\n",
      "Failed to open cgroup2 by ID\n",
      "Failed to open cgroup2 by ID\n"
     ]
    },
    {
     "name": "stdout",
     "output_type": "stream",
     "text": [
      "1726389615.8095861726389615.811228 tcp ESTAB 0      444536 10.0.0.100:39064 12.1.1.66:4000 users:((\"iperf3\",pid=22225,fd=5)) timer:(on,312ms,0) uid:39791 ino:200945 sk:71 cgroup:unreachable:2010c00000052 <->\n",
      "1726389615.811858 \t ts sack cubic wscale:12,7 rto:444 rtt:240.367/6.833 mss:1448 pmtu:1500 rcvmss:536 advmss:1448 cwnd:12 ssthresh:5 bytes_sent:3672165 bytes_retrans:165072 bytes_acked:3489718 segs_out:2539 segs_in:1473 data_segs_out:2537 send 578316bps lastsnd:132 lastrcv:57424 lastack:132 pacing_rate 693976bps delivery_rate 582888bps delivered:2412 busy:57152ms unacked:12 retrans:0/114 rcv_space:14480 rcv_ssthresh:64088 notsent:427160 minrtt:73.482\n",
      "1726389615.812480 tcp ESTAB 0      0      10.0.0.100:58044 12.1.1.66:4000 users:((\"iperf3\",pid=22225,fd=4)) uid:39791 ino:200687 sk:6e cgroup:unreachable:2010c00000052 <->\n",
      "1726389615.813016 \t ts sack cubic wscale:12,7 rto:644 rtt:240.283/66.611 ato:40 mss:1448 pmtu:1500 rcvmss:536 advmss:1448 cwnd:10 bytes_sent:162 bytes_acked:163 bytes_received:4 segs_out:9 segs_in:8 data_segs_out:3 data_segs_in:4 send 482098bps lastsnd:57864 lastrcv:56920 lastack:56920 pacing_rate 964192bps delivery_rate 56832bps delivered:4 app_limited busy:676ms rcv_space:14480 rcv_ssthresh:64088 minrtt:203.825                                                         \n",
      " tcp ESTAB 0      0      10.0.0.100:57612 12.1.1.130:4000 users:((\"iperf3\",pid=22224,fd=4)) uid:39791 ino:200688 sk:6f cgroup:unreachable:2010c00000052 <->\n",
      "1726389615.814554 \t ts sack cubic wscale:12,7 rto:832 rtt:283.134/109.099 ato:40 mss:1448 pmtu:1500 rcvmss:536 advmss:1448 cwnd:10 bytes_sent:162 bytes_acked:163 bytes_received:4 segs_out:9 segs_in:8 data_segs_out:3 data_segs_in:4 send 409135bps lastsnd:57792 lastrcv:56812 lastack:56812 pacing_rate 818264bps delivery_rate 57064bps delivered:4 app_limited busy:676ms rcv_space:14480 rcv_ssthresh:64088 minrtt:202.988\n",
      "1726389615.815163 tcp ESTAB 0      169416 10.0.0.100:60476 12.1.1.130:4000 users:((\"iperf3\",pid=22224,fd=5)) timer:(on,104ms,0) uid:39791 ino:200946 sk:70 cgroup:unreachable:2010c00000052 <->\n",
      "1726389615.815656 \t ts sack cubic wscale:12,7 rto:436 rtt:234.927/3.364 mss:1448 pmtu:1500 rcvmss:536 advmss:1448 cwnd:12 ssthresh:7 bytes_sent:2525349 bytes_retrans:179552 bytes_acked:2328422 segs_out:1747 segs_in:984 data_segs_out:1745 send 591707bps lastsnd:96 lastrcv:57284 lastack:96 pacing_rate 710040bps delivery_rate 488128bps delivered:1610 busy:57044ms unacked:12 retrans:0/124 reord_seen:2 rcv_space:14480 rcv_ssthresh:64088 notsent:152040 minrtt:68\n"
     ]
    },
    {
     "name": "stderr",
     "output_type": "stream",
     "text": [
      "Failed to open cgroup2 by ID\n",
      "Failed to open cgroup2 by ID\n",
      "Failed to open cgroup2 by ID\n",
      "Failed to open cgroup2 by ID\n"
     ]
    },
    {
     "name": "stdout",
     "output_type": "stream",
     "text": [
      "1726389616.1292621726389616.131898 tcp ESTAB 0      415576 10.0.0.100:39064 12.1.1.66:4000 users:((\"iperf3\",pid=22225,fd=5)) timer:(on,216ms,0) uid:39791 ino:200945 sk:71 cgroup:unreachable:2010c00000052 <->\n",
      "1726389616.132293 \t ts sack cubic wscale:12,7 rto:428 rtt:224.553/6.631 mss:1448 pmtu:1500 rcvmss:536 advmss:1448 cwnd:13 ssthresh:5 bytes_sent:3701125 bytes_retrans:165072 bytes_acked:3518678 segs_out:2559 segs_in:1483 data_segs_out:2557 send 670630bps lastsnd:8 lastrcv:57744 lastack:8 pacing_rate 804752bps delivery_rate 393184bps delivered:2432 busy:57472ms unacked:12 retrans:0/114 rcv_space:14480 rcv_ssthresh:64088 notsent:398200 minrtt:73.482\n",
      "1726389616.132401 tcp ESTAB 0      0      10.0.0.100:58044 12.1.1.66:4000 users:((\"iperf3\",pid=22225,fd=4)) uid:39791 ino:200687 sk:6e cgroup:unreachable:2010c00000052 <->\n",
      "1726389616.132454 \t ts sack cubic wscale:12,7 rto:644 rtt:240.283/66.611 ato:40 mss:1448 pmtu:1500 rcvmss:536 advmss:1448 cwnd:10 bytes_sent:162 bytes_acked:163 bytes_received:4 segs_out:9 segs_in:8 data_segs_out:3 data_segs_in:4 send 482098bps lastsnd:58184 lastrcv:57240 lastack:57240 pacing_rate 964192bps delivery_rate 56832bps delivered:4 app_limited busy:676ms rcv_space:14480 rcv_ssthresh:64088 minrtt:203.825                                                     \n",
      " tcp ESTAB 0      0      10.0.0.100:57612 12.1.1.130:4000 users:((\"iperf3\",pid=22224,fd=4)) uid:39791 ino:200688 sk:6f cgroup:unreachable:2010c00000052 <->\n",
      "1726389616.133871 \t ts sack cubic wscale:12,7 rto:832 rtt:283.134/109.099 ato:40 mss:1448 pmtu:1500 rcvmss:536 advmss:1448 cwnd:10 bytes_sent:162 bytes_acked:163 bytes_received:4 segs_out:9 segs_in:8 data_segs_out:3 data_segs_in:4 send 409135bps lastsnd:58112 lastrcv:57132 lastack:57132 pacing_rate 818264bps delivery_rate 57064bps delivered:4 app_limited busy:676ms rcv_space:14480 rcv_ssthresh:64088 minrtt:202.988\n",
      "1726389616.133949 tcp ESTAB 0      169416 10.0.0.100:60476 12.1.1.130:4000 users:((\"iperf3\",pid=22224,fd=5)) timer:(on,276ms,0) uid:39791 ino:200946 sk:70 cgroup:unreachable:2010c00000052 <->\n",
      "1726389616.133999 \t ts sack cubic wscale:12,7 rto:420 rtt:219.538/16.417 mss:1448 pmtu:1500 rcvmss:536 advmss:1448 cwnd:5 ssthresh:8 bytes_sent:2534037 bytes_retrans:186792 bytes_acked:2328422 segs_out:1753 segs_in:989 data_segs_out:1751 send 263827bps lastsnd:144 lastrcv:57604 lastack:144 pacing_rate 823136bps delivery_rate 132336bps delivered:1615 busy:57364ms unacked:13 retrans:5/129 lost:8 sacked:5 reord_seen:2 rcv_space:14480 rcv_ssthresh:64088 notsent:150592 minrtt:68\n",
      "Iperf tests completed.\n"
     ]
    },
    {
     "data": {
      "text/plain": [
       "<Result cmd='~/exp.sh cubic-ecn-none' exited=0>"
      ]
     },
     "execution_count": 83,
     "metadata": {},
     "output_type": "execute_result"
    }
   ],
   "source": [
    "# run the iperf command\n",
    "rx.run(\"killall iperf3\", warn=True)\n",
    "\n",
    "rx.sudo(\"ip netns exec ue1 iperf3 -s -1 -p 4000 -D\")\n",
    "rx.sudo(\"ip netns exec ue3 iperf3 -s -1 -p 4000 -D\")\n",
    "\n",
    "local_file_path = r\"d:\\5g notes\\5G-E2E-Wireless-Notes-OAI\\exp-9-15\\exp.sh\"\n",
    "\n",
    "# the monitor queue length shell script has already been copied to the router1 node\n",
    "router.run(\"nohup ./monitor.sh eth2 60 1 > monitor.log 2>&1 &\", pty=False)\n",
    "\n",
    "# the put command is funny on windows, so I copy paster the exp file manually to the tx node\n",
    "tx.run(\"ls -l\")\n",
    "tx.run(\"chmod +x ~/exp.sh\")\n",
    "tx.run(\"~/exp.sh cubic-ecn-none\")\n",
    "\n"
   ]
  },
  {
   "cell_type": "code",
   "execution_count": 89,
   "metadata": {},
   "outputs": [
    {
     "name": "stdout",
     "output_type": "stream",
     "text": [
      "total 86548\n",
      "-rw-r--r-- 1 PeterYao nyunetworks    34728 Sep 15 02:40 cubic_ecn_none-result-ue1.json\n",
      "-rw-r--r-- 1 PeterYao nyunetworks    34488 Sep 15 02:40 cubic_ecn_none-result-ue2.json\n",
      "-rw-r--r-- 1 PeterYao nyunetworks        0 Sep 15 01:00 cubic_ecn_none-ss-1.csv\n",
      "-rw-r--r-- 1 PeterYao nyunetworks        0 Sep 15 01:00 cubic_ecn_none-ss-2.csv\n",
      "-rw-r--r-- 1 PeterYao nyunetworks        0 Sep 15 01:00 cubic_ecn_none-ss-processed-1.txt\n",
      "-rw-r--r-- 1 PeterYao nyunetworks        0 Sep 15 01:00 cubic_ecn_none-ss-processed-2.txt\n",
      "-rw-r--r-- 1 PeterYao nyunetworks   220153 Sep 15 01:07 cubic_ecn_none-ss-processed-ue1.txt\n",
      "-rw-r--r-- 1 PeterYao nyunetworks   234665 Sep 15 01:07 cubic_ecn_none-ss-processed-ue2.txt\n",
      "-rw-r--r-- 1 PeterYao nyunetworks    10948 Sep 15 01:07 cubic_ecn_none-ss-ue1.csv\n",
      "-rw-r--r-- 1 PeterYao nyunetworks   223441 Sep 15 02:40 cubic_ecn_none-ss-ue1.txt\n",
      "-rw-r--r-- 1 PeterYao nyunetworks    10907 Sep 15 01:07 cubic_ecn_none-ss-ue2.csv\n",
      "-rw-r--r-- 1 PeterYao nyunetworks   231709 Sep 15 02:40 cubic_ecn_none-ss-ue2.txt\n",
      "-rw-r--r-- 1 PeterYao nyunetworks        0 Sep 15 01:00 cwnd-cubic_ecn_none-1.txt\n",
      "-rw-r--r-- 1 PeterYao nyunetworks        0 Sep 15 01:00 cwnd-cubic_ecn_none-2.txt\n",
      "-rw-r--r-- 1 PeterYao nyunetworks      968 Sep 15 01:07 cwnd-cubic_ecn_none-ue1.txt\n",
      "-rw-r--r-- 1 PeterYao nyunetworks      958 Sep 15 01:07 cwnd-cubic_ecn_none-ue2.txt\n",
      "drwxr-xr-x 2 PeterYao nyunetworks     4096 May 23 12:09 debian_build\n",
      "-rwxr-xr-x 1 PeterYao nyunetworks     2021 Sep 15 00:15 exp.sh\n",
      "-rw-r--r-- 1 PeterYao nyunetworks        0 Sep 15 01:00 fd-cubic_ecn_none-1.txt\n",
      "-rw-r--r-- 1 PeterYao nyunetworks        0 Sep 15 01:00 fd-cubic_ecn_none-2.txt\n",
      "-rw-r--r-- 1 PeterYao nyunetworks      714 Sep 15 01:07 fd-cubic_ecn_none-ue1.txt\n",
      "-rw-r--r-- 1 PeterYao nyunetworks      712 Sep 15 01:07 fd-cubic_ecn_none-ue2.txt\n",
      "-rw-r--r-- 1 PeterYao nyunetworks 87449891 May 23 12:09 l4s-testing.zip\n",
      "-rw-r--r-- 1 PeterYao nyunetworks        0 Sep 15 01:00 srtt-cubic_ecn_none-1.txt\n",
      "-rw-r--r-- 1 PeterYao nyunetworks        0 Sep 15 01:00 srtt-cubic_ecn_none-2.txt\n",
      "-rw-r--r-- 1 PeterYao nyunetworks     2840 Sep 15 01:07 srtt-cubic_ecn_none-ue1.txt\n",
      "-rw-r--r-- 1 PeterYao nyunetworks     2829 Sep 15 01:07 srtt-cubic_ecn_none-ue2.txt\n",
      "-rw-r--r-- 1 PeterYao nyunetworks        0 Sep 14 23:17 test.txt\n",
      "-rw-r--r-- 1 PeterYao nyunetworks        0 Sep 15 01:00 ts-cubic_ecn_none-1.txt\n",
      "-rw-r--r-- 1 PeterYao nyunetworks        0 Sep 15 01:00 ts-cubic_ecn_none-2.txt\n",
      "-rw-r--r-- 1 PeterYao nyunetworks     6426 Sep 15 01:07 ts-cubic_ecn_none-ue1.txt\n",
      "-rw-r--r-- 1 PeterYao nyunetworks     6408 Sep 15 01:07 ts-cubic_ecn_none-ue2.txt\n"
     ]
    },
    {
     "data": {
      "text/plain": [
       "<fabric.transfer.Result at 0x186a1c46480>"
      ]
     },
     "execution_count": 89,
     "metadata": {},
     "output_type": "execute_result"
    }
   ],
   "source": [
    "tx.run(\"ls -l\")\n",
    "tx.close()\n",
    "tx = Connection(\n",
    "    host='pc603.emulab.net',\n",
    "    user = 'PeterYao',\n",
    "    port=25010,\n",
    ")\n",
    "tx.get(\"cubic_ecn_none-result-ue1.json\")\n",
    "tx.get(\"cubic_ecn_none-result-ue2.json\")\n",
    "tx.get(\"cubic_ecn_none-ss-ue1.txt\")\n",
    "tx.get(\"cubic_ecn_none-ss-ue2.txt\")"
   ]
  },
  {
   "cell_type": "code",
   "execution_count": 90,
   "metadata": {},
   "outputs": [
    {
     "name": "stdout",
     "output_type": "stream",
     "text": [
      "Dataset 1 - Overall Throughput: 0.35 Mbps\n",
      "Dataset 1 - Average Retransmissions: 2.30\n",
      "\n",
      "Dataset 2 - Overall Throughput: 0.55 Mbps\n",
      "Dataset 2 - Average Retransmissions: 2.02\n"
     ]
    },
    {
     "data": {
      "image/png": "[encoded data removed]",
      "text/plain": [
       "<Figure size 1200x600 with 1 Axes>"
      ]
     },
     "metadata": {},
     "output_type": "display_data"
    },
    {
     "data": {
      "image/png": "[encoded data removed]",
      "text/plain": [
       "<Figure size 1200x600 with 1 Axes>"
      ]
     },
     "metadata": {},
     "output_type": "display_data"
    }
   ],
   "source": [
    "import json\n",
    "import pandas as pd\n",
    "import matplotlib.pyplot as plt\n",
    "\n",
    "# Replace these with the paths to your actual iperf JSON result files\n",
    "file1 = 'cubic_ecn_none-result-ue1.json'\n",
    "file2 = 'cubic_ecn_none-result-ue2.json'\n",
    "\n",
    "def load_iperf_data(filename):\n",
    "    \"\"\"Load iperf JSON data from a file and return a pandas DataFrame.\"\"\"\n",
    "    with open(filename, 'r') as f:\n",
    "        data = json.load(f)\n",
    "    \n",
    "    # Initialize lists to store the extracted data\n",
    "    intervals = data['intervals']\n",
    "    start_times = []\n",
    "    end_times = []\n",
    "    durations = []\n",
    "    throughputs = []\n",
    "    retransmissions = []\n",
    "    \n",
    "    # Iterate over each interval in the data\n",
    "    for interval in intervals:\n",
    "        sum_data = interval['sum']\n",
    "        start_times.append(sum_data['start'])\n",
    "        end_times.append(sum_data['end'])\n",
    "        durations.append(sum_data['seconds'])\n",
    "        # Convert throughput from bits per second to megabits per second\n",
    "        throughput_mbps = sum_data['bits_per_second'] / 1_000_000  # Divide by 1,000,000\n",
    "        throughputs.append(throughput_mbps)\n",
    "        retransmissions.append(sum_data.get('retransmits', 0))  # Retransmits might not be present in UDP tests\n",
    "    \n",
    "    # Create a DataFrame\n",
    "    df = pd.DataFrame({\n",
    "        'Start Time': start_times,\n",
    "        'End Time': end_times,\n",
    "        'Duration': durations,\n",
    "        'Throughput (Mbps)': throughputs,\n",
    "        'Retransmissions': retransmissions\n",
    "    })\n",
    "    \n",
    "    return df\n",
    "\n",
    "def filter_zero_throughput(df):\n",
    "    \"\"\"Filter out data points where throughput is zero.\"\"\"\n",
    "    return df[df['Throughput (Mbps)'] != 0].reset_index(drop=True)\n",
    "\n",
    "# Load data from both files\n",
    "df1 = load_iperf_data(file1)\n",
    "df2 = load_iperf_data(file2)\n",
    "\n",
    "# Filter out zero throughput data points for plotting throughput\n",
    "# df1_nonzero = filter_zero_throughput(df1)\n",
    "# df2_nonzero = filter_zero_throughput(df2)\n",
    "\n",
    "# Calculate overall throughput and average retransmissions for each dataset\n",
    "overall_throughput1 = df1['Throughput (Mbps)'].mean()\n",
    "average_retransmits1 = df1['Retransmissions'].mean()\n",
    "\n",
    "overall_throughput2 = df2['Throughput (Mbps)'].mean()\n",
    "average_retransmits2 = df2['Retransmissions'].mean()\n",
    "\n",
    "print(f\"Dataset 1 - Overall Throughput: {overall_throughput1:.2f} Mbps\")\n",
    "print(f\"Dataset 1 - Average Retransmissions: {average_retransmits1:.2f}\")\n",
    "\n",
    "print(f\"\\nDataset 2 - Overall Throughput: {overall_throughput2:.2f} Mbps\")\n",
    "print(f\"Dataset 2 - Average Retransmissions: {average_retransmits2:.2f}\")\n",
    "\n",
    "# Plotting the throughputs over time (excluding zero throughput data points)\n",
    "plt.figure(figsize=(12, 6))\n",
    "plt.plot(df1['Start Time'], df1['Throughput (Mbps)'], label='UE 1 Throughput', marker='o')\n",
    "plt.plot(df2['Start Time'], df2['Throughput (Mbps)'], label='UE 2 Throughput', marker='x')\n",
    "plt.title('Throughput Over Time (Excluding Zero Values)')\n",
    "plt.xlabel('Time (s)')\n",
    "plt.ylabel('Throughput (Mbps)')\n",
    "plt.legend()\n",
    "plt.grid(True)\n",
    "plt.show()\n",
    "\n",
    "# Plotting the retransmissions over time (include all data points)\n",
    "plt.figure(figsize=(12, 6))\n",
    "plt.plot(df1['Start Time'], df1['Retransmissions'], label='UE 1 Retransmissions', marker='o')\n",
    "plt.plot(df2['Start Time'], df2['Retransmissions'], label='UE 2 Retransmissions', marker='x')\n",
    "plt.title('Retransmissions Over Time')\n",
    "plt.xlabel('Time (s)')\n",
    "plt.ylabel('Number of Retransmissions')\n",
    "plt.legend()\n",
    "plt.grid(True)\n",
    "plt.show()\n"
   ]
  },
  {
   "cell_type": "markdown",
   "metadata": {},
   "source": [
    "COMMENT: the cwnd calculation is not showing the expected result. "
   ]
  },
  {
   "cell_type": "code",
   "execution_count": 91,
   "metadata": {},
   "outputs": [
    {
     "name": "stderr",
     "output_type": "stream",
     "text": [
      "<>:12: SyntaxWarning: invalid escape sequence '\\s'\n",
      "<>:12: SyntaxWarning: invalid escape sequence '\\s'\n",
      "C:\\Users\\yaoyu\\AppData\\Local\\Temp\\ipykernel_34072\\2911777773.py:12: SyntaxWarning: invalid escape sequence '\\s'\n",
      "  ss_tx0_script_processing=\"\"\"\n"
     ]
    },
    {
     "name": "stdout",
     "output_type": "stream",
     "text": [
      "Running to generate csv files cubic_ecn_none\n",
      "Running to generate csv files cubic_ecn_none\n"
     ]
    },
    {
     "data": {
      "text/plain": [
       "<fabric.transfer.Result at 0x1869e9172f0>"
      ]
     },
     "execution_count": 91,
     "metadata": {},
     "output_type": "execute_result"
    }
   ],
   "source": [
    "\n",
    "name_tx0=\"cubic_ecn_none\"\n",
    "\n",
    "\n",
    "# the csv files generated is of the following format\n",
    "# timestamp, fd, cwnd, srtt\n",
    "\n",
    "file_out_tx0_csv = name_tx0+\"-ss.csv\"\n",
    "\n",
    "for ue_id in range(1, 3):\n",
    "    print(\"Running to generate csv files \" + name_tx0)\n",
    "\n",
    "    ss_tx0_script_processing=\"\"\"\n",
    "\n",
    "    f_1={types}; \n",
    "    ue_id={ue_id};\n",
    "    rm -f ${{f_1}}-ss-${{ue_id}}.csv;\n",
    "    cat ${{f_1}}-ss-${{ue_id}}.txt | sed -e \":a; /<->$/ {{ N; s/<->\\\\n//; ba; }}\"  | grep \"iperf3\" | grep -v \"SYN-SENT\"> ${{f_1}}-ss-processed-${{ue_id}}.txt; \n",
    "    cat ${{f_1}}-ss-processed-${{ue_id}}.txt | awk '{{print $1}}' > ts-${{f_1}}-${{ue_id}}.txt; \n",
    "    cat ${{f_1}}-ss-processed-${{ue_id}}.txt | grep -oP '\\\\bcwnd:.*?(\\s|$)' | awk -F '[:,]' '{{print $2}}' | tr -d ' ' > cwnd-${{f_1}}-${{ue_id}}.txt; \n",
    "    cat ${{f_1}}-ss-processed-${{ue_id}}.txt | grep -oP '\\\\brtt:.*?(\\s|$)' | awk -F '[:,]' '{{print $2}}' | tr -d ' '  | cut -d '/' -f 1   > srtt-${{f_1}}-${{ue_id}}.txt; \n",
    "    cat ${{f_1}}-ss-processed-${{ue_id}}.txt | grep -oP '\\\\bfd=.*?(\\s|$)' | awk -F '[=,]' '{{print $2}}' | tr -d ')' | tr -d ' '   > fd-${{f_1}}-${{ue_id}}.txt;\n",
    "    paste ts-${{f_1}}-${{ue_id}}.txt fd-${{f_1}}-${{ue_id}}.txt cwnd-${{f_1}}-${{ue_id}}.txt srtt-${{f_1}}-${{ue_id}}.txt -d ',' > ${{f_1}}-ss-${{ue_id}}.csv;\"\"\".format(types=name_tx0, ue_id=\"ue\"+str(ue_id))\n",
    "\n",
    "    tx.run(ss_tx0_script_processing)\n",
    "\n",
    "tx.get(\"cubic_ecn_none\"+\"-ss-ue1.csv\")\n",
    "tx.get(\"cubic_ecn_none\"+\"-ss-ue2.csv\")\n"
   ]
  },
  {
   "cell_type": "code",
   "execution_count": 92,
   "metadata": {},
   "outputs": [],
   "source": [
    "import itertools\n",
    "import json\n",
    "import pandas as pd\n",
    "\n",
    "throughput_data = {}  # Initialize the dictionary\n",
    "srtt_data = {}\n",
    "cwnd_data= pd.DataFrame()\n",
    "srtt_data_time= pd.DataFrame()\n",
    "\n",
    "for ue_id in range(1, 3):\n",
    "    name_tx0=\"cubic_ecn_none\"\n",
    "    ue_str = \"ue\"+str(ue_id)\n",
    "\n",
    "    # Load the JSON output file into a Python object\n",
    "    with open(f\"{name_tx0}-result-{ue_str}.json\") as f:\n",
    "        iperf3_data = json.load(f)\n",
    "\n",
    "    throughput_data[name_tx0+ue_str] = iperf3_data['end']['sum_received']['bits_per_second'] / (1000000 * 1)  # to convert Mbit\n",
    "\n",
    "    # Average SRTT for Each Flow\n",
    "    columns = ['timestamp', 'flow ID', 'cwnd', 'srtt']\n",
    "    df_f1 = pd.read_csv(f\"{name_tx0}-ss-{ue_str}.csv\", names=columns)\n",
    "    \n",
    "    # Filter out rows with flow ID = 4, they are for the control flows\n",
    "    df_f1 = df_f1[df_f1['flow ID'] != 4].reset_index(drop=True)\n",
    "\n",
    "    average_RTT_f1 = df_f1['srtt'].mean()\n",
    "    \n",
    "    cwnd_data[name_tx0+ue_str] = df_f1['cwnd']\n",
    "    srtt_data[name_tx0+ue_str] = average_RTT_f1\n",
    "    srtt_data_time[name_tx0+ue_str] = df_f1['srtt']\n",
    "\n",
    "# Save throughput_data to a JSON file\n",
    "with open('throughput_data.json', 'w') as f:\n",
    "    json.dump(throughput_data, f)\n",
    "\n",
    "# Save srtt_data to a JSON file\n",
    "with open('srtt_data.json', 'w') as f:\n",
    "    json.dump(srtt_data, f)\n",
    "\n",
    "cwnd_data.to_csv(\"consolidated_cwnd_data.csv\", index=False)\n",
    "srtt_data_time.to_csv(\"time_srtt.csv\", index=False)"
   ]
  },
  {
   "cell_type": "code",
   "execution_count": 93,
   "metadata": {},
   "outputs": [
    {
     "name": "stdout",
     "output_type": "stream",
     "text": [
      "btl limit no ecn:  625000\n"
     ]
    },
    {
     "data": {
      "image/png": "[encoded data removed]",
      "text/plain": [
       "<Figure size 1400x600 with 2 Axes>"
      ]
     },
     "metadata": {},
     "output_type": "display_data"
    }
   ],
   "source": [
    "import pandas as pd\n",
    "import matplotlib.pyplot as plt\n",
    "\n",
    "btl_limit_noecn=int(1000*btl_capacity*base_rtt*n_bdp /8)\n",
    "\n",
    "print(\"btl limit no ecn: \", btl_limit_noecn)\n",
    "\n",
    "# Specify the filename\n",
    "filename = 'consolidated_cwnd_data.csv'  # Replace with your actual filename\n",
    "\n",
    "# Read the CSV file into a pandas DataFrame\n",
    "df = pd.read_csv(filename)\n",
    "\n",
    "# Extract data for each UE\n",
    "ue1_data = df['cubic_ecn_noneue1']\n",
    "ue2_data = df['cubic_ecn_noneue2']\n",
    "\n",
    "# Create a figure with two subplots side by side\n",
    "fig, axes = plt.subplots(nrows=1, ncols=2, figsize=(14, 6))\n",
    "\n",
    "# Plot for UE1\n",
    "axes[0].plot(ue1_data*1448, marker='', color='blue')\n",
    "axes[0].set_title('Congestion Window (cwnd) Over Time - UE1')\n",
    "axes[0].set_xlabel('Time Interval')\n",
    "axes[0].set_ylabel('cwnd (segments)')\n",
    "axes[0].axhline(y=btl_limit_noecn, color='b', linestyle='--', label=f'Buffer Size')\n",
    "axes[0].grid(True)\n",
    "\n",
    "# Plot for UE2\n",
    "axes[1].plot(ue2_data*1448, marker='', color='orange')\n",
    "axes[1].set_title('Congestion Window (cwnd) Over Time - UE2')\n",
    "axes[1].set_xlabel('Time Interval')\n",
    "axes[1].set_ylabel('cwnd (segments)')\n",
    "axes[1].grid(True)\n",
    "\n",
    "# Adjust layout to prevent overlap\n",
    "plt.tight_layout()\n",
    "\n",
    "# Display the plots\n",
    "plt.show()\n"
   ]
  },
  {
   "cell_type": "code",
   "execution_count": 94,
   "metadata": {},
   "outputs": [
    {
     "data": {
      "text/plain": [
       "<fabric.transfer.Result at 0x1869f4985f0>"
      ]
     },
     "execution_count": 94,
     "metadata": {},
     "output_type": "execute_result"
    }
   ],
   "source": [
    "router.get(\"monitor.log\")"
   ]
  },
  {
   "cell_type": "code",
   "execution_count": 95,
   "metadata": {},
   "outputs": [
    {
     "data": {
      "image/png": "[encoded data removed]",
      "text/plain": [
       "<Figure size 1200x600 with 1 Axes>"
      ]
     },
     "metadata": {},
     "output_type": "display_data"
    },
    {
     "data": {
      "image/png": "[encoded data removed]",
      "text/plain": [
       "<Figure size 1200x600 with 1 Axes>"
      ]
     },
     "metadata": {},
     "output_type": "display_data"
    },
    {
     "name": "stdout",
     "output_type": "stream",
     "text": [
      "There is no backlog. The queue is empty throughout the measurements.\n"
     ]
    }
   ],
   "source": [
    "import re\n",
    "import pandas as pd\n",
    "import matplotlib.pyplot as plt\n",
    "\n",
    "# Replace with your actual filename\n",
    "filename = 'monitor.log'\n",
    "\n",
    "def parse_qdisc_data(filename):\n",
    "    \"\"\"Parse qdisc data from a file and return a DataFrame.\"\"\"\n",
    "    timestamps = []\n",
    "    sent_bytes = []\n",
    "    sent_packets = []\n",
    "    dropped_packets = []\n",
    "    overlimits = []\n",
    "    backlog_bytes = []\n",
    "    backlog_packets = []\n",
    "\n",
    "    with open(filename, 'r') as f:\n",
    "        for line in f:\n",
    "            line = line.strip()\n",
    "            # Extract timestamp\n",
    "            match_time = re.match(r'^(\\d+\\.\\d+)', line)\n",
    "            if match_time:\n",
    "                timestamp = float(match_time.group(1))\n",
    "                timestamps.append(timestamp)\n",
    "            else:\n",
    "                continue  # Skip line if timestamp not found\n",
    "\n",
    "            # Extract bfifo qdisc statistics\n",
    "            # Assuming 'qdisc bfifo' appears after 'qdisc htb' in the line\n",
    "            bfifo_data = line.split('qdisc bfifo')[1]\n",
    "\n",
    "            # Extract Sent bytes and packets\n",
    "            match_sent = re.search(r'Sent\\s+(\\d+)\\s+bytes\\s+(\\d+)\\s+pkt', bfifo_data)\n",
    "            if match_sent:\n",
    "                sent_bytes.append(int(match_sent.group(1)))\n",
    "                sent_packets.append(int(match_sent.group(2)))\n",
    "            else:\n",
    "                sent_bytes.append(None)\n",
    "                sent_packets.append(None)\n",
    "\n",
    "            # Extract dropped packets\n",
    "            match_dropped = re.search(r'dropped\\s+(\\d+)', bfifo_data)\n",
    "            if match_dropped:\n",
    "                dropped_packets.append(int(match_dropped.group(1)))\n",
    "            else:\n",
    "                dropped_packets.append(None)\n",
    "\n",
    "            # Extract overlimits\n",
    "            match_overlimits = re.search(r'overlimits\\s+(\\d+)', bfifo_data)\n",
    "            if match_overlimits:\n",
    "                overlimits.append(int(match_overlimits.group(1)))\n",
    "            else:\n",
    "                overlimits.append(None)\n",
    "\n",
    "            # Extract backlog bytes and packets\n",
    "            match_backlog = re.search(r'backlog\\s+(\\d+)b\\s+(\\d+)p', bfifo_data)\n",
    "            if match_backlog:\n",
    "                backlog_bytes.append(int(match_backlog.group(1)))\n",
    "                backlog_packets.append(int(match_backlog.group(2)))\n",
    "            else:\n",
    "                backlog_bytes.append(None)\n",
    "                backlog_packets.append(None)\n",
    "\n",
    "    # Create a DataFrame\n",
    "    df = pd.DataFrame({\n",
    "        'Timestamp': timestamps,\n",
    "        'Sent Bytes': sent_bytes,\n",
    "        'Sent Packets': sent_packets,\n",
    "        'Dropped Packets': dropped_packets,\n",
    "        'Overlimits': overlimits,\n",
    "        'Backlog Bytes': backlog_bytes,\n",
    "        'Backlog Packets': backlog_packets\n",
    "    })\n",
    "\n",
    "    # Convert timestamps to relative time (seconds since start)\n",
    "    df['Relative Time'] = df['Timestamp'] - df['Timestamp'].iloc[0]\n",
    "\n",
    "    return df\n",
    "\n",
    "def plot_queue_length(df):\n",
    "    \"\"\"Plot queue length (backlog) over time.\"\"\"\n",
    "    plt.figure(figsize=(12, 6))\n",
    "    plt.plot(df['Relative Time'], df['Backlog Bytes'], marker='o')\n",
    "    plt.title('Queue Length (Backlog) Over Time')\n",
    "    plt.xlabel('Time (s)')\n",
    "    plt.ylabel('Backlog (bytes)')\n",
    "    plt.grid(True)\n",
    "    plt.show()\n",
    "\n",
    "def plot_packet_drop_rate(df):\n",
    "    \"\"\"Plot packet drop rate over time.\"\"\"\n",
    "    # Calculate the difference in dropped packets between measurements\n",
    "    df['Dropped Packets Diff'] = df['Dropped Packets'].diff().fillna(0)\n",
    "\n",
    "    plt.figure(figsize=(12, 6))\n",
    "    plt.plot(df['Relative Time'], df['Dropped Packets Diff'], marker='x', color='red')\n",
    "    plt.title('Packet Drop Rate Over Time')\n",
    "    plt.xlabel('Time (s)')\n",
    "    plt.ylabel('Dropped Packets per Interval')\n",
    "    plt.grid(True)\n",
    "    plt.show()\n",
    "\n",
    "def analyze_backlog(df):\n",
    "    \"\"\"Analyze backlog and determine if there is a backlog.\"\"\"\n",
    "    max_backlog = df['Backlog Bytes'].max()\n",
    "    if max_backlog > 0:\n",
    "        print(f\"There is a backlog. Maximum backlog is {max_backlog} bytes.\")\n",
    "    else:\n",
    "        print(\"There is no backlog. The queue is empty throughout the measurements.\")\n",
    "\n",
    "# Main execution\n",
    "df = parse_qdisc_data(filename)\n",
    "\n",
    "# Plot queue length\n",
    "plot_queue_length(df)\n",
    "\n",
    "# Plot packet drop rate\n",
    "plot_packet_drop_rate(df)\n",
    "\n",
    "# Analyze backlog\n",
    "analyze_backlog(df)\n"
   ]
  },
  {
   "cell_type": "code",
   "execution_count": null,
   "metadata": {},
   "outputs": [],
   "source": []
  }
 ],
 "metadata": {
  "kernelspec": {
   "display_name": "Python 3",
   "language": "python",
   "name": "python3"
  },
  "language_info": {
   "codemirror_mode": {
    "name": "ipython",
    "version": 3
   },
   "file_extension": ".py",
   "mimetype": "text/x-python",
   "name": "python",
   "nbconvert_exporter": "python",
   "pygments_lexer": "ipython3",
   "version": "3.12.6"
  }
 },
 "nbformat": 4,
 "nbformat_minor": 2
}
